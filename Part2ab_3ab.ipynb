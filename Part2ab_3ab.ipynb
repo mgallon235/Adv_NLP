{
  "cells": [
    {
      "cell_type": "markdown",
      "metadata": {
        "id": "c1571446-71d6-482a-921f-ff928aa2fff7"
      },
      "source": [
        "# Setting Up the Problem\n",
        "\n",
        "#### Objective: Understand and establish the baseline for your chosen dataset"
      ],
      "id": "c1571446-71d6-482a-921f-ff928aa2fff7"
    },
    {
      "cell_type": "code",
      "execution_count": 1,
      "metadata": {
        "colab": {
          "base_uri": "https://localhost:8080/"
        },
        "id": "VX3nbYCVufh9",
        "outputId": "82a3fb68-4bf5-4c68-8865-cdc8610ccfcb"
      },
      "outputs": [
        {
          "output_type": "stream",
          "name": "stdout",
          "text": [
            "Collecting datasets\n",
            "  Downloading datasets-2.18.0-py3-none-any.whl (510 kB)\n",
            "\u001b[2K     \u001b[90m━━━━━━━━━━━━━━━━━━━━━━━━━━━━━━━━━━━━━━━━\u001b[0m \u001b[32m510.5/510.5 kB\u001b[0m \u001b[31m9.3 MB/s\u001b[0m eta \u001b[36m0:00:00\u001b[0m\n",
            "\u001b[?25hRequirement already satisfied: filelock in /usr/local/lib/python3.10/dist-packages (from datasets) (3.13.1)\n",
            "Requirement already satisfied: numpy>=1.17 in /usr/local/lib/python3.10/dist-packages (from datasets) (1.25.2)\n",
            "Requirement already satisfied: pyarrow>=12.0.0 in /usr/local/lib/python3.10/dist-packages (from datasets) (14.0.2)\n",
            "Requirement already satisfied: pyarrow-hotfix in /usr/local/lib/python3.10/dist-packages (from datasets) (0.6)\n",
            "Collecting dill<0.3.9,>=0.3.0 (from datasets)\n",
            "  Downloading dill-0.3.8-py3-none-any.whl (116 kB)\n",
            "\u001b[2K     \u001b[90m━━━━━━━━━━━━━━━━━━━━━━━━━━━━━━━━━━━━━━━━\u001b[0m \u001b[32m116.3/116.3 kB\u001b[0m \u001b[31m11.6 MB/s\u001b[0m eta \u001b[36m0:00:00\u001b[0m\n",
            "\u001b[?25hRequirement already satisfied: pandas in /usr/local/lib/python3.10/dist-packages (from datasets) (1.5.3)\n",
            "Requirement already satisfied: requests>=2.19.0 in /usr/local/lib/python3.10/dist-packages (from datasets) (2.31.0)\n",
            "Requirement already satisfied: tqdm>=4.62.1 in /usr/local/lib/python3.10/dist-packages (from datasets) (4.66.2)\n",
            "Collecting xxhash (from datasets)\n",
            "  Downloading xxhash-3.4.1-cp310-cp310-manylinux_2_17_x86_64.manylinux2014_x86_64.whl (194 kB)\n",
            "\u001b[2K     \u001b[90m━━━━━━━━━━━━━━━━━━━━━━━━━━━━━━━━━━━━━━━━\u001b[0m \u001b[32m194.1/194.1 kB\u001b[0m \u001b[31m12.4 MB/s\u001b[0m eta \u001b[36m0:00:00\u001b[0m\n",
            "\u001b[?25hCollecting multiprocess (from datasets)\n",
            "  Downloading multiprocess-0.70.16-py310-none-any.whl (134 kB)\n",
            "\u001b[2K     \u001b[90m━━━━━━━━━━━━━━━━━━━━━━━━━━━━━━━━━━━━━━━━\u001b[0m \u001b[32m134.8/134.8 kB\u001b[0m \u001b[31m7.7 MB/s\u001b[0m eta \u001b[36m0:00:00\u001b[0m\n",
            "\u001b[?25hRequirement already satisfied: fsspec[http]<=2024.2.0,>=2023.1.0 in /usr/local/lib/python3.10/dist-packages (from datasets) (2023.6.0)\n",
            "Requirement already satisfied: aiohttp in /usr/local/lib/python3.10/dist-packages (from datasets) (3.9.3)\n",
            "Requirement already satisfied: huggingface-hub>=0.19.4 in /usr/local/lib/python3.10/dist-packages (from datasets) (0.20.3)\n",
            "Requirement already satisfied: packaging in /usr/local/lib/python3.10/dist-packages (from datasets) (24.0)\n",
            "Requirement already satisfied: pyyaml>=5.1 in /usr/local/lib/python3.10/dist-packages (from datasets) (6.0.1)\n",
            "Requirement already satisfied: aiosignal>=1.1.2 in /usr/local/lib/python3.10/dist-packages (from aiohttp->datasets) (1.3.1)\n",
            "Requirement already satisfied: attrs>=17.3.0 in /usr/local/lib/python3.10/dist-packages (from aiohttp->datasets) (23.2.0)\n",
            "Requirement already satisfied: frozenlist>=1.1.1 in /usr/local/lib/python3.10/dist-packages (from aiohttp->datasets) (1.4.1)\n",
            "Requirement already satisfied: multidict<7.0,>=4.5 in /usr/local/lib/python3.10/dist-packages (from aiohttp->datasets) (6.0.5)\n",
            "Requirement already satisfied: yarl<2.0,>=1.0 in /usr/local/lib/python3.10/dist-packages (from aiohttp->datasets) (1.9.4)\n",
            "Requirement already satisfied: async-timeout<5.0,>=4.0 in /usr/local/lib/python3.10/dist-packages (from aiohttp->datasets) (4.0.3)\n",
            "Requirement already satisfied: typing-extensions>=3.7.4.3 in /usr/local/lib/python3.10/dist-packages (from huggingface-hub>=0.19.4->datasets) (4.10.0)\n",
            "Requirement already satisfied: charset-normalizer<4,>=2 in /usr/local/lib/python3.10/dist-packages (from requests>=2.19.0->datasets) (3.3.2)\n",
            "Requirement already satisfied: idna<4,>=2.5 in /usr/local/lib/python3.10/dist-packages (from requests>=2.19.0->datasets) (3.6)\n",
            "Requirement already satisfied: urllib3<3,>=1.21.1 in /usr/local/lib/python3.10/dist-packages (from requests>=2.19.0->datasets) (2.0.7)\n",
            "Requirement already satisfied: certifi>=2017.4.17 in /usr/local/lib/python3.10/dist-packages (from requests>=2.19.0->datasets) (2024.2.2)\n",
            "Requirement already satisfied: python-dateutil>=2.8.1 in /usr/local/lib/python3.10/dist-packages (from pandas->datasets) (2.8.2)\n",
            "Requirement already satisfied: pytz>=2020.1 in /usr/local/lib/python3.10/dist-packages (from pandas->datasets) (2023.4)\n",
            "Requirement already satisfied: six>=1.5 in /usr/local/lib/python3.10/dist-packages (from python-dateutil>=2.8.1->pandas->datasets) (1.16.0)\n",
            "Installing collected packages: xxhash, dill, multiprocess, datasets\n",
            "Successfully installed datasets-2.18.0 dill-0.3.8 multiprocess-0.70.16 xxhash-3.4.1\n"
          ]
        }
      ],
      "source": [
        "! pip install datasets"
      ],
      "id": "VX3nbYCVufh9"
    },
    {
      "cell_type": "code",
      "execution_count": null,
      "metadata": {
        "id": "ac018b8a-0b53-46b2-b91a-252984c73f80"
      },
      "outputs": [],
      "source": [
        "# imports for Part I\n",
        "import datasets\n",
        "from datasets import load_dataset\n",
        "import pandas as pd\n",
        "import numpy as np\n",
        "import matplotlib.pyplot as plt\n",
        "import seaborn as sns\n",
        "import re\n",
        "\n",
        "## OWN FUNCTIONS\n",
        "# import support_functions\n",
        "# from support_functions import *"
      ],
      "id": "ac018b8a-0b53-46b2-b91a-252984c73f80"
    },
    {
      "cell_type": "code",
      "execution_count": null,
      "metadata": {
        "id": "Q5q_DvvBCvSF"
      },
      "outputs": [],
      "source": [
        "# imports for Part II\n",
        "! pip install transformers==4.37.2\n",
        "from transformers import AutoTokenizer, TFAutoModel\n",
        "import tensorflow as tf\n",
        "from sklearn.utils import shuffle\n",
        "from sklearn.preprocessing import OneHotEncoder\n",
        "from transformers import TFDistilBertModel\n",
        "from keras.utils import custom_object_scope\n",
        "from keras.models import load_model\n",
        "from sklearn.metrics import accuracy_score, precision_score, recall_score, f1_score\n",
        "from sklearn.feature_extraction.text import TfidfVectorizer\n",
        "from sklearn.linear_model import LogisticRegression\n",
        "from sklearn.pipeline import Pipeline\n",
        "from sklearn.model_selection import train_test_split\n",
        "import nltk\n",
        "from nltk.tokenize import word_tokenize, sent_tokenize\n",
        "from nltk import pos_tag\n",
        "nltk.download('punkt')\n",
        "nltk.download('averaged_perceptron_tagger')\n",
        "from gensim import corpora, models\n",
        "from gensim.matutils import Sparse2Corpus\n",
        "from scipy.sparse import csr_matrix\n",
        "import random\n",
        "from sklearn.metrics import confusion_matrix\n",
        "import re\n",
        "from nltk.corpus import stopwords\n",
        "from nltk.stem import SnowballStemmer\n",
        "from nltk.stem import WordNetLemmatizer\n",
        "import spacy\n",
        "sp = spacy.load('en_core_web_sm')\n",
        "from tqdm import tqdm\n",
        "from tensorflow.keras.optimizers import Adam\n"
      ],
      "id": "Q5q_DvvBCvSF"
    },
    {
      "cell_type": "code",
      "execution_count": null,
      "metadata": {
        "id": "iaeLe843W0Vw"
      },
      "outputs": [],
      "source": [
        "# import libraries\n",
        "import matplotlib.pyplot as plt\n",
        "import numpy as np\n",
        "from sklearn.metrics import accuracy_score, precision_score, recall_score, f1_score\n",
        "from sklearn.feature_extraction.text import TfidfVectorizer\n",
        "from sklearn.linear_model import LogisticRegression\n",
        "from sklearn.pipeline import Pipeline\n",
        "from sklearn.model_selection import train_test_split\n",
        "from transformers import AutoTokenizer, TFAutoModel\n",
        "import tensorflow as tf\n",
        "from sklearn.utils import shuffle\n",
        "from sklearn.preprocessing import OneHotEncoder\n",
        "from transformers import TFDistilBertModel\n",
        "from keras.utils import custom_object_scope\n",
        "from keras.models import load_model\n",
        "import pandas as pd\n",
        "import nltk\n",
        "from nltk.tokenize import word_tokenize, sent_tokenize\n",
        "from nltk import pos_tag\n",
        "nltk.download('punkt')\n",
        "nltk.download('averaged_perceptron_tagger')\n",
        "from gensim import corpora, models\n",
        "from gensim.matutils import Sparse2Corpus\n",
        "from scipy.sparse import csr_matrix\n",
        "import random\n",
        "import matplotlib.pyplot as plt\n",
        "import seaborn as sns\n",
        "from sklearn.metrics import confusion_matrix\n",
        "from datasets import load_dataset\n",
        "import re\n",
        "from nltk.corpus import stopwords\n",
        "from nltk.stem import SnowballStemmer\n",
        "from nltk.stem import WordNetLemmatizer\n",
        "import spacy\n",
        "sp = spacy.load('en_core_web_sm')\n",
        "from nltk.corpus import wordnet"
      ],
      "id": "iaeLe843W0Vw"
    },
    {
      "cell_type": "code",
      "execution_count": null,
      "metadata": {
        "id": "9121702b-d562-407e-afb3-9a582ee3ad56"
      },
      "outputs": [],
      "source": [
        "df = load_dataset(\"carblacac/twitter-sentiment-analysis\")"
      ],
      "id": "9121702b-d562-407e-afb3-9a582ee3ad56"
    },
    {
      "cell_type": "code",
      "source": [],
      "metadata": {
        "id": "uhx_LDiKe3YE"
      },
      "id": "uhx_LDiKe3YE",
      "execution_count": null,
      "outputs": []
    },
    {
      "cell_type": "markdown",
      "metadata": {
        "id": "dc46d8fc-29bb-41d2-86e8-fcac4d8e8e73"
      },
      "source": [
        "### Characteristics of the dataset\n",
        "\n",
        "**b. Dataset Description (0.5 points): Provide a brief overview of your dataset, including size, class distribution, and any peculiar characteristics. Include basic descriptive statistics.**"
      ],
      "id": "dc46d8fc-29bb-41d2-86e8-fcac4d8e8e73"
    },
    {
      "cell_type": "markdown",
      "metadata": {
        "id": "f73993a8-3a67-4a56-8317-93ef13228920"
      },
      "source": [
        "##### TSATC: Twitter Sentiment Analysis Training Corpus     \n",
        "Original DATASET contains 1,578,627 classified tweets (1 for positive and 0 for negative sentiment).\n",
        "\n",
        "Our dataset has already been randomly sampled, cleaned, and split into training and testing sets. Both positive and negative classes are well balanced within each subset, and the training subset has been further divided into an 80% training set and a 20% validation set.  \n",
        "\n",
        "This dataset is an aggregation of two twitter sentiment analysis datasets:  \n",
        "- University of Michigan Sentiment Analysis competition on Kaggle: https://inclass.kaggle.com/c/si650winter11  \n",
        "- Twitter Sentiment Corpus by Niek Sanders: http://www.sananalytics.com/lab/twitter-sentiment/\n",
        "\n",
        "  \n",
        "Languages: English"
      ],
      "id": "f73993a8-3a67-4a56-8317-93ef13228920"
    },
    {
      "cell_type": "code",
      "execution_count": null,
      "metadata": {
        "id": "28b7d6ee-8603-45c1-9733-4a4435227853"
      },
      "outputs": [],
      "source": [
        "## Defining train, validation and test sets\n",
        "train_data = df['train']['text']\n",
        "train_labels = df['train']['feeling']\n",
        "\n",
        "validation_data = df['validation']['text']\n",
        "validation_labels = df['validation']['feeling']\n",
        "\n",
        "test_data = df['test']['text']\n",
        "test_labels = df['test']['feeling']\n",
        "\n",
        "# Define the percentage of data to use\n",
        "sample_percentage = 0.3\n",
        "\n",
        "# Sample 30% of the train data\n",
        "sample_size = int(len(train_data) * sample_percentage)\n",
        "train_sample_indices = random.sample(range(len(train_data)), sample_size)\n",
        "train_data = [train_data[i] for i in train_sample_indices]\n",
        "train_labels = [train_labels[i] for i in train_sample_indices]\n",
        "\n",
        "# Sample 30% of the validation data\n",
        "sample_size = int(len(validation_data) * sample_percentage)\n",
        "validation_sample_indices = random.sample(range(len(validation_data)), sample_size)\n",
        "validation_data = [validation_data[i] for i in validation_sample_indices]\n",
        "validation_labels = [validation_labels[i] for i in validation_sample_indices]\n",
        "\n",
        "# Sample 30% of the test data\n",
        "sample_size = int(len(test_data) * sample_percentage)\n",
        "test_sample_indices = random.sample(range(len(test_data)), sample_size)\n",
        "test_data = [test_data[i] for i in test_sample_indices]\n",
        "test_labels = [test_labels[i] for i in test_sample_indices]\n",
        "\n",
        "## Creating Dataframes\n",
        "df_train = pd.DataFrame({'text':train_data,'label':train_labels})\n",
        "df_val = pd.DataFrame({'text':validation_data,'label':validation_labels})\n",
        "df_test = pd.DataFrame({'text':test_data,'label':test_labels})\n",
        "\n",
        "df"
      ],
      "id": "28b7d6ee-8603-45c1-9733-4a4435227853"
    },
    {
      "cell_type": "markdown",
      "metadata": {
        "id": "f6e6a7ac"
      },
      "source": [
        "### Dataset size"
      ],
      "id": "f6e6a7ac"
    },
    {
      "cell_type": "code",
      "execution_count": null,
      "metadata": {
        "id": "1ac3c887"
      },
      "outputs": [],
      "source": [
        "total_rows = len(train_labels) + len(test_labels) + len(validation_labels)\n",
        "# Calculate train size including validation\n",
        "Train_size = len(train_labels) + len(validation_labels)\n",
        "# Calculate Summary\n",
        "summary_df = pd.DataFrame({'SET': ['TRAIN','TEST', 'TOTAL'], 'ROWS': [Train_size, len(test_labels), total_rows], 'SPLIT': [Train_size/total_rows, len(test_labels)/total_rows,total_rows/total_rows]})\n",
        "print('Dataset Split [TRAIN, TEST]')\n",
        "display(summary_df.round(3))\n",
        "\n",
        "## TRAIN SPLIT\n",
        "summary_df_train = pd.DataFrame({'SET': ['train','validation', 'TRAIN'], 'ROWS': [len(train_labels), len(validation_labels), Train_size], 'SPLIT': [len(train_labels)/Train_size, len(validation_labels)/Train_size,Train_size/Train_size]})\n",
        "print('TRAIN Split [train, validation]')\n",
        "display(summary_df_train.round(3))"
      ],
      "id": "1ac3c887"
    },
    {
      "cell_type": "markdown",
      "metadata": {
        "id": "876139fc"
      },
      "source": [
        "### Class distribution"
      ],
      "id": "876139fc"
    },
    {
      "cell_type": "code",
      "execution_count": null,
      "metadata": {
        "id": "a64eb5d1-0e3e-4149-ae74-63afa5297e91"
      },
      "outputs": [],
      "source": [
        "# ## Class balance of our datasets\n",
        "# print('train')\n",
        "# class_prop(train_labels)\n",
        "# print('validation')\n",
        "# class_prop(validation_labels)\n",
        "# print('test')\n",
        "# class_prop(test_labels)"
      ],
      "id": "a64eb5d1-0e3e-4149-ae74-63afa5297e91"
    },
    {
      "cell_type": "markdown",
      "metadata": {
        "id": "a32fa3b7"
      },
      "source": [
        "### Distribution of text lengths (train set only)"
      ],
      "id": "a32fa3b7"
    },
    {
      "cell_type": "code",
      "execution_count": null,
      "metadata": {
        "id": "40a6f051"
      },
      "outputs": [],
      "source": [
        "df_train['text_length']= [len(i.split()) for i in df_train['text']]\n",
        "df_val['text_length']= [len(i.split()) for i in df_val['text']]\n",
        "df_test['text_length']= [len(i.split()) for i in df_test['text']]\n",
        "#Calculating Answer Length"
      ],
      "id": "40a6f051"
    },
    {
      "cell_type": "code",
      "execution_count": null,
      "metadata": {
        "id": "1b7e3e90"
      },
      "outputs": [],
      "source": [
        "for i in df_train['text'][0:5]:\n",
        "    print(i.split(),'length: ', len(i.split()) )"
      ],
      "id": "1b7e3e90"
    },
    {
      "cell_type": "code",
      "execution_count": null,
      "metadata": {
        "id": "d3994009"
      },
      "outputs": [],
      "source": [
        "## Summary statistics for text_length\n",
        "# Calculate multiple statistics\n",
        "print('Summary Statistics of text_length for positive(1) and negative(0) tweets')\n",
        "statistics = df_train.groupby('label')['text_length'].agg(['mean', 'median','std', 'min', 'max'])\n",
        "# Display the result\n",
        "print(statistics)\n",
        "\n",
        "print('   ')\n",
        "\n",
        "print('Plot text_length distribution for positive(1) and negative(0) tweets')\n",
        "sns.boxplot(data=df_train, x='label', y='text_length',hue = 'label')\n",
        "#plt.xlim(0, None)\n",
        "plt.xticks(rotation=45, ha='right')\n",
        "# Add a horizontal line at the mean of 'reply_length'\n",
        "mean_reply_length = df_train['text_length'].mean()\n",
        "plt.axhline(y=mean_reply_length, color='red', linestyle='--', label=f'Mean text Length ({mean_reply_length:.2f})')\n",
        "# Show the plot\n",
        "plt.show()"
      ],
      "id": "d3994009"
    },
    {
      "cell_type": "markdown",
      "metadata": {
        "id": "d03a1fa4"
      },
      "source": [
        "## Data Cleaning\n",
        "Twitter text requires multiple transformations prior to Preprocessing"
      ],
      "id": "d03a1fa4"
    },
    {
      "cell_type": "code",
      "execution_count": null,
      "metadata": {
        "id": "0U4pODH7vHng"
      },
      "outputs": [],
      "source": [
        "! pip install ekphrasis"
      ],
      "id": "0U4pODH7vHng"
    },
    {
      "cell_type": "code",
      "execution_count": null,
      "metadata": {
        "id": "4f3086c0"
      },
      "outputs": [],
      "source": [
        "from ekphrasis.classes.preprocessor import TextPreProcessor\n",
        "from ekphrasis.classes.tokenizer import SocialTokenizer\n",
        "from ekphrasis.dicts.emoticons import emoticons\n",
        "\n",
        "\n",
        "# Create a TextPreProcessor instance\n",
        "text_processor = TextPreProcessor(\n",
        "    # terms that will be normalized\n",
        "    normalize=['url', 'email', 'percent', 'money', 'phone', 'user',\n",
        "               'time', 'url', 'date', 'number'],\n",
        "    # terms that will be annotated\n",
        "    annotate={\"hashtag\", \"allcaps\", \"elongated\", \"repeated\",\n",
        "              'emphasis', 'censored'},\n",
        "    fix_html=True,  # fix HTML tokens\n",
        "\n",
        "    # corpus from which the word statistics are going to be used for word segmentation\n",
        "    segmenter=\"twitter\",\n",
        "    # corpus from which the word statistics are going to be used for spell correction\n",
        "    corrector=\"twitter\",\n",
        "\n",
        "    unpack_hashtags=True,  # perform word segmentation on hashtags\n",
        "    unpack_contractions=True,  # Unpack contractions (can't -> can not)\n",
        "    spell_correct_elong=False,  # spell correction for elongated words\n",
        "\n",
        "    # select a tokenizer. You can use SocialTokenizer, or pass your own\n",
        "    # the tokenizer, should take as input a string and return a list of tokens\n",
        "    tokenizer=SocialTokenizer(lowercase=True).tokenize,\n",
        "\n",
        "    # list of dictionaries, for replacing tokens extracted from the text, with other expressions. You can pass more than one dictionaries.\n",
        "    dicts=[emoticons],\n",
        "    #Remove emoticon\n",
        "    pre_processor=[lambda x: x.replace('＼(^o^)／', '')]\n",
        ")\n",
        "\n",
        "# Pre-process the sentence using TextPreProcessor\n",
        "\n",
        "def extract_clean(text):\n",
        "    cleaned_text = ' '.join([word.split('<')[0] for word in text])\n",
        "    return cleaned_text\n",
        "\n",
        "def extract_emotions(text):\n",
        "    emoji_expressions = [token for token in text if token in emoticons.values()]\n",
        "    return emoji_expressions\n",
        "\n",
        "def clean_string(text):\n",
        "    cleaned_text = re.sub(r'\\s+', ' ', text)\n",
        "    cleaned_text = cleaned_text.strip()\n",
        "    return cleaned_text\n",
        "\n",
        "def flatten_emotions(emotion_list):\n",
        "    # Convert the list of emotions into a string\n",
        "    emotion_string = ', '.join(emotion_list)\n",
        "    # Use regular expression to find all words inside angle brackets\n",
        "    emotions = re.findall(r'<([^>]*)>', emotion_string)\n",
        "    unique_emotions = list(set(emotions))\n",
        "    combined_emotions = ', '.join(unique_emotions)\n",
        "    return combined_emotions\n",
        "\n",
        "\n",
        "def clean_text(df):\n",
        "# Pre-process all the sentences in df_train['text']\n",
        "    df['preprocessed_text'] = [text_processor.pre_process_doc(text) for text in df['text']]\n",
        "    df['clean_text'] = df['preprocessed_text'].apply(extract_clean).apply(clean_string)\n",
        "\n",
        "    #Getting Hashtags\n",
        "    df['hashtag'] = df['text'].apply(lambda x: re.findall(r'#(\\w+)', x))\n",
        "    df['hashtag'] = [' '.join(i) for i in df['hashtag']]\n",
        "\n",
        "    # Iterate through the preprocessed text\n",
        "    df['emotions'] = df['preprocessed_text'].apply(extract_emotions)\n",
        "    df['clean_emotions'] = df['emotions'].apply(flatten_emotions)\n",
        "\n",
        "    df = df[['text','label','text_length','clean_text','clean_emotions','hashtag']]\n",
        "    return df\n",
        "\n",
        "df_train = clean_text(df_train)\n",
        "df_val = clean_text(df_val)\n",
        "df_test = clean_text(df_test)\n"
      ],
      "id": "4f3086c0"
    },
    {
      "cell_type": "markdown",
      "metadata": {
        "id": "bf2fae79"
      },
      "source": [
        "## DATA EXPLORATION"
      ],
      "id": "bf2fae79"
    },
    {
      "cell_type": "markdown",
      "metadata": {
        "id": "5803a1bb"
      },
      "source": [
        "#### Hashtags\n",
        "\n",
        "- 98% of the tweets have no hashtags. Most likely they have been already cleaned.\n",
        "- Doesn't make sense to keep diving for more insigths."
      ],
      "id": "5803a1bb"
    },
    {
      "cell_type": "code",
      "execution_count": null,
      "metadata": {
        "id": "4a5d24ad"
      },
      "outputs": [],
      "source": [
        "# hashtag_freq = freq_table(df_train,'hashtag')\n",
        "# hashtag_freq = hashtag_freq.sort_values(by='perc',ascending=False)\n",
        "# hashtag_freq['accum'] = hashtag_freq['perc'].cumsum()\n",
        "# print('top 10 hashtags')\n",
        "# display(hashtag_freq[0:10])"
      ],
      "id": "4a5d24ad"
    },
    {
      "cell_type": "markdown",
      "metadata": {
        "id": "8d433b29"
      },
      "source": [
        "#### EMOTIONS\n",
        "\n",
        "- 98% of the tweets have no emotions. Most likely have been already removed.\n",
        "- Because they directly express the sentiment of the text, we'll concatenate them to our cleaned tweet corpus."
      ],
      "id": "8d433b29"
    },
    {
      "cell_type": "code",
      "execution_count": null,
      "metadata": {
        "id": "f1ee5db1"
      },
      "outputs": [],
      "source": [
        "# emotions_freq = freq_table(df_train,'clean_emotions')\n",
        "# emotions_freq = emotions_freq.sort_values(by='perc',ascending=False)\n",
        "# emotions_freq['accum'] = emotions_freq['perc'].cumsum()\n",
        "# print('top 10 emotions')\n",
        "# display(emotions_freq[0:10])"
      ],
      "id": "f1ee5db1"
    },
    {
      "cell_type": "code",
      "execution_count": null,
      "metadata": {
        "id": "e1891430"
      },
      "outputs": [],
      "source": [
        "#Concatenate text with emotions\n",
        "df_train['text_emotion'] = df_train['clean_text']+' '+df_train['clean_emotions']\n",
        "df_val['text_emotion'] = df_val['clean_text']+' '+df_val['clean_emotions']\n",
        "df_test['text_emotion'] = df_test['clean_text']+' '+df_test['clean_emotions']\n"
      ],
      "id": "e1891430"
    },
    {
      "cell_type": "markdown",
      "metadata": {
        "id": "9d194152"
      },
      "source": [
        "### Preprocessor"
      ],
      "id": "9d194152"
    },
    {
      "cell_type": "code",
      "execution_count": null,
      "metadata": {
        "id": "192654f1"
      },
      "outputs": [],
      "source": [
        "#Defining preprocessing class to be included in Pipeline later.\n",
        "from sklearn.pipeline import Pipeline\n",
        "from sklearn.feature_extraction.text import CountVectorizer, TfidfTransformer\n",
        "from sklearn.base import BaseEstimator, TransformerMixin\n",
        "import string\n",
        "import nltk\n",
        "from nltk.corpus import wordnet\n",
        "from nltk.tokenize import word_tokenize\n",
        "from nltk.stem import WordNetLemmatizer\n",
        "\n",
        "nltk.download('punkt')\n",
        "nltk.download('stopwords')\n",
        "nltk.download('wordnet')\n",
        "\n",
        "\n",
        "## Text mining - Preprocessing, CountVectorizing and tf-idf\n",
        "\n",
        "class TextPreprocessor(BaseEstimator, TransformerMixin):\n",
        "    def __init__(self):\n",
        "        self.lemmatizer = WordNetLemmatizer()\n",
        "        self.stop_words = set(stopwords.words('english'))\n",
        "        self.punctuations = set(string.punctuation)\n",
        "\n",
        "    def fit(self, X, y=None):\n",
        "        return self\n",
        "\n",
        "    def transform(self, X):\n",
        "        preprocessed_texts = []\n",
        "        for text in X:\n",
        "            # Convert text to lowercase\n",
        "            text = text.lower()\n",
        "            # Tokenize text\n",
        "            tokens = word_tokenize(text)\n",
        "            # Remove stopwords and apply lemmatization\n",
        "            filtered_tokens = [self.lemmatizer.lemmatize(word) for word in tokens if word not in self.stop_words]\n",
        "            # Join tokens back into a string\n",
        "            preprocessed_text = ' '.join(filtered_tokens)\n",
        "            preprocessed_texts.append(preprocessed_text)\n",
        "\n",
        "        return preprocessed_texts\n"
      ],
      "id": "192654f1"
    },
    {
      "cell_type": "markdown",
      "metadata": {
        "id": "d88ed54e"
      },
      "source": [
        "#### Exploring positive and negative words using WordCloud"
      ],
      "id": "d88ed54e"
    },
    {
      "cell_type": "code",
      "execution_count": null,
      "metadata": {
        "id": "80a6b6af"
      },
      "outputs": [],
      "source": [
        "# from wordcloud import WordCloud\n",
        "# import matplotlib.pyplot as plt\n",
        "# from collections import defaultdict\n",
        "# from nltk.corpus import stopwords\n",
        "\n",
        "# nltk.download('stopwords')\n",
        "# stop_words = set(stopwords.words('english'))\n",
        "\n",
        "\n",
        "# labels = {0: 'negative', 1: 'positive'}\n",
        "\n",
        "# # Prepare data for wordclouds\n",
        "# label_data = defaultdict(lambda: '')\n",
        "\n",
        "# for text, label in zip(df_train['clean_text'], df_train['label']):\n",
        "#     label_data[label] += text\n",
        "\n",
        "# # Generate and plot wordclouds for each label\n",
        "# fig, axs = plt.subplots(1, 2, figsize=(10, 6))  # Create 2x2 subplots\n",
        "# axs = axs.flatten()  # Flatten the axis array\n",
        "\n",
        "# for ax, (label, text) in zip(axs, label_data.items()):\n",
        "#     wordcloud = WordCloud(stopwords=stop_words, background_color='white').generate(text)\n",
        "#     ax.imshow(wordcloud, interpolation='bilinear')\n",
        "#     ax.set_title('WordCloud for Label {}'.format(labels.get(label)))\n",
        "#     ax.axis('off')\n",
        "\n",
        "# plt.tight_layout()\n",
        "# plt.show()"
      ],
      "id": "80a6b6af"
    },
    {
      "cell_type": "markdown",
      "metadata": {
        "id": "3768a0b4"
      },
      "source": [
        "## Exploring positive and negative words using Countvectorizer + TF-IDF"
      ],
      "id": "3768a0b4"
    },
    {
      "cell_type": "code",
      "execution_count": null,
      "metadata": {
        "id": "3747f3a0"
      },
      "outputs": [],
      "source": [
        "## Preprocessing texts\n",
        "pipeline = Pipeline([\n",
        "        ('prepro', TextPreprocessor()),\n",
        "        (\"vect\", CountVectorizer(ngram_range=(1, 2), min_df=0.005, max_df=0.97)),\n",
        "        (\"tfidf\", TfidfTransformer(use_idf=True, norm='l1'))\n",
        "    ]\n",
        ")\n",
        "\n",
        "# Fit the pipeline on the training data\n",
        "pipeline.fit(df_train['text_emotion'])\n",
        "\n",
        "# Transform the validation data using the fitted pipeline\n",
        "train_tfidf = pipeline.transform(df_train['text_emotion'])\n",
        "validation_tfidf = pipeline.transform(df_val['text_emotion'])\n",
        "test_tfidf = pipeline.transform(df_test['text_emotion'])\n",
        "\n",
        "\n",
        "# Exploring\n",
        "train_tfidf=train_tfidf.toarray()\n",
        "print(\"document term matrix has size\", train_tfidf.shape)\n",
        "#print(pipeline.named_steps['vect'].get_feature_names_out())"
      ],
      "id": "3747f3a0"
    },
    {
      "cell_type": "code",
      "execution_count": null,
      "metadata": {
        "id": "c82ab1ab"
      },
      "outputs": [],
      "source": [
        "df_train"
      ],
      "id": "c82ab1ab"
    },
    {
      "cell_type": "markdown",
      "metadata": {
        "id": "8ad62e07"
      },
      "source": [
        "## Random Classifier Performance\n",
        "\n",
        "Random Classifier Performance (0.25 points): Calculate the expected performance of a random classifier for your dataset to set a benchmark. The calculation should include an implementation.\n",
        "\n",
        "**pending**: include preprocessing in the pipeline to properly treat tweets."
      ],
      "id": "8ad62e07"
    },
    {
      "cell_type": "code",
      "execution_count": null,
      "metadata": {
        "id": "0OKYuowFzYcy"
      },
      "outputs": [],
      "source": [
        "from sklearn.metrics import accuracy_score, precision_score, recall_score, f1_score\n",
        "class Metrics:\n",
        "    def __init__(self):\n",
        "        self.results = {}\n",
        "\n",
        "    def run(self, y_true, y_pred, method_name, average='macro'):\n",
        "        # Calculate metrics\n",
        "        accuracy = accuracy_score(y_true, y_pred)\n",
        "        precision = precision_score(y_true, y_pred, average=average)\n",
        "        recall = recall_score(y_true, y_pred, average=average)\n",
        "        f1 = f1_score(y_true, y_pred, average=average)\n",
        "\n",
        "        # Store results\n",
        "        self.results[method_name] = {\n",
        "            'accuracy': accuracy,\n",
        "            'precision': precision,\n",
        "            'recall': recall,\n",
        "            'f1': f1,\n",
        "        }\n",
        "\n",
        "    def plot(self):\n",
        "        # Create subplots\n",
        "        fig, axs = plt.subplots(2, 2, figsize=(15, 10))\n",
        "\n",
        "        # Plot each metric\n",
        "        for i, metric in enumerate(['accuracy', 'precision', 'recall', 'f1']):\n",
        "            ax = axs[i//2, i%2]\n",
        "            values = [res[metric] * 100 for res in self.results.values()]\n",
        "            ax.bar(self.results.keys(), values)\n",
        "            ax.set_title(metric)\n",
        "            ax.set_ylim(0, 100)\n",
        "\n",
        "            # Add values on the bars\n",
        "            for j, v in enumerate(values):\n",
        "                ax.text(j, v + 0.02, f\"{v:.2f}\", ha='center', va='bottom')\n",
        "\n",
        "            # Rotate x ticks vertically\n",
        "            ax.tick_params(axis='x', rotation=90)\n",
        "\n",
        "        plt.tight_layout()\n",
        "        plt.show()"
      ],
      "id": "0OKYuowFzYcy"
    },
    {
      "cell_type": "code",
      "execution_count": null,
      "metadata": {
        "id": "4d6a7821"
      },
      "outputs": [],
      "source": [
        "# from sklearn.feature_extraction.text import TfidfVectorizer\n",
        "# from sklearn.linear_model import LogisticRegression\n",
        "# from sklearn.model_selection import train_test_split\n",
        "\n",
        "# # Create a pipeline with TF-IDF and Logistic Regression\n",
        "# pipeline = Pipeline([\n",
        "#     ('prepro', TextPreprocessor()),\n",
        "#     ('tfidf', TfidfVectorizer(ngram_range=(1, 2),\n",
        "#                               min_df=5,\n",
        "#                               stop_words='english')),\n",
        "#     ('clf', LogisticRegression(solver='liblinear')),\n",
        "# ])\n",
        "\n",
        "# # Fit the pipeline on the training data\n",
        "# pipeline.fit(train_data, train_labels)\n",
        "\n",
        "# valid_preds = pipeline.predict(validation_data)\n",
        "\n",
        "# metrics_val= Metrics()\n",
        "# metrics_val.run(validation_labels, valid_preds, \"basic-TF-IDF\")\n",
        "# metrics_val.plot()"
      ],
      "id": "4d6a7821"
    },
    {
      "cell_type": "markdown",
      "metadata": {
        "id": "54963a93"
      },
      "source": [
        "## Baseline Implementation\n",
        "\n",
        "Baseline Implementation (0.5 points): Develop a rule-based classifier as a baseline. Discuss its performance in the context of the dataset's complexity and compare it with human-level performance if available."
      ],
      "id": "54963a93"
    },
    {
      "cell_type": "code",
      "execution_count": null,
      "metadata": {
        "id": "28696844"
      },
      "outputs": [],
      "source": [
        "# from spacy.matcher import Matcher\n",
        "# from spacy.matcher import PhraseMatcher\n",
        "# import spacy\n",
        "\n",
        "# #python -m spacy download en_core_web_sm - Run on Terminal\n",
        "# nlp = spacy.load(\"en_core_web_sm\")\n",
        "\n",
        "# # Create a new Matcher\n",
        "# matcher = Matcher(nlp.vocab)"
      ],
      "id": "28696844"
    },
    {
      "cell_type": "code",
      "execution_count": null,
      "metadata": {
        "id": "c2a3e92b"
      },
      "outputs": [],
      "source": [
        "# ##SKELETON for Rule-based classifier\n",
        "\n",
        "# positive_patterns = [\n",
        "#     [{\"LOWER\": \"good\"}]\n",
        "#     # Add more patterns as needed\n",
        "#     ]\n",
        "\n",
        "# negative_patterns = [\n",
        "#     [{\"LOWER\": \"bad\"}]\n",
        "#     # Add more patterns as needed\n",
        "#     ]\n",
        "\n",
        "# matcher.add(\"positive_patterns\", positive_patterns)\n",
        "# matcher.add(\"negative_patterns\", negative_patterns)\n"
      ],
      "id": "c2a3e92b"
    },
    {
      "cell_type": "markdown",
      "metadata": {
        "id": "sZlGWpxU2EBy"
      },
      "source": [
        "# BERT Model with Limited Data (0.5 points)\n",
        "\n",
        "#### Train a BERT-based model using only 32 labeled examples and assess its performance."
      ],
      "id": "sZlGWpxU2EBy"
    },
    {
      "cell_type": "markdown",
      "metadata": {
        "id": "p3r9iJ320muk"
      },
      "source": [
        "In the following exercises we will work with clean text."
      ],
      "id": "p3r9iJ320muk"
    },
    {
      "cell_type": "code",
      "execution_count": null,
      "metadata": {
        "id": "Whvz3y2l7JUR"
      },
      "outputs": [],
      "source": [
        "train_data_clean = df_train['clean_text']\n",
        "validation_data_clean = df_val['clean_text']\n",
        "test_data_clean = df_test['clean_text']"
      ],
      "id": "Whvz3y2l7JUR"
    },
    {
      "cell_type": "code",
      "execution_count": null,
      "metadata": {
        "id": "knnH4yYV_31F"
      },
      "outputs": [],
      "source": [
        "# Set the seed for reproducibility\n",
        "np.random.seed(42)\n",
        "\n",
        "# First, we'll select 32 random rows from the DataFrame using the sample method.\n",
        "df_train_32 = df_train.sample(n=32)"
      ],
      "id": "knnH4yYV_31F"
    },
    {
      "cell_type": "code",
      "execution_count": null,
      "metadata": {
        "id": "S85Mf7jmBi1U"
      },
      "outputs": [],
      "source": [
        "train_data_32 = df_train_32['clean_text']\n",
        "train_labels_32 = df_train_32['label']"
      ],
      "id": "S85Mf7jmBi1U"
    },
    {
      "cell_type": "markdown",
      "metadata": {
        "id": "ENAdabRP0vQ2"
      },
      "source": [
        "### BERT SETUP"
      ],
      "id": "ENAdabRP0vQ2"
    },
    {
      "cell_type": "code",
      "execution_count": null,
      "metadata": {
        "id": "ZLGVtGGJCrfA"
      },
      "outputs": [],
      "source": [
        "checkpoint=\"cardiffnlp/twitter-roberta-base-sentiment-latest\"\n",
        "tokenizer = AutoTokenizer.from_pretrained(checkpoint)\n",
        "model = TFAutoModel.from_pretrained(checkpoint)\n",
        "\n",
        "batch_size=32 # impossible to have bigger batch as far as we have just 32 observations in the train\n",
        "max_length=40 # fine for the length of the sentences in our dataset - changed it according to the distribution\n",
        "rate = 0.5 # dropout parameters - tried different options, 0.5 still performs better\n",
        "num_labels = len(np.unique(validation_labels))"
      ],
      "id": "ZLGVtGGJCrfA"
    },
    {
      "cell_type": "code",
      "execution_count": null,
      "metadata": {
        "id": "wQ2p0PWTDyEJ"
      },
      "outputs": [],
      "source": [
        "# ## Input\n",
        "# input_ids_in = tf.keras.layers.Input(shape=(max_length,), name='input_token', dtype='int32')\n",
        "# input_masks_in = tf.keras.layers.Input(shape=(max_length,), name='masked_token', dtype='int32')\n",
        "\n",
        "# # Embedding layers\n",
        "# embedding_layer = model(input_ids=input_ids_in, attention_mask=input_masks_in)\n",
        "# # we need only the first token representation nothing else from the last layer\n",
        "# final_embedding_layer = embedding_layer[0] #last layer of BERT\n",
        "# # Extract only the [CLS] token's embeddings\n",
        "# cls_token_embeddings = final_embedding_layer[:, 0, :]\n",
        "# # First dimension is the number of rows\n",
        "# # Second dimension is the number of tokens (in our case 64)\n",
        "# # The last dimension is the embedding size, in this case 768\n",
        "\n",
        "# # Let's add some dropout to reduce overfitting\n",
        "# output_layer = tf.keras.layers.Dropout(rate, name='do_layer')(cls_token_embeddings)\n",
        "\n",
        "# # One dense layer to process the last layer\n",
        "# output = tf.keras.layers.Dense(num_labels,\n",
        "#                                kernel_initializer=\"glorot_uniform\",\n",
        "#                                activation='softmax')(output_layer)\n",
        "\n",
        "\n",
        "# bert_model = tf.keras.Model(inputs=[input_ids_in, input_masks_in], outputs = output)\n",
        "\n",
        "# bert_model.summary()"
      ],
      "id": "wQ2p0PWTDyEJ"
    },
    {
      "cell_type": "code",
      "source": [
        "import tensorflow as tf\n",
        "from transformers import TFBertModel\n",
        "from tensorflow.keras import regularizers\n",
        "\n",
        "## Input\n",
        "input_ids_in = tf.keras.layers.Input(shape=(max_length,), name='input_token', dtype='int32')\n",
        "input_masks_in = tf.keras.layers.Input(shape=(max_length,), name='masked_token', dtype='int32')\n",
        "\n",
        "# Embedding layers\n",
        "embedding_layer = model(input_ids=input_ids_in, attention_mask=input_masks_in)\n",
        "# we need only the first token representation nothing else from the last layer\n",
        "final_embedding_layer = embedding_layer[0] #last layer of BERT\n",
        "# Extract only the [CLS] token's embeddings\n",
        "cls_token_embeddings = final_embedding_layer[:, 0, :]\n",
        "# First dimension is the number of rows\n",
        "# Second dimension is the number of tokens (in our case 64)\n",
        "# The last dimension is the embedding size, in this case 768\n",
        "\n",
        "# Let's add some dropout to reduce overfitting\n",
        "output_layer = tf.keras.layers.Dropout(rate, name='do_layer')(cls_token_embeddings)\n",
        "\n",
        "# One dense layer to process the last layer with L2 regularization\n",
        "output = tf.keras.layers.Dense(num_labels,\n",
        "                               kernel_initializer=\"glorot_uniform\",\n",
        "                               activation='softmax',\n",
        "                               kernel_regularizer=regularizers.l2(0.01))(output_layer)\n",
        "\n",
        "bert_model = tf.keras.Model(inputs=[input_ids_in, input_masks_in], outputs=output)\n",
        "\n",
        "bert_model.summary()"
      ],
      "metadata": {
        "id": "Ldw0qgUQQnBL"
      },
      "id": "Ldw0qgUQQnBL",
      "execution_count": null,
      "outputs": []
    },
    {
      "cell_type": "code",
      "execution_count": null,
      "metadata": {
        "id": "ObvpF3mPD9Tw"
      },
      "outputs": [],
      "source": [
        "def get_batches(X_train, y_train, tokenizer, batch_size, max_length):\n",
        "    \"\"\"\n",
        "    Objective: Create a generator that yields batches of tokenized text and corresponding labels.\n",
        "               The data is shuffled and looped through indefinitely.\n",
        "\n",
        "    Inputs:\n",
        "        - X_train (np.array): Array of text data (features).\n",
        "        - y_train (np.array): Array of labels.\n",
        "        - tokenizer (DistilBertTokenizer): Tokenizer for text data.\n",
        "        - batch_size (int): Size of each batch.\n",
        "        - max_length (int): Maximum length of tokenized sequences.\n",
        "    Outputs:\n",
        "        - Generator yielding batches of (inputs, targets).\n",
        "    \"\"\"\n",
        "\n",
        "    # Pre-tokenize the entire dataset\n",
        "    inputs = tokenizer.batch_encode_plus(list(X_train), add_special_tokens=True, max_length=max_length,\n",
        "                                         padding='max_length', return_attention_mask=True,\n",
        "                                         return_token_type_ids=True, truncation=True,\n",
        "                                         return_tensors=\"np\")\n",
        "\n",
        "    input_ids = np.asarray(inputs['input_ids'], dtype='int32')\n",
        "    attention_masks = np.asarray(inputs['attention_mask'], dtype='int32')\n",
        "\n",
        "    # Shuffle and yield batches\n",
        "    while True:\n",
        "        X_train, y_train, input_ids, attention_masks = shuffle(X_train, y_train, input_ids, attention_masks, random_state=11)\n",
        "\n",
        "        for i in range(0, len(X_train), batch_size):\n",
        "            yield [input_ids[i:i + batch_size], attention_masks[i:i + batch_size]], y_train[i:i + batch_size]"
      ],
      "id": "ObvpF3mPD9Tw"
    },
    {
      "cell_type": "code",
      "execution_count": null,
      "metadata": {
        "id": "4r2InpEFEGIZ"
      },
      "outputs": [],
      "source": [
        "enc = OneHotEncoder(handle_unknown='ignore')\n",
        "y_train = enc.fit_transform(np.array(train_labels_32).reshape(-1, 1)).toarray()"
      ],
      "id": "4r2InpEFEGIZ"
    },
    {
      "cell_type": "code",
      "execution_count": null,
      "metadata": {
        "id": "ybwQfoZ5ESTC"
      },
      "outputs": [],
      "source": [
        "# Define a custom generator function that yields batches and updates the tqdm progress bar\n",
        "def tqdm_generator(generator, steps_per_epoch):\n",
        "    for batch in tqdm(generator, total=steps_per_epoch, desc=\"Epoch\"):\n",
        "        yield batch\n",
        "\n",
        "X_train = np.array(train_data_32)\n",
        "\n",
        "steps_per_epoch = int(len(X_train) / batch_size)\n",
        "\n",
        "batches = get_batches(X_train, y_train, tokenizer, batch_size, max_length)\n",
        "\n",
        "# Wrap the batches generator with tqdm\n",
        "batches_with_progress = tqdm_generator(batches, steps_per_epoch)\n",
        "\n",
        "bert_model.compile(optimizer=Adam(2e-5),\n",
        "                   metrics=[tf.keras.metrics.Recall(),\n",
        "                            tf.keras.metrics.Precision()],\n",
        "                   loss=tf.keras.losses.CategoricalCrossentropy())\n",
        "\n",
        "# Now, pass the wrapped generator to fit\n",
        "bert_model.fit(batches_with_progress, epochs=7, steps_per_epoch=steps_per_epoch)\n"
      ],
      "id": "ybwQfoZ5ESTC"
    },
    {
      "cell_type": "code",
      "execution_count": null,
      "metadata": {
        "id": "FYtytKorGhDg"
      },
      "outputs": [],
      "source": [
        "# Get the inputs tokenized from the validation set\n",
        "inputs = tokenizer.batch_encode_plus(list(test_data_clean),\n",
        "                                     add_special_tokens=True, max_length=max_length,\n",
        "                                    padding='max_length',  return_attention_mask=True,\n",
        "                                    return_token_type_ids=True, truncation=True)\n",
        "\n",
        "# Extract input_ids and attention mask\n",
        "inputs_valid = [np.asarray(inputs['input_ids'], dtype='int32'),\n",
        "               np.asarray(inputs['attention_mask'], dtype='int32')]\n",
        "valid_preds = bert_model.predict(inputs_valid)\n",
        "valid_preds = np.argmax(valid_preds, axis=1)\n"
      ],
      "id": "FYtytKorGhDg"
    },
    {
      "cell_type": "code",
      "execution_count": null,
      "metadata": {
        "colab": {
          "base_uri": "https://localhost:8080/",
          "height": 956
        },
        "id": "2UZegyYRRSCh",
        "outputId": "52e6dbc4-201c-4c69-f271-d7afe8290279"
      },
      "outputs": [
        {
          "output_type": "display_data",
          "data": {
            "text/plain": [
              "<Figure size 1500x1000 with 4 Axes>"
            ],
            "image/png": "[encoded data removed]"
          },
          "metadata": {}
        }
      ],
      "source": [
        "# get the final metrics\n",
        "metrics_val= Metrics()\n",
        "metrics_val.run(test_labels, valid_preds, \"distilBERT(32 labels)\")\n",
        "metrics_val.plot()"
      ],
      "id": "2UZegyYRRSCh"
    },
    {
      "cell_type": "markdown",
      "metadata": {
        "id": "YTkEIUJn19ML"
      },
      "source": [
        "As we see, BERT trained on 32 labels performs slightly better than random. Note that metrics vary in the range [0.52, 0.62], depending on the run, as all batches are randomly assigned."
      ],
      "id": "YTkEIUJn19ML"
    },
    {
      "cell_type": "code",
      "execution_count": null,
      "metadata": {
        "colab": {
          "base_uri": "https://localhost:8080/",
          "height": 564
        },
        "id": "afIcK2N9UOPa",
        "outputId": "f95317c6-793a-4836-c389-60d8b032f068"
      },
      "outputs": [
        {
          "output_type": "display_data",
          "data": {
            "text/plain": [
              "<Figure size 800x600 with 1 Axes>"
            ],
            "image/png": "[encoded data removed]"
          },
          "metadata": {}
        }
      ],
      "source": [
        "# Calculate confusion matrix\n",
        "cm = confusion_matrix(test_labels, valid_preds)\n",
        "\n",
        "# Visualize confusion matrix\n",
        "plt.figure(figsize=(8, 6))\n",
        "sns.heatmap(cm, annot=True, fmt=\"d\", cmap=\"Blues\", cbar=False,\n",
        "            xticklabels=[\"Negative\", \"Positive\"],\n",
        "            yticklabels=[\"Negative\", \"Positive\"])\n",
        "plt.xlabel('Predicted')\n",
        "plt.ylabel('True')\n",
        "plt.title('Confusion Matrix')\n",
        "plt.show()"
      ],
      "id": "afIcK2N9UOPa"
    },
    {
      "cell_type": "markdown",
      "metadata": {
        "id": "8K-Ru5wVTnTe"
      },
      "source": [
        "# Dataset Augmentation (1 point)\n",
        "\n",
        "#### Experiment with an automated technique to increase your dataset size without using LLMs. Evaluate the impact on model performance."
      ],
      "id": "8K-Ru5wVTnTe"
    },
    {
      "cell_type": "code",
      "execution_count": null,
      "metadata": {
        "id": "9TF7huojU5d_"
      },
      "outputs": [],
      "source": [
        "# This function should be moved to the top of the notebook (Mikel used it in the first exercise)\n",
        "# Function for data preprocessing\n",
        "\n",
        "#getting a library of stopwords and defining a lemmatizer\n",
        "porter=SnowballStemmer(\"english\")\n",
        "lmtzr = WordNetLemmatizer()\n",
        "\n",
        "stop_words = set(stopwords.words('english'))\n",
        "\n",
        "#additional functions\n",
        "\n",
        "def strip(word):\n",
        "    mod_string = re.sub(r'\\W+', '', word)\n",
        "    return mod_string\n",
        "\n",
        "#the following leaves in place two or more capital letters in a row\n",
        "#will be ignored when using standard stemming\n",
        "def abbr_or_lower(word):\n",
        "    if re.match('([A-Z]+[a-z]*){2,}', word):\n",
        "        return word\n",
        "    else:\n",
        "        return word.lower()\n",
        "\n",
        "#modular pipeline for stemming, lemmatizing and lowercasing\n",
        "#note this is NOT lemmatizing using grammar pos\n",
        "\n",
        "def tokenize(text, modulation):\n",
        "    if modulation<2:\n",
        "        tokens = re.split(r'\\W+', text)\n",
        "        stems = []\n",
        "        # filter out any tokens not containing letters (e.g., numeric tokens, raw punctuation)\n",
        "        for token in tokens:\n",
        "            lowers=abbr_or_lower(token)\n",
        "            if lowers not in stop_words:\n",
        "                if re.search('[a-zA-Z]', lowers):\n",
        "                    if modulation==0:\n",
        "                        stems.append(lowers)\n",
        "                    if modulation==1:\n",
        "                        stems.append(porter.stem(lowers))\n",
        "    else:\n",
        "        sp_text=sp(text)\n",
        "        stems = []\n",
        "        lemmatized_text=[]\n",
        "        for word in sp_text:\n",
        "            lemmatized_text.append(word.lemma_)\n",
        "        stems = [abbr_or_lower(strip(w)) for w in lemmatized_text if (abbr_or_lower(strip(w))) and (abbr_or_lower(strip(w)) not in stop_words)]\n",
        "    return \" \".join(stems)\n",
        "\n",
        "\n",
        "def vectorize(tokens, vocab):\n",
        "    vector=[]\n",
        "    for w in vocab:\n",
        "        vector.append(tokens.count(w))\n",
        "    return vector"
      ],
      "id": "9TF7huojU5d_"
    },
    {
      "cell_type": "markdown",
      "metadata": {
        "id": "8m4vySnr21m1"
      },
      "source": [
        "### LDA\n",
        "I performed some exploratory analysis (aka LDA), but as far as data is very small and randomly chosen to find any patterns is almost imposible and actually is not needed. Probably will just drop this part."
      ],
      "id": "8m4vySnr21m1"
    },
    {
      "cell_type": "code",
      "execution_count": null,
      "metadata": {
        "id": "E7rn3nofXAEI"
      },
      "outputs": [],
      "source": [
        "# df_train_32['clean_text_tok'] = [tokenize(text, 2) for text in df_train_32['clean_text']]"
      ],
      "id": "E7rn3nofXAEI"
    },
    {
      "cell_type": "code",
      "execution_count": null,
      "metadata": {
        "id": "G4QK-8S5Xtng"
      },
      "outputs": [],
      "source": [
        "# cv = CountVectorizer(ngram_range = (1,2), lowercase=True, stop_words='english')\n",
        "\n",
        "# cv.fit(df_train_32['clean_text_tok'])\n",
        "\n",
        "# vectorized_text=cv.transform(df_train_32['clean_text_tok'])\n",
        "# vectorized_text=vectorized_text.toarray()\n",
        "# print(\"document term matrix has size\", vectorized_text.shape)"
      ],
      "id": "G4QK-8S5Xtng"
    },
    {
      "cell_type": "code",
      "execution_count": null,
      "metadata": {
        "id": "E2AqXwVTX54S"
      },
      "outputs": [],
      "source": [
        "# dtm_sparse = csr_matrix(vectorized_text)\n",
        "\n",
        "# # Convert sparse matrix to gensim corpus\n",
        "# corpus = Sparse2Corpus(dtm_sparse, documents_columns=False)\n",
        "\n",
        "# # Create gensim dictionary from sklearn CountVectorizer vocabulary\n",
        "# vocabulary_gensim = {}\n",
        "# for key, val in cv.vocabulary_.items():\n",
        "#     vocabulary_gensim[val] = key\n",
        "\n",
        "# dictionary = corpora.Dictionary()\n",
        "# dictionary.id2token = vocabulary_gensim\n",
        "# dictionary.token2id = cv.vocabulary_"
      ],
      "id": "E2AqXwVTX54S"
    },
    {
      "cell_type": "code",
      "execution_count": null,
      "metadata": {
        "id": "I1WlcxRvX-uR"
      },
      "outputs": [],
      "source": [
        "# # Number of topics\n",
        "# num_topics = 5\n",
        "\n",
        "# # Custom alpha value\n",
        "# alpha = [0.1] * num_topics\n",
        "\n",
        "# # Build LDA model\n",
        "# lda_model = models.LdaModel(corpus=corpus, id2word=dictionary, num_topics=num_topics, passes=20, random_state=42, alpha=alpha)\n",
        "\n",
        "# # Display the topics\n",
        "# topics = lda_model.print_topics(num_words=30)\n",
        "# print(\"Custom Alpha and Eta:\")\n",
        "# for topic in topics:\n",
        "#     print(topic)\n"
      ],
      "id": "I1WlcxRvX-uR"
    },
    {
      "cell_type": "markdown",
      "metadata": {
        "id": "heOFP7c45eP-"
      },
      "source": [],
      "id": "heOFP7c45eP-"
    },
    {
      "cell_type": "markdown",
      "metadata": {
        "id": "lQFiUqAsl9GE"
      },
      "source": [
        "Text data augmentation approaches include:\n",
        "\n",
        "+ Synonym Replacement: Replace words with their synonyms.\n",
        "+ Random Insertion: Insert random words into the text.\n",
        "+ Random Deletion: Randomly delete words from the text.\n",
        "+ Random Swap: Swap two words randomly in the text.\n",
        "+ Text Masking: Replace words or phrases with a mask token.\n",
        "\n",
        "As far as we have very small dataset (DTM is of shape 32:305) I chose not to work with deletion or masking, but rather with synonyms. I thought of two approaches to do so:"
      ],
      "id": "lQFiUqAsl9GE"
    },
    {
      "cell_type": "markdown",
      "metadata": {
        "id": "QUbvc-yo3fHu"
      },
      "source": [
        "### Data Augmentation: Manually Gathered Synonyms\n",
        "\n",
        "First approach was to analyse the most common words associated with positive and negative sentiments and manually create a dictionary with synonyms. Then, I augmented data with 50 (tried more, but performance was worse, probably bacause of the limited variety of the changes and the fact, that probably misclassified observations could be misclassified now twice) observations and trained the same BERT with augmented data."
      ],
      "id": "QUbvc-yo3fHu"
    },
    {
      "cell_type": "code",
      "execution_count": null,
      "metadata": {
        "colab": {
          "base_uri": "https://localhost:8080/",
          "height": 159
        },
        "id": "InK_kuGNqt4E",
        "outputId": "97214861-edab-4a6e-a55c-06a93520bd00"
      },
      "outputs": [
        {
          "output_type": "execute_result",
          "data": {
            "text/plain": [
              "Pipeline(steps=[('prepro', TextPreprocessor()),\n",
              "                ('vect',\n",
              "                 CountVectorizer(max_df=0.97, min_df=0.005,\n",
              "                                 ngram_range=(1, 2))),\n",
              "                ('tfidf', TfidfTransformer(norm='l1'))])"
            ],
            "text/html": [
              "<style>#sk-container-id-1 {color: black;background-color: white;}#sk-container-id-1 pre{padding: 0;}#sk-container-id-1 div.sk-toggleable {background-color: white;}#sk-container-id-1 label.sk-toggleable__label {cursor: pointer;display: block;width: 100%;margin-bottom: 0;padding: 0.3em;box-sizing: border-box;text-align: center;}#sk-container-id-1 label.sk-toggleable__label-arrow:before {content: \"▸\";float: left;margin-right: 0.25em;color: #696969;}#sk-container-id-1 label.sk-toggleable__label-arrow:hover:before {color: black;}#sk-container-id-1 div.sk-estimator:hover label.sk-toggleable__label-arrow:before {color: black;}#sk-container-id-1 div.sk-toggleable__content {max-height: 0;max-width: 0;overflow: hidden;text-align: left;background-color: #f0f8ff;}#sk-container-id-1 div.sk-toggleable__content pre {margin: 0.2em;color: black;border-radius: 0.25em;background-color: #f0f8ff;}#sk-container-id-1 input.sk-toggleable__control:checked~div.sk-toggleable__content {max-height: 200px;max-width: 100%;overflow: auto;}#sk-container-id-1 input.sk-toggleable__control:checked~label.sk-toggleable__label-arrow:before {content: \"▾\";}#sk-container-id-1 div.sk-estimator input.sk-toggleable__control:checked~label.sk-toggleable__label {background-color: #d4ebff;}#sk-container-id-1 div.sk-label input.sk-toggleable__control:checked~label.sk-toggleable__label {background-color: #d4ebff;}#sk-container-id-1 input.sk-hidden--visually {border: 0;clip: rect(1px 1px 1px 1px);clip: rect(1px, 1px, 1px, 1px);height: 1px;margin: -1px;overflow: hidden;padding: 0;position: absolute;width: 1px;}#sk-container-id-1 div.sk-estimator {font-family: monospace;background-color: #f0f8ff;border: 1px dotted black;border-radius: 0.25em;box-sizing: border-box;margin-bottom: 0.5em;}#sk-container-id-1 div.sk-estimator:hover {background-color: #d4ebff;}#sk-container-id-1 div.sk-parallel-item::after {content: \"\";width: 100%;border-bottom: 1px solid gray;flex-grow: 1;}#sk-container-id-1 div.sk-label:hover label.sk-toggleable__label {background-color: #d4ebff;}#sk-container-id-1 div.sk-serial::before {content: \"\";position: absolute;border-left: 1px solid gray;box-sizing: border-box;top: 0;bottom: 0;left: 50%;z-index: 0;}#sk-container-id-1 div.sk-serial {display: flex;flex-direction: column;align-items: center;background-color: white;padding-right: 0.2em;padding-left: 0.2em;position: relative;}#sk-container-id-1 div.sk-item {position: relative;z-index: 1;}#sk-container-id-1 div.sk-parallel {display: flex;align-items: stretch;justify-content: center;background-color: white;position: relative;}#sk-container-id-1 div.sk-item::before, #sk-container-id-1 div.sk-parallel-item::before {content: \"\";position: absolute;border-left: 1px solid gray;box-sizing: border-box;top: 0;bottom: 0;left: 50%;z-index: -1;}#sk-container-id-1 div.sk-parallel-item {display: flex;flex-direction: column;z-index: 1;position: relative;background-color: white;}#sk-container-id-1 div.sk-parallel-item:first-child::after {align-self: flex-end;width: 50%;}#sk-container-id-1 div.sk-parallel-item:last-child::after {align-self: flex-start;width: 50%;}#sk-container-id-1 div.sk-parallel-item:only-child::after {width: 0;}#sk-container-id-1 div.sk-dashed-wrapped {border: 1px dashed gray;margin: 0 0.4em 0.5em 0.4em;box-sizing: border-box;padding-bottom: 0.4em;background-color: white;}#sk-container-id-1 div.sk-label label {font-family: monospace;font-weight: bold;display: inline-block;line-height: 1.2em;}#sk-container-id-1 div.sk-label-container {text-align: center;}#sk-container-id-1 div.sk-container {/* jupyter's `normalize.less` sets `[hidden] { display: none; }` but bootstrap.min.css set `[hidden] { display: none !important; }` so we also need the `!important` here to be able to override the default hidden behavior on the sphinx rendered scikit-learn.org. See: https://github.com/scikit-learn/scikit-learn/issues/21755 */display: inline-block !important;position: relative;}#sk-container-id-1 div.sk-text-repr-fallback {display: none;}</style><div id=\"sk-container-id-1\" class=\"sk-top-container\"><div class=\"sk-text-repr-fallback\"><pre>Pipeline(steps=[(&#x27;prepro&#x27;, TextPreprocessor()),\n",
              "                (&#x27;vect&#x27;,\n",
              "                 CountVectorizer(max_df=0.97, min_df=0.005,\n",
              "                                 ngram_range=(1, 2))),\n",
              "                (&#x27;tfidf&#x27;, TfidfTransformer(norm=&#x27;l1&#x27;))])</pre><b>In a Jupyter environment, please rerun this cell to show the HTML representation or trust the notebook. <br />On GitHub, the HTML representation is unable to render, please try loading this page with nbviewer.org.</b></div><div class=\"sk-container\" hidden><div class=\"sk-item sk-dashed-wrapped\"><div class=\"sk-label-container\"><div class=\"sk-label sk-toggleable\"><input class=\"sk-toggleable__control sk-hidden--visually\" id=\"sk-estimator-id-1\" type=\"checkbox\" ><label for=\"sk-estimator-id-1\" class=\"sk-toggleable__label sk-toggleable__label-arrow\">Pipeline</label><div class=\"sk-toggleable__content\"><pre>Pipeline(steps=[(&#x27;prepro&#x27;, TextPreprocessor()),\n",
              "                (&#x27;vect&#x27;,\n",
              "                 CountVectorizer(max_df=0.97, min_df=0.005,\n",
              "                                 ngram_range=(1, 2))),\n",
              "                (&#x27;tfidf&#x27;, TfidfTransformer(norm=&#x27;l1&#x27;))])</pre></div></div></div><div class=\"sk-serial\"><div class=\"sk-item\"><div class=\"sk-estimator sk-toggleable\"><input class=\"sk-toggleable__control sk-hidden--visually\" id=\"sk-estimator-id-2\" type=\"checkbox\" ><label for=\"sk-estimator-id-2\" class=\"sk-toggleable__label sk-toggleable__label-arrow\">TextPreprocessor</label><div class=\"sk-toggleable__content\"><pre>TextPreprocessor()</pre></div></div></div><div class=\"sk-item\"><div class=\"sk-estimator sk-toggleable\"><input class=\"sk-toggleable__control sk-hidden--visually\" id=\"sk-estimator-id-3\" type=\"checkbox\" ><label for=\"sk-estimator-id-3\" class=\"sk-toggleable__label sk-toggleable__label-arrow\">CountVectorizer</label><div class=\"sk-toggleable__content\"><pre>CountVectorizer(max_df=0.97, min_df=0.005, ngram_range=(1, 2))</pre></div></div></div><div class=\"sk-item\"><div class=\"sk-estimator sk-toggleable\"><input class=\"sk-toggleable__control sk-hidden--visually\" id=\"sk-estimator-id-4\" type=\"checkbox\" ><label for=\"sk-estimator-id-4\" class=\"sk-toggleable__label sk-toggleable__label-arrow\">TfidfTransformer</label><div class=\"sk-toggleable__content\"><pre>TfidfTransformer(norm=&#x27;l1&#x27;)</pre></div></div></div></div></div></div></div>"
            ]
          },
          "metadata": {},
          "execution_count": 126
        }
      ],
      "source": [
        "# I had slightly different approach, but changed it to Mikel's so to have the same logic throughout the notebook. Will have to move this and next cell to the first exercise later on.\n",
        "## Preprocessing texts\n",
        "pipeline = Pipeline([\n",
        "        ('prepro', TextPreprocessor()),\n",
        "        (\"vect\", CountVectorizer(ngram_range=(1, 2), min_df=0.005, max_df=0.97)),\n",
        "        (\"tfidf\", TfidfTransformer(use_idf=True, norm='l1'))\n",
        "    ]\n",
        ")\n",
        "\n",
        "# Fit the pipeline on the training data\n",
        "pipeline.fit(df_train_32['clean_text'])"
      ],
      "id": "InK_kuGNqt4E"
    },
    {
      "cell_type": "code",
      "execution_count": null,
      "metadata": {
        "id": "38nt4ln6oO5U"
      },
      "outputs": [],
      "source": [
        "def tfidf_term(pipeline,df,sentiment):\n",
        "# Access the CountVectorizer step from the pipeline\n",
        "    count_vectorizer = pipeline.named_steps['vect']\n",
        "    # Fit and transform the data\n",
        "    tf_idf_pos_matrix = pipeline.transform(df[df['label']==sentiment]['clean_text'])\n",
        "    # Convert count matrix to DataFrame\n",
        "    vec_fr_mtx = pd.DataFrame(data=tf_idf_pos_matrix.toarray(), columns=count_vectorizer.get_feature_names_out())\n",
        "\n",
        "    #Creating a dictionary of frequencies for our terms\n",
        "    feature_names = count_vectorizer.get_feature_names_out()\n",
        "    # Calculate Term frequency dictionary\n",
        "    term_tfidf = np.mean(vec_fr_mtx, axis=0)\n",
        "    #Store in a dictionary\n",
        "    tfidf_dict = {i: n for i, n in zip(feature_names, term_tfidf)}\n",
        "    print(len(term_tfidf))\n",
        "    return feature_names, term_tfidf, tfidf_dict\n",
        "\n",
        "\n",
        "def transform_to_dataframe(feature_names, score):\n",
        "    # Create DataFrame with feature names and mean TF-IDF scores\n",
        "    df = pd.DataFrame({'terms': feature_names, 'score': score})\n",
        "    # Reset index\n",
        "    df.reset_index(drop=True, inplace=True)\n",
        "    return df\n",
        "\n",
        "\n",
        "# Example usage:\n",
        "def plot_freq_top(df,top,pos):\n",
        "    df = df.sort_values(by='score',ascending = False)\n",
        "    df = df.head(top)\n",
        "    #We are going to set the\n",
        "\n",
        "    # Plot the top N terms and their TF-IDF scores\n",
        "    plt.figure(figsize=(10, 6))\n",
        "    plt.barh(df['terms'], df['score'], align='center')\n",
        "    plt.yticks(df['terms'])\n",
        "    plt.xlabel('Frequency Score')\n",
        "    plt.title(pos.format(top))\n",
        "    #plt.xlim(0,0.010)\n",
        "    plt.gca().invert_yaxis()  # Invert y-axis to display top terms at the top\n",
        "    plt.show()"
      ],
      "id": "38nt4ln6oO5U"
    },
    {
      "cell_type": "code",
      "execution_count": null,
      "metadata": {
        "colab": {
          "base_uri": "https://localhost:8080/",
          "height": 581
        },
        "id": "UVw6aSAeoXdL",
        "outputId": "5ceecdbd-9680-4043-b0c4-96f6bb93d3d4"
      },
      "outputs": [
        {
          "output_type": "stream",
          "name": "stdout",
          "text": [
            "322\n"
          ]
        },
        {
          "output_type": "display_data",
          "data": {
            "text/plain": [
              "<Figure size 1000x600 with 1 Axes>"
            ],
            "image/png": "[encoded data removed]"
          },
          "metadata": {}
        }
      ],
      "source": [
        "pos = f'Top Positive Terms Mean TF-IDF Score'\n",
        "## Posive Terms\n",
        "pos_feature_names, term_tfidf, tfidf_dict = tfidf_term(pipeline,df_train_32,1)\n",
        "pos_tf_idf = transform_to_dataframe(pos_feature_names,term_tfidf)\n",
        "plot_freq_top(pos_tf_idf,25,pos)"
      ],
      "id": "UVw6aSAeoXdL"
    },
    {
      "cell_type": "code",
      "execution_count": null,
      "metadata": {
        "colab": {
          "base_uri": "https://localhost:8080/",
          "height": 581
        },
        "id": "yR8crxTAoeHn",
        "outputId": "2b96fa7a-cf6a-4848-df26-4ea2fba1de6d"
      },
      "outputs": [
        {
          "output_type": "stream",
          "name": "stdout",
          "text": [
            "322\n"
          ]
        },
        {
          "output_type": "display_data",
          "data": {
            "text/plain": [
              "<Figure size 1000x600 with 1 Axes>"
            ],
            "image/png": "[encoded data removed]"
          },
          "metadata": {}
        }
      ],
      "source": [
        "neg = f'Top Negative Terms Mean TF-IDF Score'\n",
        "## Posive Terms\n",
        "neg_feature_names, term_tfidf, tfidf_dict = tfidf_term(pipeline,df_train_32,0)\n",
        "neg_tf_idf = transform_to_dataframe(neg_feature_names,term_tfidf)\n",
        "plot_freq_top(neg_tf_idf,25,neg)"
      ],
      "id": "yR8crxTAoeHn"
    },
    {
      "cell_type": "markdown",
      "metadata": {
        "id": "JpYlUKd-42zt"
      },
      "source": [
        "I got top 'most positive' and 'most negative' terms, manually chose some of them and assigned synonyms."
      ],
      "id": "JpYlUKd-42zt"
    },
    {
      "cell_type": "code",
      "execution_count": null,
      "metadata": {
        "colab": {
          "base_uri": "https://localhost:8080/"
        },
        "id": "mrkR8o9vs1Xo",
        "outputId": "09d5ef69-54a7-46a7-f9e7-51fc70c04cb4"
      },
      "outputs": [
        {
          "output_type": "stream",
          "name": "stdout",
          "text": [
            "['testing', 'game', 'farewell farah', 'farewell', 'farah', 'lost', 'lost game', 'sorry', 'margarita', 'sorry margarita', 'love sorry', 'love', 'green mucous', 'green', 'nothing green', 'nothing', 'mucous time', 'mucous', 'friend', 'plurk', 'friend twitter', 'none friend', 'none', 'twitter plurk', 'twitter']\n",
            "['final', 'pretty good', 'pretty', 'good', 'happy', 'make happy', 'dot', 'polka dot', 'polka', 'make', 'twilight', 'twilight tag', 'tag', 'add twilight', 'add', 'love', 'thanks', 'thanks follow', 'much', 'much love', 'follow much', 'follow', 'think', 'kit', 'club importantly']\n"
          ]
        }
      ],
      "source": [
        "# Sort the dataframe by the 'score' column in decreasing order\n",
        "neg_tf_idf_sorted = neg_tf_idf.sort_values(by='score', ascending=False)\n",
        "pos_tf_idf_sorted = pos_tf_idf.sort_values(by='score', ascending=False)\n",
        "\n",
        "# Extract the top 25 terms from the sorted dataframe\n",
        "top_terms_neg = neg_tf_idf_sorted['terms'].head(25).tolist()\n",
        "top_terms_pos = pos_tf_idf_sorted['terms'].head(25).tolist()\n",
        "\n",
        "# Print the list of top 25 terms\n",
        "print(top_terms_neg)\n",
        "print(top_terms_pos)"
      ],
      "id": "mrkR8o9vs1Xo"
    },
    {
      "cell_type": "code",
      "execution_count": null,
      "metadata": {
        "id": "HcL-pvnywG23"
      },
      "outputs": [],
      "source": [
        "synonyms = {\n",
        "    'school': ['education', 'academy'],\n",
        "    'complicated': ['complex', 'difficult'],\n",
        "    'bad': ['poor', 'negative', 'awful', 'lousy', 'rough'],\n",
        "    'love': ['affection', 'adore', 'care for', 'like'],\n",
        "    'guilty': ['regret', 'remorse'],\n",
        "    'feel': ['emotion', 'vibe'],\n",
        "    'oh': ['ah', 'ahh', 'oops'],\n",
        "    'miss': ['long for', 'crave', 'feel loss'],\n",
        "    'going': ['departing', 'leaving', 'traveling'],\n",
        "    'dear': ['beloved', 'darling', 'precious'],\n",
        "    'busy': ['occupied', 'engaged'],\n",
        "    'working': ['laboring', 'employed'],\n",
        "    'time': ['period', 'duration', 'interval'],\n",
        "    'would': ['could', 'might', 'will'],\n",
        "    'look': ['gaze', 'observe', 'glance'],\n",
        "    'bed time': ['sleep time', 'rest time', 'night time'],\n",
        "    'song': ['music', 'melody', 'tune'],\n",
        "    'hi': ['hello', 'hey', 'greetings'],\n",
        "    'love song': ['romantic music', 'passionate tune'],\n",
        "    'want': ['desire', 'wish for', 'crave'],\n",
        "    'please': ['kindly', 'if you please'],\n",
        "}"
      ],
      "id": "HcL-pvnywG23"
    },
    {
      "cell_type": "code",
      "execution_count": null,
      "metadata": {
        "colab": {
          "base_uri": "https://localhost:8080/"
        },
        "id": "H_L7ELVgsBjb",
        "outputId": "22564c36-1df9-46f3-c4fe-2336d272c829"
      },
      "outputs": [
        {
          "output_type": "stream",
          "name": "stdout",
          "text": [
            "                                                 text label text_length  \\\n",
            "0   @noirem I read it a long time ago but I don't ...     1          23   \n",
            "1   @raamdev I'll practice with you!  Irene might ...     1          19   \n",
            "2   I have 1742 message in my gustbook at www.dogu...     1          17   \n",
            "3               nothing but green mucous all the time     0           7   \n",
            "4   @princessPK420 we love you too sorry you can't...     0          13   \n",
            "5      @design_group thanks for the follow! much love     1           7   \n",
            "6   @dukefan112 even feel like June yet, i still f...     0          21   \n",
            "7   @JoeTheProducer seriously, go out on the town ...     1          27   \n",
            "8   @noirem I read it a long time ago but I don't ...     1          23   \n",
            "9   @raamdev I'll practice with you!  Irene might ...     1          19   \n",
            "10  I have 1742 message in my gustbook at www.dogu...     1          17   \n",
            "11              nothing but green mucous all the time     0           7   \n",
            "12  @princessPK420 we love you too sorry you can't...     0          13   \n",
            "13     @design_group thanks for the follow! much love     1           7   \n",
            "14  @dukefan112 even feel like June yet, i still f...     0          21   \n",
            "15  @JoeTheProducer seriously, go out on the town ...     1          27   \n",
            "16  @noirem I read it a long time ago but I don't ...     1          23   \n",
            "17  @raamdev I'll practice with you!  Irene might ...     1          19   \n",
            "18  I have 1742 message in my gustbook at www.dogu...     1          17   \n",
            "19              nothing but green mucous all the time     0           7   \n",
            "20  @princessPK420 we love you too sorry you can't...     0          13   \n",
            "21     @design_group thanks for the follow! much love     1           7   \n",
            "22  @dukefan112 even feel like June yet, i still f...     0          21   \n",
            "23  @JoeTheProducer seriously, go out on the town ...     1          27   \n",
            "24  @noirem I read it a long time ago but I don't ...     1          23   \n",
            "25  @raamdev I'll practice with you!  Irene might ...     1          19   \n",
            "26  I have 1742 message in my gustbook at www.dogu...     1          17   \n",
            "27              nothing but green mucous all the time     0           7   \n",
            "28  @princessPK420 we love you too sorry you can't...     0          13   \n",
            "29     @design_group thanks for the follow! much love     1           7   \n",
            "30  @dukefan112 even feel like June yet, i still f...     0          21   \n",
            "31  @JoeTheProducer seriously, go out on the town ...     1          27   \n",
            "32  @noirem I read it a long time ago but I don't ...     1          23   \n",
            "33  @raamdev I'll practice with you!  Irene might ...     1          19   \n",
            "34  I have 1742 message in my gustbook at www.dogu...     1          17   \n",
            "35              nothing but green mucous all the time     0           7   \n",
            "36  @princessPK420 we love you too sorry you can't...     0          13   \n",
            "37     @design_group thanks for the follow! much love     1           7   \n",
            "38  @dukefan112 even feel like June yet, i still f...     0          21   \n",
            "39  @JoeTheProducer seriously, go out on the town ...     1          27   \n",
            "40  @noirem I read it a long time ago but I don't ...     1          23   \n",
            "41  @raamdev I'll practice with you!  Irene might ...     1          19   \n",
            "42  I have 1742 message in my gustbook at www.dogu...     1          17   \n",
            "43              nothing but green mucous all the time     0           7   \n",
            "44  @princessPK420 we love you too sorry you can't...     0          13   \n",
            "45     @design_group thanks for the follow! much love     1           7   \n",
            "46  @dukefan112 even feel like June yet, i still f...     0          21   \n",
            "47  @JoeTheProducer seriously, go out on the town ...     1          27   \n",
            "48  @noirem I read it a long time ago but I don't ...     1          23   \n",
            "49  @raamdev I'll practice with you!  Irene might ...     1          19   \n",
            "\n",
            "                                           clean_text clean_emotions hashtag  \\\n",
            "0   i read it a long duration ago but i do not hav...                          \n",
            "1   i will practice with you ! irene might be up f...                          \n",
            "2   i have message in my gustbook at i crave have ...                          \n",
            "3           nothing but green mucous all the interval                          \n",
            "4   we like you too sorry you can not be here for ...                          \n",
            "5              thanks for the follow ! much affection                          \n",
            "6   even emotion like june yet , i still emotion a...                          \n",
            "7   seriously , go out on the town for me - can to...                          \n",
            "8   i read it a long period ago but i do not have ...                          \n",
            "9   i will practice with you ! irene might be up f...                          \n",
            "10  i have message in my gustbook at i wish for ha...                          \n",
            "11            nothing but green mucous all the period                          \n",
            "12  we affection you too sorry you can not be here...                          \n",
            "13             thanks for the follow ! much affection                          \n",
            "14  even vibe like june yet , i still emotion as i...                          \n",
            "15  seriously , go out on the town for me - can to...                          \n",
            "16  i read it a long duration ago but i do not hav...                          \n",
            "17  i will practice with you ! irene might be up f...                          \n",
            "18  i have message in my gustbook at i desire have...                          \n",
            "19            nothing but green mucous all the period                          \n",
            "20  we like you too sorry you can not be here for ...                          \n",
            "21                 thanks for the follow ! much adore                          \n",
            "22  even emotion like june yet , i still vibe as i...                          \n",
            "23  seriously , go out on the town for me - can to...                          \n",
            "24  i read it a long duration ago but i do not hav...                          \n",
            "25  i will practice with you ! irene might be up f...                          \n",
            "26  i have message in my gustbook at i crave have ...                          \n",
            "27            nothing but green mucous all the period                          \n",
            "28  we adore you too sorry you can not be here for...                          \n",
            "29                 thanks for the follow ! much adore                          \n",
            "30  even emotion like june yet , i still emotion a...                          \n",
            "31  seriously , go out on the town for me - can to...                          \n",
            "32  i read it a long interval ago but i do not hav...                          \n",
            "33  i will practice with you ! irene might be up f...                          \n",
            "34  i have message in my gustbook at i desire have...                          \n",
            "35          nothing but green mucous all the interval                          \n",
            "36  we adore you too sorry you can not be here for...                          \n",
            "37                  thanks for the follow ! much like                          \n",
            "38  even emotion like june yet , i still emotion a...                          \n",
            "39  seriously , go out on the town for me - can to...                          \n",
            "40  i read it a long duration ago but i do not hav...                          \n",
            "41  i will practice with you ! irene might be up f...                          \n",
            "42  i have message in my gustbook at i desire have...                          \n",
            "43            nothing but green mucous all the period                          \n",
            "44  we adore you too sorry you can not be here for...                          \n",
            "45                 thanks for the follow ! much adore                          \n",
            "46  even vibe like june yet , i still emotion as i...                          \n",
            "47  seriously , go out on the town for me - can to...                          \n",
            "48  i read it a long duration ago but i do not hav...                          \n",
            "49  i will practice with you ! irene might be up f...                          \n",
            "\n",
            "                                         text_emotion  \n",
            "0   i read it a long time ago but i do not have a ...  \n",
            "1   i will practice with you ! irene might be up f...  \n",
            "2   i have message in my gustbook at i want have p...  \n",
            "3              nothing but green mucous all the time   \n",
            "4   we love you too sorry you can not be here for ...  \n",
            "5                  thanks for the follow ! much love   \n",
            "6   even feel like june yet , i still feel as if t...  \n",
            "7   seriously , go out on the town for me - can to...  \n",
            "8   i read it a long time ago but i do not have a ...  \n",
            "9   i will practice with you ! irene might be up f...  \n",
            "10  i have message in my gustbook at i want have p...  \n",
            "11             nothing but green mucous all the time   \n",
            "12  we love you too sorry you can not be here for ...  \n",
            "13                 thanks for the follow ! much love   \n",
            "14  even feel like june yet , i still feel as if t...  \n",
            "15  seriously , go out on the town for me - can to...  \n",
            "16  i read it a long time ago but i do not have a ...  \n",
            "17  i will practice with you ! irene might be up f...  \n",
            "18  i have message in my gustbook at i want have p...  \n",
            "19             nothing but green mucous all the time   \n",
            "20  we love you too sorry you can not be here for ...  \n",
            "21                 thanks for the follow ! much love   \n",
            "22  even feel like june yet , i still feel as if t...  \n",
            "23  seriously , go out on the town for me - can to...  \n",
            "24  i read it a long time ago but i do not have a ...  \n",
            "25  i will practice with you ! irene might be up f...  \n",
            "26  i have message in my gustbook at i want have p...  \n",
            "27             nothing but green mucous all the time   \n",
            "28  we love you too sorry you can not be here for ...  \n",
            "29                 thanks for the follow ! much love   \n",
            "30  even feel like june yet , i still feel as if t...  \n",
            "31  seriously , go out on the town for me - can to...  \n",
            "32  i read it a long time ago but i do not have a ...  \n",
            "33  i will practice with you ! irene might be up f...  \n",
            "34  i have message in my gustbook at i want have p...  \n",
            "35             nothing but green mucous all the time   \n",
            "36  we love you too sorry you can not be here for ...  \n",
            "37                 thanks for the follow ! much love   \n",
            "38  even feel like june yet , i still feel as if t...  \n",
            "39  seriously , go out on the town for me - can to...  \n",
            "40  i read it a long time ago but i do not have a ...  \n",
            "41  i will practice with you ! irene might be up f...  \n",
            "42  i have message in my gustbook at i want have p...  \n",
            "43             nothing but green mucous all the time   \n",
            "44  we love you too sorry you can not be here for ...  \n",
            "45                 thanks for the follow ! much love   \n",
            "46  even feel like june yet , i still feel as if t...  \n",
            "47  seriously , go out on the town for me - can to...  \n",
            "48  i read it a long time ago but i do not have a ...  \n",
            "49  i will practice with you ! irene might be up f...  \n"
          ]
        },
        {
          "output_type": "stream",
          "name": "stderr",
          "text": [
            "<ipython-input-132-5dc4f9f0cb87>:24: FutureWarning: The frame.append method is deprecated and will be removed from pandas in a future version. Use pandas.concat instead.\n",
            "  new_rows = new_rows.append(new_row, ignore_index=True)\n"
          ]
        }
      ],
      "source": [
        "# Function to replace key word with a random synonym\n",
        "def replace_with_synonym(text, synonyms_dict):\n",
        "    words = text.split()\n",
        "    for i, word in enumerate(words):\n",
        "        if word in synonyms_dict:\n",
        "            synonyms = synonyms_dict[word]\n",
        "            # Randomly select a synonym\n",
        "            new_word = random.choice(synonyms)\n",
        "            # Replace the key word with the selected synonym\n",
        "            words[i] = new_word\n",
        "    return ' '.join(words)\n",
        "\n",
        "# Initialize an empty DataFrame to store new observations\n",
        "new_rows = pd.DataFrame(columns=df_train_32.columns)\n",
        "\n",
        "# Generate additional 50 rows\n",
        "while len(new_rows) < 50:\n",
        "    # Identify rows with words from synonyms dictionary\n",
        "    relevant_rows = df_train_32[df_train_32['clean_text'].apply(lambda x: any(word in synonyms for word in x.split()))]\n",
        "    # Duplicate each relevant row and replace key word with synonym\n",
        "    for idx, row in relevant_rows.iterrows():\n",
        "        new_row = row.copy()\n",
        "        new_row['clean_text'] = replace_with_synonym(row['clean_text'], synonyms)\n",
        "        new_rows = new_rows.append(new_row, ignore_index=True)\n",
        "        if len(new_rows) >= 50:\n",
        "            break\n",
        "\n",
        "# Display the new DataFrame with 50 new rows\n",
        "print(new_rows)\n"
      ],
      "id": "H_L7ELVgsBjb"
    },
    {
      "cell_type": "code",
      "execution_count": null,
      "metadata": {
        "colab": {
          "base_uri": "https://localhost:8080/"
        },
        "id": "3fJYpWPos0fj",
        "outputId": "e0930b01-995e-46d2-d087-88d0c178c72b"
      },
      "outputs": [
        {
          "output_type": "stream",
          "name": "stdout",
          "text": [
            "(82, 7)\n"
          ]
        }
      ],
      "source": [
        "# Add new_rows to df_train_32\n",
        "augmented_df = pd.concat([df_train_32, new_rows], ignore_index=True)\n",
        "\n",
        "# Display the augmented DataFrame shape\n",
        "print(augmented_df.shape)"
      ],
      "id": "3fJYpWPos0fj"
    },
    {
      "cell_type": "code",
      "execution_count": null,
      "metadata": {
        "id": "ekUQV_SguJ_b"
      },
      "outputs": [],
      "source": [
        "# Define data and labels\n",
        "augmented_df_data = augmented_df['clean_text']\n",
        "augmented_df_label = augmented_df['label']"
      ],
      "id": "ekUQV_SguJ_b"
    },
    {
      "cell_type": "markdown",
      "metadata": {
        "id": "INKJkKNS6Vi2"
      },
      "source": [
        "Note, that we will work with the same BERT model, so I will not change anything in the model architecture."
      ],
      "id": "INKJkKNS6Vi2"
    },
    {
      "cell_type": "code",
      "execution_count": null,
      "metadata": {
        "id": "UnwvuZuku_u0"
      },
      "outputs": [],
      "source": [
        "enc = OneHotEncoder(handle_unknown='ignore')\n",
        "y_train = enc.fit_transform(np.array(augmented_df_label).reshape(-1, 1)).toarray()"
      ],
      "id": "UnwvuZuku_u0"
    },
    {
      "cell_type": "code",
      "execution_count": null,
      "metadata": {
        "colab": {
          "base_uri": "https://localhost:8080/"
        },
        "id": "UzW3xFWvvNvG",
        "outputId": "09ee22ac-f206-4e81-8f27-d60110d36823"
      },
      "outputs": [
        {
          "output_type": "stream",
          "name": "stderr",
          "text": [
            "\n",
            "\n",
            "Epoch:   0%|          | 0/2 [00:00<?, ?it/s]\u001b[A\u001b[A"
          ]
        },
        {
          "output_type": "stream",
          "name": "stdout",
          "text": [
            "Epoch 1/7\n"
          ]
        },
        {
          "output_type": "stream",
          "name": "stderr",
          "text": [
            "WARNING:tensorflow:Gradients do not exist for variables ['tf_roberta_model_1/roberta/pooler/dense/kernel:0', 'tf_roberta_model_1/roberta/pooler/dense/bias:0'] when minimizing the loss. If you're using `model.compile()`, did you forget to provide a `loss` argument?\n",
            "WARNING:tensorflow:Gradients do not exist for variables ['tf_roberta_model_1/roberta/pooler/dense/kernel:0', 'tf_roberta_model_1/roberta/pooler/dense/bias:0'] when minimizing the loss. If you're using `model.compile()`, did you forget to provide a `loss` argument?\n",
            "WARNING:tensorflow:Gradients do not exist for variables ['tf_roberta_model_1/roberta/pooler/dense/kernel:0', 'tf_roberta_model_1/roberta/pooler/dense/bias:0'] when minimizing the loss. If you're using `model.compile()`, did you forget to provide a `loss` argument?\n",
            "WARNING:tensorflow:Gradients do not exist for variables ['tf_roberta_model_1/roberta/pooler/dense/kernel:0', 'tf_roberta_model_1/roberta/pooler/dense/bias:0'] when minimizing the loss. If you're using `model.compile()`, did you forget to provide a `loss` argument?\n",
            "\n",
            "\n",
            "Epoch:  50%|█████     | 1/2 [00:24<00:24, 24.29s/it]\u001b[A\u001b[A"
          ]
        },
        {
          "output_type": "stream",
          "name": "stdout",
          "text": [
            "\r1/2 [==============>...............] - ETA: 38s - loss: 0.1246 - recall_2: 0.9688 - precision_2: 0.9688"
          ]
        },
        {
          "output_type": "stream",
          "name": "stderr",
          "text": [
            "\n",
            "\n",
            "Epoch: 3it [00:38, 11.46s/it]                       \u001b[A\u001b[A"
          ]
        },
        {
          "output_type": "stream",
          "name": "stdout",
          "text": [
            "2/2 [==============================] - 39s 420ms/step - loss: 0.2146 - recall_2: 0.9219 - precision_2: 0.9219\n",
            "Epoch 2/7\n"
          ]
        },
        {
          "output_type": "stream",
          "name": "stderr",
          "text": [
            "\n",
            "\n",
            "Epoch: 4it [00:38,  7.64s/it]\u001b[A\u001b[A"
          ]
        },
        {
          "output_type": "stream",
          "name": "stdout",
          "text": [
            "\r1/2 [==============>...............] - ETA: 0s - loss: 0.0463 - recall_2: 1.0000 - precision_2: 1.0000"
          ]
        },
        {
          "output_type": "stream",
          "name": "stderr",
          "text": [
            "\n",
            "\n",
            "Epoch: 5it [00:38,  5.18s/it]\u001b[A\u001b[A"
          ]
        },
        {
          "output_type": "stream",
          "name": "stdout",
          "text": [
            "2/2 [==============================] - 0s 268ms/step - loss: 0.1348 - recall_2: 0.9400 - precision_2: 0.9400\n",
            "Epoch 3/7\n"
          ]
        },
        {
          "output_type": "stream",
          "name": "stderr",
          "text": [
            "\n",
            "\n",
            "Epoch: 6it [00:39,  3.60s/it]\u001b[A\u001b[A"
          ]
        },
        {
          "output_type": "stream",
          "name": "stdout",
          "text": [
            "\r1/2 [==============>...............] - ETA: 0s - loss: 0.0622 - recall_2: 1.0000 - precision_2: 1.0000"
          ]
        },
        {
          "output_type": "stream",
          "name": "stderr",
          "text": [
            "\n",
            "\n",
            "Epoch: 7it [00:39,  2.56s/it]\u001b[A\u001b[A"
          ]
        },
        {
          "output_type": "stream",
          "name": "stdout",
          "text": [
            "2/2 [==============================] - 0s 212ms/step - loss: 0.1466 - recall_2: 0.9800 - precision_2: 0.9800\n",
            "Epoch 4/7\n"
          ]
        },
        {
          "output_type": "stream",
          "name": "stderr",
          "text": [
            "\n",
            "\n",
            "Epoch: 8it [00:39,  1.83s/it]\u001b[A\u001b[A"
          ]
        },
        {
          "output_type": "stream",
          "name": "stdout",
          "text": [
            "\r1/2 [==============>...............] - ETA: 0s - loss: 0.0104 - recall_2: 1.0000 - precision_2: 1.0000"
          ]
        },
        {
          "output_type": "stream",
          "name": "stderr",
          "text": [
            "\n",
            "\n",
            "Epoch: 9it [00:39,  1.35s/it]\u001b[A\u001b[A"
          ]
        },
        {
          "output_type": "stream",
          "name": "stdout",
          "text": [
            "2/2 [==============================] - 1s 272ms/step - loss: 0.0100 - recall_2: 1.0000 - precision_2: 1.0000\n",
            "Epoch 5/7\n"
          ]
        },
        {
          "output_type": "stream",
          "name": "stderr",
          "text": [
            "\n",
            "\n",
            "Epoch: 10it [00:40,  1.02s/it]\u001b[A\u001b[A"
          ]
        },
        {
          "output_type": "stream",
          "name": "stdout",
          "text": [
            "\r1/2 [==============>...............] - ETA: 0s - loss: 0.0205 - recall_2: 1.0000 - precision_2: 1.0000"
          ]
        },
        {
          "output_type": "stream",
          "name": "stderr",
          "text": [
            "\n",
            "\n",
            "Epoch: 11it [00:40,  1.29it/s]\u001b[A\u001b[A"
          ]
        },
        {
          "output_type": "stream",
          "name": "stdout",
          "text": [
            "2/2 [==============================] - 0s 269ms/step - loss: 0.0108 - recall_2: 1.0000 - precision_2: 1.0000\n",
            "Epoch 6/7\n"
          ]
        },
        {
          "output_type": "stream",
          "name": "stderr",
          "text": [
            "\n",
            "\n",
            "Epoch: 12it [00:40,  1.61it/s]\u001b[A\u001b[A"
          ]
        },
        {
          "output_type": "stream",
          "name": "stdout",
          "text": [
            "\r1/2 [==============>...............] - ETA: 0s - loss: 0.0025 - recall_2: 1.0000 - precision_2: 1.0000"
          ]
        },
        {
          "output_type": "stream",
          "name": "stderr",
          "text": [
            "\n",
            "\n",
            "Epoch: 13it [00:40,  1.94it/s]\u001b[A\u001b[A"
          ]
        },
        {
          "output_type": "stream",
          "name": "stdout",
          "text": [
            "2/2 [==============================] - 0s 172ms/step - loss: 0.0052 - recall_2: 1.0000 - precision_2: 1.0000\n",
            "Epoch 7/7\n"
          ]
        },
        {
          "output_type": "stream",
          "name": "stderr",
          "text": [
            "\n",
            "\n",
            "Epoch: 14it [00:41,  2.42it/s]\u001b[A\u001b[A"
          ]
        },
        {
          "output_type": "stream",
          "name": "stdout",
          "text": [
            "\r1/2 [==============>...............] - ETA: 0s - loss: 0.0013 - recall_2: 1.0000 - precision_2: 1.0000"
          ]
        },
        {
          "output_type": "stream",
          "name": "stderr",
          "text": [
            "\n",
            "\n",
            "Epoch: 15it [00:41,  2.73it/s]\u001b[A\u001b[A"
          ]
        },
        {
          "output_type": "stream",
          "name": "stdout",
          "text": [
            "2/2 [==============================] - 1s 278ms/step - loss: 0.0012 - recall_2: 1.0000 - precision_2: 1.0000\n"
          ]
        }
      ],
      "source": [
        "# Define a custom generator function that yields batches and updates the tqdm progress bar\n",
        "def tqdm_generator(generator, steps_per_epoch):\n",
        "    for batch in tqdm(generator, total=steps_per_epoch, desc=\"Epoch\"):\n",
        "        yield batch\n",
        "\n",
        "X_train = np.array(augmented_df_data)\n",
        "\n",
        "steps_per_epoch = int(len(X_train) / batch_size)\n",
        "\n",
        "batches = get_batches(X_train, y_train, tokenizer, batch_size, max_length)\n",
        "\n",
        "# Wrap the batches generator with tqdm\n",
        "batches_with_progress = tqdm_generator(batches, steps_per_epoch)\n",
        "\n",
        "from keras.callbacks import EarlyStopping\n",
        "bert_model.compile(optimizer=Adam(2e-5),\n",
        "                   metrics=[tf.keras.metrics.Recall(),\n",
        "                            tf.keras.metrics.Precision()],\n",
        "                   loss=tf.keras.losses.CategoricalCrossentropy())\n",
        "\n",
        "# # Now, pass the wrapped generator to fit\n",
        "history = bert_model.fit(batches_with_progress, epochs=7, steps_per_epoch=steps_per_epoch)\n"
      ],
      "id": "UzW3xFWvvNvG"
    },
    {
      "cell_type": "code",
      "execution_count": null,
      "metadata": {
        "colab": {
          "base_uri": "https://localhost:8080/",
          "height": 472
        },
        "id": "T3ycVXa8bbyt",
        "outputId": "5bc4cb9c-3825-4d86-8809-3483444d88b6"
      },
      "outputs": [
        {
          "output_type": "display_data",
          "data": {
            "text/plain": [
              "<Figure size 640x480 with 1 Axes>"
            ],
            "image/png": "[encoded data removed]"
          },
          "metadata": {}
        }
      ],
      "source": [
        "# Skip the first 10 epochs (index 0 to 9) and start plotting from the 11th epoch (index 10)\n",
        "plt.plot(history.history['loss'])\n",
        "#plt.plot(history.history['val_loss'])\n",
        "plt.title('model loss')\n",
        "plt.ylabel('loss')\n",
        "plt.xlabel('epoch')\n",
        "# Adjusted the legend to include both 'train' and 'val' for clarity\n",
        "plt.legend(['train', 'val'], loc='upper left')\n",
        "plt.show()\n"
      ],
      "id": "T3ycVXa8bbyt"
    },
    {
      "cell_type": "code",
      "execution_count": null,
      "metadata": {
        "colab": {
          "base_uri": "https://localhost:8080/"
        },
        "id": "yVs-7kWKws7m",
        "outputId": "dabbc01c-d64f-4269-cd70-8e0bce6738e4"
      },
      "outputs": [
        {
          "output_type": "stream",
          "name": "stdout",
          "text": [
            "582/582 [==============================] - 54s 87ms/step\n"
          ]
        }
      ],
      "source": [
        "# Get the inputs tokenized from the validation set\n",
        "inputs = tokenizer.batch_encode_plus(list(test_data),\n",
        "                                     add_special_tokens=True, max_length=max_length,\n",
        "                                    padding='max_length',  return_attention_mask=True,\n",
        "                                    return_token_type_ids=True, truncation=True)\n",
        "\n",
        "# Extract input_ids and attention mask\n",
        "inputs_valid = [np.asarray(inputs['input_ids'], dtype='int32'),\n",
        "               np.asarray(inputs['attention_mask'], dtype='int32')]\n",
        "valid_preds = bert_model.predict(inputs_valid)\n",
        "valid_preds = np.argmax(valid_preds, axis=1)\n"
      ],
      "id": "yVs-7kWKws7m"
    },
    {
      "cell_type": "code",
      "execution_count": null,
      "metadata": {
        "colab": {
          "base_uri": "https://localhost:8080/",
          "height": 956
        },
        "id": "M1us2z7h41Lm",
        "outputId": "dc678114-25f9-4e8a-86a1-ef278e3b81fd"
      },
      "outputs": [
        {
          "output_type": "display_data",
          "data": {
            "text/plain": [
              "<Figure size 1500x1000 with 4 Axes>"
            ],
            "image/png": "[encoded data removed]"
          },
          "metadata": {}
        }
      ],
      "source": [
        "# get the final metrics\n",
        "metrics_val.run(test_labels, valid_preds, \"augmented data\")\n",
        "metrics_val.plot()"
      ],
      "id": "M1us2z7h41Lm"
    },
    {
      "cell_type": "markdown",
      "metadata": {
        "id": "maUjjICp7FM7"
      },
      "source": [
        "### Data Augmentation: Synonyms from WordNet\n",
        "\n",
        "I didn't choose to work with WordNet packages in the beginning, as far as synonyms look kind of random and don't usually properly reflect the meaning of the word (probably because of multiple meanings) and don't consider the context. But as far as I couldn't manually assign synonyms to all (or at least many) tokens, I decided to try WordNet as well.\n",
        "\n",
        "So the second approach is to rendomly change 30% of the tokens in the comments (I tried different shares, 30% performed better) and add 32*20 (tried different numbers as well) new rows."
      ],
      "id": "maUjjICp7FM7"
    },
    {
      "cell_type": "code",
      "execution_count": null,
      "metadata": {
        "colab": {
          "base_uri": "https://localhost:8080/"
        },
        "id": "J3nkO0cReia2",
        "outputId": "2470db7d-7a8e-4218-d6e2-fc32679abe6c"
      },
      "outputs": [
        {
          "output_type": "stream",
          "name": "stderr",
          "text": [
            "<ipython-input-140-a44f8c0859a0>:33: FutureWarning: The frame.append method is deprecated and will be removed from pandas in a future version. Use pandas.concat instead.\n",
            "  new_rows = new_rows.append(new_row, ignore_index=True)\n"
          ]
        },
        {
          "output_type": "stream",
          "name": "stdout",
          "text": [
            "                                                text label text_length  \\\n",
            "0  Ever something unbelievable, strange or weird ...     1          18   \n",
            "1  Ever something unbelievable, strange or weird ...     1          18   \n",
            "2  Ever something unbelievable, strange or weird ...     1          18   \n",
            "3  Ever something unbelievable, strange or weird ...     1          18   \n",
            "4  Ever something unbelievable, strange or weird ...     1          18   \n",
            "\n",
            "                                          clean_text clean_emotions hashtag  \\\n",
            "0  ever something unbelievable , strange or weird...                          \n",
            "1  ever something unbelievable , strange or Weird...                          \n",
            "2  e'er something unbelievable , strange or weird...                          \n",
            "3  always something unbelievable , strange or wei...                          \n",
            "4  ever something unbelievable , strange or uncan...                          \n",
            "\n",
            "                                        text_emotion  \n",
            "0  ever something unbelievable , strange or weird...  \n",
            "1  ever something unbelievable , strange or weird...  \n",
            "2  ever something unbelievable , strange or weird...  \n",
            "3  ever something unbelievable , strange or weird...  \n",
            "4  ever something unbelievable , strange or weird...  \n"
          ]
        }
      ],
      "source": [
        "# Function to get synonyms from WordNet\n",
        "def get_wordnet_synonyms(word):\n",
        "    synonyms = []\n",
        "    for syn in wordnet.synsets(word):\n",
        "        for lemma in syn.lemmas():\n",
        "            synonyms.append(lemma.name())\n",
        "    return synonyms\n",
        "\n",
        "# Function to replace random words with WordNet synonyms\n",
        "def replace_with_synonym_wordnet(text):\n",
        "    words = text.split()\n",
        "    for i, word in enumerate(words):\n",
        "        # Randomly decide whether to replace the word with a synonym\n",
        "        if random.random() < 0.3:  # Adjust the probability as needed\n",
        "            # Get WordNet synonyms for the word\n",
        "            synonyms = get_wordnet_synonyms(word)\n",
        "            if synonyms:\n",
        "                # Randomly select a synonym\n",
        "                new_word = random.choice(synonyms)\n",
        "                # Replace the word with the selected synonym\n",
        "                words[i] = new_word\n",
        "    return ' '.join(words)\n",
        "\n",
        "# Duplicate each row and replace random words with WordNet synonyms\n",
        "new_rows = pd.DataFrame(columns=df_train_32.columns)\n",
        "for idx, row in df_train_32.iterrows():\n",
        "    for _ in range(20):  # Duplicate 20 times - can be adjusted as needed\n",
        "        # Duplicate the row\n",
        "        new_row = row.copy()\n",
        "        # Replace random words in the 'clean_text' column with WordNet synonyms\n",
        "        new_row['clean_text'] = replace_with_synonym_wordnet(row['clean_text'])\n",
        "        # Append the new row to the DataFrame\n",
        "        new_rows = new_rows.append(new_row, ignore_index=True)\n",
        "\n",
        "# Display the new DataFrame with duplicated rows and random word replacements\n",
        "print(new_rows.head())\n"
      ],
      "id": "J3nkO0cReia2"
    },
    {
      "cell_type": "markdown",
      "metadata": {
        "id": "B4gU3x1m8mgs"
      },
      "source": [
        "From the printed first rows you actually may see (comparing text and clean text, which was duplicated), that synonyms are kind of weird."
      ],
      "id": "B4gU3x1m8mgs"
    },
    {
      "cell_type": "code",
      "execution_count": null,
      "metadata": {
        "colab": {
          "base_uri": "https://localhost:8080/"
        },
        "id": "uzI6ZapfetJW",
        "outputId": "89c441c4-ef34-4c22-e67b-a9bfd0941a66"
      },
      "outputs": [
        {
          "output_type": "stream",
          "name": "stdout",
          "text": [
            "(672, 7)\n"
          ]
        }
      ],
      "source": [
        "# Add new_rows to df_train_32\n",
        "augmented_df = pd.concat([df_train_32, new_rows], ignore_index=True)\n",
        "\n",
        "# Display the augmented DataFrame\n",
        "print(augmented_df.shape)"
      ],
      "id": "uzI6ZapfetJW"
    },
    {
      "cell_type": "code",
      "execution_count": null,
      "metadata": {
        "id": "V2HDeVT7gG2U"
      },
      "outputs": [],
      "source": [
        "augmented_df_data = augmented_df['clean_text']\n",
        "augmented_df_label = augmented_df['label']"
      ],
      "id": "V2HDeVT7gG2U"
    },
    {
      "cell_type": "code",
      "execution_count": null,
      "metadata": {
        "id": "bFw8RHyEgQiL"
      },
      "outputs": [],
      "source": [
        "enc = OneHotEncoder(handle_unknown='ignore')\n",
        "y_train = enc.fit_transform(np.array(augmented_df_label).reshape(-1, 1)).toarray()"
      ],
      "id": "bFw8RHyEgQiL"
    },
    {
      "cell_type": "code",
      "execution_count": null,
      "metadata": {
        "colab": {
          "base_uri": "https://localhost:8080/"
        },
        "id": "oPXp7MObgaSi",
        "outputId": "c09d7f85-7489-4c70-d72b-6ca6ba43525b"
      },
      "outputs": [
        {
          "output_type": "stream",
          "name": "stderr",
          "text": [
            "\n",
            "\n",
            "\n",
            "Epoch:   0%|          | 0/21 [00:00<?, ?it/s]\u001b[A\u001b[A\u001b[A"
          ]
        },
        {
          "output_type": "stream",
          "name": "stdout",
          "text": [
            "Epoch 1/10\n"
          ]
        },
        {
          "output_type": "stream",
          "name": "stderr",
          "text": [
            "WARNING:tensorflow:Gradients do not exist for variables ['tf_roberta_model_1/roberta/pooler/dense/kernel:0', 'tf_roberta_model_1/roberta/pooler/dense/bias:0'] when minimizing the loss. If you're using `model.compile()`, did you forget to provide a `loss` argument?\n",
            "WARNING:tensorflow:Gradients do not exist for variables ['tf_roberta_model_1/roberta/pooler/dense/kernel:0', 'tf_roberta_model_1/roberta/pooler/dense/bias:0'] when minimizing the loss. If you're using `model.compile()`, did you forget to provide a `loss` argument?\n",
            "WARNING:tensorflow:Gradients do not exist for variables ['tf_roberta_model_1/roberta/pooler/dense/kernel:0', 'tf_roberta_model_1/roberta/pooler/dense/bias:0'] when minimizing the loss. If you're using `model.compile()`, did you forget to provide a `loss` argument?\n",
            "WARNING:tensorflow:Gradients do not exist for variables ['tf_roberta_model_1/roberta/pooler/dense/kernel:0', 'tf_roberta_model_1/roberta/pooler/dense/bias:0'] when minimizing the loss. If you're using `model.compile()`, did you forget to provide a `loss` argument?\n",
            "\n",
            "\n",
            "\n",
            "Epoch:   5%|▍         | 1/21 [00:24<08:03, 24.20s/it]\u001b[A\u001b[A\u001b[A"
          ]
        },
        {
          "output_type": "stream",
          "name": "stdout",
          "text": [
            "\r 1/21 [>.............................] - ETA: 12:39 - loss: 0.0058 - recall_3: 1.0000 - precision_3: 1.0000"
          ]
        },
        {
          "output_type": "stream",
          "name": "stderr",
          "text": [
            "\n",
            "\n",
            "\n",
            "Epoch:  14%|█▍        | 3/21 [00:38<03:25, 11.41s/it]\u001b[A\u001b[A\u001b[A"
          ]
        },
        {
          "output_type": "stream",
          "name": "stdout",
          "text": [
            "\b\b\b\b\b\b\b\b\b\b\b\b\b\b\b\b\b\b\b\b\b\b\b\b\b\b\b\b\b\b\b\b\b\b\b\b\b\b\b\b\b\b\b\b\b\b\b\b\b\b\b\b\b\b\b\b\b\b\b\b\b\b\b\b\b\b\b\b\b\b\b\b\b\b\b\b\b\b\b\b\b\b\b\b\b\b\b\b\b\b\b\b\b\b\b\b\b\b\b\b\b\b\b\b\b\b\b\r 2/21 [=>............................] - ETA: 6s - loss: 0.0771 - recall_3: 0.9688 - precision_3: 0.9688   "
          ]
        },
        {
          "output_type": "stream",
          "name": "stderr",
          "text": [
            "\n",
            "\n",
            "\n",
            "Epoch:  19%|█▉        | 4/21 [00:38<02:08,  7.58s/it]\u001b[A\u001b[A\u001b[A"
          ]
        },
        {
          "output_type": "stream",
          "name": "stdout",
          "text": [
            "\b\b\b\b\b\b\b\b\b\b\b\b\b\b\b\b\b\b\b\b\b\b\b\b\b\b\b\b\b\b\b\b\b\b\b\b\b\b\b\b\b\b\b\b\b\b\b\b\b\b\b\b\b\b\b\b\b\b\b\b\b\b\b\b\b\b\b\b\b\b\b\b\b\b\b\b\b\b\b\b\b\b\b\b\b\b\b\b\b\b\b\b\b\b\b\b\b\b\b\b\b\b\b\b\r 3/21 [===>..........................] - ETA: 6s - loss: 0.0971 - recall_3: 0.9688 - precision_3: 0.9688"
          ]
        },
        {
          "output_type": "stream",
          "name": "stderr",
          "text": [
            "\n",
            "\n",
            "\n",
            "Epoch:  24%|██▍       | 5/21 [00:38<01:23,  5.19s/it]\u001b[A\u001b[A\u001b[A"
          ]
        },
        {
          "output_type": "stream",
          "name": "stdout",
          "text": [
            "\b\b\b\b\b\b\b\b\b\b\b\b\b\b\b\b\b\b\b\b\b\b\b\b\b\b\b\b\b\b\b\b\b\b\b\b\b\b\b\b\b\b\b\b\b\b\b\b\b\b\b\b\b\b\b\b\b\b\b\b\b\b\b\b\b\b\b\b\b\b\b\b\b\b\b\b\b\b\b\b\b\b\b\b\b\b\b\b\b\b\b\b\b\b\b\b\b\b\b\b\b\b\b\b\r 4/21 [====>.........................] - ETA: 5s - loss: 0.0815 - recall_3: 0.9688 - precision_3: 0.9688"
          ]
        },
        {
          "output_type": "stream",
          "name": "stderr",
          "text": [
            "\n",
            "\n",
            "\n",
            "Epoch:  29%|██▊       | 6/21 [00:39<00:54,  3.64s/it]\u001b[A\u001b[A\u001b[A"
          ]
        },
        {
          "output_type": "stream",
          "name": "stdout",
          "text": [
            "\b\b\b\b\b\b\b\b\b\b\b\b\b\b\b\b\b\b\b\b\b\b\b\b\b\b\b\b\b\b\b\b\b\b\b\b\b\b\b\b\b\b\b\b\b\b\b\b\b\b\b\b\b\b\b\b\b\b\b\b\b\b\b\b\b\b\b\b\b\b\b\b\b\b\b\b\b\b\b\b\b\b\b\b\b\b\b\b\b\b\b\b\b\b\b\b\b\b\b\b\b\b\b\b\r 5/21 [======>.......................] - ETA: 5s - loss: 0.0687 - recall_3: 0.9750 - precision_3: 0.9750"
          ]
        },
        {
          "output_type": "stream",
          "name": "stderr",
          "text": [
            "\n",
            "\n",
            "\n",
            "Epoch:  33%|███▎      | 7/21 [00:39<00:36,  2.58s/it]\u001b[A\u001b[A\u001b[A"
          ]
        },
        {
          "output_type": "stream",
          "name": "stdout",
          "text": [
            "\b\b\b\b\b\b\b\b\b\b\b\b\b\b\b\b\b\b\b\b\b\b\b\b\b\b\b\b\b\b\b\b\b\b\b\b\b\b\b\b\b\b\b\b\b\b\b\b\b\b\b\b\b\b\b\b\b\b\b\b\b\b\b\b\b\b\b\b\b\b\b\b\b\b\b\b\b\b\b\b\b\b\b\b\b\b\b\b\b\b\b\b\b\b\b\b\b\b\b\b\b\b\b\b\r 6/21 [=======>......................] - ETA: 4s - loss: 0.0618 - recall_3: 0.9740 - precision_3: 0.9740"
          ]
        },
        {
          "output_type": "stream",
          "name": "stderr",
          "text": [
            "\n",
            "\n",
            "\n",
            "Epoch:  38%|███▊      | 8/21 [00:39<00:24,  1.87s/it]\u001b[A\u001b[A\u001b[A"
          ]
        },
        {
          "output_type": "stream",
          "name": "stdout",
          "text": [
            "\b\b\b\b\b\b\b\b\b\b\b\b\b\b\b\b\b\b\b\b\b\b\b\b\b\b\b\b\b\b\b\b\b\b\b\b\b\b\b\b\b\b\b\b\b\b\b\b\b\b\b\b\b\b\b\b\b\b\b\b\b\b\b\b\b\b\b\b\b\b\b\b\b\b\b\b\b\b\b\b\b\b\b\b\b\b\b\b\b\b\b\b\b\b\b\b\b\b\b\b\b\b\b\b\r 7/21 [=========>....................] - ETA: 4s - loss: 0.0534 - recall_3: 0.9777 - precision_3: 0.9777"
          ]
        },
        {
          "output_type": "stream",
          "name": "stderr",
          "text": [
            "\n",
            "\n",
            "\n",
            "Epoch:  43%|████▎     | 9/21 [00:39<00:16,  1.38s/it]\u001b[A\u001b[A\u001b[A"
          ]
        },
        {
          "output_type": "stream",
          "name": "stdout",
          "text": [
            "\b\b\b\b\b\b\b\b\b\b\b\b\b\b\b\b\b\b\b\b\b\b\b\b\b\b\b\b\b\b\b\b\b\b\b\b\b\b\b\b\b\b\b\b\b\b\b\b\b\b\b\b\b\b\b\b\b\b\b\b\b\b\b\b\b\b\b\b\b\b\b\b\b\b\b\b\b\b\b\b\b\b\b\b\b\b\b\b\b\b\b\b\b\b\b\b\b\b\b\b\b\b\b\b\r 8/21 [==========>...................] - ETA: 3s - loss: 0.0635 - recall_3: 0.9766 - precision_3: 0.9766"
          ]
        },
        {
          "output_type": "stream",
          "name": "stderr",
          "text": [
            "\n",
            "\n",
            "\n",
            "Epoch:  48%|████▊     | 10/21 [00:40<00:11,  1.04s/it]\u001b[A\u001b[A\u001b[A"
          ]
        },
        {
          "output_type": "stream",
          "name": "stdout",
          "text": [
            "\b\b\b\b\b\b\b\b\b\b\b\b\b\b\b\b\b\b\b\b\b\b\b\b\b\b\b\b\b\b\b\b\b\b\b\b\b\b\b\b\b\b\b\b\b\b\b\b\b\b\b\b\b\b\b\b\b\b\b\b\b\b\b\b\b\b\b\b\b\b\b\b\b\b\b\b\b\b\b\b\b\b\b\b\b\b\b\b\b\b\b\b\b\b\b\b\b\b\b\b\b\b\b\b\r 9/21 [===========>..................] - ETA: 3s - loss: 0.0571 - recall_3: 0.9792 - precision_3: 0.9792"
          ]
        },
        {
          "output_type": "stream",
          "name": "stderr",
          "text": [
            "\n",
            "\n",
            "\n",
            "Epoch:  52%|█████▏    | 11/21 [00:40<00:08,  1.25it/s]\u001b[A\u001b[A\u001b[A"
          ]
        },
        {
          "output_type": "stream",
          "name": "stdout",
          "text": [
            "\b\b\b\b\b\b\b\b\b\b\b\b\b\b\b\b\b\b\b\b\b\b\b\b\b\b\b\b\b\b\b\b\b\b\b\b\b\b\b\b\b\b\b\b\b\b\b\b\b\b\b\b\b\b\b\b\b\b\b\b\b\b\b\b\b\b\b\b\b\b\b\b\b\b\b\b\b\b\b\b\b\b\b\b\b\b\b\b\b\b\b\b\b\b\b\b\b\b\b\b\b\b\b\b\r10/21 [=============>................] - ETA: 3s - loss: 0.0517 - recall_3: 0.9812 - precision_3: 0.9812"
          ]
        },
        {
          "output_type": "stream",
          "name": "stderr",
          "text": [
            "\n",
            "\n",
            "\n",
            "Epoch:  57%|█████▋    | 12/21 [00:40<00:06,  1.49it/s]\u001b[A\u001b[A\u001b[A"
          ]
        },
        {
          "output_type": "stream",
          "name": "stdout",
          "text": [
            "\b\b\b\b\b\b\b\b\b\b\b\b\b\b\b\b\b\b\b\b\b\b\b\b\b\b\b\b\b\b\b\b\b\b\b\b\b\b\b\b\b\b\b\b\b\b\b\b\b\b\b\b\b\b\b\b\b\b\b\b\b\b\b\b\b\b\b\b\b\b\b\b\b\b\b\b\b\b\b\b\b\b\b\b\b\b\b\b\b\b\b\b\b\b\b\b\b\b\b\b\b\b\b\b\r11/21 [==============>...............] - ETA: 3s - loss: 0.0471 - recall_3: 0.9830 - precision_3: 0.9830"
          ]
        },
        {
          "output_type": "stream",
          "name": "stderr",
          "text": [
            "\n",
            "\n",
            "\n",
            "Epoch:  62%|██████▏   | 13/21 [00:41<00:04,  1.82it/s]\u001b[A\u001b[A\u001b[A"
          ]
        },
        {
          "output_type": "stream",
          "name": "stdout",
          "text": [
            "\b\b\b\b\b\b\b\b\b\b\b\b\b\b\b\b\b\b\b\b\b\b\b\b\b\b\b\b\b\b\b\b\b\b\b\b\b\b\b\b\b\b\b\b\b\b\b\b\b\b\b\b\b\b\b\b\b\b\b\b\b\b\b\b\b\b\b\b\b\b\b\b\b\b\b\b\b\b\b\b\b\b\b\b\b\b\b\b\b\b\b\b\b\b\b\b\b\b\b\b\b\b\b\b\r12/21 [================>.............] - ETA: 2s - loss: 0.0508 - recall_3: 0.9818 - precision_3: 0.9818"
          ]
        },
        {
          "output_type": "stream",
          "name": "stderr",
          "text": [
            "\n",
            "\n",
            "\n",
            "Epoch:  67%|██████▋   | 14/21 [00:41<00:03,  2.04it/s]\u001b[A\u001b[A\u001b[A"
          ]
        },
        {
          "output_type": "stream",
          "name": "stdout",
          "text": [
            "\b\b\b\b\b\b\b\b\b\b\b\b\b\b\b\b\b\b\b\b\b\b\b\b\b\b\b\b\b\b\b\b\b\b\b\b\b\b\b\b\b\b\b\b\b\b\b\b\b\b\b\b\b\b\b\b\b\b\b\b\b\b\b\b\b\b\b\b\b\b\b\b\b\b\b\b\b\b\b\b\b\b\b\b\b\b\b\b\b\b\b\b\b\b\b\b\b\b\b\b\b\b\b\b\r13/21 [=================>............] - ETA: 2s - loss: 0.0478 - recall_3: 0.9832 - precision_3: 0.9832"
          ]
        },
        {
          "output_type": "stream",
          "name": "stderr",
          "text": [
            "\n",
            "\n",
            "\n",
            "Epoch:  71%|███████▏  | 15/21 [00:41<00:02,  2.35it/s]\u001b[A\u001b[A\u001b[A"
          ]
        },
        {
          "output_type": "stream",
          "name": "stdout",
          "text": [
            "\b\b\b\b\b\b\b\b\b\b\b\b\b\b\b\b\b\b\b\b\b\b\b\b\b\b\b\b\b\b\b\b\b\b\b\b\b\b\b\b\b\b\b\b\b\b\b\b\b\b\b\b\b\b\b\b\b\b\b\b\b\b\b\b\b\b\b\b\b\b\b\b\b\b\b\b\b\b\b\b\b\b\b\b\b\b\b\b\b\b\b\b\b\b\b\b\b\b\b\b\b\b\b\b\r14/21 [===================>..........] - ETA: 2s - loss: 0.0490 - recall_3: 0.9821 - precision_3: 0.9821"
          ]
        },
        {
          "output_type": "stream",
          "name": "stderr",
          "text": [
            "\n",
            "\n",
            "\n",
            "Epoch:  76%|███████▌  | 16/21 [00:42<00:01,  2.66it/s]\u001b[A\u001b[A\u001b[A"
          ]
        },
        {
          "output_type": "stream",
          "name": "stdout",
          "text": [
            "\b\b\b\b\b\b\b\b\b\b\b\b\b\b\b\b\b\b\b\b\b\b\b\b\b\b\b\b\b\b\b\b\b\b\b\b\b\b\b\b\b\b\b\b\b\b\b\b\b\b\b\b\b\b\b\b\b\b\b\b\b\b\b\b\b\b\b\b\b\b\b\b\b\b\b\b\b\b\b\b\b\b\b\b\b\b\b\b\b\b\b\b\b\b\b\b\b\b\b\b\b\b\b\b\r15/21 [====================>.........] - ETA: 1s - loss: 0.0473 - recall_3: 0.9833 - precision_3: 0.9833"
          ]
        },
        {
          "output_type": "stream",
          "name": "stderr",
          "text": [
            "\n",
            "\n",
            "\n",
            "Epoch:  81%|████████  | 17/21 [00:42<00:01,  2.88it/s]\u001b[A\u001b[A\u001b[A"
          ]
        },
        {
          "output_type": "stream",
          "name": "stdout",
          "text": [
            "\b\b\b\b\b\b\b\b\b\b\b\b\b\b\b\b\b\b\b\b\b\b\b\b\b\b\b\b\b\b\b\b\b\b\b\b\b\b\b\b\b\b\b\b\b\b\b\b\b\b\b\b\b\b\b\b\b\b\b\b\b\b\b\b\b\b\b\b\b\b\b\b\b\b\b\b\b\b\b\b\b\b\b\b\b\b\b\b\b\b\b\b\b\b\b\b\b\b\b\b\b\b\b\b\r16/21 [=====================>........] - ETA: 1s - loss: 0.0463 - recall_3: 0.9824 - precision_3: 0.9824"
          ]
        },
        {
          "output_type": "stream",
          "name": "stderr",
          "text": [
            "\n",
            "\n",
            "\n",
            "Epoch:  86%|████████▌ | 18/21 [00:42<00:01,  2.85it/s]\u001b[A\u001b[A\u001b[A"
          ]
        },
        {
          "output_type": "stream",
          "name": "stdout",
          "text": [
            "\b\b\b\b\b\b\b\b\b\b\b\b\b\b\b\b\b\b\b\b\b\b\b\b\b\b\b\b\b\b\b\b\b\b\b\b\b\b\b\b\b\b\b\b\b\b\b\b\b\b\b\b\b\b\b\b\b\b\b\b\b\b\b\b\b\b\b\b\b\b\b\b\b\b\b\b\b\b\b\b\b\b\b\b\b\b\b\b\b\b\b\b\b\b\b\b\b\b\b\b\b\b\b\b\r17/21 [=======================>......] - ETA: 1s - loss: 0.0554 - recall_3: 0.9816 - precision_3: 0.9816"
          ]
        },
        {
          "output_type": "stream",
          "name": "stderr",
          "text": [
            "\n",
            "\n",
            "\n",
            "Epoch:  90%|█████████ | 19/21 [00:42<00:00,  3.06it/s]\u001b[A\u001b[A\u001b[A"
          ]
        },
        {
          "output_type": "stream",
          "name": "stdout",
          "text": [
            "\b\b\b\b\b\b\b\b\b\b\b\b\b\b\b\b\b\b\b\b\b\b\b\b\b\b\b\b\b\b\b\b\b\b\b\b\b\b\b\b\b\b\b\b\b\b\b\b\b\b\b\b\b\b\b\b\b\b\b\b\b\b\b\b\b\b\b\b\b\b\b\b\b\b\b\b\b\b\b\b\b\b\b\b\b\b\b\b\b\b\b\b\b\b\b\b\b\b\b\b\b\b\b\b\r18/21 [========================>.....] - ETA: 0s - loss: 0.0630 - recall_3: 0.9809 - precision_3: 0.9809"
          ]
        },
        {
          "output_type": "stream",
          "name": "stderr",
          "text": [
            "\n",
            "\n",
            "\n",
            "Epoch:  95%|█████████▌| 20/21 [00:43<00:00,  3.23it/s]\u001b[A\u001b[A\u001b[A"
          ]
        },
        {
          "output_type": "stream",
          "name": "stdout",
          "text": [
            "\b\b\b\b\b\b\b\b\b\b\b\b\b\b\b\b\b\b\b\b\b\b\b\b\b\b\b\b\b\b\b\b\b\b\b\b\b\b\b\b\b\b\b\b\b\b\b\b\b\b\b\b\b\b\b\b\b\b\b\b\b\b\b\b\b\b\b\b\b\b\b\b\b\b\b\b\b\b\b\b\b\b\b\b\b\b\b\b\b\b\b\b\b\b\b\b\b\b\b\b\b\b\b\b\r19/21 [==========================>...] - ETA: 0s - loss: 0.0606 - recall_3: 0.9819 - precision_3: 0.9819"
          ]
        },
        {
          "output_type": "stream",
          "name": "stderr",
          "text": [
            "\n",
            "\n",
            "\n",
            "Epoch: 100%|██████████| 21/21 [00:43<00:00,  3.37it/s]\u001b[A\u001b[A\u001b[A"
          ]
        },
        {
          "output_type": "stream",
          "name": "stdout",
          "text": [
            "\b\b\b\b\b\b\b\b\b\b\b\b\b\b\b\b\b\b\b\b\b\b\b\b\b\b\b\b\b\b\b\b\b\b\b\b\b\b\b\b\b\b\b\b\b\b\b\b\b\b\b\b\b\b\b\b\b\b\b\b\b\b\b\b\b\b\b\b\b\b\b\b\b\b\b\b\b\b\b\b\b\b\b\b\b\b\b\b\b\b\b\b\b\b\b\b\b\b\b\b\b\b\b\b\r20/21 [===========================>..] - ETA: 0s - loss: 0.0577 - recall_3: 0.9828 - precision_3: 0.9828"
          ]
        },
        {
          "output_type": "stream",
          "name": "stderr",
          "text": [
            "\n",
            "\n",
            "\n",
            "Epoch: 22it [00:43,  3.42it/s]                        \u001b[A\u001b[A\u001b[A"
          ]
        },
        {
          "output_type": "stream",
          "name": "stdout",
          "text": [
            "21/21 [==============================] - 44s 296ms/step - loss: 0.0561 - recall_3: 0.9836 - precision_3: 0.9836\n",
            "Epoch 2/10\n"
          ]
        },
        {
          "output_type": "stream",
          "name": "stderr",
          "text": [
            "\n",
            "\n",
            "\n",
            "Epoch: 23it [00:44,  3.46it/s]\u001b[A\u001b[A\u001b[A"
          ]
        },
        {
          "output_type": "stream",
          "name": "stdout",
          "text": [
            "\r 1/21 [>.............................] - ETA: 5s - loss: 0.0059 - recall_3: 1.0000 - precision_3: 1.0000"
          ]
        },
        {
          "output_type": "stream",
          "name": "stderr",
          "text": [
            "\n",
            "\n",
            "\n",
            "Epoch: 24it [00:44,  3.54it/s]\u001b[A\u001b[A\u001b[A"
          ]
        },
        {
          "output_type": "stream",
          "name": "stdout",
          "text": [
            "\b\b\b\b\b\b\b\b\b\b\b\b\b\b\b\b\b\b\b\b\b\b\b\b\b\b\b\b\b\b\b\b\b\b\b\b\b\b\b\b\b\b\b\b\b\b\b\b\b\b\b\b\b\b\b\b\b\b\b\b\b\b\b\b\b\b\b\b\b\b\b\b\b\b\b\b\b\b\b\b\b\b\b\b\b\b\b\b\b\b\b\b\b\b\b\b\b\b\b\b\b\b\b\b\r 2/21 [=>............................] - ETA: 5s - loss: 0.0067 - recall_3: 1.0000 - precision_3: 1.0000"
          ]
        },
        {
          "output_type": "stream",
          "name": "stderr",
          "text": [
            "\n",
            "\n",
            "\n",
            "Epoch: 25it [00:44,  3.60it/s]\u001b[A\u001b[A\u001b[A"
          ]
        },
        {
          "output_type": "stream",
          "name": "stdout",
          "text": [
            "\b\b\b\b\b\b\b\b\b\b\b\b\b\b\b\b\b\b\b\b\b\b\b\b\b\b\b\b\b\b\b\b\b\b\b\b\b\b\b\b\b\b\b\b\b\b\b\b\b\b\b\b\b\b\b\b\b\b\b\b\b\b\b\b\b\b\b\b\b\b\b\b\b\b\b\b\b\b\b\b\b\b\b\b\b\b\b\b\b\b\b\b\b\b\b\b\b\b\b\b\b\b\b\b\r 3/21 [===>..........................] - ETA: 4s - loss: 0.0051 - recall_3: 1.0000 - precision_3: 1.0000"
          ]
        },
        {
          "output_type": "stream",
          "name": "stderr",
          "text": [
            "\n",
            "\n",
            "\n",
            "Epoch: 26it [00:44,  3.63it/s]\u001b[A\u001b[A\u001b[A"
          ]
        },
        {
          "output_type": "stream",
          "name": "stdout",
          "text": [
            "\b\b\b\b\b\b\b\b\b\b\b\b\b\b\b\b\b\b\b\b\b\b\b\b\b\b\b\b\b\b\b\b\b\b\b\b\b\b\b\b\b\b\b\b\b\b\b\b\b\b\b\b\b\b\b\b\b\b\b\b\b\b\b\b\b\b\b\b\b\b\b\b\b\b\b\b\b\b\b\b\b\b\b\b\b\b\b\b\b\b\b\b\b\b\b\b\b\b\b\b\b\b\b\b\r 4/21 [====>.........................] - ETA: 4s - loss: 0.0097 - recall_3: 1.0000 - precision_3: 1.0000"
          ]
        },
        {
          "output_type": "stream",
          "name": "stderr",
          "text": [
            "\n",
            "\n",
            "\n",
            "Epoch: 27it [00:45,  3.63it/s]\u001b[A\u001b[A\u001b[A"
          ]
        },
        {
          "output_type": "stream",
          "name": "stdout",
          "text": [
            "\b\b\b\b\b\b\b\b\b\b\b\b\b\b\b\b\b\b\b\b\b\b\b\b\b\b\b\b\b\b\b\b\b\b\b\b\b\b\b\b\b\b\b\b\b\b\b\b\b\b\b\b\b\b\b\b\b\b\b\b\b\b\b\b\b\b\b\b\b\b\b\b\b\b\b\b\b\b\b\b\b\b\b\b\b\b\b\b\b\b\b\b\b\b\b\b\b\b\b\b\b\b\b\b\r 5/21 [======>.......................] - ETA: 4s - loss: 0.0084 - recall_3: 1.0000 - precision_3: 1.0000"
          ]
        },
        {
          "output_type": "stream",
          "name": "stderr",
          "text": [
            "\n",
            "\n",
            "\n",
            "Epoch: 28it [00:45,  3.66it/s]\u001b[A\u001b[A\u001b[A"
          ]
        },
        {
          "output_type": "stream",
          "name": "stdout",
          "text": [
            "\b\b\b\b\b\b\b\b\b\b\b\b\b\b\b\b\b\b\b\b\b\b\b\b\b\b\b\b\b\b\b\b\b\b\b\b\b\b\b\b\b\b\b\b\b\b\b\b\b\b\b\b\b\b\b\b\b\b\b\b\b\b\b\b\b\b\b\b\b\b\b\b\b\b\b\b\b\b\b\b\b\b\b\b\b\b\b\b\b\b\b\b\b\b\b\b\b\b\b\b\b\b\b\b\r 6/21 [=======>......................] - ETA: 4s - loss: 0.0083 - recall_3: 1.0000 - precision_3: 1.0000"
          ]
        },
        {
          "output_type": "stream",
          "name": "stderr",
          "text": [
            "\n",
            "\n",
            "\n",
            "Epoch: 29it [00:45,  3.72it/s]\u001b[A\u001b[A\u001b[A"
          ]
        },
        {
          "output_type": "stream",
          "name": "stdout",
          "text": [
            "\b\b\b\b\b\b\b\b\b\b\b\b\b\b\b\b\b\b\b\b\b\b\b\b\b\b\b\b\b\b\b\b\b\b\b\b\b\b\b\b\b\b\b\b\b\b\b\b\b\b\b\b\b\b\b\b\b\b\b\b\b\b\b\b\b\b\b\b\b\b\b\b\b\b\b\b\b\b\b\b\b\b\b\b\b\b\b\b\b\b\b\b\b\b\b\b\b\b\b\b\b\b\b\b\r 7/21 [=========>....................] - ETA: 3s - loss: 0.0078 - recall_3: 1.0000 - precision_3: 1.0000"
          ]
        },
        {
          "output_type": "stream",
          "name": "stderr",
          "text": [
            "\n",
            "\n",
            "\n",
            "Epoch: 30it [00:45,  3.68it/s]\u001b[A\u001b[A\u001b[A"
          ]
        },
        {
          "output_type": "stream",
          "name": "stdout",
          "text": [
            "\b\b\b\b\b\b\b\b\b\b\b\b\b\b\b\b\b\b\b\b\b\b\b\b\b\b\b\b\b\b\b\b\b\b\b\b\b\b\b\b\b\b\b\b\b\b\b\b\b\b\b\b\b\b\b\b\b\b\b\b\b\b\b\b\b\b\b\b\b\b\b\b\b\b\b\b\b\b\b\b\b\b\b\b\b\b\b\b\b\b\b\b\b\b\b\b\b\b\b\b\b\b\b\b\r 8/21 [==========>...................] - ETA: 3s - loss: 0.0072 - recall_3: 1.0000 - precision_3: 1.0000"
          ]
        },
        {
          "output_type": "stream",
          "name": "stderr",
          "text": [
            "\n",
            "\n",
            "\n",
            "Epoch: 31it [00:46,  3.66it/s]\u001b[A\u001b[A\u001b[A"
          ]
        },
        {
          "output_type": "stream",
          "name": "stdout",
          "text": [
            "\b\b\b\b\b\b\b\b\b\b\b\b\b\b\b\b\b\b\b\b\b\b\b\b\b\b\b\b\b\b\b\b\b\b\b\b\b\b\b\b\b\b\b\b\b\b\b\b\b\b\b\b\b\b\b\b\b\b\b\b\b\b\b\b\b\b\b\b\b\b\b\b\b\b\b\b\b\b\b\b\b\b\b\b\b\b\b\b\b\b\b\b\b\b\b\b\b\b\b\b\b\b\b\b\r 9/21 [===========>..................] - ETA: 3s - loss: 0.0066 - recall_3: 1.0000 - precision_3: 1.0000"
          ]
        },
        {
          "output_type": "stream",
          "name": "stderr",
          "text": [
            "\n",
            "\n",
            "\n",
            "Epoch: 32it [00:46,  3.65it/s]\u001b[A\u001b[A\u001b[A"
          ]
        },
        {
          "output_type": "stream",
          "name": "stdout",
          "text": [
            "\b\b\b\b\b\b\b\b\b\b\b\b\b\b\b\b\b\b\b\b\b\b\b\b\b\b\b\b\b\b\b\b\b\b\b\b\b\b\b\b\b\b\b\b\b\b\b\b\b\b\b\b\b\b\b\b\b\b\b\b\b\b\b\b\b\b\b\b\b\b\b\b\b\b\b\b\b\b\b\b\b\b\b\b\b\b\b\b\b\b\b\b\b\b\b\b\b\b\b\b\b\b\b\b\r10/21 [=============>................] - ETA: 2s - loss: 0.0067 - recall_3: 1.0000 - precision_3: 1.0000"
          ]
        },
        {
          "output_type": "stream",
          "name": "stderr",
          "text": [
            "\n",
            "\n",
            "\n",
            "Epoch: 33it [00:46,  3.71it/s]\u001b[A\u001b[A\u001b[A"
          ]
        },
        {
          "output_type": "stream",
          "name": "stdout",
          "text": [
            "\b\b\b\b\b\b\b\b\b\b\b\b\b\b\b\b\b\b\b\b\b\b\b\b\b\b\b\b\b\b\b\b\b\b\b\b\b\b\b\b\b\b\b\b\b\b\b\b\b\b\b\b\b\b\b\b\b\b\b\b\b\b\b\b\b\b\b\b\b\b\b\b\b\b\b\b\b\b\b\b\b\b\b\b\b\b\b\b\b\b\b\b\b\b\b\b\b\b\b\b\b\b\b\b\r11/21 [==============>...............] - ETA: 2s - loss: 0.0062 - recall_3: 1.0000 - precision_3: 1.0000"
          ]
        },
        {
          "output_type": "stream",
          "name": "stderr",
          "text": [
            "\n",
            "\n",
            "\n",
            "Epoch: 34it [00:46,  3.68it/s]\u001b[A\u001b[A\u001b[A"
          ]
        },
        {
          "output_type": "stream",
          "name": "stdout",
          "text": [
            "\b\b\b\b\b\b\b\b\b\b\b\b\b\b\b\b\b\b\b\b\b\b\b\b\b\b\b\b\b\b\b\b\b\b\b\b\b\b\b\b\b\b\b\b\b\b\b\b\b\b\b\b\b\b\b\b\b\b\b\b\b\b\b\b\b\b\b\b\b\b\b\b\b\b\b\b\b\b\b\b\b\b\b\b\b\b\b\b\b\b\b\b\b\b\b\b\b\b\b\b\b\b\b\b\r12/21 [================>.............] - ETA: 2s - loss: 0.0060 - recall_3: 1.0000 - precision_3: 1.0000"
          ]
        },
        {
          "output_type": "stream",
          "name": "stderr",
          "text": [
            "\n",
            "\n",
            "\n",
            "Epoch: 35it [00:47,  3.65it/s]\u001b[A\u001b[A\u001b[A"
          ]
        },
        {
          "output_type": "stream",
          "name": "stdout",
          "text": [
            "\b\b\b\b\b\b\b\b\b\b\b\b\b\b\b\b\b\b\b\b\b\b\b\b\b\b\b\b\b\b\b\b\b\b\b\b\b\b\b\b\b\b\b\b\b\b\b\b\b\b\b\b\b\b\b\b\b\b\b\b\b\b\b\b\b\b\b\b\b\b\b\b\b\b\b\b\b\b\b\b\b\b\b\b\b\b\b\b\b\b\b\b\b\b\b\b\b\b\b\b\b\b\b\b\r13/21 [=================>............] - ETA: 2s - loss: 0.0216 - recall_3: 0.9952 - precision_3: 0.9952"
          ]
        },
        {
          "output_type": "stream",
          "name": "stderr",
          "text": [
            "\n",
            "\n",
            "\n",
            "Epoch: 36it [00:47,  3.36it/s]\u001b[A\u001b[A\u001b[A"
          ]
        },
        {
          "output_type": "stream",
          "name": "stdout",
          "text": [
            "\b\b\b\b\b\b\b\b\b\b\b\b\b\b\b\b\b\b\b\b\b\b\b\b\b\b\b\b\b\b\b\b\b\b\b\b\b\b\b\b\b\b\b\b\b\b\b\b\b\b\b\b\b\b\b\b\b\b\b\b\b\b\b\b\b\b\b\b\b\b\b\b\b\b\b\b\b\b\b\b\b\b\b\b\b\b\b\b\b\b\b\b\b\b\b\b\b\b\b\b\b\b\b\b\r14/21 [===================>..........] - ETA: 1s - loss: 0.0202 - recall_3: 0.9955 - precision_3: 0.9955"
          ]
        },
        {
          "output_type": "stream",
          "name": "stderr",
          "text": [
            "\n",
            "\n",
            "\n",
            "Epoch: 37it [00:47,  3.47it/s]\u001b[A\u001b[A\u001b[A"
          ]
        },
        {
          "output_type": "stream",
          "name": "stdout",
          "text": [
            "\b\b\b\b\b\b\b\b\b\b\b\b\b\b\b\b\b\b\b\b\b\b\b\b\b\b\b\b\b\b\b\b\b\b\b\b\b\b\b\b\b\b\b\b\b\b\b\b\b\b\b\b\b\b\b\b\b\b\b\b\b\b\b\b\b\b\b\b\b\b\b\b\b\b\b\b\b\b\b\b\b\b\b\b\b\b\b\b\b\b\b\b\b\b\b\b\b\b\b\b\b\b\b\b\r15/21 [====================>.........] - ETA: 1s - loss: 0.0190 - recall_3: 0.9958 - precision_3: 0.9958"
          ]
        },
        {
          "output_type": "stream",
          "name": "stderr",
          "text": [
            "\n",
            "\n",
            "\n",
            "Epoch: 38it [00:48,  3.55it/s]\u001b[A\u001b[A\u001b[A"
          ]
        },
        {
          "output_type": "stream",
          "name": "stdout",
          "text": [
            "\b\b\b\b\b\b\b\b\b\b\b\b\b\b\b\b\b\b\b\b\b\b\b\b\b\b\b\b\b\b\b\b\b\b\b\b\b\b\b\b\b\b\b\b\b\b\b\b\b\b\b\b\b\b\b\b\b\b\b\b\b\b\b\b\b\b\b\b\b\b\b\b\b\b\b\b\b\b\b\b\b\b\b\b\b\b\b\b\b\b\b\b\b\b\b\b\b\b\b\b\b\b\b\b\r16/21 [=====================>........] - ETA: 1s - loss: 0.0210 - recall_3: 0.9941 - precision_3: 0.9941"
          ]
        },
        {
          "output_type": "stream",
          "name": "stderr",
          "text": [
            "\n",
            "\n",
            "\n",
            "Epoch: 39it [00:48,  3.64it/s]\u001b[A\u001b[A\u001b[A"
          ]
        },
        {
          "output_type": "stream",
          "name": "stdout",
          "text": [
            "\b\b\b\b\b\b\b\b\b\b\b\b\b\b\b\b\b\b\b\b\b\b\b\b\b\b\b\b\b\b\b\b\b\b\b\b\b\b\b\b\b\b\b\b\b\b\b\b\b\b\b\b\b\b\b\b\b\b\b\b\b\b\b\b\b\b\b\b\b\b\b\b\b\b\b\b\b\b\b\b\b\b\b\b\b\b\b\b\b\b\b\b\b\b\b\b\b\b\b\b\b\b\b\b\r17/21 [=======================>......] - ETA: 1s - loss: 0.0200 - recall_3: 0.9945 - precision_3: 0.9945"
          ]
        },
        {
          "output_type": "stream",
          "name": "stderr",
          "text": [
            "\n",
            "\n",
            "\n",
            "Epoch: 40it [00:48,  3.61it/s]\u001b[A\u001b[A\u001b[A"
          ]
        },
        {
          "output_type": "stream",
          "name": "stdout",
          "text": [
            "\b\b\b\b\b\b\b\b\b\b\b\b\b\b\b\b\b\b\b\b\b\b\b\b\b\b\b\b\b\b\b\b\b\b\b\b\b\b\b\b\b\b\b\b\b\b\b\b\b\b\b\b\b\b\b\b\b\b\b\b\b\b\b\b\b\b\b\b\b\b\b\b\b\b\b\b\b\b\b\b\b\b\b\b\b\b\b\b\b\b\b\b\b\b\b\b\b\b\b\b\b\b\b\b\r18/21 [========================>.....] - ETA: 0s - loss: 0.0189 - recall_3: 0.9948 - precision_3: 0.9948"
          ]
        },
        {
          "output_type": "stream",
          "name": "stderr",
          "text": [
            "\n",
            "\n",
            "\n",
            "Epoch: 41it [00:48,  3.66it/s]\u001b[A\u001b[A\u001b[A"
          ]
        },
        {
          "output_type": "stream",
          "name": "stdout",
          "text": [
            "\b\b\b\b\b\b\b\b\b\b\b\b\b\b\b\b\b\b\b\b\b\b\b\b\b\b\b\b\b\b\b\b\b\b\b\b\b\b\b\b\b\b\b\b\b\b\b\b\b\b\b\b\b\b\b\b\b\b\b\b\b\b\b\b\b\b\b\b\b\b\b\b\b\b\b\b\b\b\b\b\b\b\b\b\b\b\b\b\b\b\b\b\b\b\b\b\b\b\b\b\b\b\b\b\r19/21 [==========================>...] - ETA: 0s - loss: 0.0180 - recall_3: 0.9951 - precision_3: 0.9951"
          ]
        },
        {
          "output_type": "stream",
          "name": "stderr",
          "text": [
            "\n",
            "\n",
            "\n",
            "Epoch: 42it [00:49,  3.66it/s]\u001b[A\u001b[A\u001b[A"
          ]
        },
        {
          "output_type": "stream",
          "name": "stdout",
          "text": [
            "\b\b\b\b\b\b\b\b\b\b\b\b\b\b\b\b\b\b\b\b\b\b\b\b\b\b\b\b\b\b\b\b\b\b\b\b\b\b\b\b\b\b\b\b\b\b\b\b\b\b\b\b\b\b\b\b\b\b\b\b\b\b\b\b\b\b\b\b\b\b\b\b\b\b\b\b\b\b\b\b\b\b\b\b\b\b\b\b\b\b\b\b\b\b\b\b\b\b\b\b\b\b\b\b\r20/21 [===========================>..] - ETA: 0s - loss: 0.0173 - recall_3: 0.9953 - precision_3: 0.9953"
          ]
        },
        {
          "output_type": "stream",
          "name": "stderr",
          "text": [
            "\n",
            "\n",
            "\n",
            "Epoch: 43it [00:49,  3.72it/s]\u001b[A\u001b[A\u001b[A"
          ]
        },
        {
          "output_type": "stream",
          "name": "stdout",
          "text": [
            "21/21 [==============================] - 6s 275ms/step - loss: 0.0165 - recall_3: 0.9955 - precision_3: 0.9955\n",
            "Epoch 3/10\n"
          ]
        },
        {
          "output_type": "stream",
          "name": "stderr",
          "text": [
            "\n",
            "\n",
            "\n",
            "Epoch: 44it [00:49,  3.64it/s]\u001b[A\u001b[A\u001b[A"
          ]
        },
        {
          "output_type": "stream",
          "name": "stdout",
          "text": [
            "\r 1/21 [>.............................] - ETA: 5s - loss: 5.4132e-04 - recall_3: 1.0000 - precision_3: 1.0000"
          ]
        },
        {
          "output_type": "stream",
          "name": "stderr",
          "text": [
            "\n",
            "\n",
            "\n",
            "Epoch: 45it [00:50,  3.70it/s]\u001b[A\u001b[A\u001b[A"
          ]
        },
        {
          "output_type": "stream",
          "name": "stdout",
          "text": [
            "\b\b\b\b\b\b\b\b\b\b\b\b\b\b\b\b\b\b\b\b\b\b\b\b\b\b\b\b\b\b\b\b\b\b\b\b\b\b\b\b\b\b\b\b\b\b\b\b\b\b\b\b\b\b\b\b\b\b\b\b\b\b\b\b\b\b\b\b\b\b\b\b\b\b\b\b\b\b\b\b\b\b\b\b\b\b\b\b\b\b\b\b\b\b\b\b\b\b\b\b\b\b\b\b\b\b\b\b\r 2/21 [=>............................] - ETA: 5s - loss: 5.9913e-04 - recall_3: 1.0000 - precision_3: 1.0000"
          ]
        },
        {
          "output_type": "stream",
          "name": "stderr",
          "text": [
            "\n",
            "\n",
            "\n",
            "Epoch: 46it [00:50,  3.69it/s]\u001b[A\u001b[A\u001b[A"
          ]
        },
        {
          "output_type": "stream",
          "name": "stdout",
          "text": [
            "\b\b\b\b\b\b\b\b\b\b\b\b\b\b\b\b\b\b\b\b\b\b\b\b\b\b\b\b\b\b\b\b\b\b\b\b\b\b\b\b\b\b\b\b\b\b\b\b\b\b\b\b\b\b\b\b\b\b\b\b\b\b\b\b\b\b\b\b\b\b\b\b\b\b\b\b\b\b\b\b\b\b\b\b\b\b\b\b\b\b\b\b\b\b\b\b\b\b\b\b\b\b\b\b\b\b\b\b\r 3/21 [===>..........................] - ETA: 4s - loss: 0.0032 - recall_3: 1.0000 - precision_3: 1.0000    "
          ]
        },
        {
          "output_type": "stream",
          "name": "stderr",
          "text": [
            "\n",
            "\n",
            "\n",
            "Epoch: 47it [00:50,  3.70it/s]\u001b[A\u001b[A\u001b[A"
          ]
        },
        {
          "output_type": "stream",
          "name": "stdout",
          "text": [
            "\b\b\b\b\b\b\b\b\b\b\b\b\b\b\b\b\b\b\b\b\b\b\b\b\b\b\b\b\b\b\b\b\b\b\b\b\b\b\b\b\b\b\b\b\b\b\b\b\b\b\b\b\b\b\b\b\b\b\b\b\b\b\b\b\b\b\b\b\b\b\b\b\b\b\b\b\b\b\b\b\b\b\b\b\b\b\b\b\b\b\b\b\b\b\b\b\b\b\b\b\b\b\b\b\r 4/21 [====>.........................] - ETA: 4s - loss: 0.0026 - recall_3: 1.0000 - precision_3: 1.0000"
          ]
        },
        {
          "output_type": "stream",
          "name": "stderr",
          "text": [
            "\n",
            "\n",
            "\n",
            "Epoch: 48it [00:50,  3.67it/s]\u001b[A\u001b[A\u001b[A"
          ]
        },
        {
          "output_type": "stream",
          "name": "stdout",
          "text": [
            "\b\b\b\b\b\b\b\b\b\b\b\b\b\b\b\b\b\b\b\b\b\b\b\b\b\b\b\b\b\b\b\b\b\b\b\b\b\b\b\b\b\b\b\b\b\b\b\b\b\b\b\b\b\b\b\b\b\b\b\b\b\b\b\b\b\b\b\b\b\b\b\b\b\b\b\b\b\b\b\b\b\b\b\b\b\b\b\b\b\b\b\b\b\b\b\b\b\b\b\b\b\b\b\b\r 5/21 [======>.......................] - ETA: 4s - loss: 0.0022 - recall_3: 1.0000 - precision_3: 1.0000"
          ]
        },
        {
          "output_type": "stream",
          "name": "stderr",
          "text": [
            "\n",
            "\n",
            "\n",
            "Epoch: 49it [00:51,  3.69it/s]\u001b[A\u001b[A\u001b[A"
          ]
        },
        {
          "output_type": "stream",
          "name": "stdout",
          "text": [
            "\b\b\b\b\b\b\b\b\b\b\b\b\b\b\b\b\b\b\b\b\b\b\b\b\b\b\b\b\b\b\b\b\b\b\b\b\b\b\b\b\b\b\b\b\b\b\b\b\b\b\b\b\b\b\b\b\b\b\b\b\b\b\b\b\b\b\b\b\b\b\b\b\b\b\b\b\b\b\b\b\b\b\b\b\b\b\b\b\b\b\b\b\b\b\b\b\b\b\b\b\b\b\b\b\r 6/21 [=======>......................] - ETA: 4s - loss: 0.0019 - recall_3: 1.0000 - precision_3: 1.0000"
          ]
        },
        {
          "output_type": "stream",
          "name": "stderr",
          "text": [
            "\n",
            "\n",
            "\n",
            "Epoch: 50it [00:51,  3.69it/s]\u001b[A\u001b[A\u001b[A"
          ]
        },
        {
          "output_type": "stream",
          "name": "stdout",
          "text": [
            "\b\b\b\b\b\b\b\b\b\b\b\b\b\b\b\b\b\b\b\b\b\b\b\b\b\b\b\b\b\b\b\b\b\b\b\b\b\b\b\b\b\b\b\b\b\b\b\b\b\b\b\b\b\b\b\b\b\b\b\b\b\b\b\b\b\b\b\b\b\b\b\b\b\b\b\b\b\b\b\b\b\b\b\b\b\b\b\b\b\b\b\b\b\b\b\b\b\b\b\b\b\b\b\b\r 7/21 [=========>....................] - ETA: 3s - loss: 0.0017 - recall_3: 1.0000 - precision_3: 1.0000"
          ]
        },
        {
          "output_type": "stream",
          "name": "stderr",
          "text": [
            "\n",
            "\n",
            "\n",
            "Epoch: 51it [00:51,  3.73it/s]\u001b[A\u001b[A\u001b[A"
          ]
        },
        {
          "output_type": "stream",
          "name": "stdout",
          "text": [
            "\b\b\b\b\b\b\b\b\b\b\b\b\b\b\b\b\b\b\b\b\b\b\b\b\b\b\b\b\b\b\b\b\b\b\b\b\b\b\b\b\b\b\b\b\b\b\b\b\b\b\b\b\b\b\b\b\b\b\b\b\b\b\b\b\b\b\b\b\b\b\b\b\b\b\b\b\b\b\b\b\b\b\b\b\b\b\b\b\b\b\b\b\b\b\b\b\b\b\b\b\b\b\b\b\r 8/21 [==========>...................] - ETA: 3s - loss: 0.0015 - recall_3: 1.0000 - precision_3: 1.0000"
          ]
        },
        {
          "output_type": "stream",
          "name": "stderr",
          "text": [
            "\n",
            "\n",
            "\n",
            "Epoch: 52it [00:51,  3.75it/s]\u001b[A\u001b[A\u001b[A"
          ]
        },
        {
          "output_type": "stream",
          "name": "stdout",
          "text": [
            "\b\b\b\b\b\b\b\b\b\b\b\b\b\b\b\b\b\b\b\b\b\b\b\b\b\b\b\b\b\b\b\b\b\b\b\b\b\b\b\b\b\b\b\b\b\b\b\b\b\b\b\b\b\b\b\b\b\b\b\b\b\b\b\b\b\b\b\b\b\b\b\b\b\b\b\b\b\b\b\b\b\b\b\b\b\b\b\b\b\b\b\b\b\b\b\b\b\b\b\b\b\b\b\b\r 9/21 [===========>..................] - ETA: 3s - loss: 0.0014 - recall_3: 1.0000 - precision_3: 1.0000"
          ]
        },
        {
          "output_type": "stream",
          "name": "stderr",
          "text": [
            "\n",
            "\n",
            "\n",
            "Epoch: 53it [00:52,  3.72it/s]\u001b[A\u001b[A\u001b[A"
          ]
        },
        {
          "output_type": "stream",
          "name": "stdout",
          "text": [
            "\b\b\b\b\b\b\b\b\b\b\b\b\b\b\b\b\b\b\b\b\b\b\b\b\b\b\b\b\b\b\b\b\b\b\b\b\b\b\b\b\b\b\b\b\b\b\b\b\b\b\b\b\b\b\b\b\b\b\b\b\b\b\b\b\b\b\b\b\b\b\b\b\b\b\b\b\b\b\b\b\b\b\b\b\b\b\b\b\b\b\b\b\b\b\b\b\b\b\b\b\b\b\b\b\r10/21 [=============>................] - ETA: 2s - loss: 0.0013 - recall_3: 1.0000 - precision_3: 1.0000"
          ]
        },
        {
          "output_type": "stream",
          "name": "stderr",
          "text": [
            "\n",
            "\n",
            "\n",
            "Epoch: 54it [00:52,  3.69it/s]\u001b[A\u001b[A\u001b[A"
          ]
        },
        {
          "output_type": "stream",
          "name": "stdout",
          "text": [
            "\b\b\b\b\b\b\b\b\b\b\b\b\b\b\b\b\b\b\b\b\b\b\b\b\b\b\b\b\b\b\b\b\b\b\b\b\b\b\b\b\b\b\b\b\b\b\b\b\b\b\b\b\b\b\b\b\b\b\b\b\b\b\b\b\b\b\b\b\b\b\b\b\b\b\b\b\b\b\b\b\b\b\b\b\b\b\b\b\b\b\b\b\b\b\b\b\b\b\b\b\b\b\b\b\r11/21 [==============>...............] - ETA: 2s - loss: 0.0025 - recall_3: 1.0000 - precision_3: 1.0000"
          ]
        },
        {
          "output_type": "stream",
          "name": "stderr",
          "text": [
            "\n",
            "\n",
            "\n",
            "Epoch: 55it [00:52,  3.73it/s]\u001b[A\u001b[A\u001b[A"
          ]
        },
        {
          "output_type": "stream",
          "name": "stdout",
          "text": [
            "\b\b\b\b\b\b\b\b\b\b\b\b\b\b\b\b\b\b\b\b\b\b\b\b\b\b\b\b\b\b\b\b\b\b\b\b\b\b\b\b\b\b\b\b\b\b\b\b\b\b\b\b\b\b\b\b\b\b\b\b\b\b\b\b\b\b\b\b\b\b\b\b\b\b\b\b\b\b\b\b\b\b\b\b\b\b\b\b\b\b\b\b\b\b\b\b\b\b\b\b\b\b\b\b\r12/21 [================>.............] - ETA: 2s - loss: 0.0024 - recall_3: 1.0000 - precision_3: 1.0000"
          ]
        },
        {
          "output_type": "stream",
          "name": "stderr",
          "text": [
            "\n",
            "\n",
            "\n",
            "Epoch: 56it [00:53,  3.70it/s]\u001b[A\u001b[A\u001b[A"
          ]
        },
        {
          "output_type": "stream",
          "name": "stdout",
          "text": [
            "\b\b\b\b\b\b\b\b\b\b\b\b\b\b\b\b\b\b\b\b\b\b\b\b\b\b\b\b\b\b\b\b\b\b\b\b\b\b\b\b\b\b\b\b\b\b\b\b\b\b\b\b\b\b\b\b\b\b\b\b\b\b\b\b\b\b\b\b\b\b\b\b\b\b\b\b\b\b\b\b\b\b\b\b\b\b\b\b\b\b\b\b\b\b\b\b\b\b\b\b\b\b\b\b\r13/21 [=================>............] - ETA: 2s - loss: 0.0022 - recall_3: 1.0000 - precision_3: 1.0000"
          ]
        },
        {
          "output_type": "stream",
          "name": "stderr",
          "text": [
            "\n",
            "\n",
            "\n",
            "Epoch: 57it [00:53,  3.69it/s]\u001b[A\u001b[A\u001b[A"
          ]
        },
        {
          "output_type": "stream",
          "name": "stdout",
          "text": [
            "\b\b\b\b\b\b\b\b\b\b\b\b\b\b\b\b\b\b\b\b\b\b\b\b\b\b\b\b\b\b\b\b\b\b\b\b\b\b\b\b\b\b\b\b\b\b\b\b\b\b\b\b\b\b\b\b\b\b\b\b\b\b\b\b\b\b\b\b\b\b\b\b\b\b\b\b\b\b\b\b\b\b\b\b\b\b\b\b\b\b\b\b\b\b\b\b\b\b\b\b\b\b\b\b\r14/21 [===================>..........] - ETA: 1s - loss: 0.0021 - recall_3: 1.0000 - precision_3: 1.0000"
          ]
        },
        {
          "output_type": "stream",
          "name": "stderr",
          "text": [
            "\n",
            "\n",
            "\n",
            "Epoch: 58it [00:53,  3.72it/s]\u001b[A\u001b[A\u001b[A"
          ]
        },
        {
          "output_type": "stream",
          "name": "stdout",
          "text": [
            "\b\b\b\b\b\b\b\b\b\b\b\b\b\b\b\b\b\b\b\b\b\b\b\b\b\b\b\b\b\b\b\b\b\b\b\b\b\b\b\b\b\b\b\b\b\b\b\b\b\b\b\b\b\b\b\b\b\b\b\b\b\b\b\b\b\b\b\b\b\b\b\b\b\b\b\b\b\b\b\b\b\b\b\b\b\b\b\b\b\b\b\b\b\b\b\b\b\b\b\b\b\b\b\b\r15/21 [====================>.........] - ETA: 1s - loss: 0.0020 - recall_3: 1.0000 - precision_3: 1.0000"
          ]
        },
        {
          "output_type": "stream",
          "name": "stderr",
          "text": [
            "\n",
            "\n",
            "\n",
            "Epoch: 59it [00:53,  3.70it/s]\u001b[A\u001b[A\u001b[A"
          ]
        },
        {
          "output_type": "stream",
          "name": "stdout",
          "text": [
            "\b\b\b\b\b\b\b\b\b\b\b\b\b\b\b\b\b\b\b\b\b\b\b\b\b\b\b\b\b\b\b\b\b\b\b\b\b\b\b\b\b\b\b\b\b\b\b\b\b\b\b\b\b\b\b\b\b\b\b\b\b\b\b\b\b\b\b\b\b\b\b\b\b\b\b\b\b\b\b\b\b\b\b\b\b\b\b\b\b\b\b\b\b\b\b\b\b\b\b\b\b\b\b\b\r16/21 [=====================>........] - ETA: 1s - loss: 0.0021 - recall_3: 1.0000 - precision_3: 1.0000"
          ]
        },
        {
          "output_type": "stream",
          "name": "stderr",
          "text": [
            "\n",
            "\n",
            "\n",
            "Epoch: 60it [00:54,  3.71it/s]\u001b[A\u001b[A\u001b[A"
          ]
        },
        {
          "output_type": "stream",
          "name": "stdout",
          "text": [
            "\b\b\b\b\b\b\b\b\b\b\b\b\b\b\b\b\b\b\b\b\b\b\b\b\b\b\b\b\b\b\b\b\b\b\b\b\b\b\b\b\b\b\b\b\b\b\b\b\b\b\b\b\b\b\b\b\b\b\b\b\b\b\b\b\b\b\b\b\b\b\b\b\b\b\b\b\b\b\b\b\b\b\b\b\b\b\b\b\b\b\b\b\b\b\b\b\b\b\b\b\b\b\b\b\r17/21 [=======================>......] - ETA: 1s - loss: 0.0020 - recall_3: 1.0000 - precision_3: 1.0000"
          ]
        },
        {
          "output_type": "stream",
          "name": "stderr",
          "text": [
            "\n",
            "\n",
            "\n",
            "Epoch: 61it [00:54,  3.72it/s]\u001b[A\u001b[A\u001b[A"
          ]
        },
        {
          "output_type": "stream",
          "name": "stdout",
          "text": [
            "\b\b\b\b\b\b\b\b\b\b\b\b\b\b\b\b\b\b\b\b\b\b\b\b\b\b\b\b\b\b\b\b\b\b\b\b\b\b\b\b\b\b\b\b\b\b\b\b\b\b\b\b\b\b\b\b\b\b\b\b\b\b\b\b\b\b\b\b\b\b\b\b\b\b\b\b\b\b\b\b\b\b\b\b\b\b\b\b\b\b\b\b\b\b\b\b\b\b\b\b\b\b\b\b\r18/21 [========================>.....] - ETA: 0s - loss: 0.0019 - recall_3: 1.0000 - precision_3: 1.0000"
          ]
        },
        {
          "output_type": "stream",
          "name": "stderr",
          "text": [
            "\n",
            "\n",
            "\n",
            "Epoch: 62it [00:54,  3.74it/s]\u001b[A\u001b[A\u001b[A"
          ]
        },
        {
          "output_type": "stream",
          "name": "stdout",
          "text": [
            "\b\b\b\b\b\b\b\b\b\b\b\b\b\b\b\b\b\b\b\b\b\b\b\b\b\b\b\b\b\b\b\b\b\b\b\b\b\b\b\b\b\b\b\b\b\b\b\b\b\b\b\b\b\b\b\b\b\b\b\b\b\b\b\b\b\b\b\b\b\b\b\b\b\b\b\b\b\b\b\b\b\b\b\b\b\b\b\b\b\b\b\b\b\b\b\b\b\b\b\b\b\b\b\b\r19/21 [==========================>...] - ETA: 0s - loss: 0.0018 - recall_3: 1.0000 - precision_3: 1.0000"
          ]
        },
        {
          "output_type": "stream",
          "name": "stderr",
          "text": [
            "\n",
            "\n",
            "\n",
            "Epoch: 63it [00:54,  3.73it/s]\u001b[A\u001b[A\u001b[A"
          ]
        },
        {
          "output_type": "stream",
          "name": "stdout",
          "text": [
            "\b\b\b\b\b\b\b\b\b\b\b\b\b\b\b\b\b\b\b\b\b\b\b\b\b\b\b\b\b\b\b\b\b\b\b\b\b\b\b\b\b\b\b\b\b\b\b\b\b\b\b\b\b\b\b\b\b\b\b\b\b\b\b\b\b\b\b\b\b\b\b\b\b\b\b\b\b\b\b\b\b\b\b\b\b\b\b\b\b\b\b\b\b\b\b\b\b\b\b\b\b\b\b\b\r20/21 [===========================>..] - ETA: 0s - loss: 0.0018 - recall_3: 1.0000 - precision_3: 1.0000"
          ]
        },
        {
          "output_type": "stream",
          "name": "stderr",
          "text": [
            "\n",
            "\n",
            "\n",
            "Epoch: 64it [00:55,  3.70it/s]\u001b[A\u001b[A\u001b[A"
          ]
        },
        {
          "output_type": "stream",
          "name": "stdout",
          "text": [
            "21/21 [==============================] - 6s 270ms/step - loss: 0.0023 - recall_3: 1.0000 - precision_3: 1.0000\n",
            "Epoch 4/10\n"
          ]
        },
        {
          "output_type": "stream",
          "name": "stderr",
          "text": [
            "\n",
            "\n",
            "\n",
            "Epoch: 65it [00:55,  3.67it/s]\u001b[A\u001b[A\u001b[A"
          ]
        },
        {
          "output_type": "stream",
          "name": "stdout",
          "text": [
            "\r 1/21 [>.............................] - ETA: 5s - loss: 0.0042 - recall_3: 1.0000 - precision_3: 1.0000"
          ]
        },
        {
          "output_type": "stream",
          "name": "stderr",
          "text": [
            "\n",
            "\n",
            "\n",
            "Epoch: 66it [00:55,  3.71it/s]\u001b[A\u001b[A\u001b[A"
          ]
        },
        {
          "output_type": "stream",
          "name": "stdout",
          "text": [
            "\b\b\b\b\b\b\b\b\b\b\b\b\b\b\b\b\b\b\b\b\b\b\b\b\b\b\b\b\b\b\b\b\b\b\b\b\b\b\b\b\b\b\b\b\b\b\b\b\b\b\b\b\b\b\b\b\b\b\b\b\b\b\b\b\b\b\b\b\b\b\b\b\b\b\b\b\b\b\b\b\b\b\b\b\b\b\b\b\b\b\b\b\b\b\b\b\b\b\b\b\b\b\b\b\r 2/21 [=>............................] - ETA: 5s - loss: 0.0025 - recall_3: 1.0000 - precision_3: 1.0000"
          ]
        },
        {
          "output_type": "stream",
          "name": "stderr",
          "text": [
            "\n",
            "\n",
            "\n",
            "Epoch: 67it [00:55,  3.70it/s]\u001b[A\u001b[A\u001b[A"
          ]
        },
        {
          "output_type": "stream",
          "name": "stdout",
          "text": [
            "\b\b\b\b\b\b\b\b\b\b\b\b\b\b\b\b\b\b\b\b\b\b\b\b\b\b\b\b\b\b\b\b\b\b\b\b\b\b\b\b\b\b\b\b\b\b\b\b\b\b\b\b\b\b\b\b\b\b\b\b\b\b\b\b\b\b\b\b\b\b\b\b\b\b\b\b\b\b\b\b\b\b\b\b\b\b\b\b\b\b\b\b\b\b\b\b\b\b\b\b\b\b\b\b\r 3/21 [===>..........................] - ETA: 4s - loss: 0.0017 - recall_3: 1.0000 - precision_3: 1.0000"
          ]
        },
        {
          "output_type": "stream",
          "name": "stderr",
          "text": [
            "\n",
            "\n",
            "\n",
            "Epoch: 68it [00:56,  3.66it/s]\u001b[A\u001b[A\u001b[A"
          ]
        },
        {
          "output_type": "stream",
          "name": "stdout",
          "text": [
            "\b\b\b\b\b\b\b\b\b\b\b\b\b\b\b\b\b\b\b\b\b\b\b\b\b\b\b\b\b\b\b\b\b\b\b\b\b\b\b\b\b\b\b\b\b\b\b\b\b\b\b\b\b\b\b\b\b\b\b\b\b\b\b\b\b\b\b\b\b\b\b\b\b\b\b\b\b\b\b\b\b\b\b\b\b\b\b\b\b\b\b\b\b\b\b\b\b\b\b\b\b\b\b\b\r 4/21 [====>.........................] - ETA: 4s - loss: 0.0013 - recall_3: 1.0000 - precision_3: 1.0000"
          ]
        },
        {
          "output_type": "stream",
          "name": "stderr",
          "text": [
            "\n",
            "\n",
            "\n",
            "Epoch: 69it [00:56,  3.69it/s]\u001b[A\u001b[A\u001b[A"
          ]
        },
        {
          "output_type": "stream",
          "name": "stdout",
          "text": [
            "\b\b\b\b\b\b\b\b\b\b\b\b\b\b\b\b\b\b\b\b\b\b\b\b\b\b\b\b\b\b\b\b\b\b\b\b\b\b\b\b\b\b\b\b\b\b\b\b\b\b\b\b\b\b\b\b\b\b\b\b\b\b\b\b\b\b\b\b\b\b\b\b\b\b\b\b\b\b\b\b\b\b\b\b\b\b\b\b\b\b\b\b\b\b\b\b\b\b\b\b\b\b\b\b\r 5/21 [======>.......................] - ETA: 4s - loss: 0.0011 - recall_3: 1.0000 - precision_3: 1.0000"
          ]
        },
        {
          "output_type": "stream",
          "name": "stderr",
          "text": [
            "\n",
            "\n",
            "\n",
            "Epoch: 70it [00:56,  3.69it/s]\u001b[A\u001b[A\u001b[A"
          ]
        },
        {
          "output_type": "stream",
          "name": "stdout",
          "text": [
            "\b\b\b\b\b\b\b\b\b\b\b\b\b\b\b\b\b\b\b\b\b\b\b\b\b\b\b\b\b\b\b\b\b\b\b\b\b\b\b\b\b\b\b\b\b\b\b\b\b\b\b\b\b\b\b\b\b\b\b\b\b\b\b\b\b\b\b\b\b\b\b\b\b\b\b\b\b\b\b\b\b\b\b\b\b\b\b\b\b\b\b\b\b\b\b\b\b\b\b\b\b\b\b\b\r 6/21 [=======>......................] - ETA: 4s - loss: 9.4948e-04 - recall_3: 1.0000 - precision_3: 1.0000"
          ]
        },
        {
          "output_type": "stream",
          "name": "stderr",
          "text": [
            "\n",
            "\n",
            "\n",
            "Epoch: 71it [00:57,  3.69it/s]\u001b[A\u001b[A\u001b[A"
          ]
        },
        {
          "output_type": "stream",
          "name": "stdout",
          "text": [
            "\b\b\b\b\b\b\b\b\b\b\b\b\b\b\b\b\b\b\b\b\b\b\b\b\b\b\b\b\b\b\b\b\b\b\b\b\b\b\b\b\b\b\b\b\b\b\b\b\b\b\b\b\b\b\b\b\b\b\b\b\b\b\b\b\b\b\b\b\b\b\b\b\b\b\b\b\b\b\b\b\b\b\b\b\b\b\b\b\b\b\b\b\b\b\b\b\b\b\b\b\b\b\b\b\b\b\b\b\r 7/21 [=========>....................] - ETA: 3s - loss: 8.6859e-04 - recall_3: 1.0000 - precision_3: 1.0000"
          ]
        },
        {
          "output_type": "stream",
          "name": "stderr",
          "text": [
            "\n",
            "\n",
            "\n",
            "Epoch: 72it [00:57,  3.70it/s]\u001b[A\u001b[A\u001b[A"
          ]
        },
        {
          "output_type": "stream",
          "name": "stdout",
          "text": [
            "\b\b\b\b\b\b\b\b\b\b\b\b\b\b\b\b\b\b\b\b\b\b\b\b\b\b\b\b\b\b\b\b\b\b\b\b\b\b\b\b\b\b\b\b\b\b\b\b\b\b\b\b\b\b\b\b\b\b\b\b\b\b\b\b\b\b\b\b\b\b\b\b\b\b\b\b\b\b\b\b\b\b\b\b\b\b\b\b\b\b\b\b\b\b\b\b\b\b\b\b\b\b\b\b\b\b\b\b\r 8/21 [==========>...................] - ETA: 3s - loss: 7.9619e-04 - recall_3: 1.0000 - precision_3: 1.0000"
          ]
        },
        {
          "output_type": "stream",
          "name": "stderr",
          "text": [
            "\n",
            "\n",
            "\n",
            "Epoch: 73it [00:57,  3.68it/s]\u001b[A\u001b[A\u001b[A"
          ]
        },
        {
          "output_type": "stream",
          "name": "stdout",
          "text": [
            "\b\b\b\b\b\b\b\b\b\b\b\b\b\b\b\b\b\b\b\b\b\b\b\b\b\b\b\b\b\b\b\b\b\b\b\b\b\b\b\b\b\b\b\b\b\b\b\b\b\b\b\b\b\b\b\b\b\b\b\b\b\b\b\b\b\b\b\b\b\b\b\b\b\b\b\b\b\b\b\b\b\b\b\b\b\b\b\b\b\b\b\b\b\b\b\b\b\b\b\b\b\b\b\b\b\b\b\b\r 9/21 [===========>..................] - ETA: 3s - loss: 7.3231e-04 - recall_3: 1.0000 - precision_3: 1.0000"
          ]
        },
        {
          "output_type": "stream",
          "name": "stderr",
          "text": [
            "\n",
            "\n",
            "\n",
            "Epoch: 74it [00:57,  3.71it/s]\u001b[A\u001b[A\u001b[A"
          ]
        },
        {
          "output_type": "stream",
          "name": "stdout",
          "text": [
            "\b\b\b\b\b\b\b\b\b\b\b\b\b\b\b\b\b\b\b\b\b\b\b\b\b\b\b\b\b\b\b\b\b\b\b\b\b\b\b\b\b\b\b\b\b\b\b\b\b\b\b\b\b\b\b\b\b\b\b\b\b\b\b\b\b\b\b\b\b\b\b\b\b\b\b\b\b\b\b\b\b\b\b\b\b\b\b\b\b\b\b\b\b\b\b\b\b\b\b\b\b\b\b\b\b\b\b\b\r10/21 [=============>................] - ETA: 2s - loss: 8.0923e-04 - recall_3: 1.0000 - precision_3: 1.0000"
          ]
        },
        {
          "output_type": "stream",
          "name": "stderr",
          "text": [
            "\n",
            "\n",
            "\n",
            "Epoch: 75it [00:58,  3.68it/s]\u001b[A\u001b[A\u001b[A"
          ]
        },
        {
          "output_type": "stream",
          "name": "stdout",
          "text": [
            "\b\b\b\b\b\b\b\b\b\b\b\b\b\b\b\b\b\b\b\b\b\b\b\b\b\b\b\b\b\b\b\b\b\b\b\b\b\b\b\b\b\b\b\b\b\b\b\b\b\b\b\b\b\b\b\b\b\b\b\b\b\b\b\b\b\b\b\b\b\b\b\b\b\b\b\b\b\b\b\b\b\b\b\b\b\b\b\b\b\b\b\b\b\b\b\b\b\b\b\b\b\b\b\b\b\b\b\b\r11/21 [==============>...............] - ETA: 2s - loss: 7.4902e-04 - recall_3: 1.0000 - precision_3: 1.0000"
          ]
        },
        {
          "output_type": "stream",
          "name": "stderr",
          "text": [
            "\n",
            "\n",
            "\n",
            "Epoch: 76it [00:58,  3.71it/s]\u001b[A\u001b[A\u001b[A"
          ]
        },
        {
          "output_type": "stream",
          "name": "stdout",
          "text": [
            "\b\b\b\b\b\b\b\b\b\b\b\b\b\b\b\b\b\b\b\b\b\b\b\b\b\b\b\b\b\b\b\b\b\b\b\b\b\b\b\b\b\b\b\b\b\b\b\b\b\b\b\b\b\b\b\b\b\b\b\b\b\b\b\b\b\b\b\b\b\b\b\b\b\b\b\b\b\b\b\b\b\b\b\b\b\b\b\b\b\b\b\b\b\b\b\b\b\b\b\b\b\b\b\b\b\b\b\b\r12/21 [================>.............] - ETA: 2s - loss: 7.5500e-04 - recall_3: 1.0000 - precision_3: 1.0000"
          ]
        },
        {
          "output_type": "stream",
          "name": "stderr",
          "text": [
            "\n",
            "\n",
            "\n",
            "Epoch: 77it [00:58,  3.70it/s]\u001b[A\u001b[A\u001b[A"
          ]
        },
        {
          "output_type": "stream",
          "name": "stdout",
          "text": [
            "\b\b\b\b\b\b\b\b\b\b\b\b\b\b\b\b\b\b\b\b\b\b\b\b\b\b\b\b\b\b\b\b\b\b\b\b\b\b\b\b\b\b\b\b\b\b\b\b\b\b\b\b\b\b\b\b\b\b\b\b\b\b\b\b\b\b\b\b\b\b\b\b\b\b\b\b\b\b\b\b\b\b\b\b\b\b\b\b\b\b\b\b\b\b\b\b\b\b\b\b\b\b\b\b\b\b\b\b\r13/21 [=================>............] - ETA: 2s - loss: 7.1095e-04 - recall_3: 1.0000 - precision_3: 1.0000"
          ]
        },
        {
          "output_type": "stream",
          "name": "stderr",
          "text": [
            "\n",
            "\n",
            "\n",
            "Epoch: 78it [00:58,  3.69it/s]\u001b[A\u001b[A\u001b[A"
          ]
        },
        {
          "output_type": "stream",
          "name": "stdout",
          "text": [
            "\b\b\b\b\b\b\b\b\b\b\b\b\b\b\b\b\b\b\b\b\b\b\b\b\b\b\b\b\b\b\b\b\b\b\b\b\b\b\b\b\b\b\b\b\b\b\b\b\b\b\b\b\b\b\b\b\b\b\b\b\b\b\b\b\b\b\b\b\b\b\b\b\b\b\b\b\b\b\b\b\b\b\b\b\b\b\b\b\b\b\b\b\b\b\b\b\b\b\b\b\b\b\b\b\b\b\b\b\r14/21 [===================>..........] - ETA: 1s - loss: 0.0095 - recall_3: 0.9978 - precision_3: 0.9978    "
          ]
        },
        {
          "output_type": "stream",
          "name": "stderr",
          "text": [
            "\n",
            "\n",
            "\n",
            "Epoch: 79it [00:59,  3.70it/s]\u001b[A\u001b[A\u001b[A"
          ]
        },
        {
          "output_type": "stream",
          "name": "stdout",
          "text": [
            "\b\b\b\b\b\b\b\b\b\b\b\b\b\b\b\b\b\b\b\b\b\b\b\b\b\b\b\b\b\b\b\b\b\b\b\b\b\b\b\b\b\b\b\b\b\b\b\b\b\b\b\b\b\b\b\b\b\b\b\b\b\b\b\b\b\b\b\b\b\b\b\b\b\b\b\b\b\b\b\b\b\b\b\b\b\b\b\b\b\b\b\b\b\b\b\b\b\b\b\b\b\b\b\b\r15/21 [====================>.........] - ETA: 1s - loss: 0.0089 - recall_3: 0.9979 - precision_3: 0.9979"
          ]
        },
        {
          "output_type": "stream",
          "name": "stderr",
          "text": [
            "\n",
            "\n",
            "\n",
            "Epoch: 80it [00:59,  3.71it/s]\u001b[A\u001b[A\u001b[A"
          ]
        },
        {
          "output_type": "stream",
          "name": "stdout",
          "text": [
            "\b\b\b\b\b\b\b\b\b\b\b\b\b\b\b\b\b\b\b\b\b\b\b\b\b\b\b\b\b\b\b\b\b\b\b\b\b\b\b\b\b\b\b\b\b\b\b\b\b\b\b\b\b\b\b\b\b\b\b\b\b\b\b\b\b\b\b\b\b\b\b\b\b\b\b\b\b\b\b\b\b\b\b\b\b\b\b\b\b\b\b\b\b\b\b\b\b\b\b\b\b\b\b\b\r16/21 [=====================>........] - ETA: 1s - loss: 0.0084 - recall_3: 0.9980 - precision_3: 0.9980"
          ]
        },
        {
          "output_type": "stream",
          "name": "stderr",
          "text": [
            "\n",
            "\n",
            "\n",
            "Epoch: 81it [00:59,  3.71it/s]\u001b[A\u001b[A\u001b[A"
          ]
        },
        {
          "output_type": "stream",
          "name": "stdout",
          "text": [
            "\b\b\b\b\b\b\b\b\b\b\b\b\b\b\b\b\b\b\b\b\b\b\b\b\b\b\b\b\b\b\b\b\b\b\b\b\b\b\b\b\b\b\b\b\b\b\b\b\b\b\b\b\b\b\b\b\b\b\b\b\b\b\b\b\b\b\b\b\b\b\b\b\b\b\b\b\b\b\b\b\b\b\b\b\b\b\b\b\b\b\b\b\b\b\b\b\b\b\b\b\b\b\b\b\r17/21 [=======================>......] - ETA: 1s - loss: 0.0079 - recall_3: 0.9982 - precision_3: 0.9982"
          ]
        },
        {
          "output_type": "stream",
          "name": "stderr",
          "text": [
            "\n",
            "\n",
            "\n",
            "Epoch: 82it [01:00,  3.70it/s]\u001b[A\u001b[A\u001b[A"
          ]
        },
        {
          "output_type": "stream",
          "name": "stdout",
          "text": [
            "\b\b\b\b\b\b\b\b\b\b\b\b\b\b\b\b\b\b\b\b\b\b\b\b\b\b\b\b\b\b\b\b\b\b\b\b\b\b\b\b\b\b\b\b\b\b\b\b\b\b\b\b\b\b\b\b\b\b\b\b\b\b\b\b\b\b\b\b\b\b\b\b\b\b\b\b\b\b\b\b\b\b\b\b\b\b\b\b\b\b\b\b\b\b\b\b\b\b\b\b\b\b\b\b\r18/21 [========================>.....] - ETA: 0s - loss: 0.0075 - recall_3: 0.9983 - precision_3: 0.9983"
          ]
        },
        {
          "output_type": "stream",
          "name": "stderr",
          "text": [
            "\n",
            "\n",
            "\n",
            "Epoch: 83it [01:00,  3.70it/s]\u001b[A\u001b[A\u001b[A"
          ]
        },
        {
          "output_type": "stream",
          "name": "stdout",
          "text": [
            "\b\b\b\b\b\b\b\b\b\b\b\b\b\b\b\b\b\b\b\b\b\b\b\b\b\b\b\b\b\b\b\b\b\b\b\b\b\b\b\b\b\b\b\b\b\b\b\b\b\b\b\b\b\b\b\b\b\b\b\b\b\b\b\b\b\b\b\b\b\b\b\b\b\b\b\b\b\b\b\b\b\b\b\b\b\b\b\b\b\b\b\b\b\b\b\b\b\b\b\b\b\b\b\b\r19/21 [==========================>...] - ETA: 0s - loss: 0.0071 - recall_3: 0.9984 - precision_3: 0.9984"
          ]
        },
        {
          "output_type": "stream",
          "name": "stderr",
          "text": [
            "\n",
            "\n",
            "\n",
            "Epoch: 84it [01:00,  3.66it/s]\u001b[A\u001b[A\u001b[A"
          ]
        },
        {
          "output_type": "stream",
          "name": "stdout",
          "text": [
            "\b\b\b\b\b\b\b\b\b\b\b\b\b\b\b\b\b\b\b\b\b\b\b\b\b\b\b\b\b\b\b\b\b\b\b\b\b\b\b\b\b\b\b\b\b\b\b\b\b\b\b\b\b\b\b\b\b\b\b\b\b\b\b\b\b\b\b\b\b\b\b\b\b\b\b\b\b\b\b\b\b\b\b\b\b\b\b\b\b\b\b\b\b\b\b\b\b\b\b\b\b\b\b\b\r20/21 [===========================>..] - ETA: 0s - loss: 0.0068 - recall_3: 0.9984 - precision_3: 0.9984"
          ]
        },
        {
          "output_type": "stream",
          "name": "stderr",
          "text": [
            "\n",
            "\n",
            "\n",
            "Epoch: 85it [01:00,  3.65it/s]\u001b[A\u001b[A\u001b[A"
          ]
        },
        {
          "output_type": "stream",
          "name": "stdout",
          "text": [
            "21/21 [==============================] - 6s 272ms/step - loss: 0.0065 - recall_3: 0.9985 - precision_3: 0.9985\n",
            "Epoch 5/10\n"
          ]
        },
        {
          "output_type": "stream",
          "name": "stderr",
          "text": [
            "\n",
            "\n",
            "\n",
            "Epoch: 86it [01:01,  3.63it/s]\u001b[A\u001b[A\u001b[A"
          ]
        },
        {
          "output_type": "stream",
          "name": "stdout",
          "text": [
            "\r 1/21 [>.............................] - ETA: 5s - loss: 0.0024 - recall_3: 1.0000 - precision_3: 1.0000"
          ]
        },
        {
          "output_type": "stream",
          "name": "stderr",
          "text": [
            "\n",
            "\n",
            "\n",
            "Epoch: 87it [01:01,  3.67it/s]\u001b[A\u001b[A\u001b[A"
          ]
        },
        {
          "output_type": "stream",
          "name": "stdout",
          "text": [
            "\b\b\b\b\b\b\b\b\b\b\b\b\b\b\b\b\b\b\b\b\b\b\b\b\b\b\b\b\b\b\b\b\b\b\b\b\b\b\b\b\b\b\b\b\b\b\b\b\b\b\b\b\b\b\b\b\b\b\b\b\b\b\b\b\b\b\b\b\b\b\b\b\b\b\b\b\b\b\b\b\b\b\b\b\b\b\b\b\b\b\b\b\b\b\b\b\b\b\b\b\b\b\b\b\r 2/21 [=>............................] - ETA: 5s - loss: 0.0132 - recall_3: 1.0000 - precision_3: 1.0000"
          ]
        },
        {
          "output_type": "stream",
          "name": "stderr",
          "text": [
            "\n",
            "\n",
            "\n",
            "Epoch: 88it [01:01,  3.68it/s]\u001b[A\u001b[A\u001b[A"
          ]
        },
        {
          "output_type": "stream",
          "name": "stdout",
          "text": [
            "\b\b\b\b\b\b\b\b\b\b\b\b\b\b\b\b\b\b\b\b\b\b\b\b\b\b\b\b\b\b\b\b\b\b\b\b\b\b\b\b\b\b\b\b\b\b\b\b\b\b\b\b\b\b\b\b\b\b\b\b\b\b\b\b\b\b\b\b\b\b\b\b\b\b\b\b\b\b\b\b\b\b\b\b\b\b\b\b\b\b\b\b\b\b\b\b\b\b\b\b\b\b\b\b\r 3/21 [===>..........................] - ETA: 4s - loss: 0.0440 - recall_3: 0.9896 - precision_3: 0.9896"
          ]
        },
        {
          "output_type": "stream",
          "name": "stderr",
          "text": [
            "\n",
            "\n",
            "\n",
            "Epoch: 89it [01:01,  3.65it/s]\u001b[A\u001b[A\u001b[A"
          ]
        },
        {
          "output_type": "stream",
          "name": "stdout",
          "text": [
            "\b\b\b\b\b\b\b\b\b\b\b\b\b\b\b\b\b\b\b\b\b\b\b\b\b\b\b\b\b\b\b\b\b\b\b\b\b\b\b\b\b\b\b\b\b\b\b\b\b\b\b\b\b\b\b\b\b\b\b\b\b\b\b\b\b\b\b\b\b\b\b\b\b\b\b\b\b\b\b\b\b\b\b\b\b\b\b\b\b\b\b\b\b\b\b\b\b\b\b\b\b\b\b\b\r 4/21 [====>.........................] - ETA: 4s - loss: 0.0333 - recall_3: 0.9922 - precision_3: 0.9922"
          ]
        },
        {
          "output_type": "stream",
          "name": "stderr",
          "text": [
            "\n",
            "\n",
            "\n",
            "Epoch: 90it [01:02,  3.68it/s]\u001b[A\u001b[A\u001b[A"
          ]
        },
        {
          "output_type": "stream",
          "name": "stdout",
          "text": [
            "\b\b\b\b\b\b\b\b\b\b\b\b\b\b\b\b\b\b\b\b\b\b\b\b\b\b\b\b\b\b\b\b\b\b\b\b\b\b\b\b\b\b\b\b\b\b\b\b\b\b\b\b\b\b\b\b\b\b\b\b\b\b\b\b\b\b\b\b\b\b\b\b\b\b\b\b\b\b\b\b\b\b\b\b\b\b\b\b\b\b\b\b\b\b\b\b\b\b\b\b\b\b\b\b\r 5/21 [======>.......................] - ETA: 4s - loss: 0.0267 - recall_3: 0.9937 - precision_3: 0.9937"
          ]
        },
        {
          "output_type": "stream",
          "name": "stderr",
          "text": [
            "\n",
            "\n",
            "\n",
            "Epoch: 91it [01:02,  3.67it/s]\u001b[A\u001b[A\u001b[A"
          ]
        },
        {
          "output_type": "stream",
          "name": "stdout",
          "text": [
            "\b\b\b\b\b\b\b\b\b\b\b\b\b\b\b\b\b\b\b\b\b\b\b\b\b\b\b\b\b\b\b\b\b\b\b\b\b\b\b\b\b\b\b\b\b\b\b\b\b\b\b\b\b\b\b\b\b\b\b\b\b\b\b\b\b\b\b\b\b\b\b\b\b\b\b\b\b\b\b\b\b\b\b\b\b\b\b\b\b\b\b\b\b\b\b\b\b\b\b\b\b\b\b\b\r 6/21 [=======>......................] - ETA: 4s - loss: 0.0222 - recall_3: 0.9948 - precision_3: 0.9948"
          ]
        },
        {
          "output_type": "stream",
          "name": "stderr",
          "text": [
            "\n",
            "\n",
            "\n",
            "Epoch: 92it [01:02,  3.66it/s]\u001b[A\u001b[A\u001b[A"
          ]
        },
        {
          "output_type": "stream",
          "name": "stdout",
          "text": [
            "\b\b\b\b\b\b\b\b\b\b\b\b\b\b\b\b\b\b\b\b\b\b\b\b\b\b\b\b\b\b\b\b\b\b\b\b\b\b\b\b\b\b\b\b\b\b\b\b\b\b\b\b\b\b\b\b\b\b\b\b\b\b\b\b\b\b\b\b\b\b\b\b\b\b\b\b\b\b\b\b\b\b\b\b\b\b\b\b\b\b\b\b\b\b\b\b\b\b\b\b\b\b\b\b\r 7/21 [=========>....................] - ETA: 3s - loss: 0.0191 - recall_3: 0.9955 - precision_3: 0.9955"
          ]
        },
        {
          "output_type": "stream",
          "name": "stderr",
          "text": [
            "\n",
            "\n",
            "\n",
            "Epoch: 93it [01:03,  3.67it/s]\u001b[A\u001b[A\u001b[A"
          ]
        },
        {
          "output_type": "stream",
          "name": "stdout",
          "text": [
            "\b\b\b\b\b\b\b\b\b\b\b\b\b\b\b\b\b\b\b\b\b\b\b\b\b\b\b\b\b\b\b\b\b\b\b\b\b\b\b\b\b\b\b\b\b\b\b\b\b\b\b\b\b\b\b\b\b\b\b\b\b\b\b\b\b\b\b\b\b\b\b\b\b\b\b\b\b\b\b\b\b\b\b\b\b\b\b\b\b\b\b\b\b\b\b\b\b\b\b\b\b\b\b\b\r 8/21 [==========>...................] - ETA: 3s - loss: 0.0168 - recall_3: 0.9961 - precision_3: 0.9961"
          ]
        },
        {
          "output_type": "stream",
          "name": "stderr",
          "text": [
            "\n",
            "\n",
            "\n",
            "Epoch: 94it [01:03,  3.67it/s]\u001b[A\u001b[A\u001b[A"
          ]
        },
        {
          "output_type": "stream",
          "name": "stdout",
          "text": [
            "\b\b\b\b\b\b\b\b\b\b\b\b\b\b\b\b\b\b\b\b\b\b\b\b\b\b\b\b\b\b\b\b\b\b\b\b\b\b\b\b\b\b\b\b\b\b\b\b\b\b\b\b\b\b\b\b\b\b\b\b\b\b\b\b\b\b\b\b\b\b\b\b\b\b\b\b\b\b\b\b\b\b\b\b\b\b\b\b\b\b\b\b\b\b\b\b\b\b\b\b\b\b\b\b\r 9/21 [===========>..................] - ETA: 3s - loss: 0.0149 - recall_3: 0.9965 - precision_3: 0.9965"
          ]
        },
        {
          "output_type": "stream",
          "name": "stderr",
          "text": [
            "\n",
            "\n",
            "\n",
            "Epoch: 95it [01:03,  3.64it/s]\u001b[A\u001b[A\u001b[A"
          ]
        },
        {
          "output_type": "stream",
          "name": "stdout",
          "text": [
            "\b\b\b\b\b\b\b\b\b\b\b\b\b\b\b\b\b\b\b\b\b\b\b\b\b\b\b\b\b\b\b\b\b\b\b\b\b\b\b\b\b\b\b\b\b\b\b\b\b\b\b\b\b\b\b\b\b\b\b\b\b\b\b\b\b\b\b\b\b\b\b\b\b\b\b\b\b\b\b\b\b\b\b\b\b\b\b\b\b\b\b\b\b\b\b\b\b\b\b\b\b\b\b\b\r10/21 [=============>................] - ETA: 3s - loss: 0.0136 - recall_3: 0.9969 - precision_3: 0.9969"
          ]
        },
        {
          "output_type": "stream",
          "name": "stderr",
          "text": [
            "\n",
            "\n",
            "\n",
            "Epoch: 96it [01:03,  3.66it/s]\u001b[A\u001b[A\u001b[A"
          ]
        },
        {
          "output_type": "stream",
          "name": "stdout",
          "text": [
            "\b\b\b\b\b\b\b\b\b\b\b\b\b\b\b\b\b\b\b\b\b\b\b\b\b\b\b\b\b\b\b\b\b\b\b\b\b\b\b\b\b\b\b\b\b\b\b\b\b\b\b\b\b\b\b\b\b\b\b\b\b\b\b\b\b\b\b\b\b\b\b\b\b\b\b\b\b\b\b\b\b\b\b\b\b\b\b\b\b\b\b\b\b\b\b\b\b\b\b\b\b\b\b\b\r11/21 [==============>...............] - ETA: 2s - loss: 0.0124 - recall_3: 0.9972 - precision_3: 0.9972"
          ]
        },
        {
          "output_type": "stream",
          "name": "stderr",
          "text": [
            "\n",
            "\n",
            "\n",
            "Epoch: 97it [01:04,  3.68it/s]\u001b[A\u001b[A\u001b[A"
          ]
        },
        {
          "output_type": "stream",
          "name": "stdout",
          "text": [
            "\b\b\b\b\b\b\b\b\b\b\b\b\b\b\b\b\b\b\b\b\b\b\b\b\b\b\b\b\b\b\b\b\b\b\b\b\b\b\b\b\b\b\b\b\b\b\b\b\b\b\b\b\b\b\b\b\b\b\b\b\b\b\b\b\b\b\b\b\b\b\b\b\b\b\b\b\b\b\b\b\b\b\b\b\b\b\b\b\b\b\b\b\b\b\b\b\b\b\b\b\b\b\b\b\r12/21 [================>.............] - ETA: 2s - loss: 0.0114 - recall_3: 0.9974 - precision_3: 0.9974"
          ]
        },
        {
          "output_type": "stream",
          "name": "stderr",
          "text": [
            "\n",
            "\n",
            "\n",
            "Epoch: 98it [01:04,  3.68it/s]\u001b[A\u001b[A\u001b[A"
          ]
        },
        {
          "output_type": "stream",
          "name": "stdout",
          "text": [
            "\b\b\b\b\b\b\b\b\b\b\b\b\b\b\b\b\b\b\b\b\b\b\b\b\b\b\b\b\b\b\b\b\b\b\b\b\b\b\b\b\b\b\b\b\b\b\b\b\b\b\b\b\b\b\b\b\b\b\b\b\b\b\b\b\b\b\b\b\b\b\b\b\b\b\b\b\b\b\b\b\b\b\b\b\b\b\b\b\b\b\b\b\b\b\b\b\b\b\b\b\b\b\b\b\r13/21 [=================>............] - ETA: 2s - loss: 0.0106 - recall_3: 0.9976 - precision_3: 0.9976"
          ]
        },
        {
          "output_type": "stream",
          "name": "stderr",
          "text": [
            "\n",
            "\n",
            "\n",
            "Epoch: 99it [01:04,  3.67it/s]\u001b[A\u001b[A\u001b[A"
          ]
        },
        {
          "output_type": "stream",
          "name": "stdout",
          "text": [
            "\b\b\b\b\b\b\b\b\b\b\b\b\b\b\b\b\b\b\b\b\b\b\b\b\b\b\b\b\b\b\b\b\b\b\b\b\b\b\b\b\b\b\b\b\b\b\b\b\b\b\b\b\b\b\b\b\b\b\b\b\b\b\b\b\b\b\b\b\b\b\b\b\b\b\b\b\b\b\b\b\b\b\b\b\b\b\b\b\b\b\b\b\b\b\b\b\b\b\b\b\b\b\b\b\r14/21 [===================>..........] - ETA: 1s - loss: 0.0102 - recall_3: 0.9978 - precision_3: 0.9978"
          ]
        },
        {
          "output_type": "stream",
          "name": "stderr",
          "text": [
            "\n",
            "\n",
            "\n",
            "Epoch: 100it [01:04,  3.68it/s]\u001b[A\u001b[A\u001b[A"
          ]
        },
        {
          "output_type": "stream",
          "name": "stdout",
          "text": [
            "\b\b\b\b\b\b\b\b\b\b\b\b\b\b\b\b\b\b\b\b\b\b\b\b\b\b\b\b\b\b\b\b\b\b\b\b\b\b\b\b\b\b\b\b\b\b\b\b\b\b\b\b\b\b\b\b\b\b\b\b\b\b\b\b\b\b\b\b\b\b\b\b\b\b\b\b\b\b\b\b\b\b\b\b\b\b\b\b\b\b\b\b\b\b\b\b\b\b\b\b\b\b\b\b\r15/21 [====================>.........] - ETA: 1s - loss: 0.0097 - recall_3: 0.9979 - precision_3: 0.9979"
          ]
        },
        {
          "output_type": "stream",
          "name": "stderr",
          "text": [
            "\n",
            "\n",
            "\n",
            "Epoch: 101it [01:05,  3.68it/s]\u001b[A\u001b[A\u001b[A"
          ]
        },
        {
          "output_type": "stream",
          "name": "stdout",
          "text": [
            "\b\b\b\b\b\b\b\b\b\b\b\b\b\b\b\b\b\b\b\b\b\b\b\b\b\b\b\b\b\b\b\b\b\b\b\b\b\b\b\b\b\b\b\b\b\b\b\b\b\b\b\b\b\b\b\b\b\b\b\b\b\b\b\b\b\b\b\b\b\b\b\b\b\b\b\b\b\b\b\b\b\b\b\b\b\b\b\b\b\b\b\b\b\b\b\b\b\b\b\b\b\b\b\b\r16/21 [=====================>........] - ETA: 1s - loss: 0.0091 - recall_3: 0.9980 - precision_3: 0.9980"
          ]
        },
        {
          "output_type": "stream",
          "name": "stderr",
          "text": [
            "\n",
            "\n",
            "\n",
            "Epoch: 102it [01:05,  3.66it/s]\u001b[A\u001b[A\u001b[A"
          ]
        },
        {
          "output_type": "stream",
          "name": "stdout",
          "text": [
            "\b\b\b\b\b\b\b\b\b\b\b\b\b\b\b\b\b\b\b\b\b\b\b\b\b\b\b\b\b\b\b\b\b\b\b\b\b\b\b\b\b\b\b\b\b\b\b\b\b\b\b\b\b\b\b\b\b\b\b\b\b\b\b\b\b\b\b\b\b\b\b\b\b\b\b\b\b\b\b\b\b\b\b\b\b\b\b\b\b\b\b\b\b\b\b\b\b\b\b\b\b\b\b\b\r17/21 [=======================>......] - ETA: 1s - loss: 0.0086 - recall_3: 0.9982 - precision_3: 0.9982"
          ]
        },
        {
          "output_type": "stream",
          "name": "stderr",
          "text": [
            "\n",
            "\n",
            "\n",
            "Epoch: 103it [01:05,  3.65it/s]\u001b[A\u001b[A\u001b[A"
          ]
        },
        {
          "output_type": "stream",
          "name": "stdout",
          "text": [
            "\b\b\b\b\b\b\b\b\b\b\b\b\b\b\b\b\b\b\b\b\b\b\b\b\b\b\b\b\b\b\b\b\b\b\b\b\b\b\b\b\b\b\b\b\b\b\b\b\b\b\b\b\b\b\b\b\b\b\b\b\b\b\b\b\b\b\b\b\b\b\b\b\b\b\b\b\b\b\b\b\b\b\b\b\b\b\b\b\b\b\b\b\b\b\b\b\b\b\b\b\b\b\b\b\r18/21 [========================>.....] - ETA: 0s - loss: 0.0081 - recall_3: 0.9983 - precision_3: 0.9983"
          ]
        },
        {
          "output_type": "stream",
          "name": "stderr",
          "text": [
            "\n",
            "\n",
            "\n",
            "Epoch: 104it [01:06,  3.65it/s]\u001b[A\u001b[A\u001b[A"
          ]
        },
        {
          "output_type": "stream",
          "name": "stdout",
          "text": [
            "\b\b\b\b\b\b\b\b\b\b\b\b\b\b\b\b\b\b\b\b\b\b\b\b\b\b\b\b\b\b\b\b\b\b\b\b\b\b\b\b\b\b\b\b\b\b\b\b\b\b\b\b\b\b\b\b\b\b\b\b\b\b\b\b\b\b\b\b\b\b\b\b\b\b\b\b\b\b\b\b\b\b\b\b\b\b\b\b\b\b\b\b\b\b\b\b\b\b\b\b\b\b\b\b\r19/21 [==========================>...] - ETA: 0s - loss: 0.0094 - recall_3: 0.9967 - precision_3: 0.9967"
          ]
        },
        {
          "output_type": "stream",
          "name": "stderr",
          "text": [
            "\n",
            "\n",
            "\n",
            "Epoch: 105it [01:06,  3.65it/s]\u001b[A\u001b[A\u001b[A"
          ]
        },
        {
          "output_type": "stream",
          "name": "stdout",
          "text": [
            "\b\b\b\b\b\b\b\b\b\b\b\b\b\b\b\b\b\b\b\b\b\b\b\b\b\b\b\b\b\b\b\b\b\b\b\b\b\b\b\b\b\b\b\b\b\b\b\b\b\b\b\b\b\b\b\b\b\b\b\b\b\b\b\b\b\b\b\b\b\b\b\b\b\b\b\b\b\b\b\b\b\b\b\b\b\b\b\b\b\b\b\b\b\b\b\b\b\b\b\b\b\b\b\b\r20/21 [===========================>..] - ETA: 0s - loss: 0.0089 - recall_3: 0.9969 - precision_3: 0.9969"
          ]
        },
        {
          "output_type": "stream",
          "name": "stderr",
          "text": [
            "\n",
            "\n",
            "\n",
            "Epoch: 106it [01:06,  3.64it/s]\u001b[A\u001b[A\u001b[A"
          ]
        },
        {
          "output_type": "stream",
          "name": "stdout",
          "text": [
            "21/21 [==============================] - 6s 278ms/step - loss: 0.0085 - recall_3: 0.9970 - precision_3: 0.9970\n",
            "Epoch 6/10\n"
          ]
        },
        {
          "output_type": "stream",
          "name": "stderr",
          "text": [
            "\n",
            "\n",
            "\n",
            "Epoch: 107it [01:06,  3.31it/s]\u001b[A\u001b[A\u001b[A"
          ]
        },
        {
          "output_type": "stream",
          "name": "stdout",
          "text": [
            "\r 1/21 [>.............................] - ETA: 5s - loss: 3.9161e-04 - recall_3: 1.0000 - precision_3: 1.0000"
          ]
        },
        {
          "output_type": "stream",
          "name": "stderr",
          "text": [
            "\n",
            "\n",
            "\n",
            "Epoch: 108it [01:07,  3.44it/s]\u001b[A\u001b[A\u001b[A"
          ]
        },
        {
          "output_type": "stream",
          "name": "stdout",
          "text": [
            "\b\b\b\b\b\b\b\b\b\b\b\b\b\b\b\b\b\b\b\b\b\b\b\b\b\b\b\b\b\b\b\b\b\b\b\b\b\b\b\b\b\b\b\b\b\b\b\b\b\b\b\b\b\b\b\b\b\b\b\b\b\b\b\b\b\b\b\b\b\b\b\b\b\b\b\b\b\b\b\b\b\b\b\b\b\b\b\b\b\b\b\b\b\b\b\b\b\b\b\b\b\b\b\b\b\b\b\b\r 2/21 [=>............................] - ETA: 5s - loss: 2.7946e-04 - recall_3: 1.0000 - precision_3: 1.0000"
          ]
        },
        {
          "output_type": "stream",
          "name": "stderr",
          "text": [
            "\n",
            "\n",
            "\n",
            "Epoch: 109it [01:07,  3.52it/s]\u001b[A\u001b[A\u001b[A"
          ]
        },
        {
          "output_type": "stream",
          "name": "stdout",
          "text": [
            "\b\b\b\b\b\b\b\b\b\b\b\b\b\b\b\b\b\b\b\b\b\b\b\b\b\b\b\b\b\b\b\b\b\b\b\b\b\b\b\b\b\b\b\b\b\b\b\b\b\b\b\b\b\b\b\b\b\b\b\b\b\b\b\b\b\b\b\b\b\b\b\b\b\b\b\b\b\b\b\b\b\b\b\b\b\b\b\b\b\b\b\b\b\b\b\b\b\b\b\b\b\b\b\b\b\b\b\b\r 3/21 [===>..........................] - ETA: 4s - loss: 2.4160e-04 - recall_3: 1.0000 - precision_3: 1.0000"
          ]
        },
        {
          "output_type": "stream",
          "name": "stderr",
          "text": [
            "\n",
            "\n",
            "\n",
            "Epoch: 110it [01:07,  3.57it/s]\u001b[A\u001b[A\u001b[A"
          ]
        },
        {
          "output_type": "stream",
          "name": "stdout",
          "text": [
            "\b\b\b\b\b\b\b\b\b\b\b\b\b\b\b\b\b\b\b\b\b\b\b\b\b\b\b\b\b\b\b\b\b\b\b\b\b\b\b\b\b\b\b\b\b\b\b\b\b\b\b\b\b\b\b\b\b\b\b\b\b\b\b\b\b\b\b\b\b\b\b\b\b\b\b\b\b\b\b\b\b\b\b\b\b\b\b\b\b\b\b\b\b\b\b\b\b\b\b\b\b\b\b\b\b\b\b\b\r 4/21 [====>.........................] - ETA: 4s - loss: 4.4273e-04 - recall_3: 1.0000 - precision_3: 1.0000"
          ]
        },
        {
          "output_type": "stream",
          "name": "stderr",
          "text": [
            "\n",
            "\n",
            "\n",
            "Epoch: 111it [01:08,  3.54it/s]\u001b[A\u001b[A\u001b[A"
          ]
        },
        {
          "output_type": "stream",
          "name": "stdout",
          "text": [
            "\b\b\b\b\b\b\b\b\b\b\b\b\b\b\b\b\b\b\b\b\b\b\b\b\b\b\b\b\b\b\b\b\b\b\b\b\b\b\b\b\b\b\b\b\b\b\b\b\b\b\b\b\b\b\b\b\b\b\b\b\b\b\b\b\b\b\b\b\b\b\b\b\b\b\b\b\b\b\b\b\b\b\b\b\b\b\b\b\b\b\b\b\b\b\b\b\b\b\b\b\b\b\b\b\b\b\b\b\r 5/21 [======>.......................] - ETA: 4s - loss: 4.1214e-04 - recall_3: 1.0000 - precision_3: 1.0000"
          ]
        },
        {
          "output_type": "stream",
          "name": "stderr",
          "text": [
            "\n",
            "\n",
            "\n",
            "Epoch: 112it [01:08,  3.58it/s]\u001b[A\u001b[A\u001b[A"
          ]
        },
        {
          "output_type": "stream",
          "name": "stdout",
          "text": [
            "\b\b\b\b\b\b\b\b\b\b\b\b\b\b\b\b\b\b\b\b\b\b\b\b\b\b\b\b\b\b\b\b\b\b\b\b\b\b\b\b\b\b\b\b\b\b\b\b\b\b\b\b\b\b\b\b\b\b\b\b\b\b\b\b\b\b\b\b\b\b\b\b\b\b\b\b\b\b\b\b\b\b\b\b\b\b\b\b\b\b\b\b\b\b\b\b\b\b\b\b\b\b\b\b\b\b\b\b\r 6/21 [=======>......................] - ETA: 4s - loss: 5.9543e-04 - recall_3: 1.0000 - precision_3: 1.0000"
          ]
        },
        {
          "output_type": "stream",
          "name": "stderr",
          "text": [
            "\n",
            "\n",
            "\n",
            "Epoch: 113it [01:08,  3.59it/s]\u001b[A\u001b[A\u001b[A"
          ]
        },
        {
          "output_type": "stream",
          "name": "stdout",
          "text": [
            "\b\b\b\b\b\b\b\b\b\b\b\b\b\b\b\b\b\b\b\b\b\b\b\b\b\b\b\b\b\b\b\b\b\b\b\b\b\b\b\b\b\b\b\b\b\b\b\b\b\b\b\b\b\b\b\b\b\b\b\b\b\b\b\b\b\b\b\b\b\b\b\b\b\b\b\b\b\b\b\b\b\b\b\b\b\b\b\b\b\b\b\b\b\b\b\b\b\b\b\b\b\b\b\b\b\b\b\b\r 7/21 [=========>....................] - ETA: 3s - loss: 5.5123e-04 - recall_3: 1.0000 - precision_3: 1.0000"
          ]
        },
        {
          "output_type": "stream",
          "name": "stderr",
          "text": [
            "\n",
            "\n",
            "\n",
            "Epoch: 114it [01:08,  3.60it/s]\u001b[A\u001b[A\u001b[A"
          ]
        },
        {
          "output_type": "stream",
          "name": "stdout",
          "text": [
            "\b\b\b\b\b\b\b\b\b\b\b\b\b\b\b\b\b\b\b\b\b\b\b\b\b\b\b\b\b\b\b\b\b\b\b\b\b\b\b\b\b\b\b\b\b\b\b\b\b\b\b\b\b\b\b\b\b\b\b\b\b\b\b\b\b\b\b\b\b\b\b\b\b\b\b\b\b\b\b\b\b\b\b\b\b\b\b\b\b\b\b\b\b\b\b\b\b\b\b\b\b\b\b\b\b\b\b\b\r 8/21 [==========>...................] - ETA: 3s - loss: 5.6503e-04 - recall_3: 1.0000 - precision_3: 1.0000"
          ]
        },
        {
          "output_type": "stream",
          "name": "stderr",
          "text": [
            "\n",
            "\n",
            "\n",
            "Epoch: 115it [01:09,  3.61it/s]\u001b[A\u001b[A\u001b[A"
          ]
        },
        {
          "output_type": "stream",
          "name": "stdout",
          "text": [
            "\b\b\b\b\b\b\b\b\b\b\b\b\b\b\b\b\b\b\b\b\b\b\b\b\b\b\b\b\b\b\b\b\b\b\b\b\b\b\b\b\b\b\b\b\b\b\b\b\b\b\b\b\b\b\b\b\b\b\b\b\b\b\b\b\b\b\b\b\b\b\b\b\b\b\b\b\b\b\b\b\b\b\b\b\b\b\b\b\b\b\b\b\b\b\b\b\b\b\b\b\b\b\b\b\b\b\b\b\r 9/21 [===========>..................] - ETA: 3s - loss: 5.7693e-04 - recall_3: 1.0000 - precision_3: 1.0000"
          ]
        },
        {
          "output_type": "stream",
          "name": "stderr",
          "text": [
            "\n",
            "\n",
            "\n",
            "Epoch: 116it [01:09,  3.63it/s]\u001b[A\u001b[A\u001b[A"
          ]
        },
        {
          "output_type": "stream",
          "name": "stdout",
          "text": [
            "\b\b\b\b\b\b\b\b\b\b\b\b\b\b\b\b\b\b\b\b\b\b\b\b\b\b\b\b\b\b\b\b\b\b\b\b\b\b\b\b\b\b\b\b\b\b\b\b\b\b\b\b\b\b\b\b\b\b\b\b\b\b\b\b\b\b\b\b\b\b\b\b\b\b\b\b\b\b\b\b\b\b\b\b\b\b\b\b\b\b\b\b\b\b\b\b\b\b\b\b\b\b\b\b\b\b\b\b\r10/21 [=============>................] - ETA: 3s - loss: 6.2051e-04 - recall_3: 1.0000 - precision_3: 1.0000"
          ]
        },
        {
          "output_type": "stream",
          "name": "stderr",
          "text": [
            "\n",
            "\n",
            "\n",
            "Epoch: 117it [01:09,  3.59it/s]\u001b[A\u001b[A\u001b[A"
          ]
        },
        {
          "output_type": "stream",
          "name": "stdout",
          "text": [
            "\b\b\b\b\b\b\b\b\b\b\b\b\b\b\b\b\b\b\b\b\b\b\b\b\b\b\b\b\b\b\b\b\b\b\b\b\b\b\b\b\b\b\b\b\b\b\b\b\b\b\b\b\b\b\b\b\b\b\b\b\b\b\b\b\b\b\b\b\b\b\b\b\b\b\b\b\b\b\b\b\b\b\b\b\b\b\b\b\b\b\b\b\b\b\b\b\b\b\b\b\b\b\b\b\b\b\b\b\r11/21 [==============>...............] - ETA: 2s - loss: 5.7183e-04 - recall_3: 1.0000 - precision_3: 1.0000"
          ]
        },
        {
          "output_type": "stream",
          "name": "stderr",
          "text": [
            "\n",
            "\n",
            "\n",
            "Epoch: 118it [01:09,  3.61it/s]\u001b[A\u001b[A\u001b[A"
          ]
        },
        {
          "output_type": "stream",
          "name": "stdout",
          "text": [
            "\b\b\b\b\b\b\b\b\b\b\b\b\b\b\b\b\b\b\b\b\b\b\b\b\b\b\b\b\b\b\b\b\b\b\b\b\b\b\b\b\b\b\b\b\b\b\b\b\b\b\b\b\b\b\b\b\b\b\b\b\b\b\b\b\b\b\b\b\b\b\b\b\b\b\b\b\b\b\b\b\b\b\b\b\b\b\b\b\b\b\b\b\b\b\b\b\b\b\b\b\b\b\b\b\b\b\b\b\r12/21 [================>.............] - ETA: 2s - loss: 5.3075e-04 - recall_3: 1.0000 - precision_3: 1.0000"
          ]
        },
        {
          "output_type": "stream",
          "name": "stderr",
          "text": [
            "\n",
            "\n",
            "\n",
            "Epoch: 119it [01:10,  3.59it/s]\u001b[A\u001b[A\u001b[A"
          ]
        },
        {
          "output_type": "stream",
          "name": "stdout",
          "text": [
            "\b\b\b\b\b\b\b\b\b\b\b\b\b\b\b\b\b\b\b\b\b\b\b\b\b\b\b\b\b\b\b\b\b\b\b\b\b\b\b\b\b\b\b\b\b\b\b\b\b\b\b\b\b\b\b\b\b\b\b\b\b\b\b\b\b\b\b\b\b\b\b\b\b\b\b\b\b\b\b\b\b\b\b\b\b\b\b\b\b\b\b\b\b\b\b\b\b\b\b\b\b\b\b\b\b\b\b\b\r13/21 [=================>............] - ETA: 2s - loss: 4.9413e-04 - recall_3: 1.0000 - precision_3: 1.0000"
          ]
        },
        {
          "output_type": "stream",
          "name": "stderr",
          "text": [
            "\n",
            "\n",
            "\n",
            "Epoch: 120it [01:10,  3.59it/s]\u001b[A\u001b[A\u001b[A"
          ]
        },
        {
          "output_type": "stream",
          "name": "stdout",
          "text": [
            "\b\b\b\b\b\b\b\b\b\b\b\b\b\b\b\b\b\b\b\b\b\b\b\b\b\b\b\b\b\b\b\b\b\b\b\b\b\b\b\b\b\b\b\b\b\b\b\b\b\b\b\b\b\b\b\b\b\b\b\b\b\b\b\b\b\b\b\b\b\b\b\b\b\b\b\b\b\b\b\b\b\b\b\b\b\b\b\b\b\b\b\b\b\b\b\b\b\b\b\b\b\b\b\b\b\b\b\b\r14/21 [===================>..........] - ETA: 1s - loss: 4.8683e-04 - recall_3: 1.0000 - precision_3: 1.0000"
          ]
        },
        {
          "output_type": "stream",
          "name": "stderr",
          "text": [
            "\n",
            "\n",
            "\n",
            "Epoch: 121it [01:10,  3.61it/s]\u001b[A\u001b[A\u001b[A"
          ]
        },
        {
          "output_type": "stream",
          "name": "stdout",
          "text": [
            "\b\b\b\b\b\b\b\b\b\b\b\b\b\b\b\b\b\b\b\b\b\b\b\b\b\b\b\b\b\b\b\b\b\b\b\b\b\b\b\b\b\b\b\b\b\b\b\b\b\b\b\b\b\b\b\b\b\b\b\b\b\b\b\b\b\b\b\b\b\b\b\b\b\b\b\b\b\b\b\b\b\b\b\b\b\b\b\b\b\b\b\b\b\b\b\b\b\b\b\b\b\b\b\b\b\b\b\b\r15/21 [====================>.........] - ETA: 1s - loss: 4.9256e-04 - recall_3: 1.0000 - precision_3: 1.0000"
          ]
        },
        {
          "output_type": "stream",
          "name": "stderr",
          "text": [
            "\n",
            "\n",
            "\n",
            "Epoch: 122it [01:11,  3.63it/s]\u001b[A\u001b[A\u001b[A"
          ]
        },
        {
          "output_type": "stream",
          "name": "stdout",
          "text": [
            "\b\b\b\b\b\b\b\b\b\b\b\b\b\b\b\b\b\b\b\b\b\b\b\b\b\b\b\b\b\b\b\b\b\b\b\b\b\b\b\b\b\b\b\b\b\b\b\b\b\b\b\b\b\b\b\b\b\b\b\b\b\b\b\b\b\b\b\b\b\b\b\b\b\b\b\b\b\b\b\b\b\b\b\b\b\b\b\b\b\b\b\b\b\b\b\b\b\b\b\b\b\b\b\b\b\b\b\b\r16/21 [=====================>........] - ETA: 1s - loss: 4.7235e-04 - recall_3: 1.0000 - precision_3: 1.0000"
          ]
        },
        {
          "output_type": "stream",
          "name": "stderr",
          "text": [
            "\n",
            "\n",
            "\n",
            "Epoch: 123it [01:11,  3.63it/s]\u001b[A\u001b[A\u001b[A"
          ]
        },
        {
          "output_type": "stream",
          "name": "stdout",
          "text": [
            "\b\b\b\b\b\b\b\b\b\b\b\b\b\b\b\b\b\b\b\b\b\b\b\b\b\b\b\b\b\b\b\b\b\b\b\b\b\b\b\b\b\b\b\b\b\b\b\b\b\b\b\b\b\b\b\b\b\b\b\b\b\b\b\b\b\b\b\b\b\b\b\b\b\b\b\b\b\b\b\b\b\b\b\b\b\b\b\b\b\b\b\b\b\b\b\b\b\b\b\b\b\b\b\b\b\b\b\b\r17/21 [=======================>......] - ETA: 1s - loss: 4.5964e-04 - recall_3: 1.0000 - precision_3: 1.0000"
          ]
        },
        {
          "output_type": "stream",
          "name": "stderr",
          "text": [
            "\n",
            "\n",
            "\n",
            "Epoch: 124it [01:11,  3.63it/s]\u001b[A\u001b[A\u001b[A"
          ]
        },
        {
          "output_type": "stream",
          "name": "stdout",
          "text": [
            "\b\b\b\b\b\b\b\b\b\b\b\b\b\b\b\b\b\b\b\b\b\b\b\b\b\b\b\b\b\b\b\b\b\b\b\b\b\b\b\b\b\b\b\b\b\b\b\b\b\b\b\b\b\b\b\b\b\b\b\b\b\b\b\b\b\b\b\b\b\b\b\b\b\b\b\b\b\b\b\b\b\b\b\b\b\b\b\b\b\b\b\b\b\b\b\b\b\b\b\b\b\b\b\b\b\b\b\b\r18/21 [========================>.....] - ETA: 0s - loss: 5.1893e-04 - recall_3: 1.0000 - precision_3: 1.0000"
          ]
        },
        {
          "output_type": "stream",
          "name": "stderr",
          "text": [
            "\n",
            "\n",
            "\n",
            "Epoch: 125it [01:11,  3.64it/s]\u001b[A\u001b[A\u001b[A"
          ]
        },
        {
          "output_type": "stream",
          "name": "stdout",
          "text": [
            "\b\b\b\b\b\b\b\b\b\b\b\b\b\b\b\b\b\b\b\b\b\b\b\b\b\b\b\b\b\b\b\b\b\b\b\b\b\b\b\b\b\b\b\b\b\b\b\b\b\b\b\b\b\b\b\b\b\b\b\b\b\b\b\b\b\b\b\b\b\b\b\b\b\b\b\b\b\b\b\b\b\b\b\b\b\b\b\b\b\b\b\b\b\b\b\b\b\b\b\b\b\b\b\b\b\b\b\b\r19/21 [==========================>...] - ETA: 0s - loss: 5.0479e-04 - recall_3: 1.0000 - precision_3: 1.0000"
          ]
        },
        {
          "output_type": "stream",
          "name": "stderr",
          "text": [
            "\n",
            "\n",
            "\n",
            "Epoch: 126it [01:12,  3.62it/s]\u001b[A\u001b[A\u001b[A"
          ]
        },
        {
          "output_type": "stream",
          "name": "stdout",
          "text": [
            "\b\b\b\b\b\b\b\b\b\b\b\b\b\b\b\b\b\b\b\b\b\b\b\b\b\b\b\b\b\b\b\b\b\b\b\b\b\b\b\b\b\b\b\b\b\b\b\b\b\b\b\b\b\b\b\b\b\b\b\b\b\b\b\b\b\b\b\b\b\b\b\b\b\b\b\b\b\b\b\b\b\b\b\b\b\b\b\b\b\b\b\b\b\b\b\b\b\b\b\b\b\b\b\b\b\b\b\b\r20/21 [===========================>..] - ETA: 0s - loss: 5.0353e-04 - recall_3: 1.0000 - precision_3: 1.0000"
          ]
        },
        {
          "output_type": "stream",
          "name": "stderr",
          "text": [
            "\n",
            "\n",
            "\n",
            "Epoch: 127it [01:12,  3.62it/s]\u001b[A\u001b[A\u001b[A"
          ]
        },
        {
          "output_type": "stream",
          "name": "stdout",
          "text": [
            "21/21 [==============================] - 6s 276ms/step - loss: 4.8449e-04 - recall_3: 1.0000 - precision_3: 1.0000\n",
            "Epoch 7/10\n"
          ]
        },
        {
          "output_type": "stream",
          "name": "stderr",
          "text": [
            "\n",
            "\n",
            "\n",
            "Epoch: 128it [01:12,  3.60it/s]\u001b[A\u001b[A\u001b[A"
          ]
        },
        {
          "output_type": "stream",
          "name": "stdout",
          "text": [
            "\r 1/21 [>.............................] - ETA: 5s - loss: 3.0613e-04 - recall_3: 1.0000 - precision_3: 1.0000"
          ]
        },
        {
          "output_type": "stream",
          "name": "stderr",
          "text": [
            "\n",
            "\n",
            "\n",
            "Epoch: 129it [01:13,  3.64it/s]\u001b[A\u001b[A\u001b[A"
          ]
        },
        {
          "output_type": "stream",
          "name": "stdout",
          "text": [
            "\b\b\b\b\b\b\b\b\b\b\b\b\b\b\b\b\b\b\b\b\b\b\b\b\b\b\b\b\b\b\b\b\b\b\b\b\b\b\b\b\b\b\b\b\b\b\b\b\b\b\b\b\b\b\b\b\b\b\b\b\b\b\b\b\b\b\b\b\b\b\b\b\b\b\b\b\b\b\b\b\b\b\b\b\b\b\b\b\b\b\b\b\b\b\b\b\b\b\b\b\b\b\b\b\b\b\b\b\r 2/21 [=>............................] - ETA: 5s - loss: 1.8636e-04 - recall_3: 1.0000 - precision_3: 1.0000"
          ]
        },
        {
          "output_type": "stream",
          "name": "stderr",
          "text": [
            "\n",
            "\n",
            "\n",
            "Epoch: 130it [01:13,  3.65it/s]\u001b[A\u001b[A\u001b[A"
          ]
        },
        {
          "output_type": "stream",
          "name": "stdout",
          "text": [
            "\b\b\b\b\b\b\b\b\b\b\b\b\b\b\b\b\b\b\b\b\b\b\b\b\b\b\b\b\b\b\b\b\b\b\b\b\b\b\b\b\b\b\b\b\b\b\b\b\b\b\b\b\b\b\b\b\b\b\b\b\b\b\b\b\b\b\b\b\b\b\b\b\b\b\b\b\b\b\b\b\b\b\b\b\b\b\b\b\b\b\b\b\b\b\b\b\b\b\b\b\b\b\b\b\b\b\b\b\r 3/21 [===>..........................] - ETA: 4s - loss: 2.0954e-04 - recall_3: 1.0000 - precision_3: 1.0000"
          ]
        },
        {
          "output_type": "stream",
          "name": "stderr",
          "text": [
            "\n",
            "\n",
            "\n",
            "Epoch: 131it [01:13,  3.66it/s]\u001b[A\u001b[A\u001b[A"
          ]
        },
        {
          "output_type": "stream",
          "name": "stdout",
          "text": [
            "\b\b\b\b\b\b\b\b\b\b\b\b\b\b\b\b\b\b\b\b\b\b\b\b\b\b\b\b\b\b\b\b\b\b\b\b\b\b\b\b\b\b\b\b\b\b\b\b\b\b\b\b\b\b\b\b\b\b\b\b\b\b\b\b\b\b\b\b\b\b\b\b\b\b\b\b\b\b\b\b\b\b\b\b\b\b\b\b\b\b\b\b\b\b\b\b\b\b\b\b\b\b\b\b\b\b\b\b\r 4/21 [====>.........................] - ETA: 4s - loss: 3.0365e-04 - recall_3: 1.0000 - precision_3: 1.0000"
          ]
        },
        {
          "output_type": "stream",
          "name": "stderr",
          "text": [
            "\n",
            "\n",
            "\n",
            "Epoch: 132it [01:13,  3.65it/s]\u001b[A\u001b[A\u001b[A"
          ]
        },
        {
          "output_type": "stream",
          "name": "stdout",
          "text": [
            "\b\b\b\b\b\b\b\b\b\b\b\b\b\b\b\b\b\b\b\b\b\b\b\b\b\b\b\b\b\b\b\b\b\b\b\b\b\b\b\b\b\b\b\b\b\b\b\b\b\b\b\b\b\b\b\b\b\b\b\b\b\b\b\b\b\b\b\b\b\b\b\b\b\b\b\b\b\b\b\b\b\b\b\b\b\b\b\b\b\b\b\b\b\b\b\b\b\b\b\b\b\b\b\b\b\b\b\b\r 5/21 [======>.......................] - ETA: 4s - loss: 2.9615e-04 - recall_3: 1.0000 - precision_3: 1.0000"
          ]
        },
        {
          "output_type": "stream",
          "name": "stderr",
          "text": [
            "\n",
            "\n",
            "\n",
            "Epoch: 133it [01:14,  3.67it/s]\u001b[A\u001b[A\u001b[A"
          ]
        },
        {
          "output_type": "stream",
          "name": "stdout",
          "text": [
            "\b\b\b\b\b\b\b\b\b\b\b\b\b\b\b\b\b\b\b\b\b\b\b\b\b\b\b\b\b\b\b\b\b\b\b\b\b\b\b\b\b\b\b\b\b\b\b\b\b\b\b\b\b\b\b\b\b\b\b\b\b\b\b\b\b\b\b\b\b\b\b\b\b\b\b\b\b\b\b\b\b\b\b\b\b\b\b\b\b\b\b\b\b\b\b\b\b\b\b\b\b\b\b\b\b\b\b\b\r 6/21 [=======>......................] - ETA: 4s - loss: 2.8848e-04 - recall_3: 1.0000 - precision_3: 1.0000"
          ]
        },
        {
          "output_type": "stream",
          "name": "stderr",
          "text": [
            "\n",
            "\n",
            "\n",
            "Epoch: 134it [01:14,  3.68it/s]\u001b[A\u001b[A\u001b[A"
          ]
        },
        {
          "output_type": "stream",
          "name": "stdout",
          "text": [
            "\b\b\b\b\b\b\b\b\b\b\b\b\b\b\b\b\b\b\b\b\b\b\b\b\b\b\b\b\b\b\b\b\b\b\b\b\b\b\b\b\b\b\b\b\b\b\b\b\b\b\b\b\b\b\b\b\b\b\b\b\b\b\b\b\b\b\b\b\b\b\b\b\b\b\b\b\b\b\b\b\b\b\b\b\b\b\b\b\b\b\b\b\b\b\b\b\b\b\b\b\b\b\b\b\b\b\b\b\r 7/21 [=========>....................] - ETA: 3s - loss: 3.2913e-04 - recall_3: 1.0000 - precision_3: 1.0000"
          ]
        },
        {
          "output_type": "stream",
          "name": "stderr",
          "text": [
            "\n",
            "\n",
            "\n",
            "Epoch: 135it [01:14,  3.68it/s]\u001b[A\u001b[A\u001b[A"
          ]
        },
        {
          "output_type": "stream",
          "name": "stdout",
          "text": [
            "\b\b\b\b\b\b\b\b\b\b\b\b\b\b\b\b\b\b\b\b\b\b\b\b\b\b\b\b\b\b\b\b\b\b\b\b\b\b\b\b\b\b\b\b\b\b\b\b\b\b\b\b\b\b\b\b\b\b\b\b\b\b\b\b\b\b\b\b\b\b\b\b\b\b\b\b\b\b\b\b\b\b\b\b\b\b\b\b\b\b\b\b\b\b\b\b\b\b\b\b\b\b\b\b\b\b\b\b\r 8/21 [==========>...................] - ETA: 3s - loss: 4.8431e-04 - recall_3: 1.0000 - precision_3: 1.0000"
          ]
        },
        {
          "output_type": "stream",
          "name": "stderr",
          "text": [
            "\n",
            "\n",
            "\n",
            "Epoch: 136it [01:14,  3.68it/s]\u001b[A\u001b[A\u001b[A"
          ]
        },
        {
          "output_type": "stream",
          "name": "stdout",
          "text": [
            "\b\b\b\b\b\b\b\b\b\b\b\b\b\b\b\b\b\b\b\b\b\b\b\b\b\b\b\b\b\b\b\b\b\b\b\b\b\b\b\b\b\b\b\b\b\b\b\b\b\b\b\b\b\b\b\b\b\b\b\b\b\b\b\b\b\b\b\b\b\b\b\b\b\b\b\b\b\b\b\b\b\b\b\b\b\b\b\b\b\b\b\b\b\b\b\b\b\b\b\b\b\b\b\b\b\b\b\b\r 9/21 [===========>..................] - ETA: 3s - loss: 4.5998e-04 - recall_3: 1.0000 - precision_3: 1.0000"
          ]
        },
        {
          "output_type": "stream",
          "name": "stderr",
          "text": [
            "\n",
            "\n",
            "\n",
            "Epoch: 137it [01:15,  3.68it/s]\u001b[A\u001b[A\u001b[A"
          ]
        },
        {
          "output_type": "stream",
          "name": "stdout",
          "text": [
            "\b\b\b\b\b\b\b\b\b\b\b\b\b\b\b\b\b\b\b\b\b\b\b\b\b\b\b\b\b\b\b\b\b\b\b\b\b\b\b\b\b\b\b\b\b\b\b\b\b\b\b\b\b\b\b\b\b\b\b\b\b\b\b\b\b\b\b\b\b\b\b\b\b\b\b\b\b\b\b\b\b\b\b\b\b\b\b\b\b\b\b\b\b\b\b\b\b\b\b\b\b\b\b\b\b\b\b\b\r10/21 [=============>................] - ETA: 2s - loss: 4.1877e-04 - recall_3: 1.0000 - precision_3: 1.0000"
          ]
        },
        {
          "output_type": "stream",
          "name": "stderr",
          "text": [
            "\n",
            "\n",
            "\n",
            "Epoch: 138it [01:15,  3.68it/s]\u001b[A\u001b[A\u001b[A"
          ]
        },
        {
          "output_type": "stream",
          "name": "stdout",
          "text": [
            "\b\b\b\b\b\b\b\b\b\b\b\b\b\b\b\b\b\b\b\b\b\b\b\b\b\b\b\b\b\b\b\b\b\b\b\b\b\b\b\b\b\b\b\b\b\b\b\b\b\b\b\b\b\b\b\b\b\b\b\b\b\b\b\b\b\b\b\b\b\b\b\b\b\b\b\b\b\b\b\b\b\b\b\b\b\b\b\b\b\b\b\b\b\b\b\b\b\b\b\b\b\b\b\b\b\b\b\b\r11/21 [==============>...............] - ETA: 2s - loss: 0.0105 - recall_3: 0.9972 - precision_3: 0.9972    "
          ]
        },
        {
          "output_type": "stream",
          "name": "stderr",
          "text": [
            "\n",
            "\n",
            "\n",
            "Epoch: 139it [01:15,  3.68it/s]\u001b[A\u001b[A\u001b[A"
          ]
        },
        {
          "output_type": "stream",
          "name": "stdout",
          "text": [
            "\b\b\b\b\b\b\b\b\b\b\b\b\b\b\b\b\b\b\b\b\b\b\b\b\b\b\b\b\b\b\b\b\b\b\b\b\b\b\b\b\b\b\b\b\b\b\b\b\b\b\b\b\b\b\b\b\b\b\b\b\b\b\b\b\b\b\b\b\b\b\b\b\b\b\b\b\b\b\b\b\b\b\b\b\b\b\b\b\b\b\b\b\b\b\b\b\b\b\b\b\b\b\b\b\r12/21 [================>.............] - ETA: 2s - loss: 0.0096 - recall_3: 0.9974 - precision_3: 0.9974"
          ]
        },
        {
          "output_type": "stream",
          "name": "stderr",
          "text": [
            "\n",
            "\n",
            "\n",
            "Epoch: 140it [01:16,  3.68it/s]\u001b[A\u001b[A\u001b[A"
          ]
        },
        {
          "output_type": "stream",
          "name": "stdout",
          "text": [
            "\b\b\b\b\b\b\b\b\b\b\b\b\b\b\b\b\b\b\b\b\b\b\b\b\b\b\b\b\b\b\b\b\b\b\b\b\b\b\b\b\b\b\b\b\b\b\b\b\b\b\b\b\b\b\b\b\b\b\b\b\b\b\b\b\b\b\b\b\b\b\b\b\b\b\b\b\b\b\b\b\b\b\b\b\b\b\b\b\b\b\b\b\b\b\b\b\b\b\b\b\b\b\b\b\r13/21 [=================>............] - ETA: 2s - loss: 0.0089 - recall_3: 0.9976 - precision_3: 0.9976"
          ]
        },
        {
          "output_type": "stream",
          "name": "stderr",
          "text": [
            "\n",
            "\n",
            "\n",
            "Epoch: 141it [01:16,  3.69it/s]\u001b[A\u001b[A\u001b[A"
          ]
        },
        {
          "output_type": "stream",
          "name": "stdout",
          "text": [
            "\b\b\b\b\b\b\b\b\b\b\b\b\b\b\b\b\b\b\b\b\b\b\b\b\b\b\b\b\b\b\b\b\b\b\b\b\b\b\b\b\b\b\b\b\b\b\b\b\b\b\b\b\b\b\b\b\b\b\b\b\b\b\b\b\b\b\b\b\b\b\b\b\b\b\b\b\b\b\b\b\b\b\b\b\b\b\b\b\b\b\b\b\b\b\b\b\b\b\b\b\b\b\b\b\r14/21 [===================>..........] - ETA: 1s - loss: 0.0083 - recall_3: 0.9978 - precision_3: 0.9978"
          ]
        },
        {
          "output_type": "stream",
          "name": "stderr",
          "text": [
            "\n",
            "\n",
            "\n",
            "Epoch: 142it [01:16,  3.69it/s]\u001b[A\u001b[A\u001b[A"
          ]
        },
        {
          "output_type": "stream",
          "name": "stdout",
          "text": [
            "\b\b\b\b\b\b\b\b\b\b\b\b\b\b\b\b\b\b\b\b\b\b\b\b\b\b\b\b\b\b\b\b\b\b\b\b\b\b\b\b\b\b\b\b\b\b\b\b\b\b\b\b\b\b\b\b\b\b\b\b\b\b\b\b\b\b\b\b\b\b\b\b\b\b\b\b\b\b\b\b\b\b\b\b\b\b\b\b\b\b\b\b\b\b\b\b\b\b\b\b\b\b\b\b\r15/21 [====================>.........] - ETA: 1s - loss: 0.0078 - recall_3: 0.9979 - precision_3: 0.9979"
          ]
        },
        {
          "output_type": "stream",
          "name": "stderr",
          "text": [
            "\n",
            "\n",
            "\n",
            "Epoch: 143it [01:16,  3.69it/s]\u001b[A\u001b[A\u001b[A"
          ]
        },
        {
          "output_type": "stream",
          "name": "stdout",
          "text": [
            "\b\b\b\b\b\b\b\b\b\b\b\b\b\b\b\b\b\b\b\b\b\b\b\b\b\b\b\b\b\b\b\b\b\b\b\b\b\b\b\b\b\b\b\b\b\b\b\b\b\b\b\b\b\b\b\b\b\b\b\b\b\b\b\b\b\b\b\b\b\b\b\b\b\b\b\b\b\b\b\b\b\b\b\b\b\b\b\b\b\b\b\b\b\b\b\b\b\b\b\b\b\b\b\b\r16/21 [=====================>........] - ETA: 1s - loss: 0.0083 - recall_3: 0.9980 - precision_3: 0.9980"
          ]
        },
        {
          "output_type": "stream",
          "name": "stderr",
          "text": [
            "\n",
            "\n",
            "\n",
            "Epoch: 144it [01:17,  3.70it/s]\u001b[A\u001b[A\u001b[A"
          ]
        },
        {
          "output_type": "stream",
          "name": "stdout",
          "text": [
            "\b\b\b\b\b\b\b\b\b\b\b\b\b\b\b\b\b\b\b\b\b\b\b\b\b\b\b\b\b\b\b\b\b\b\b\b\b\b\b\b\b\b\b\b\b\b\b\b\b\b\b\b\b\b\b\b\b\b\b\b\b\b\b\b\b\b\b\b\b\b\b\b\b\b\b\b\b\b\b\b\b\b\b\b\b\b\b\b\b\b\b\b\b\b\b\b\b\b\b\b\b\b\b\b\r17/21 [=======================>......] - ETA: 1s - loss: 0.0078 - recall_3: 0.9982 - precision_3: 0.9982"
          ]
        },
        {
          "output_type": "stream",
          "name": "stderr",
          "text": [
            "\n",
            "\n",
            "\n",
            "Epoch: 145it [01:17,  3.70it/s]\u001b[A\u001b[A\u001b[A"
          ]
        },
        {
          "output_type": "stream",
          "name": "stdout",
          "text": [
            "\b\b\b\b\b\b\b\b\b\b\b\b\b\b\b\b\b\b\b\b\b\b\b\b\b\b\b\b\b\b\b\b\b\b\b\b\b\b\b\b\b\b\b\b\b\b\b\b\b\b\b\b\b\b\b\b\b\b\b\b\b\b\b\b\b\b\b\b\b\b\b\b\b\b\b\b\b\b\b\b\b\b\b\b\b\b\b\b\b\b\b\b\b\b\b\b\b\b\b\b\b\b\b\b\r18/21 [========================>.....] - ETA: 0s - loss: 0.0074 - recall_3: 0.9983 - precision_3: 0.9983"
          ]
        },
        {
          "output_type": "stream",
          "name": "stderr",
          "text": [
            "\n",
            "\n",
            "\n",
            "Epoch: 146it [01:17,  3.70it/s]\u001b[A\u001b[A\u001b[A"
          ]
        },
        {
          "output_type": "stream",
          "name": "stdout",
          "text": [
            "\b\b\b\b\b\b\b\b\b\b\b\b\b\b\b\b\b\b\b\b\b\b\b\b\b\b\b\b\b\b\b\b\b\b\b\b\b\b\b\b\b\b\b\b\b\b\b\b\b\b\b\b\b\b\b\b\b\b\b\b\b\b\b\b\b\b\b\b\b\b\b\b\b\b\b\b\b\b\b\b\b\b\b\b\b\b\b\b\b\b\b\b\b\b\b\b\b\b\b\b\b\b\b\b\r19/21 [==========================>...] - ETA: 0s - loss: 0.0070 - recall_3: 0.9984 - precision_3: 0.9984"
          ]
        },
        {
          "output_type": "stream",
          "name": "stderr",
          "text": [
            "\n",
            "\n",
            "\n",
            "Epoch: 147it [01:17,  3.70it/s]\u001b[A\u001b[A\u001b[A"
          ]
        },
        {
          "output_type": "stream",
          "name": "stdout",
          "text": [
            "\b\b\b\b\b\b\b\b\b\b\b\b\b\b\b\b\b\b\b\b\b\b\b\b\b\b\b\b\b\b\b\b\b\b\b\b\b\b\b\b\b\b\b\b\b\b\b\b\b\b\b\b\b\b\b\b\b\b\b\b\b\b\b\b\b\b\b\b\b\b\b\b\b\b\b\b\b\b\b\b\b\b\b\b\b\b\b\b\b\b\b\b\b\b\b\b\b\b\b\b\b\b\b\b\r20/21 [===========================>..] - ETA: 0s - loss: 0.0067 - recall_3: 0.9984 - precision_3: 0.9984"
          ]
        },
        {
          "output_type": "stream",
          "name": "stderr",
          "text": [
            "\n",
            "\n",
            "\n",
            "Epoch: 148it [01:18,  3.71it/s]\u001b[A\u001b[A\u001b[A"
          ]
        },
        {
          "output_type": "stream",
          "name": "stdout",
          "text": [
            "21/21 [==============================] - 6s 272ms/step - loss: 0.0065 - recall_3: 0.9985 - precision_3: 0.9985\n",
            "Epoch 8/10\n"
          ]
        },
        {
          "output_type": "stream",
          "name": "stderr",
          "text": [
            "\n",
            "\n",
            "\n",
            "Epoch: 149it [01:18,  3.64it/s]\u001b[A\u001b[A\u001b[A"
          ]
        },
        {
          "output_type": "stream",
          "name": "stdout",
          "text": [
            "\r 1/21 [>.............................] - ETA: 5s - loss: 0.0122 - recall_3: 1.0000 - precision_3: 1.0000"
          ]
        },
        {
          "output_type": "stream",
          "name": "stderr",
          "text": [
            "\n",
            "\n",
            "\n",
            "Epoch: 150it [01:18,  3.68it/s]\u001b[A\u001b[A\u001b[A"
          ]
        },
        {
          "output_type": "stream",
          "name": "stdout",
          "text": [
            "\b\b\b\b\b\b\b\b\b\b\b\b\b\b\b\b\b\b\b\b\b\b\b\b\b\b\b\b\b\b\b\b\b\b\b\b\b\b\b\b\b\b\b\b\b\b\b\b\b\b\b\b\b\b\b\b\b\b\b\b\b\b\b\b\b\b\b\b\b\b\b\b\b\b\b\b\b\b\b\b\b\b\b\b\b\b\b\b\b\b\b\b\b\b\b\b\b\b\b\b\b\b\b\b\r 2/21 [=>............................] - ETA: 5s - loss: 0.0085 - recall_3: 1.0000 - precision_3: 1.0000"
          ]
        },
        {
          "output_type": "stream",
          "name": "stderr",
          "text": [
            "\n",
            "\n",
            "\n",
            "Epoch: 151it [01:18,  3.69it/s]\u001b[A\u001b[A\u001b[A"
          ]
        },
        {
          "output_type": "stream",
          "name": "stdout",
          "text": [
            "\b\b\b\b\b\b\b\b\b\b\b\b\b\b\b\b\b\b\b\b\b\b\b\b\b\b\b\b\b\b\b\b\b\b\b\b\b\b\b\b\b\b\b\b\b\b\b\b\b\b\b\b\b\b\b\b\b\b\b\b\b\b\b\b\b\b\b\b\b\b\b\b\b\b\b\b\b\b\b\b\b\b\b\b\b\b\b\b\b\b\b\b\b\b\b\b\b\b\b\b\b\b\b\b\r 3/21 [===>..........................] - ETA: 4s - loss: 0.0057 - recall_3: 1.0000 - precision_3: 1.0000"
          ]
        },
        {
          "output_type": "stream",
          "name": "stderr",
          "text": [
            "\n",
            "\n",
            "\n",
            "Epoch: 152it [01:19,  3.70it/s]\u001b[A\u001b[A\u001b[A"
          ]
        },
        {
          "output_type": "stream",
          "name": "stdout",
          "text": [
            "\b\b\b\b\b\b\b\b\b\b\b\b\b\b\b\b\b\b\b\b\b\b\b\b\b\b\b\b\b\b\b\b\b\b\b\b\b\b\b\b\b\b\b\b\b\b\b\b\b\b\b\b\b\b\b\b\b\b\b\b\b\b\b\b\b\b\b\b\b\b\b\b\b\b\b\b\b\b\b\b\b\b\b\b\b\b\b\b\b\b\b\b\b\b\b\b\b\b\b\b\b\b\b\b\r 4/21 [====>.........................] - ETA: 4s - loss: 0.0044 - recall_3: 1.0000 - precision_3: 1.0000"
          ]
        },
        {
          "output_type": "stream",
          "name": "stderr",
          "text": [
            "\n",
            "\n",
            "\n",
            "Epoch: 153it [01:19,  3.69it/s]\u001b[A\u001b[A\u001b[A"
          ]
        },
        {
          "output_type": "stream",
          "name": "stdout",
          "text": [
            "\b\b\b\b\b\b\b\b\b\b\b\b\b\b\b\b\b\b\b\b\b\b\b\b\b\b\b\b\b\b\b\b\b\b\b\b\b\b\b\b\b\b\b\b\b\b\b\b\b\b\b\b\b\b\b\b\b\b\b\b\b\b\b\b\b\b\b\b\b\b\b\b\b\b\b\b\b\b\b\b\b\b\b\b\b\b\b\b\b\b\b\b\b\b\b\b\b\b\b\b\b\b\b\b\r 5/21 [======>.......................] - ETA: 4s - loss: 0.0035 - recall_3: 1.0000 - precision_3: 1.0000"
          ]
        },
        {
          "output_type": "stream",
          "name": "stderr",
          "text": [
            "\n",
            "\n",
            "\n",
            "Epoch: 154it [01:19,  3.71it/s]\u001b[A\u001b[A\u001b[A"
          ]
        },
        {
          "output_type": "stream",
          "name": "stdout",
          "text": [
            "\b\b\b\b\b\b\b\b\b\b\b\b\b\b\b\b\b\b\b\b\b\b\b\b\b\b\b\b\b\b\b\b\b\b\b\b\b\b\b\b\b\b\b\b\b\b\b\b\b\b\b\b\b\b\b\b\b\b\b\b\b\b\b\b\b\b\b\b\b\b\b\b\b\b\b\b\b\b\b\b\b\b\b\b\b\b\b\b\b\b\b\b\b\b\b\b\b\b\b\b\b\b\b\b\r 6/21 [=======>......................] - ETA: 4s - loss: 0.0030 - recall_3: 1.0000 - precision_3: 1.0000"
          ]
        },
        {
          "output_type": "stream",
          "name": "stderr",
          "text": [
            "\n",
            "\n",
            "\n",
            "Epoch: 155it [01:20,  3.72it/s]\u001b[A\u001b[A\u001b[A"
          ]
        },
        {
          "output_type": "stream",
          "name": "stdout",
          "text": [
            "\b\b\b\b\b\b\b\b\b\b\b\b\b\b\b\b\b\b\b\b\b\b\b\b\b\b\b\b\b\b\b\b\b\b\b\b\b\b\b\b\b\b\b\b\b\b\b\b\b\b\b\b\b\b\b\b\b\b\b\b\b\b\b\b\b\b\b\b\b\b\b\b\b\b\b\b\b\b\b\b\b\b\b\b\b\b\b\b\b\b\b\b\b\b\b\b\b\b\b\b\b\b\b\b\r 7/21 [=========>....................] - ETA: 3s - loss: 0.0026 - recall_3: 1.0000 - precision_3: 1.0000"
          ]
        },
        {
          "output_type": "stream",
          "name": "stderr",
          "text": [
            "\n",
            "\n",
            "\n",
            "Epoch: 156it [01:20,  3.67it/s]\u001b[A\u001b[A\u001b[A"
          ]
        },
        {
          "output_type": "stream",
          "name": "stdout",
          "text": [
            "\b\b\b\b\b\b\b\b\b\b\b\b\b\b\b\b\b\b\b\b\b\b\b\b\b\b\b\b\b\b\b\b\b\b\b\b\b\b\b\b\b\b\b\b\b\b\b\b\b\b\b\b\b\b\b\b\b\b\b\b\b\b\b\b\b\b\b\b\b\b\b\b\b\b\b\b\b\b\b\b\b\b\b\b\b\b\b\b\b\b\b\b\b\b\b\b\b\b\b\b\b\b\b\b\r 8/21 [==========>...................] - ETA: 3s - loss: 0.0023 - recall_3: 1.0000 - precision_3: 1.0000"
          ]
        },
        {
          "output_type": "stream",
          "name": "stderr",
          "text": [
            "\n",
            "\n",
            "\n",
            "Epoch: 157it [01:20,  3.66it/s]\u001b[A\u001b[A\u001b[A"
          ]
        },
        {
          "output_type": "stream",
          "name": "stdout",
          "text": [
            "\b\b\b\b\b\b\b\b\b\b\b\b\b\b\b\b\b\b\b\b\b\b\b\b\b\b\b\b\b\b\b\b\b\b\b\b\b\b\b\b\b\b\b\b\b\b\b\b\b\b\b\b\b\b\b\b\b\b\b\b\b\b\b\b\b\b\b\b\b\b\b\b\b\b\b\b\b\b\b\b\b\b\b\b\b\b\b\b\b\b\b\b\b\b\b\b\b\b\b\b\b\b\b\b\r 9/21 [===========>..................] - ETA: 3s - loss: 0.0020 - recall_3: 1.0000 - precision_3: 1.0000"
          ]
        },
        {
          "output_type": "stream",
          "name": "stderr",
          "text": [
            "\n",
            "\n",
            "\n",
            "Epoch: 158it [01:20,  3.69it/s]\u001b[A\u001b[A\u001b[A"
          ]
        },
        {
          "output_type": "stream",
          "name": "stdout",
          "text": [
            "\b\b\b\b\b\b\b\b\b\b\b\b\b\b\b\b\b\b\b\b\b\b\b\b\b\b\b\b\b\b\b\b\b\b\b\b\b\b\b\b\b\b\b\b\b\b\b\b\b\b\b\b\b\b\b\b\b\b\b\b\b\b\b\b\b\b\b\b\b\b\b\b\b\b\b\b\b\b\b\b\b\b\b\b\b\b\b\b\b\b\b\b\b\b\b\b\b\b\b\b\b\b\b\b\r10/21 [=============>................] - ETA: 2s - loss: 0.0018 - recall_3: 1.0000 - precision_3: 1.0000"
          ]
        },
        {
          "output_type": "stream",
          "name": "stderr",
          "text": [
            "\n",
            "\n",
            "\n",
            "Epoch: 159it [01:21,  3.71it/s]\u001b[A\u001b[A\u001b[A"
          ]
        },
        {
          "output_type": "stream",
          "name": "stdout",
          "text": [
            "\b\b\b\b\b\b\b\b\b\b\b\b\b\b\b\b\b\b\b\b\b\b\b\b\b\b\b\b\b\b\b\b\b\b\b\b\b\b\b\b\b\b\b\b\b\b\b\b\b\b\b\b\b\b\b\b\b\b\b\b\b\b\b\b\b\b\b\b\b\b\b\b\b\b\b\b\b\b\b\b\b\b\b\b\b\b\b\b\b\b\b\b\b\b\b\b\b\b\b\b\b\b\b\b\r11/21 [==============>...............] - ETA: 2s - loss: 0.0017 - recall_3: 1.0000 - precision_3: 1.0000"
          ]
        },
        {
          "output_type": "stream",
          "name": "stderr",
          "text": [
            "\n",
            "\n",
            "\n",
            "Epoch: 160it [01:21,  3.69it/s]\u001b[A\u001b[A\u001b[A"
          ]
        },
        {
          "output_type": "stream",
          "name": "stdout",
          "text": [
            "\b\b\b\b\b\b\b\b\b\b\b\b\b\b\b\b\b\b\b\b\b\b\b\b\b\b\b\b\b\b\b\b\b\b\b\b\b\b\b\b\b\b\b\b\b\b\b\b\b\b\b\b\b\b\b\b\b\b\b\b\b\b\b\b\b\b\b\b\b\b\b\b\b\b\b\b\b\b\b\b\b\b\b\b\b\b\b\b\b\b\b\b\b\b\b\b\b\b\b\b\b\b\b\b\r12/21 [================>.............] - ETA: 2s - loss: 0.0016 - recall_3: 1.0000 - precision_3: 1.0000"
          ]
        },
        {
          "output_type": "stream",
          "name": "stderr",
          "text": [
            "\n",
            "\n",
            "\n",
            "Epoch: 161it [01:21,  3.71it/s]\u001b[A\u001b[A\u001b[A"
          ]
        },
        {
          "output_type": "stream",
          "name": "stdout",
          "text": [
            "\b\b\b\b\b\b\b\b\b\b\b\b\b\b\b\b\b\b\b\b\b\b\b\b\b\b\b\b\b\b\b\b\b\b\b\b\b\b\b\b\b\b\b\b\b\b\b\b\b\b\b\b\b\b\b\b\b\b\b\b\b\b\b\b\b\b\b\b\b\b\b\b\b\b\b\b\b\b\b\b\b\b\b\b\b\b\b\b\b\b\b\b\b\b\b\b\b\b\b\b\b\b\b\b\r13/21 [=================>............] - ETA: 2s - loss: 0.0015 - recall_3: 1.0000 - precision_3: 1.0000"
          ]
        },
        {
          "output_type": "stream",
          "name": "stderr",
          "text": [
            "\n",
            "\n",
            "\n",
            "Epoch: 162it [01:21,  3.72it/s]\u001b[A\u001b[A\u001b[A"
          ]
        },
        {
          "output_type": "stream",
          "name": "stdout",
          "text": [
            "\b\b\b\b\b\b\b\b\b\b\b\b\b\b\b\b\b\b\b\b\b\b\b\b\b\b\b\b\b\b\b\b\b\b\b\b\b\b\b\b\b\b\b\b\b\b\b\b\b\b\b\b\b\b\b\b\b\b\b\b\b\b\b\b\b\b\b\b\b\b\b\b\b\b\b\b\b\b\b\b\b\b\b\b\b\b\b\b\b\b\b\b\b\b\b\b\b\b\b\b\b\b\b\b\r14/21 [===================>..........] - ETA: 1s - loss: 0.0014 - recall_3: 1.0000 - precision_3: 1.0000"
          ]
        },
        {
          "output_type": "stream",
          "name": "stderr",
          "text": [
            "\n",
            "\n",
            "\n",
            "Epoch: 163it [01:22,  3.73it/s]\u001b[A\u001b[A\u001b[A"
          ]
        },
        {
          "output_type": "stream",
          "name": "stdout",
          "text": [
            "\b\b\b\b\b\b\b\b\b\b\b\b\b\b\b\b\b\b\b\b\b\b\b\b\b\b\b\b\b\b\b\b\b\b\b\b\b\b\b\b\b\b\b\b\b\b\b\b\b\b\b\b\b\b\b\b\b\b\b\b\b\b\b\b\b\b\b\b\b\b\b\b\b\b\b\b\b\b\b\b\b\b\b\b\b\b\b\b\b\b\b\b\b\b\b\b\b\b\b\b\b\b\b\b\r15/21 [====================>.........] - ETA: 1s - loss: 0.0013 - recall_3: 1.0000 - precision_3: 1.0000"
          ]
        },
        {
          "output_type": "stream",
          "name": "stderr",
          "text": [
            "\n",
            "\n",
            "\n",
            "Epoch: 164it [01:22,  3.73it/s]\u001b[A\u001b[A\u001b[A"
          ]
        },
        {
          "output_type": "stream",
          "name": "stdout",
          "text": [
            "\b\b\b\b\b\b\b\b\b\b\b\b\b\b\b\b\b\b\b\b\b\b\b\b\b\b\b\b\b\b\b\b\b\b\b\b\b\b\b\b\b\b\b\b\b\b\b\b\b\b\b\b\b\b\b\b\b\b\b\b\b\b\b\b\b\b\b\b\b\b\b\b\b\b\b\b\b\b\b\b\b\b\b\b\b\b\b\b\b\b\b\b\b\b\b\b\b\b\b\b\b\b\b\b\r16/21 [=====================>........] - ETA: 1s - loss: 0.0012 - recall_3: 1.0000 - precision_3: 1.0000"
          ]
        },
        {
          "output_type": "stream",
          "name": "stderr",
          "text": [
            "\n",
            "\n",
            "\n",
            "Epoch: 165it [01:22,  3.73it/s]\u001b[A\u001b[A\u001b[A"
          ]
        },
        {
          "output_type": "stream",
          "name": "stdout",
          "text": [
            "\b\b\b\b\b\b\b\b\b\b\b\b\b\b\b\b\b\b\b\b\b\b\b\b\b\b\b\b\b\b\b\b\b\b\b\b\b\b\b\b\b\b\b\b\b\b\b\b\b\b\b\b\b\b\b\b\b\b\b\b\b\b\b\b\b\b\b\b\b\b\b\b\b\b\b\b\b\b\b\b\b\b\b\b\b\b\b\b\b\b\b\b\b\b\b\b\b\b\b\b\b\b\b\b\r17/21 [=======================>......] - ETA: 1s - loss: 0.0012 - recall_3: 1.0000 - precision_3: 1.0000"
          ]
        },
        {
          "output_type": "stream",
          "name": "stderr",
          "text": [
            "\n",
            "\n",
            "\n",
            "Epoch: 166it [01:23,  3.73it/s]\u001b[A\u001b[A\u001b[A"
          ]
        },
        {
          "output_type": "stream",
          "name": "stdout",
          "text": [
            "\b\b\b\b\b\b\b\b\b\b\b\b\b\b\b\b\b\b\b\b\b\b\b\b\b\b\b\b\b\b\b\b\b\b\b\b\b\b\b\b\b\b\b\b\b\b\b\b\b\b\b\b\b\b\b\b\b\b\b\b\b\b\b\b\b\b\b\b\b\b\b\b\b\b\b\b\b\b\b\b\b\b\b\b\b\b\b\b\b\b\b\b\b\b\b\b\b\b\b\b\b\b\b\b\r18/21 [========================>.....] - ETA: 0s - loss: 0.0012 - recall_3: 1.0000 - precision_3: 1.0000"
          ]
        },
        {
          "output_type": "stream",
          "name": "stderr",
          "text": [
            "\n",
            "\n",
            "\n",
            "Epoch: 167it [01:23,  3.74it/s]\u001b[A\u001b[A\u001b[A"
          ]
        },
        {
          "output_type": "stream",
          "name": "stdout",
          "text": [
            "\b\b\b\b\b\b\b\b\b\b\b\b\b\b\b\b\b\b\b\b\b\b\b\b\b\b\b\b\b\b\b\b\b\b\b\b\b\b\b\b\b\b\b\b\b\b\b\b\b\b\b\b\b\b\b\b\b\b\b\b\b\b\b\b\b\b\b\b\b\b\b\b\b\b\b\b\b\b\b\b\b\b\b\b\b\b\b\b\b\b\b\b\b\b\b\b\b\b\b\b\b\b\b\b\r19/21 [==========================>...] - ETA: 0s - loss: 0.0011 - recall_3: 1.0000 - precision_3: 1.0000"
          ]
        },
        {
          "output_type": "stream",
          "name": "stderr",
          "text": [
            "\n",
            "\n",
            "\n",
            "Epoch: 168it [01:23,  3.74it/s]\u001b[A\u001b[A\u001b[A"
          ]
        },
        {
          "output_type": "stream",
          "name": "stdout",
          "text": [
            "\b\b\b\b\b\b\b\b\b\b\b\b\b\b\b\b\b\b\b\b\b\b\b\b\b\b\b\b\b\b\b\b\b\b\b\b\b\b\b\b\b\b\b\b\b\b\b\b\b\b\b\b\b\b\b\b\b\b\b\b\b\b\b\b\b\b\b\b\b\b\b\b\b\b\b\b\b\b\b\b\b\b\b\b\b\b\b\b\b\b\b\b\b\b\b\b\b\b\b\b\b\b\b\b\r20/21 [===========================>..] - ETA: 0s - loss: 0.0011 - recall_3: 1.0000 - precision_3: 1.0000"
          ]
        },
        {
          "output_type": "stream",
          "name": "stderr",
          "text": [
            "\n",
            "\n",
            "\n",
            "Epoch: 169it [01:23,  3.71it/s]\u001b[A\u001b[A\u001b[A"
          ]
        },
        {
          "output_type": "stream",
          "name": "stdout",
          "text": [
            "21/21 [==============================] - 6s 269ms/step - loss: 0.0010 - recall_3: 1.0000 - precision_3: 1.0000\n",
            "Epoch 9/10\n"
          ]
        },
        {
          "output_type": "stream",
          "name": "stderr",
          "text": [
            "\n",
            "\n",
            "\n",
            "Epoch: 170it [01:24,  3.70it/s]\u001b[A\u001b[A\u001b[A"
          ]
        },
        {
          "output_type": "stream",
          "name": "stdout",
          "text": [
            "\r 1/21 [>.............................] - ETA: 5s - loss: 8.3876e-05 - recall_3: 1.0000 - precision_3: 1.0000"
          ]
        },
        {
          "output_type": "stream",
          "name": "stderr",
          "text": [
            "\n",
            "\n",
            "\n",
            "Epoch: 171it [01:24,  3.72it/s]\u001b[A\u001b[A\u001b[A"
          ]
        },
        {
          "output_type": "stream",
          "name": "stdout",
          "text": [
            "\b\b\b\b\b\b\b\b\b\b\b\b\b\b\b\b\b\b\b\b\b\b\b\b\b\b\b\b\b\b\b\b\b\b\b\b\b\b\b\b\b\b\b\b\b\b\b\b\b\b\b\b\b\b\b\b\b\b\b\b\b\b\b\b\b\b\b\b\b\b\b\b\b\b\b\b\b\b\b\b\b\b\b\b\b\b\b\b\b\b\b\b\b\b\b\b\b\b\b\b\b\b\b\b\b\b\b\b\r 2/21 [=>............................] - ETA: 5s - loss: 0.0029 - recall_3: 1.0000 - precision_3: 1.0000    "
          ]
        },
        {
          "output_type": "stream",
          "name": "stderr",
          "text": [
            "\n",
            "\n",
            "\n",
            "Epoch: 172it [01:24,  3.71it/s]\u001b[A\u001b[A\u001b[A"
          ]
        },
        {
          "output_type": "stream",
          "name": "stdout",
          "text": [
            "\b\b\b\b\b\b\b\b\b\b\b\b\b\b\b\b\b\b\b\b\b\b\b\b\b\b\b\b\b\b\b\b\b\b\b\b\b\b\b\b\b\b\b\b\b\b\b\b\b\b\b\b\b\b\b\b\b\b\b\b\b\b\b\b\b\b\b\b\b\b\b\b\b\b\b\b\b\b\b\b\b\b\b\b\b\b\b\b\b\b\b\b\b\b\b\b\b\b\b\b\b\b\b\b\r 3/21 [===>..........................] - ETA: 4s - loss: 0.0020 - recall_3: 1.0000 - precision_3: 1.0000"
          ]
        },
        {
          "output_type": "stream",
          "name": "stderr",
          "text": [
            "\n",
            "\n",
            "\n",
            "Epoch: 173it [01:24,  3.72it/s]\u001b[A\u001b[A\u001b[A"
          ]
        },
        {
          "output_type": "stream",
          "name": "stdout",
          "text": [
            "\b\b\b\b\b\b\b\b\b\b\b\b\b\b\b\b\b\b\b\b\b\b\b\b\b\b\b\b\b\b\b\b\b\b\b\b\b\b\b\b\b\b\b\b\b\b\b\b\b\b\b\b\b\b\b\b\b\b\b\b\b\b\b\b\b\b\b\b\b\b\b\b\b\b\b\b\b\b\b\b\b\b\b\b\b\b\b\b\b\b\b\b\b\b\b\b\b\b\b\b\b\b\b\b\r 4/21 [====>.........................] - ETA: 4s - loss: 0.0016 - recall_3: 1.0000 - precision_3: 1.0000"
          ]
        },
        {
          "output_type": "stream",
          "name": "stderr",
          "text": [
            "\n",
            "\n",
            "\n",
            "Epoch: 174it [01:25,  3.73it/s]\u001b[A\u001b[A\u001b[A"
          ]
        },
        {
          "output_type": "stream",
          "name": "stdout",
          "text": [
            "\b\b\b\b\b\b\b\b\b\b\b\b\b\b\b\b\b\b\b\b\b\b\b\b\b\b\b\b\b\b\b\b\b\b\b\b\b\b\b\b\b\b\b\b\b\b\b\b\b\b\b\b\b\b\b\b\b\b\b\b\b\b\b\b\b\b\b\b\b\b\b\b\b\b\b\b\b\b\b\b\b\b\b\b\b\b\b\b\b\b\b\b\b\b\b\b\b\b\b\b\b\b\b\b\r 5/21 [======>.......................] - ETA: 4s - loss: 0.0013 - recall_3: 1.0000 - precision_3: 1.0000"
          ]
        },
        {
          "output_type": "stream",
          "name": "stderr",
          "text": [
            "\n",
            "\n",
            "\n",
            "Epoch: 175it [01:25,  3.73it/s]\u001b[A\u001b[A\u001b[A"
          ]
        },
        {
          "output_type": "stream",
          "name": "stdout",
          "text": [
            "\b\b\b\b\b\b\b\b\b\b\b\b\b\b\b\b\b\b\b\b\b\b\b\b\b\b\b\b\b\b\b\b\b\b\b\b\b\b\b\b\b\b\b\b\b\b\b\b\b\b\b\b\b\b\b\b\b\b\b\b\b\b\b\b\b\b\b\b\b\b\b\b\b\b\b\b\b\b\b\b\b\b\b\b\b\b\b\b\b\b\b\b\b\b\b\b\b\b\b\b\b\b\b\b\r 6/21 [=======>......................] - ETA: 4s - loss: 0.0011 - recall_3: 1.0000 - precision_3: 1.0000"
          ]
        },
        {
          "output_type": "stream",
          "name": "stderr",
          "text": [
            "\n",
            "\n",
            "\n",
            "Epoch: 176it [01:25,  3.73it/s]\u001b[A\u001b[A\u001b[A"
          ]
        },
        {
          "output_type": "stream",
          "name": "stdout",
          "text": [
            "\b\b\b\b\b\b\b\b\b\b\b\b\b\b\b\b\b\b\b\b\b\b\b\b\b\b\b\b\b\b\b\b\b\b\b\b\b\b\b\b\b\b\b\b\b\b\b\b\b\b\b\b\b\b\b\b\b\b\b\b\b\b\b\b\b\b\b\b\b\b\b\b\b\b\b\b\b\b\b\b\b\b\b\b\b\b\b\b\b\b\b\b\b\b\b\b\b\b\b\b\b\b\b\b\r 7/21 [=========>....................] - ETA: 3s - loss: 9.9095e-04 - recall_3: 1.0000 - precision_3: 1.0000"
          ]
        },
        {
          "output_type": "stream",
          "name": "stderr",
          "text": [
            "\n",
            "\n",
            "\n",
            "Epoch: 177it [01:25,  3.74it/s]\u001b[A\u001b[A\u001b[A"
          ]
        },
        {
          "output_type": "stream",
          "name": "stdout",
          "text": [
            "\b\b\b\b\b\b\b\b\b\b\b\b\b\b\b\b\b\b\b\b\b\b\b\b\b\b\b\b\b\b\b\b\b\b\b\b\b\b\b\b\b\b\b\b\b\b\b\b\b\b\b\b\b\b\b\b\b\b\b\b\b\b\b\b\b\b\b\b\b\b\b\b\b\b\b\b\b\b\b\b\b\b\b\b\b\b\b\b\b\b\b\b\b\b\b\b\b\b\b\b\b\b\b\b\b\b\b\b\r 8/21 [==========>...................] - ETA: 3s - loss: 8.8553e-04 - recall_3: 1.0000 - precision_3: 1.0000"
          ]
        },
        {
          "output_type": "stream",
          "name": "stderr",
          "text": [
            "\n",
            "\n",
            "\n",
            "Epoch: 178it [01:26,  3.74it/s]\u001b[A\u001b[A\u001b[A"
          ]
        },
        {
          "output_type": "stream",
          "name": "stdout",
          "text": [
            "\b\b\b\b\b\b\b\b\b\b\b\b\b\b\b\b\b\b\b\b\b\b\b\b\b\b\b\b\b\b\b\b\b\b\b\b\b\b\b\b\b\b\b\b\b\b\b\b\b\b\b\b\b\b\b\b\b\b\b\b\b\b\b\b\b\b\b\b\b\b\b\b\b\b\b\b\b\b\b\b\b\b\b\b\b\b\b\b\b\b\b\b\b\b\b\b\b\b\b\b\b\b\b\b\b\b\b\b\r 9/21 [===========>..................] - ETA: 3s - loss: 7.9436e-04 - recall_3: 1.0000 - precision_3: 1.0000"
          ]
        },
        {
          "output_type": "stream",
          "name": "stderr",
          "text": [
            "\n",
            "\n",
            "\n",
            "Epoch: 179it [01:26,  3.74it/s]\u001b[A\u001b[A\u001b[A"
          ]
        },
        {
          "output_type": "stream",
          "name": "stdout",
          "text": [
            "\b\b\b\b\b\b\b\b\b\b\b\b\b\b\b\b\b\b\b\b\b\b\b\b\b\b\b\b\b\b\b\b\b\b\b\b\b\b\b\b\b\b\b\b\b\b\b\b\b\b\b\b\b\b\b\b\b\b\b\b\b\b\b\b\b\b\b\b\b\b\b\b\b\b\b\b\b\b\b\b\b\b\b\b\b\b\b\b\b\b\b\b\b\b\b\b\b\b\b\b\b\b\b\b\b\b\b\b\r10/21 [=============>................] - ETA: 2s - loss: 7.3093e-04 - recall_3: 1.0000 - precision_3: 1.0000"
          ]
        },
        {
          "output_type": "stream",
          "name": "stderr",
          "text": [
            "\n",
            "\n",
            "\n",
            "Epoch: 180it [01:26,  3.73it/s]\u001b[A\u001b[A\u001b[A"
          ]
        },
        {
          "output_type": "stream",
          "name": "stdout",
          "text": [
            "\b\b\b\b\b\b\b\b\b\b\b\b\b\b\b\b\b\b\b\b\b\b\b\b\b\b\b\b\b\b\b\b\b\b\b\b\b\b\b\b\b\b\b\b\b\b\b\b\b\b\b\b\b\b\b\b\b\b\b\b\b\b\b\b\b\b\b\b\b\b\b\b\b\b\b\b\b\b\b\b\b\b\b\b\b\b\b\b\b\b\b\b\b\b\b\b\b\b\b\b\b\b\b\b\b\b\b\b\r11/21 [==============>...............] - ETA: 2s - loss: 6.7424e-04 - recall_3: 1.0000 - precision_3: 1.0000"
          ]
        },
        {
          "output_type": "stream",
          "name": "stderr",
          "text": [
            "\n",
            "\n",
            "\n",
            "Epoch: 181it [01:27,  3.73it/s]\u001b[A\u001b[A\u001b[A"
          ]
        },
        {
          "output_type": "stream",
          "name": "stdout",
          "text": [
            "\b\b\b\b\b\b\b\b\b\b\b\b\b\b\b\b\b\b\b\b\b\b\b\b\b\b\b\b\b\b\b\b\b\b\b\b\b\b\b\b\b\b\b\b\b\b\b\b\b\b\b\b\b\b\b\b\b\b\b\b\b\b\b\b\b\b\b\b\b\b\b\b\b\b\b\b\b\b\b\b\b\b\b\b\b\b\b\b\b\b\b\b\b\b\b\b\b\b\b\b\b\b\b\b\b\b\b\b\r12/21 [================>.............] - ETA: 2s - loss: 6.3063e-04 - recall_3: 1.0000 - precision_3: 1.0000"
          ]
        },
        {
          "output_type": "stream",
          "name": "stderr",
          "text": [
            "\n",
            "\n",
            "\n",
            "Epoch: 182it [01:27,  3.74it/s]\u001b[A\u001b[A\u001b[A"
          ]
        },
        {
          "output_type": "stream",
          "name": "stdout",
          "text": [
            "\b\b\b\b\b\b\b\b\b\b\b\b\b\b\b\b\b\b\b\b\b\b\b\b\b\b\b\b\b\b\b\b\b\b\b\b\b\b\b\b\b\b\b\b\b\b\b\b\b\b\b\b\b\b\b\b\b\b\b\b\b\b\b\b\b\b\b\b\b\b\b\b\b\b\b\b\b\b\b\b\b\b\b\b\b\b\b\b\b\b\b\b\b\b\b\b\b\b\b\b\b\b\b\b\b\b\b\b\r13/21 [=================>............] - ETA: 2s - loss: 5.8900e-04 - recall_3: 1.0000 - precision_3: 1.0000"
          ]
        },
        {
          "output_type": "stream",
          "name": "stderr",
          "text": [
            "\n",
            "\n",
            "\n",
            "Epoch: 183it [01:27,  3.75it/s]\u001b[A\u001b[A\u001b[A"
          ]
        },
        {
          "output_type": "stream",
          "name": "stdout",
          "text": [
            "\b\b\b\b\b\b\b\b\b\b\b\b\b\b\b\b\b\b\b\b\b\b\b\b\b\b\b\b\b\b\b\b\b\b\b\b\b\b\b\b\b\b\b\b\b\b\b\b\b\b\b\b\b\b\b\b\b\b\b\b\b\b\b\b\b\b\b\b\b\b\b\b\b\b\b\b\b\b\b\b\b\b\b\b\b\b\b\b\b\b\b\b\b\b\b\b\b\b\b\b\b\b\b\b\b\b\b\b\r14/21 [===================>..........] - ETA: 1s - loss: 5.5942e-04 - recall_3: 1.0000 - precision_3: 1.0000"
          ]
        },
        {
          "output_type": "stream",
          "name": "stderr",
          "text": [
            "\n",
            "\n",
            "\n",
            "Epoch: 184it [01:27,  3.75it/s]\u001b[A\u001b[A\u001b[A"
          ]
        },
        {
          "output_type": "stream",
          "name": "stdout",
          "text": [
            "\b\b\b\b\b\b\b\b\b\b\b\b\b\b\b\b\b\b\b\b\b\b\b\b\b\b\b\b\b\b\b\b\b\b\b\b\b\b\b\b\b\b\b\b\b\b\b\b\b\b\b\b\b\b\b\b\b\b\b\b\b\b\b\b\b\b\b\b\b\b\b\b\b\b\b\b\b\b\b\b\b\b\b\b\b\b\b\b\b\b\b\b\b\b\b\b\b\b\b\b\b\b\b\b\b\b\b\b\r15/21 [====================>.........] - ETA: 1s - loss: 5.3008e-04 - recall_3: 1.0000 - precision_3: 1.0000"
          ]
        },
        {
          "output_type": "stream",
          "name": "stderr",
          "text": [
            "\n",
            "\n",
            "\n",
            "Epoch: 185it [01:28,  3.75it/s]\u001b[A\u001b[A\u001b[A"
          ]
        },
        {
          "output_type": "stream",
          "name": "stdout",
          "text": [
            "\b\b\b\b\b\b\b\b\b\b\b\b\b\b\b\b\b\b\b\b\b\b\b\b\b\b\b\b\b\b\b\b\b\b\b\b\b\b\b\b\b\b\b\b\b\b\b\b\b\b\b\b\b\b\b\b\b\b\b\b\b\b\b\b\b\b\b\b\b\b\b\b\b\b\b\b\b\b\b\b\b\b\b\b\b\b\b\b\b\b\b\b\b\b\b\b\b\b\b\b\b\b\b\b\b\b\b\b\r16/21 [=====================>........] - ETA: 1s - loss: 5.0537e-04 - recall_3: 1.0000 - precision_3: 1.0000"
          ]
        },
        {
          "output_type": "stream",
          "name": "stderr",
          "text": [
            "\n",
            "\n",
            "\n",
            "Epoch: 186it [01:28,  3.73it/s]\u001b[A\u001b[A\u001b[A"
          ]
        },
        {
          "output_type": "stream",
          "name": "stdout",
          "text": [
            "\b\b\b\b\b\b\b\b\b\b\b\b\b\b\b\b\b\b\b\b\b\b\b\b\b\b\b\b\b\b\b\b\b\b\b\b\b\b\b\b\b\b\b\b\b\b\b\b\b\b\b\b\b\b\b\b\b\b\b\b\b\b\b\b\b\b\b\b\b\b\b\b\b\b\b\b\b\b\b\b\b\b\b\b\b\b\b\b\b\b\b\b\b\b\b\b\b\b\b\b\b\b\b\b\b\b\b\b\r17/21 [=======================>......] - ETA: 1s - loss: 4.9183e-04 - recall_3: 1.0000 - precision_3: 1.0000"
          ]
        },
        {
          "output_type": "stream",
          "name": "stderr",
          "text": [
            "\n",
            "\n",
            "\n",
            "Epoch: 187it [01:28,  3.72it/s]\u001b[A\u001b[A\u001b[A"
          ]
        },
        {
          "output_type": "stream",
          "name": "stdout",
          "text": [
            "\b\b\b\b\b\b\b\b\b\b\b\b\b\b\b\b\b\b\b\b\b\b\b\b\b\b\b\b\b\b\b\b\b\b\b\b\b\b\b\b\b\b\b\b\b\b\b\b\b\b\b\b\b\b\b\b\b\b\b\b\b\b\b\b\b\b\b\b\b\b\b\b\b\b\b\b\b\b\b\b\b\b\b\b\b\b\b\b\b\b\b\b\b\b\b\b\b\b\b\b\b\b\b\b\b\b\b\b\r18/21 [========================>.....] - ETA: 0s - loss: 5.0114e-04 - recall_3: 1.0000 - precision_3: 1.0000"
          ]
        },
        {
          "output_type": "stream",
          "name": "stderr",
          "text": [
            "\n",
            "\n",
            "\n",
            "Epoch: 188it [01:28,  3.74it/s]\u001b[A\u001b[A\u001b[A"
          ]
        },
        {
          "output_type": "stream",
          "name": "stdout",
          "text": [
            "\b\b\b\b\b\b\b\b\b\b\b\b\b\b\b\b\b\b\b\b\b\b\b\b\b\b\b\b\b\b\b\b\b\b\b\b\b\b\b\b\b\b\b\b\b\b\b\b\b\b\b\b\b\b\b\b\b\b\b\b\b\b\b\b\b\b\b\b\b\b\b\b\b\b\b\b\b\b\b\b\b\b\b\b\b\b\b\b\b\b\b\b\b\b\b\b\b\b\b\b\b\b\b\b\b\b\b\b\r19/21 [==========================>...] - ETA: 0s - loss: 4.7650e-04 - recall_3: 1.0000 - precision_3: 1.0000"
          ]
        },
        {
          "output_type": "stream",
          "name": "stderr",
          "text": [
            "\n",
            "\n",
            "\n",
            "Epoch: 189it [01:29,  3.73it/s]\u001b[A\u001b[A\u001b[A"
          ]
        },
        {
          "output_type": "stream",
          "name": "stdout",
          "text": [
            "\b\b\b\b\b\b\b\b\b\b\b\b\b\b\b\b\b\b\b\b\b\b\b\b\b\b\b\b\b\b\b\b\b\b\b\b\b\b\b\b\b\b\b\b\b\b\b\b\b\b\b\b\b\b\b\b\b\b\b\b\b\b\b\b\b\b\b\b\b\b\b\b\b\b\b\b\b\b\b\b\b\b\b\b\b\b\b\b\b\b\b\b\b\b\b\b\b\b\b\b\b\b\b\b\b\b\b\b\r20/21 [===========================>..] - ETA: 0s - loss: 4.5401e-04 - recall_3: 1.0000 - precision_3: 1.0000"
          ]
        },
        {
          "output_type": "stream",
          "name": "stderr",
          "text": [
            "\n",
            "\n",
            "\n",
            "Epoch: 190it [01:29,  3.75it/s]\u001b[A\u001b[A\u001b[A"
          ]
        },
        {
          "output_type": "stream",
          "name": "stdout",
          "text": [
            "21/21 [==============================] - 6s 268ms/step - loss: 4.3591e-04 - recall_3: 1.0000 - precision_3: 1.0000\n",
            "Epoch 10/10\n"
          ]
        },
        {
          "output_type": "stream",
          "name": "stderr",
          "text": [
            "\n",
            "\n",
            "\n",
            "Epoch: 191it [01:29,  3.70it/s]\u001b[A\u001b[A\u001b[A"
          ]
        },
        {
          "output_type": "stream",
          "name": "stdout",
          "text": [
            "\r 1/21 [>.............................] - ETA: 5s - loss: 5.3749e-04 - recall_3: 1.0000 - precision_3: 1.0000"
          ]
        },
        {
          "output_type": "stream",
          "name": "stderr",
          "text": [
            "\n",
            "\n",
            "\n",
            "Epoch: 192it [01:29,  3.73it/s]\u001b[A\u001b[A\u001b[A"
          ]
        },
        {
          "output_type": "stream",
          "name": "stdout",
          "text": [
            "\b\b\b\b\b\b\b\b\b\b\b\b\b\b\b\b\b\b\b\b\b\b\b\b\b\b\b\b\b\b\b\b\b\b\b\b\b\b\b\b\b\b\b\b\b\b\b\b\b\b\b\b\b\b\b\b\b\b\b\b\b\b\b\b\b\b\b\b\b\b\b\b\b\b\b\b\b\b\b\b\b\b\b\b\b\b\b\b\b\b\b\b\b\b\b\b\b\b\b\b\b\b\b\b\b\b\b\b\r 2/21 [=>............................] - ETA: 5s - loss: 2.8351e-04 - recall_3: 1.0000 - precision_3: 1.0000"
          ]
        },
        {
          "output_type": "stream",
          "name": "stderr",
          "text": [
            "\n",
            "\n",
            "\n",
            "Epoch: 193it [01:30,  3.74it/s]\u001b[A\u001b[A\u001b[A"
          ]
        },
        {
          "output_type": "stream",
          "name": "stdout",
          "text": [
            "\b\b\b\b\b\b\b\b\b\b\b\b\b\b\b\b\b\b\b\b\b\b\b\b\b\b\b\b\b\b\b\b\b\b\b\b\b\b\b\b\b\b\b\b\b\b\b\b\b\b\b\b\b\b\b\b\b\b\b\b\b\b\b\b\b\b\b\b\b\b\b\b\b\b\b\b\b\b\b\b\b\b\b\b\b\b\b\b\b\b\b\b\b\b\b\b\b\b\b\b\b\b\b\b\b\b\b\b\r 3/21 [===>..........................] - ETA: 4s - loss: 2.3489e-04 - recall_3: 1.0000 - precision_3: 1.0000"
          ]
        },
        {
          "output_type": "stream",
          "name": "stderr",
          "text": [
            "\n",
            "\n",
            "\n",
            "Epoch: 194it [01:30,  3.75it/s]\u001b[A\u001b[A\u001b[A"
          ]
        },
        {
          "output_type": "stream",
          "name": "stdout",
          "text": [
            "\b\b\b\b\b\b\b\b\b\b\b\b\b\b\b\b\b\b\b\b\b\b\b\b\b\b\b\b\b\b\b\b\b\b\b\b\b\b\b\b\b\b\b\b\b\b\b\b\b\b\b\b\b\b\b\b\b\b\b\b\b\b\b\b\b\b\b\b\b\b\b\b\b\b\b\b\b\b\b\b\b\b\b\b\b\b\b\b\b\b\b\b\b\b\b\b\b\b\b\b\b\b\b\b\b\b\b\b\r 4/21 [====>.........................] - ETA: 4s - loss: 1.8025e-04 - recall_3: 1.0000 - precision_3: 1.0000"
          ]
        },
        {
          "output_type": "stream",
          "name": "stderr",
          "text": [
            "\n",
            "\n",
            "\n",
            "Epoch: 195it [01:30,  3.74it/s]\u001b[A\u001b[A\u001b[A"
          ]
        },
        {
          "output_type": "stream",
          "name": "stdout",
          "text": [
            "\b\b\b\b\b\b\b\b\b\b\b\b\b\b\b\b\b\b\b\b\b\b\b\b\b\b\b\b\b\b\b\b\b\b\b\b\b\b\b\b\b\b\b\b\b\b\b\b\b\b\b\b\b\b\b\b\b\b\b\b\b\b\b\b\b\b\b\b\b\b\b\b\b\b\b\b\b\b\b\b\b\b\b\b\b\b\b\b\b\b\b\b\b\b\b\b\b\b\b\b\b\b\b\b\b\b\b\b\r 5/21 [======>.......................] - ETA: 4s - loss: 1.9635e-04 - recall_3: 1.0000 - precision_3: 1.0000"
          ]
        },
        {
          "output_type": "stream",
          "name": "stderr",
          "text": [
            "\n",
            "\n",
            "\n",
            "Epoch: 196it [01:31,  3.75it/s]\u001b[A\u001b[A\u001b[A"
          ]
        },
        {
          "output_type": "stream",
          "name": "stdout",
          "text": [
            "\b\b\b\b\b\b\b\b\b\b\b\b\b\b\b\b\b\b\b\b\b\b\b\b\b\b\b\b\b\b\b\b\b\b\b\b\b\b\b\b\b\b\b\b\b\b\b\b\b\b\b\b\b\b\b\b\b\b\b\b\b\b\b\b\b\b\b\b\b\b\b\b\b\b\b\b\b\b\b\b\b\b\b\b\b\b\b\b\b\b\b\b\b\b\b\b\b\b\b\b\b\b\b\b\b\b\b\b\r 6/21 [=======>......................] - ETA: 4s - loss: 1.7042e-04 - recall_3: 1.0000 - precision_3: 1.0000"
          ]
        },
        {
          "output_type": "stream",
          "name": "stderr",
          "text": [
            "\n",
            "\n",
            "\n",
            "Epoch: 197it [01:31,  3.73it/s]\u001b[A\u001b[A\u001b[A"
          ]
        },
        {
          "output_type": "stream",
          "name": "stdout",
          "text": [
            "\b\b\b\b\b\b\b\b\b\b\b\b\b\b\b\b\b\b\b\b\b\b\b\b\b\b\b\b\b\b\b\b\b\b\b\b\b\b\b\b\b\b\b\b\b\b\b\b\b\b\b\b\b\b\b\b\b\b\b\b\b\b\b\b\b\b\b\b\b\b\b\b\b\b\b\b\b\b\b\b\b\b\b\b\b\b\b\b\b\b\b\b\b\b\b\b\b\b\b\b\b\b\b\b\b\b\b\b\r 7/21 [=========>....................] - ETA: 3s - loss: 1.5122e-04 - recall_3: 1.0000 - precision_3: 1.0000"
          ]
        },
        {
          "output_type": "stream",
          "name": "stderr",
          "text": [
            "\n",
            "\n",
            "\n",
            "Epoch: 198it [01:31,  3.75it/s]\u001b[A\u001b[A\u001b[A"
          ]
        },
        {
          "output_type": "stream",
          "name": "stdout",
          "text": [
            "\b\b\b\b\b\b\b\b\b\b\b\b\b\b\b\b\b\b\b\b\b\b\b\b\b\b\b\b\b\b\b\b\b\b\b\b\b\b\b\b\b\b\b\b\b\b\b\b\b\b\b\b\b\b\b\b\b\b\b\b\b\b\b\b\b\b\b\b\b\b\b\b\b\b\b\b\b\b\b\b\b\b\b\b\b\b\b\b\b\b\b\b\b\b\b\b\b\b\b\b\b\b\b\b\b\b\b\b\r 8/21 [==========>...................] - ETA: 3s - loss: 1.6326e-04 - recall_3: 1.0000 - precision_3: 1.0000"
          ]
        },
        {
          "output_type": "stream",
          "name": "stderr",
          "text": [
            "\n",
            "\n",
            "\n",
            "Epoch: 199it [01:31,  3.75it/s]\u001b[A\u001b[A\u001b[A"
          ]
        },
        {
          "output_type": "stream",
          "name": "stdout",
          "text": [
            "\b\b\b\b\b\b\b\b\b\b\b\b\b\b\b\b\b\b\b\b\b\b\b\b\b\b\b\b\b\b\b\b\b\b\b\b\b\b\b\b\b\b\b\b\b\b\b\b\b\b\b\b\b\b\b\b\b\b\b\b\b\b\b\b\b\b\b\b\b\b\b\b\b\b\b\b\b\b\b\b\b\b\b\b\b\b\b\b\b\b\b\b\b\b\b\b\b\b\b\b\b\b\b\b\b\b\b\b\r 9/21 [===========>..................] - ETA: 3s - loss: 1.6840e-04 - recall_3: 1.0000 - precision_3: 1.0000"
          ]
        },
        {
          "output_type": "stream",
          "name": "stderr",
          "text": [
            "\n",
            "\n",
            "\n",
            "Epoch: 200it [01:32,  3.76it/s]\u001b[A\u001b[A\u001b[A"
          ]
        },
        {
          "output_type": "stream",
          "name": "stdout",
          "text": [
            "\b\b\b\b\b\b\b\b\b\b\b\b\b\b\b\b\b\b\b\b\b\b\b\b\b\b\b\b\b\b\b\b\b\b\b\b\b\b\b\b\b\b\b\b\b\b\b\b\b\b\b\b\b\b\b\b\b\b\b\b\b\b\b\b\b\b\b\b\b\b\b\b\b\b\b\b\b\b\b\b\b\b\b\b\b\b\b\b\b\b\b\b\b\b\b\b\b\b\b\b\b\b\b\b\b\b\b\b\r10/21 [=============>................] - ETA: 2s - loss: 1.5382e-04 - recall_3: 1.0000 - precision_3: 1.0000"
          ]
        },
        {
          "output_type": "stream",
          "name": "stderr",
          "text": [
            "\n",
            "\n",
            "\n",
            "Epoch: 201it [01:32,  3.78it/s]\u001b[A\u001b[A\u001b[A"
          ]
        },
        {
          "output_type": "stream",
          "name": "stdout",
          "text": [
            "\b\b\b\b\b\b\b\b\b\b\b\b\b\b\b\b\b\b\b\b\b\b\b\b\b\b\b\b\b\b\b\b\b\b\b\b\b\b\b\b\b\b\b\b\b\b\b\b\b\b\b\b\b\b\b\b\b\b\b\b\b\b\b\b\b\b\b\b\b\b\b\b\b\b\b\b\b\b\b\b\b\b\b\b\b\b\b\b\b\b\b\b\b\b\b\b\b\b\b\b\b\b\b\b\b\b\b\b\r11/21 [==============>...............] - ETA: 2s - loss: 1.4509e-04 - recall_3: 1.0000 - precision_3: 1.0000"
          ]
        },
        {
          "output_type": "stream",
          "name": "stderr",
          "text": [
            "\n",
            "\n",
            "\n",
            "Epoch: 202it [01:32,  3.74it/s]\u001b[A\u001b[A\u001b[A"
          ]
        },
        {
          "output_type": "stream",
          "name": "stdout",
          "text": [
            "\b\b\b\b\b\b\b\b\b\b\b\b\b\b\b\b\b\b\b\b\b\b\b\b\b\b\b\b\b\b\b\b\b\b\b\b\b\b\b\b\b\b\b\b\b\b\b\b\b\b\b\b\b\b\b\b\b\b\b\b\b\b\b\b\b\b\b\b\b\b\b\b\b\b\b\b\b\b\b\b\b\b\b\b\b\b\b\b\b\b\b\b\b\b\b\b\b\b\b\b\b\b\b\b\b\b\b\b\r12/21 [================>.............] - ETA: 2s - loss: 1.3702e-04 - recall_3: 1.0000 - precision_3: 1.0000"
          ]
        },
        {
          "output_type": "stream",
          "name": "stderr",
          "text": [
            "\n",
            "\n",
            "\n",
            "Epoch: 203it [01:32,  3.76it/s]\u001b[A\u001b[A\u001b[A"
          ]
        },
        {
          "output_type": "stream",
          "name": "stdout",
          "text": [
            "\b\b\b\b\b\b\b\b\b\b\b\b\b\b\b\b\b\b\b\b\b\b\b\b\b\b\b\b\b\b\b\b\b\b\b\b\b\b\b\b\b\b\b\b\b\b\b\b\b\b\b\b\b\b\b\b\b\b\b\b\b\b\b\b\b\b\b\b\b\b\b\b\b\b\b\b\b\b\b\b\b\b\b\b\b\b\b\b\b\b\b\b\b\b\b\b\b\b\b\b\b\b\b\b\b\b\b\b\r13/21 [=================>............] - ETA: 2s - loss: 1.3238e-04 - recall_3: 1.0000 - precision_3: 1.0000"
          ]
        },
        {
          "output_type": "stream",
          "name": "stderr",
          "text": [
            "\n",
            "\n",
            "\n",
            "Epoch: 204it [01:33,  3.77it/s]\u001b[A\u001b[A\u001b[A"
          ]
        },
        {
          "output_type": "stream",
          "name": "stdout",
          "text": [
            "\b\b\b\b\b\b\b\b\b\b\b\b\b\b\b\b\b\b\b\b\b\b\b\b\b\b\b\b\b\b\b\b\b\b\b\b\b\b\b\b\b\b\b\b\b\b\b\b\b\b\b\b\b\b\b\b\b\b\b\b\b\b\b\b\b\b\b\b\b\b\b\b\b\b\b\b\b\b\b\b\b\b\b\b\b\b\b\b\b\b\b\b\b\b\b\b\b\b\b\b\b\b\b\b\b\b\b\b\r14/21 [===================>..........] - ETA: 1s - loss: 1.2625e-04 - recall_3: 1.0000 - precision_3: 1.0000"
          ]
        },
        {
          "output_type": "stream",
          "name": "stderr",
          "text": [
            "\n",
            "\n",
            "\n",
            "Epoch: 205it [01:33,  3.71it/s]\u001b[A\u001b[A\u001b[A"
          ]
        },
        {
          "output_type": "stream",
          "name": "stdout",
          "text": [
            "\b\b\b\b\b\b\b\b\b\b\b\b\b\b\b\b\b\b\b\b\b\b\b\b\b\b\b\b\b\b\b\b\b\b\b\b\b\b\b\b\b\b\b\b\b\b\b\b\b\b\b\b\b\b\b\b\b\b\b\b\b\b\b\b\b\b\b\b\b\b\b\b\b\b\b\b\b\b\b\b\b\b\b\b\b\b\b\b\b\b\b\b\b\b\b\b\b\b\b\b\b\b\b\b\b\b\b\b\r15/21 [====================>.........] - ETA: 1s - loss: 1.3256e-04 - recall_3: 1.0000 - precision_3: 1.0000"
          ]
        },
        {
          "output_type": "stream",
          "name": "stderr",
          "text": [
            "\n",
            "\n",
            "\n",
            "Epoch: 206it [01:33,  3.74it/s]\u001b[A\u001b[A\u001b[A"
          ]
        },
        {
          "output_type": "stream",
          "name": "stdout",
          "text": [
            "\b\b\b\b\b\b\b\b\b\b\b\b\b\b\b\b\b\b\b\b\b\b\b\b\b\b\b\b\b\b\b\b\b\b\b\b\b\b\b\b\b\b\b\b\b\b\b\b\b\b\b\b\b\b\b\b\b\b\b\b\b\b\b\b\b\b\b\b\b\b\b\b\b\b\b\b\b\b\b\b\b\b\b\b\b\b\b\b\b\b\b\b\b\b\b\b\b\b\b\b\b\b\b\b\b\b\b\b\r16/21 [=====================>........] - ETA: 1s - loss: 1.3149e-04 - recall_3: 1.0000 - precision_3: 1.0000"
          ]
        },
        {
          "output_type": "stream",
          "name": "stderr",
          "text": [
            "\n",
            "\n",
            "\n",
            "Epoch: 207it [01:33,  3.75it/s]\u001b[A\u001b[A\u001b[A"
          ]
        },
        {
          "output_type": "stream",
          "name": "stdout",
          "text": [
            "\b\b\b\b\b\b\b\b\b\b\b\b\b\b\b\b\b\b\b\b\b\b\b\b\b\b\b\b\b\b\b\b\b\b\b\b\b\b\b\b\b\b\b\b\b\b\b\b\b\b\b\b\b\b\b\b\b\b\b\b\b\b\b\b\b\b\b\b\b\b\b\b\b\b\b\b\b\b\b\b\b\b\b\b\b\b\b\b\b\b\b\b\b\b\b\b\b\b\b\b\b\b\b\b\b\b\b\b\r17/21 [=======================>......] - ETA: 1s - loss: 1.3029e-04 - recall_3: 1.0000 - precision_3: 1.0000"
          ]
        },
        {
          "output_type": "stream",
          "name": "stderr",
          "text": [
            "\n",
            "\n",
            "\n",
            "Epoch: 208it [01:34,  3.72it/s]\u001b[A\u001b[A\u001b[A"
          ]
        },
        {
          "output_type": "stream",
          "name": "stdout",
          "text": [
            "\b\b\b\b\b\b\b\b\b\b\b\b\b\b\b\b\b\b\b\b\b\b\b\b\b\b\b\b\b\b\b\b\b\b\b\b\b\b\b\b\b\b\b\b\b\b\b\b\b\b\b\b\b\b\b\b\b\b\b\b\b\b\b\b\b\b\b\b\b\b\b\b\b\b\b\b\b\b\b\b\b\b\b\b\b\b\b\b\b\b\b\b\b\b\b\b\b\b\b\b\b\b\b\b\b\b\b\b\r18/21 [========================>.....] - ETA: 0s - loss: 1.2814e-04 - recall_3: 1.0000 - precision_3: 1.0000"
          ]
        },
        {
          "output_type": "stream",
          "name": "stderr",
          "text": [
            "\n",
            "\n",
            "\n",
            "Epoch: 209it [01:34,  3.74it/s]\u001b[A\u001b[A\u001b[A"
          ]
        },
        {
          "output_type": "stream",
          "name": "stdout",
          "text": [
            "\b\b\b\b\b\b\b\b\b\b\b\b\b\b\b\b\b\b\b\b\b\b\b\b\b\b\b\b\b\b\b\b\b\b\b\b\b\b\b\b\b\b\b\b\b\b\b\b\b\b\b\b\b\b\b\b\b\b\b\b\b\b\b\b\b\b\b\b\b\b\b\b\b\b\b\b\b\b\b\b\b\b\b\b\b\b\b\b\b\b\b\b\b\b\b\b\b\b\b\b\b\b\b\b\b\b\b\b\r19/21 [==========================>...] - ETA: 0s - loss: 1.2242e-04 - recall_3: 1.0000 - precision_3: 1.0000"
          ]
        },
        {
          "output_type": "stream",
          "name": "stderr",
          "text": [
            "\n",
            "\n",
            "\n",
            "Epoch: 210it [01:34,  3.76it/s]\u001b[A\u001b[A\u001b[A"
          ]
        },
        {
          "output_type": "stream",
          "name": "stdout",
          "text": [
            "\b\b\b\b\b\b\b\b\b\b\b\b\b\b\b\b\b\b\b\b\b\b\b\b\b\b\b\b\b\b\b\b\b\b\b\b\b\b\b\b\b\b\b\b\b\b\b\b\b\b\b\b\b\b\b\b\b\b\b\b\b\b\b\b\b\b\b\b\b\b\b\b\b\b\b\b\b\b\b\b\b\b\b\b\b\b\b\b\b\b\b\b\b\b\b\b\b\b\b\b\b\b\b\b\b\b\b\b\r20/21 [===========================>..] - ETA: 0s - loss: 1.1832e-04 - recall_3: 1.0000 - precision_3: 1.0000"
          ]
        },
        {
          "output_type": "stream",
          "name": "stderr",
          "text": [
            "\n",
            "\n",
            "\n",
            "Epoch: 211it [01:35,  3.76it/s]\u001b[A\u001b[A\u001b[A"
          ]
        },
        {
          "output_type": "stream",
          "name": "stdout",
          "text": [
            "21/21 [==============================] - 6s 267ms/step - loss: 1.1639e-04 - recall_3: 1.0000 - precision_3: 1.0000\n"
          ]
        }
      ],
      "source": [
        "# Define a custom generator function that yields batches and updates the tqdm progress bar\n",
        "def tqdm_generator(generator, steps_per_epoch):\n",
        "    for batch in tqdm(generator, total=steps_per_epoch, desc=\"Epoch\"):\n",
        "        yield batch\n",
        "\n",
        "X_train = np.array(augmented_df_data)\n",
        "\n",
        "steps_per_epoch = int(len(X_train) / batch_size)\n",
        "\n",
        "batches = get_batches(X_train, y_train, tokenizer, batch_size, max_length)\n",
        "\n",
        "# Wrap the batches generator with tqdm\n",
        "batches_with_progress = tqdm_generator(batches, steps_per_epoch)\n",
        "\n",
        "bert_model.compile(optimizer=Adam(2e-5),\n",
        "                   metrics=[tf.keras.metrics.Recall(),\n",
        "                            tf.keras.metrics.Precision()],\n",
        "                   loss=tf.keras.losses.CategoricalCrossentropy())\n",
        "\n",
        "# Now, pass the wrapped generator to fit\n",
        "#bert_model.fit(batches_with_progress, epochs=7, steps_per_epoch=steps_per_epoch)\n",
        "\n",
        "history = bert_model.fit(batches_with_progress, epochs=10, steps_per_epoch=steps_per_epoch)\n"
      ],
      "id": "oPXp7MObgaSi"
    },
    {
      "cell_type": "code",
      "execution_count": null,
      "metadata": {
        "colab": {
          "base_uri": "https://localhost:8080/",
          "height": 472
        },
        "id": "adCqOipofeUn",
        "outputId": "d915227d-8af8-4823-a56c-b4d53e707aeb"
      },
      "outputs": [
        {
          "output_type": "display_data",
          "data": {
            "text/plain": [
              "<Figure size 640x480 with 1 Axes>"
            ],
            "image/png": "[encoded data removed]"
          },
          "metadata": {}
        }
      ],
      "source": [
        "# Skip the first 10 epochs (index 0 to 9) and start plotting from the 11th epoch (index 10)\n",
        "plt.plot(history.history['loss'])\n",
        "#plt.plot(history.history['val_loss'])\n",
        "plt.title('model loss')\n",
        "plt.ylabel('loss')\n",
        "plt.xlabel('epoch')\n",
        "# Adjusted the legend to include both 'train' and 'val' for clarity\n",
        "plt.legend(['train', 'val'], loc='upper left')\n",
        "plt.show()"
      ],
      "id": "adCqOipofeUn"
    },
    {
      "cell_type": "code",
      "execution_count": null,
      "metadata": {
        "id": "IERpoOP9gqoz",
        "colab": {
          "base_uri": "https://localhost:8080/"
        },
        "outputId": "d94cf83d-0c20-46bb-dfbe-eb441279e63c"
      },
      "outputs": [
        {
          "output_type": "stream",
          "name": "stdout",
          "text": [
            "582/582 [==============================] - 53s 86ms/step\n"
          ]
        }
      ],
      "source": [
        "# Get the inputs tokenized from the validation set\n",
        "inputs = tokenizer.batch_encode_plus(list(test_data),\n",
        "                                     add_special_tokens=True, max_length=max_length,\n",
        "                                    padding='max_length',  return_attention_mask=True,\n",
        "                                    return_token_type_ids=True, truncation=True)\n",
        "\n",
        "# Extract input_ids and attention mask\n",
        "inputs_valid = [np.asarray(inputs['input_ids'], dtype='int32'),\n",
        "               np.asarray(inputs['attention_mask'], dtype='int32')]\n",
        "valid_preds = bert_model.predict(inputs_valid)\n",
        "valid_preds = np.argmax(valid_preds, axis=1)\n"
      ],
      "id": "IERpoOP9gqoz"
    },
    {
      "cell_type": "code",
      "execution_count": null,
      "metadata": {
        "id": "GMTwqOJhhFJt",
        "colab": {
          "base_uri": "https://localhost:8080/",
          "height": 956
        },
        "outputId": "6279c795-3d12-4ea6-f593-fc3df34106c1"
      },
      "outputs": [
        {
          "output_type": "display_data",
          "data": {
            "text/plain": [
              "<Figure size 1500x1000 with 4 Axes>"
            ],
            "image/png": "[encoded data removed]"
          },
          "metadata": {}
        }
      ],
      "source": [
        "# get the final metrics\n",
        "metrics_val.run(test_labels, valid_preds, \"augmented data wordnet\")\n",
        "metrics_val.plot()"
      ],
      "id": "GMTwqOJhhFJt"
    },
    {
      "cell_type": "markdown",
      "metadata": {
        "id": "inx6FXpKKBwa"
      },
      "source": [
        "# Part III"
      ],
      "id": "inx6FXpKKBwa"
    },
    {
      "cell_type": "code",
      "source": [
        "# from sklearn.preprocessing import OneHotEncoder\n",
        "# import numpy as np\n",
        "\n",
        "# # Define observation shares\n",
        "# observation_shares = [0.01, 0.10, 0.25, 0.50, 0.75. 1.00]\n",
        "\n",
        "# # List to store validation predictions for all models\n",
        "# all_valid_preds = []\n",
        "\n",
        "# for share in observation_shares:\n",
        "#     # Calculate the number of observations\n",
        "#     obs_count = int(len(df_train) * share)\n",
        "\n",
        "#     # Set the seed for reproducibility\n",
        "#     np.random.seed(42)\n",
        "\n",
        "#     # Sample from the DataFrame\n",
        "#     df_train_sampled = df_train.sample(n=obs_count)\n",
        "\n",
        "#     # Extract features and labels\n",
        "#     train_data = df_train_sampled['clean_text']\n",
        "#     train_labels = df_train_sampled['label']\n",
        "\n",
        "#     # One-hot encode the labels\n",
        "#     enc = OneHotEncoder(handle_unknown='ignore')\n",
        "#     y_train = enc.fit_transform(np.array(train_labels).reshape(-1, 1)).toarray()\n",
        "\n",
        "#     # Define steps per epoch\n",
        "#     steps_per_epoch = obs_count // batch_size\n",
        "\n",
        "#     # Generate batches\n",
        "#     batches = get_batches(train_data, y_train, tokenizer, batch_size, max_length)\n",
        "\n",
        "#     # Compile the model\n",
        "#     bert_model.compile(\n",
        "#         optimizer=Adam(2e-5),\n",
        "#         metrics=[tf.keras.metrics.Recall(), tf.keras.metrics.Precision()],\n",
        "#         loss=tf.keras.losses.CategoricalCrossentropy()\n",
        "#     )\n",
        "\n",
        "#     # Train the model\n",
        "#     bert_model.fit(\n",
        "#         batches,\n",
        "#         epochs=7,\n",
        "#         steps_per_epoch=steps_per_epoch\n",
        "#     )\n",
        "\n",
        "#     # Get the inputs tokenized from the validation set\n",
        "#     inputs = tokenizer.batch_encode_plus(list(validation_data),\n",
        "#                                          add_special_tokens=True,\n",
        "#                                          max_length=max_length,\n",
        "#                                          padding='max_length',\n",
        "#                                          return_attention_mask=True,\n",
        "#                                          return_token_type_ids=True,\n",
        "#                                          truncation=True)\n",
        "\n",
        "#     # Extract input_ids and attention mask\n",
        "#     inputs_valid = [np.asarray(inputs['input_ids'], dtype='int32'),\n",
        "#                     np.asarray(inputs['attention_mask'], dtype='int32')]\n",
        "\n",
        "#     # Get predictions for the validation set\n",
        "#     valid_preds = bert_model.predict(inputs_valid)\n",
        "#     valid_preds = np.argmax(valid_preds, axis=1)\n",
        "\n",
        "#     # Append predictions to the list\n",
        "#     all_valid_preds.append(valid_preds)\n",
        "#     metrics_val.run(validation_labels, valid_preds, f\"share_{int(share * 100)}%\")\n"
      ],
      "metadata": {
        "id": "wJyErMlFbWBY"
      },
      "id": "wJyErMlFbWBY",
      "execution_count": null,
      "outputs": []
    },
    {
      "cell_type": "code",
      "source": [
        "from sklearn.preprocessing import OneHotEncoder\n",
        "import numpy as np\n",
        "\n",
        "# Define observation shares\n",
        "observation_shares = [0.01, 0.10, 0.25, 0.50, 0.75, 1.00]\n",
        "\n",
        "# List to store validation predictions for all models\n",
        "all_valid_preds = []\n",
        "\n",
        "# List to store histories for all models\n",
        "all_histories = []\n",
        "\n",
        "for share in observation_shares:\n",
        "    # Calculate the number of observations\n",
        "    obs_count = int(len(df_train) * share)\n",
        "\n",
        "    # Set the seed for reproducibility\n",
        "    np.random.seed(42)\n",
        "\n",
        "    # Sample from the DataFrame\n",
        "    df_train_sampled = df_train.sample(n=obs_count)\n",
        "\n",
        "    # Extract features and labels\n",
        "    train_data = df_train_sampled['clean_text']\n",
        "    train_labels = df_train_sampled['label']\n",
        "\n",
        "    # One-hot encode the labels\n",
        "    enc = OneHotEncoder(handle_unknown='ignore')\n",
        "    y_train = enc.fit_transform(np.array(train_labels).reshape(-1, 1)).toarray()\n",
        "\n",
        "    # Get validation data\n",
        "    # validation_data = df_validation['clean_text']\n",
        "    # validation_labels = df_validation['label']\n",
        "\n",
        "    # Convert validation labels to one-hot encoding\n",
        "    y_valid = enc.transform(np.array(validation_labels).reshape(-1, 1)).toarray()\n",
        "\n",
        "    # Define steps per epoch\n",
        "    steps_per_epoch = obs_count // batch_size\n",
        "\n",
        "    # Generate batches for training data\n",
        "    train_batches = get_batches(train_data, y_train, tokenizer, batch_size, max_length)\n",
        "\n",
        "    # Generate batches for validation data\n",
        "    valid_batches = get_batches(validation_data, y_valid, tokenizer, batch_size, max_length)\n",
        "\n",
        "    # Compile the model\n",
        "    bert_model.compile(\n",
        "        optimizer=Adam(2e-5),\n",
        "        metrics=[tf.keras.metrics.Recall(), tf.keras.metrics.Precision()],\n",
        "        loss=tf.keras.losses.CategoricalCrossentropy()\n",
        "    )\n",
        "\n",
        "    # Train the model and record the history\n",
        "    history = bert_model.fit(\n",
        "        train_batches,\n",
        "        epochs=7,\n",
        "        steps_per_epoch=steps_per_epoch,\n",
        "        validation_data=valid_batches,\n",
        "        validation_steps=len(validation_data) // batch_size\n",
        "    )\n",
        "\n",
        "    # Append the history to the list\n",
        "    all_histories.append(history)\n",
        "\n",
        "    # Get the inputs tokenized from the validation set\n",
        "    inputs = tokenizer.batch_encode_plus(list(test_data),\n",
        "                                         add_special_tokens=True,\n",
        "                                         max_length=max_length,\n",
        "                                         padding='max_length',\n",
        "                                         return_attention_mask=True,\n",
        "                                         return_token_type_ids=True,\n",
        "                                         truncation=True)\n",
        "\n",
        "    # Extract input_ids and attention mask\n",
        "    inputs_valid = [np.asarray(inputs['input_ids'], dtype='int32'),\n",
        "                    np.asarray(inputs['attention_mask'], dtype='int32')]\n",
        "\n",
        "    # Get predictions for the validation set\n",
        "    valid_preds = bert_model.predict(inputs_valid)\n",
        "    valid_preds = np.argmax(valid_preds, axis=1)\n",
        "\n",
        "    # Append predictions to the list\n",
        "    all_valid_preds.append(valid_preds)\n",
        "    metrics_val.run(test_labels, valid_preds, f\"share_{int(share * 100)}%\")\n"
      ],
      "metadata": {
        "colab": {
          "base_uri": "https://localhost:8080/"
        },
        "id": "W0lEA2KtydMy",
        "outputId": "5d8e824d-866f-4ad6-bc9e-7b05e1f578d4"
      },
      "id": "W0lEA2KtydMy",
      "execution_count": 149,
      "outputs": [
        {
          "metadata": {
            "tags": null
          },
          "name": "stdout",
          "output_type": "stream",
          "text": [
            "Epoch 1/7\n"
          ]
        },
        {
          "metadata": {
            "tags": null
          },
          "name": "stderr",
          "output_type": "stream",
          "text": [
            "WARNING:tensorflow:Gradients do not exist for variables ['tf_roberta_model_1/roberta/pooler/dense/kernel:0', 'tf_roberta_model_1/roberta/pooler/dense/bias:0'] when minimizing the loss. If you're using `model.compile()`, did you forget to provide a `loss` argument?\n",
            "WARNING:tensorflow:Gradients do not exist for variables ['tf_roberta_model_1/roberta/pooler/dense/kernel:0', 'tf_roberta_model_1/roberta/pooler/dense/bias:0'] when minimizing the loss. If you're using `model.compile()`, did you forget to provide a `loss` argument?\n",
            "WARNING:tensorflow:Gradients do not exist for variables ['tf_roberta_model_1/roberta/pooler/dense/kernel:0', 'tf_roberta_model_1/roberta/pooler/dense/bias:0'] when minimizing the loss. If you're using `model.compile()`, did you forget to provide a `loss` argument?\n",
            "WARNING:tensorflow:Gradients do not exist for variables ['tf_roberta_model_1/roberta/pooler/dense/kernel:0', 'tf_roberta_model_1/roberta/pooler/dense/bias:0'] when minimizing the loss. If you're using `model.compile()`, did you forget to provide a `loss` argument?\n"
          ]
        },
        {
          "metadata": {
            "tags": null
          },
          "name": "stdout",
          "output_type": "stream",
          "text": [
            "11/11 [==============================] - 70s 3s/step - loss: 0.8453 - recall_4: 0.8182 - precision_4: 0.8182 - val_loss: 0.6282 - val_recall_4: 0.7885 - val_precision_4: 0.7885\n",
            "Epoch 2/7\n",
            "11/11 [==============================] - 28s 3s/step - loss: 0.4341 - recall_4: 0.8410 - precision_4: 0.8410 - val_loss: 0.4634 - val_recall_4: 0.8190 - val_precision_4: 0.8190\n",
            "Epoch 3/7\n",
            "11/11 [==============================] - 27s 3s/step - loss: 0.2913 - recall_4: 0.8991 - precision_4: 0.8991 - val_loss: 0.4733 - val_recall_4: 0.8246 - val_precision_4: 0.8246\n",
            "Epoch 4/7\n",
            "11/11 [==============================] - 27s 3s/step - loss: 0.1831 - recall_4: 0.9205 - precision_4: 0.9205 - val_loss: 0.5626 - val_recall_4: 0.8261 - val_precision_4: 0.8261\n",
            "Epoch 5/7\n",
            "11/11 [==============================] - 27s 3s/step - loss: 0.1562 - recall_4: 0.9602 - precision_4: 0.9602 - val_loss: 0.5876 - val_recall_4: 0.8203 - val_precision_4: 0.8203\n",
            "Epoch 6/7\n",
            "11/11 [==============================] - 27s 3s/step - loss: 0.0954 - recall_4: 0.9633 - precision_4: 0.9633 - val_loss: 0.6069 - val_recall_4: 0.8268 - val_precision_4: 0.8268\n",
            "Epoch 7/7\n",
            "11/11 [==============================] - 27s 3s/step - loss: 0.0782 - recall_4: 0.9786 - precision_4: 0.9786 - val_loss: 0.6524 - val_recall_4: 0.8309 - val_precision_4: 0.8309\n",
            "582/582 [==============================] - 53s 87ms/step\n",
            "Epoch 1/7\n"
          ]
        },
        {
          "metadata": {
            "tags": null
          },
          "name": "stderr",
          "output_type": "stream",
          "text": [
            "WARNING:tensorflow:Gradients do not exist for variables ['tf_roberta_model_1/roberta/pooler/dense/kernel:0', 'tf_roberta_model_1/roberta/pooler/dense/bias:0'] when minimizing the loss. If you're using `model.compile()`, did you forget to provide a `loss` argument?\n",
            "WARNING:tensorflow:Gradients do not exist for variables ['tf_roberta_model_1/roberta/pooler/dense/kernel:0', 'tf_roberta_model_1/roberta/pooler/dense/bias:0'] when minimizing the loss. If you're using `model.compile()`, did you forget to provide a `loss` argument?\n",
            "WARNING:tensorflow:Gradients do not exist for variables ['tf_roberta_model_1/roberta/pooler/dense/kernel:0', 'tf_roberta_model_1/roberta/pooler/dense/bias:0'] when minimizing the loss. If you're using `model.compile()`, did you forget to provide a `loss` argument?\n",
            "WARNING:tensorflow:Gradients do not exist for variables ['tf_roberta_model_1/roberta/pooler/dense/kernel:0', 'tf_roberta_model_1/roberta/pooler/dense/bias:0'] when minimizing the loss. If you're using `model.compile()`, did you forget to provide a `loss` argument?\n"
          ]
        },
        {
          "metadata": {
            "tags": null
          },
          "name": "stdout",
          "output_type": "stream",
          "text": [
            "112/112 [==============================] - 96s 529ms/step - loss: 0.4287 - recall_5: 0.8242 - precision_5: 0.8242 - val_loss: 0.3706 - val_recall_5: 0.8404 - val_precision_5: 0.8404\n",
            "Epoch 2/7\n",
            "112/112 [==============================] - 54s 484ms/step - loss: 0.3195 - recall_5: 0.8713 - precision_5: 0.8713 - val_loss: 0.3907 - val_recall_5: 0.8438 - val_precision_5: 0.8438\n",
            "Epoch 3/7\n",
            "112/112 [==============================] - 54s 485ms/step - loss: 0.2006 - recall_5: 0.9246 - precision_5: 0.9246 - val_loss: 0.5102 - val_recall_5: 0.8382 - val_precision_5: 0.8382\n",
            "Epoch 4/7\n",
            "112/112 [==============================] - 54s 484ms/step - loss: 0.0971 - recall_5: 0.9650 - precision_5: 0.9650 - val_loss: 0.7873 - val_recall_5: 0.8420 - val_precision_5: 0.8420\n",
            "Epoch 5/7\n",
            "112/112 [==============================] - 54s 484ms/step - loss: 0.0559 - recall_5: 0.9784 - precision_5: 0.9784 - val_loss: 0.9268 - val_recall_5: 0.8331 - val_precision_5: 0.8331\n",
            "Epoch 6/7\n",
            "112/112 [==============================] - 54s 485ms/step - loss: 0.0649 - recall_5: 0.9781 - precision_5: 0.9781 - val_loss: 0.8638 - val_recall_5: 0.8397 - val_precision_5: 0.8397\n",
            "Epoch 7/7\n",
            "112/112 [==============================] - 54s 484ms/step - loss: 0.0426 - recall_5: 0.9865 - precision_5: 0.9865 - val_loss: 0.9838 - val_recall_5: 0.8421 - val_precision_5: 0.8421\n",
            "582/582 [==============================] - 53s 87ms/step\n",
            "Epoch 1/7\n"
          ]
        },
        {
          "metadata": {
            "tags": null
          },
          "name": "stderr",
          "output_type": "stream",
          "text": [
            "WARNING:tensorflow:Gradients do not exist for variables ['tf_roberta_model_1/roberta/pooler/dense/kernel:0', 'tf_roberta_model_1/roberta/pooler/dense/bias:0'] when minimizing the loss. If you're using `model.compile()`, did you forget to provide a `loss` argument?\n",
            "WARNING:tensorflow:Gradients do not exist for variables ['tf_roberta_model_1/roberta/pooler/dense/kernel:0', 'tf_roberta_model_1/roberta/pooler/dense/bias:0'] when minimizing the loss. If you're using `model.compile()`, did you forget to provide a `loss` argument?\n",
            "WARNING:tensorflow:Gradients do not exist for variables ['tf_roberta_model_1/roberta/pooler/dense/kernel:0', 'tf_roberta_model_1/roberta/pooler/dense/bias:0'] when minimizing the loss. If you're using `model.compile()`, did you forget to provide a `loss` argument?\n",
            "WARNING:tensorflow:Gradients do not exist for variables ['tf_roberta_model_1/roberta/pooler/dense/kernel:0', 'tf_roberta_model_1/roberta/pooler/dense/bias:0'] when minimizing the loss. If you're using `model.compile()`, did you forget to provide a `loss` argument?\n"
          ]
        },
        {
          "metadata": {
            "tags": null
          },
          "name": "stdout",
          "output_type": "stream",
          "text": [
            "281/281 [==============================] - 140s 370ms/step - loss: 0.3234 - recall_6: 0.8857 - precision_6: 0.8857 - val_loss: 0.3690 - val_recall_6: 0.8449 - val_precision_6: 0.8449\n",
            "Epoch 2/7\n",
            "281/281 [==============================] - 99s 353ms/step - loss: 0.2329 - recall_6: 0.9137 - precision_6: 0.9137 - val_loss: 0.4287 - val_recall_6: 0.8498 - val_precision_6: 0.8498\n",
            "Epoch 3/7\n",
            "281/281 [==============================] - 99s 352ms/step - loss: 0.1440 - recall_6: 0.9500 - precision_6: 0.9500 - val_loss: 0.5167 - val_recall_6: 0.8351 - val_precision_6: 0.8351\n",
            "Epoch 4/7\n",
            "281/281 [==============================] - 99s 351ms/step - loss: 0.0862 - recall_6: 0.9684 - precision_6: 0.9684 - val_loss: 0.6756 - val_recall_6: 0.8405 - val_precision_6: 0.8405\n",
            "Epoch 5/7\n",
            "281/281 [==============================] - 99s 352ms/step - loss: 0.0525 - recall_6: 0.9808 - precision_6: 0.9808 - val_loss: 0.7818 - val_recall_6: 0.8372 - val_precision_6: 0.8372\n",
            "Epoch 6/7\n",
            "281/281 [==============================] - 99s 352ms/step - loss: 0.0372 - recall_6: 0.9870 - precision_6: 0.9870 - val_loss: 0.8705 - val_recall_6: 0.8421 - val_precision_6: 0.8421\n",
            "Epoch 7/7\n",
            "281/281 [==============================] - 99s 352ms/step - loss: 0.0386 - recall_6: 0.9862 - precision_6: 0.9862 - val_loss: 0.9792 - val_recall_6: 0.8402 - val_precision_6: 0.8402\n",
            "582/582 [==============================] - 53s 87ms/step\n",
            "Epoch 1/7\n"
          ]
        },
        {
          "metadata": {
            "tags": null
          },
          "name": "stderr",
          "output_type": "stream",
          "text": [
            "WARNING:tensorflow:Gradients do not exist for variables ['tf_roberta_model_1/roberta/pooler/dense/kernel:0', 'tf_roberta_model_1/roberta/pooler/dense/bias:0'] when minimizing the loss. If you're using `model.compile()`, did you forget to provide a `loss` argument?\n",
            "WARNING:tensorflow:Gradients do not exist for variables ['tf_roberta_model_1/roberta/pooler/dense/kernel:0', 'tf_roberta_model_1/roberta/pooler/dense/bias:0'] when minimizing the loss. If you're using `model.compile()`, did you forget to provide a `loss` argument?\n",
            "WARNING:tensorflow:Gradients do not exist for variables ['tf_roberta_model_1/roberta/pooler/dense/kernel:0', 'tf_roberta_model_1/roberta/pooler/dense/bias:0'] when minimizing the loss. If you're using `model.compile()`, did you forget to provide a `loss` argument?\n",
            "WARNING:tensorflow:Gradients do not exist for variables ['tf_roberta_model_1/roberta/pooler/dense/kernel:0', 'tf_roberta_model_1/roberta/pooler/dense/bias:0'] when minimizing the loss. If you're using `model.compile()`, did you forget to provide a `loss` argument?\n"
          ]
        },
        {
          "metadata": {
            "tags": null
          },
          "name": "stdout",
          "output_type": "stream",
          "text": [
            "562/562 [==============================] - 215s 317ms/step - loss: 0.2659 - recall_7: 0.9071 - precision_7: 0.9071 - val_loss: 0.3869 - val_recall_7: 0.8509 - val_precision_7: 0.8509\n",
            "Epoch 2/7\n",
            "562/562 [==============================] - 173s 308ms/step - loss: 0.1739 - recall_7: 0.9393 - precision_7: 0.9393 - val_loss: 0.4242 - val_recall_7: 0.8508 - val_precision_7: 0.8508\n",
            "Epoch 3/7\n",
            "562/562 [==============================] - 173s 308ms/step - loss: 0.0979 - recall_7: 0.9653 - precision_7: 0.9653 - val_loss: 0.6265 - val_recall_7: 0.8454 - val_precision_7: 0.8454\n",
            "Epoch 4/7\n",
            "562/562 [==============================] - 173s 308ms/step - loss: 0.0591 - recall_7: 0.9799 - precision_7: 0.9799 - val_loss: 0.7746 - val_recall_7: 0.8318 - val_precision_7: 0.8318\n",
            "Epoch 5/7\n",
            "562/562 [==============================] - 173s 308ms/step - loss: 0.0464 - recall_7: 0.9839 - precision_7: 0.9839 - val_loss: 0.6649 - val_recall_7: 0.8497 - val_precision_7: 0.8497\n",
            "Epoch 6/7\n",
            "562/562 [==============================] - 173s 308ms/step - loss: 0.0333 - recall_7: 0.9880 - precision_7: 0.9880 - val_loss: 0.7776 - val_recall_7: 0.8445 - val_precision_7: 0.8445\n",
            "Epoch 7/7\n",
            "562/562 [==============================] - 173s 308ms/step - loss: 0.0336 - recall_7: 0.9879 - precision_7: 0.9879 - val_loss: 0.7621 - val_recall_7: 0.8464 - val_precision_7: 0.8464\n",
            "582/582 [==============================] - 53s 87ms/step\n",
            "Epoch 1/7\n"
          ]
        },
        {
          "metadata": {
            "tags": null
          },
          "name": "stderr",
          "output_type": "stream",
          "text": [
            "WARNING:tensorflow:Gradients do not exist for variables ['tf_roberta_model_1/roberta/pooler/dense/kernel:0', 'tf_roberta_model_1/roberta/pooler/dense/bias:0'] when minimizing the loss. If you're using `model.compile()`, did you forget to provide a `loss` argument?\n",
            "WARNING:tensorflow:Gradients do not exist for variables ['tf_roberta_model_1/roberta/pooler/dense/kernel:0', 'tf_roberta_model_1/roberta/pooler/dense/bias:0'] when minimizing the loss. If you're using `model.compile()`, did you forget to provide a `loss` argument?\n",
            "WARNING:tensorflow:Gradients do not exist for variables ['tf_roberta_model_1/roberta/pooler/dense/kernel:0', 'tf_roberta_model_1/roberta/pooler/dense/bias:0'] when minimizing the loss. If you're using `model.compile()`, did you forget to provide a `loss` argument?\n",
            "WARNING:tensorflow:Gradients do not exist for variables ['tf_roberta_model_1/roberta/pooler/dense/kernel:0', 'tf_roberta_model_1/roberta/pooler/dense/bias:0'] when minimizing the loss. If you're using `model.compile()`, did you forget to provide a `loss` argument?\n"
          ]
        },
        {
          "output_type": "stream",
          "name": "stdout",
          "text": [
            "843/843 [==============================] - 289s 300ms/step - loss: 0.1890 - recall_8: 0.9379 - precision_8: 0.9379 - val_loss: 0.4481 - val_recall_8: 0.8469 - val_precision_8: 0.8469\n",
            "Epoch 2/7\n",
            "843/843 [==============================] - 248s 294ms/step - loss: 0.1074 - recall_8: 0.9644 - precision_8: 0.9644 - val_loss: 0.4615 - val_recall_8: 0.8459 - val_precision_8: 0.8459\n",
            "Epoch 3/7\n",
            "843/843 [==============================] - 248s 294ms/step - loss: 0.0643 - recall_8: 0.9789 - precision_8: 0.9789 - val_loss: 0.5479 - val_recall_8: 0.8382 - val_precision_8: 0.8382\n",
            "Epoch 4/7\n",
            "843/843 [==============================] - 248s 294ms/step - loss: 0.0434 - recall_8: 0.9849 - precision_8: 0.9849 - val_loss: 0.7542 - val_recall_8: 0.8422 - val_precision_8: 0.8422\n",
            "Epoch 5/7\n",
            "843/843 [==============================] - 248s 294ms/step - loss: 0.0381 - recall_8: 0.9872 - precision_8: 0.9872 - val_loss: 1.0197 - val_recall_8: 0.8365 - val_precision_8: 0.8365\n",
            "Epoch 6/7\n",
            "843/843 [==============================] - 248s 294ms/step - loss: 0.0324 - recall_8: 0.9885 - precision_8: 0.9885 - val_loss: 0.9211 - val_recall_8: 0.8455 - val_precision_8: 0.8455\n",
            "Epoch 7/7\n",
            "843/843 [==============================] - 248s 294ms/step - loss: 0.0282 - recall_8: 0.9902 - precision_8: 0.9902 - val_loss: 0.8351 - val_recall_8: 0.8467 - val_precision_8: 0.8467\n",
            "582/582 [==============================] - 53s 87ms/step\n",
            "Epoch 1/7\n"
          ]
        },
        {
          "output_type": "stream",
          "name": "stderr",
          "text": [
            "WARNING:tensorflow:Gradients do not exist for variables ['tf_roberta_model_1/roberta/pooler/dense/kernel:0', 'tf_roberta_model_1/roberta/pooler/dense/bias:0'] when minimizing the loss. If you're using `model.compile()`, did you forget to provide a `loss` argument?\n",
            "WARNING:tensorflow:Gradients do not exist for variables ['tf_roberta_model_1/roberta/pooler/dense/kernel:0', 'tf_roberta_model_1/roberta/pooler/dense/bias:0'] when minimizing the loss. If you're using `model.compile()`, did you forget to provide a `loss` argument?\n",
            "WARNING:tensorflow:Gradients do not exist for variables ['tf_roberta_model_1/roberta/pooler/dense/kernel:0', 'tf_roberta_model_1/roberta/pooler/dense/bias:0'] when minimizing the loss. If you're using `model.compile()`, did you forget to provide a `loss` argument?\n",
            "WARNING:tensorflow:Gradients do not exist for variables ['tf_roberta_model_1/roberta/pooler/dense/kernel:0', 'tf_roberta_model_1/roberta/pooler/dense/bias:0'] when minimizing the loss. If you're using `model.compile()`, did you forget to provide a `loss` argument?\n"
          ]
        },
        {
          "output_type": "stream",
          "name": "stdout",
          "text": [
            "1124/1124 [==============================] - 367s 292ms/step - loss: 0.1537 - recall_9: 0.9512 - precision_9: 0.9512 - val_loss: 0.4303 - val_recall_9: 0.8526 - val_precision_9: 0.8526\n",
            "Epoch 2/7\n",
            "1124/1124 [==============================] - 323s 287ms/step - loss: 0.0898 - recall_9: 0.9721 - precision_9: 0.9721 - val_loss: 0.5040 - val_recall_9: 0.8470 - val_precision_9: 0.8470\n",
            "Epoch 3/7\n",
            "1124/1124 [==============================] - 323s 287ms/step - loss: 0.0564 - recall_9: 0.9818 - precision_9: 0.9818 - val_loss: 0.5997 - val_recall_9: 0.8503 - val_precision_9: 0.8503\n",
            "Epoch 4/7\n",
            "1124/1124 [==============================] - 323s 287ms/step - loss: 0.0387 - recall_9: 0.9874 - precision_9: 0.9874 - val_loss: 0.8006 - val_recall_9: 0.8487 - val_precision_9: 0.8487\n",
            "Epoch 5/7\n",
            "1124/1124 [==============================] - 323s 287ms/step - loss: 0.0342 - recall_9: 0.9883 - precision_9: 0.9883 - val_loss: 0.8463 - val_recall_9: 0.8348 - val_precision_9: 0.8348\n",
            "Epoch 6/7\n",
            "1124/1124 [==============================] - 323s 287ms/step - loss: 0.0281 - recall_9: 0.9904 - precision_9: 0.9904 - val_loss: 0.7416 - val_recall_9: 0.8451 - val_precision_9: 0.8451\n",
            "Epoch 7/7\n",
            "1124/1124 [==============================] - 323s 287ms/step - loss: 0.0240 - recall_9: 0.9914 - precision_9: 0.9914 - val_loss: 0.7415 - val_recall_9: 0.8453 - val_precision_9: 0.8453\n",
            "582/582 [==============================] - 53s 87ms/step\n"
          ]
        }
      ]
    },
    {
      "cell_type": "code",
      "source": [
        "import matplotlib.pyplot as plt\n",
        "\n",
        "# Create figure and axis objects\n",
        "fig, ax = plt.subplots()\n",
        "\n",
        "# Plot losses for all histories\n",
        "for i, history in enumerate(all_histories):\n",
        "    # Extract training and validation losses\n",
        "    train_loss = history.history['loss']\n",
        "    val_loss = history.history['val_loss']\n",
        "\n",
        "    # Plot training and validation losses\n",
        "    ax.plot(train_loss, label=f'Train Loss (Share: {int(observation_shares[i] * 100)}%)', linestyle='--')\n",
        "    ax.plot(val_loss, label=f'Validation Loss (Share: {int(observation_shares[i] * 100)}%)')\n",
        "\n",
        "# Set title and labels\n",
        "ax.set_title('Training and Validation Losses')\n",
        "ax.set_xlabel('Epoch')\n",
        "ax.set_ylabel('Loss')\n",
        "ax.legend()\n",
        "\n",
        "# Show plot\n",
        "plt.show()\n"
      ],
      "metadata": {
        "id": "aJJALyrC2Nx-",
        "colab": {
          "base_uri": "https://localhost:8080/",
          "height": 472
        },
        "outputId": "1f25cbd6-bc29-4fca-a3aa-351bdd21a3fe"
      },
      "id": "aJJALyrC2Nx-",
      "execution_count": 152,
      "outputs": [
        {
          "output_type": "display_data",
          "data": {
            "text/plain": [
              "<Figure size 640x480 with 1 Axes>"
            ],
            "image/png": "[encoded data removed]"
          },
          "metadata": {}
        }
      ]
    },
    {
      "cell_type": "code",
      "source": [
        "from sklearn.preprocessing import OneHotEncoder\n",
        "import numpy as np\n",
        "\n",
        "# Define observation shares\n",
        "observation_shares = [0.10]\n",
        "\n",
        "# List to store validation predictions for all models\n",
        "all_valid_preds = []\n",
        "\n",
        "# List to store histories for all models\n",
        "all_histories = []\n",
        "\n",
        "for share in observation_shares:\n",
        "    # Calculate the number of observations\n",
        "    obs_count = int(len(df_train) * share)\n",
        "\n",
        "    # Set the seed for reproducibility\n",
        "    np.random.seed(42)\n",
        "\n",
        "    # Sample from the DataFrame\n",
        "    df_train_sampled = df_train.sample(n=obs_count)\n",
        "\n",
        "    # Extract features and labels\n",
        "    train_data = df_train_sampled['clean_text']\n",
        "    train_labels = df_train_sampled['label']\n",
        "\n",
        "    # One-hot encode the labels\n",
        "    enc = OneHotEncoder(handle_unknown='ignore')\n",
        "    y_train = enc.fit_transform(np.array(train_labels).reshape(-1, 1)).toarray()\n",
        "\n",
        "    # Get validation data\n",
        "    # validation_data = df_validation['clean_text']\n",
        "    # validation_labels = df_validation['label']\n",
        "\n",
        "    # Convert validation labels to one-hot encoding\n",
        "    y_valid = enc.transform(np.array(validation_labels).reshape(-1, 1)).toarray()\n",
        "\n",
        "    # Define steps per epoch\n",
        "    steps_per_epoch = obs_count // batch_size\n",
        "\n",
        "    # Generate batches for training data\n",
        "    train_batches = get_batches(train_data, y_train, tokenizer, batch_size, max_length)\n",
        "\n",
        "    # Generate batches for validation data\n",
        "    valid_batches = get_batches(validation_data, y_valid, tokenizer, batch_size, max_length)\n",
        "\n",
        "    # Compile the model\n",
        "    bert_model.compile(\n",
        "        optimizer=Adam(learning_rate=2e-5),\n",
        "        metrics=[tf.keras.metrics.Recall(), tf.keras.metrics.Precision()],\n",
        "        loss=tf.keras.losses.CategoricalCrossentropy()\n",
        "    )\n",
        "\n",
        "    # Train the model and record the history\n",
        "    history = bert_model.fit(\n",
        "        train_batches,\n",
        "        epochs=7,\n",
        "        steps_per_epoch=steps_per_epoch,\n",
        "        validation_data=valid_batches,\n",
        "        validation_steps=len(validation_data) // batch_size\n",
        "    )\n",
        "\n",
        "    # Append the history to the list\n",
        "    all_histories.append(history)\n",
        "\n",
        "    # Get the inputs tokenized from the validation set\n",
        "    inputs = tokenizer.batch_encode_plus(list(test_data),\n",
        "                                         add_special_tokens=True,\n",
        "                                         max_length=max_length,\n",
        "                                         padding='max_length',\n",
        "                                         return_attention_mask=True,\n",
        "                                         return_token_type_ids=True,\n",
        "                                         truncation=True)\n",
        "\n",
        "    # Extract input_ids and attention mask\n",
        "    inputs_valid = [np.asarray(inputs['input_ids'], dtype='int32'),\n",
        "                    np.asarray(inputs['attention_mask'], dtype='int32')]\n",
        "\n",
        "    # Get predictions for the validation set\n",
        "    valid_preds = bert_model.predict(inputs_valid)\n",
        "    valid_preds = np.argmax(valid_preds, axis=1)\n",
        "\n",
        "    # Append predictions to the list\n",
        "    all_valid_preds.append(valid_preds)\n",
        "    metrics_val.run(test_labels, valid_preds, f\"share_{int(share * 100)}%\")"
      ],
      "metadata": {
        "id": "P4DrpRRt5jpp",
        "colab": {
          "base_uri": "https://localhost:8080/",
          "height": 862
        },
        "outputId": "20f2a43f-0661-4f1d-d5be-6278c7ecbc41"
      },
      "id": "P4DrpRRt5jpp",
      "execution_count": 166,
      "outputs": [
        {
          "output_type": "stream",
          "name": "stdout",
          "text": [
            "Epoch 1/7\n"
          ]
        },
        {
          "output_type": "stream",
          "name": "stderr",
          "text": [
            "WARNING:tensorflow:Gradients do not exist for variables ['tf_roberta_model_4/roberta/pooler/dense/kernel:0', 'tf_roberta_model_4/roberta/pooler/dense/bias:0'] when minimizing the loss. If you're using `model.compile()`, did you forget to provide a `loss` argument?\n"
          ]
        },
        {
          "output_type": "error",
          "ename": "ResourceExhaustedError",
          "evalue": "in user code:\n\n    File \"/usr/local/lib/python3.10/dist-packages/keras/src/engine/training.py\", line 1401, in train_function  *\n        return step_function(self, iterator)\n    File \"/usr/local/lib/python3.10/dist-packages/keras/src/engine/training.py\", line 1384, in step_function  **\n        outputs = model.distribute_strategy.run(run_step, args=(data,))\n    File \"/usr/local/lib/python3.10/dist-packages/keras/src/engine/training.py\", line 1373, in run_step  **\n        outputs = model.train_step(data)\n    File \"/usr/local/lib/python3.10/dist-packages/keras/src/engine/training.py\", line 1154, in train_step\n        self.optimizer.minimize(loss, self.trainable_variables, tape=tape)\n    File \"/usr/local/lib/python3.10/dist-packages/keras/src/optimizers/optimizer.py\", line 544, in minimize\n        self.apply_gradients(grads_and_vars)\n    File \"/usr/local/lib/python3.10/dist-packages/keras/src/optimizers/optimizer.py\", line 1223, in apply_gradients\n        return super().apply_gradients(grads_and_vars, name=name)\n    File \"/usr/local/lib/python3.10/dist-packages/keras/src/optimizers/optimizer.py\", line 638, in apply_gradients\n        self.build(trainable_variables)\n    File \"/usr/local/lib/python3.10/dist-packages/keras/src/optimizers/adam.py\", line 145, in build\n        self.add_variable_from_reference(\n    File \"/usr/local/lib/python3.10/dist-packages/keras/src/optimizers/optimizer.py\", line 1125, in add_variable_from_reference\n        return super().add_variable_from_reference(\n    File \"/usr/local/lib/python3.10/dist-packages/keras/src/optimizers/optimizer.py\", line 508, in add_variable_from_reference\n        initial_value = tf.zeros(\n    File \"/usr/local/lib/python3.10/dist-packages/tensorflow/dtensor/python/api.py\", line 64, in call_with_layout\n        return fn(*args, **kwargs)\n\n    ResourceExhaustedError: {{function_node __wrapped__Fill_device_/job:localhost/replica:0/task:0/device:GPU:0}} OOM when allocating tensor with shape[768,3072] and type float on /job:localhost/replica:0/task:0/device:GPU:0 by allocator GPU_0_bfc [Op:Fill] name: \n",
          "traceback": [
            "\u001b[0;31m---------------------------------------------------------------------------\u001b[0m",
            "\u001b[0;31mResourceExhaustedError\u001b[0m                    Traceback (most recent call last)",
            "\u001b[0;32m<ipython-input-166-95e69701ed82>\u001b[0m in \u001b[0;36m<cell line: 13>\u001b[0;34m()\u001b[0m\n\u001b[1;32m     53\u001b[0m \u001b[0;34m\u001b[0m\u001b[0m\n\u001b[1;32m     54\u001b[0m     \u001b[0;31m# Train the model and record the history\u001b[0m\u001b[0;34m\u001b[0m\u001b[0;34m\u001b[0m\u001b[0m\n\u001b[0;32m---> 55\u001b[0;31m     history = bert_model.fit(\n\u001b[0m\u001b[1;32m     56\u001b[0m         \u001b[0mtrain_batches\u001b[0m\u001b[0;34m,\u001b[0m\u001b[0;34m\u001b[0m\u001b[0;34m\u001b[0m\u001b[0m\n\u001b[1;32m     57\u001b[0m         \u001b[0mepochs\u001b[0m\u001b[0;34m=\u001b[0m\u001b[0;36m7\u001b[0m\u001b[0;34m,\u001b[0m\u001b[0;34m\u001b[0m\u001b[0;34m\u001b[0m\u001b[0m\n",
            "\u001b[0;32m/usr/local/lib/python3.10/dist-packages/keras/src/utils/traceback_utils.py\u001b[0m in \u001b[0;36merror_handler\u001b[0;34m(*args, **kwargs)\u001b[0m\n\u001b[1;32m     68\u001b[0m             \u001b[0;31m# To get the full stack trace, call:\u001b[0m\u001b[0;34m\u001b[0m\u001b[0;34m\u001b[0m\u001b[0m\n\u001b[1;32m     69\u001b[0m             \u001b[0;31m# `tf.debugging.disable_traceback_filtering()`\u001b[0m\u001b[0;34m\u001b[0m\u001b[0;34m\u001b[0m\u001b[0m\n\u001b[0;32m---> 70\u001b[0;31m             \u001b[0;32mraise\u001b[0m \u001b[0me\u001b[0m\u001b[0;34m.\u001b[0m\u001b[0mwith_traceback\u001b[0m\u001b[0;34m(\u001b[0m\u001b[0mfiltered_tb\u001b[0m\u001b[0;34m)\u001b[0m \u001b[0;32mfrom\u001b[0m \u001b[0;32mNone\u001b[0m\u001b[0;34m\u001b[0m\u001b[0;34m\u001b[0m\u001b[0m\n\u001b[0m\u001b[1;32m     71\u001b[0m         \u001b[0;32mfinally\u001b[0m\u001b[0;34m:\u001b[0m\u001b[0;34m\u001b[0m\u001b[0;34m\u001b[0m\u001b[0m\n\u001b[1;32m     72\u001b[0m             \u001b[0;32mdel\u001b[0m \u001b[0mfiltered_tb\u001b[0m\u001b[0;34m\u001b[0m\u001b[0;34m\u001b[0m\u001b[0m\n",
            "\u001b[0;32m/usr/local/lib/python3.10/dist-packages/tensorflow/python/eager/polymorphic_function/autograph_util.py\u001b[0m in \u001b[0;36mautograph_handler\u001b[0;34m(*args, **kwargs)\u001b[0m\n\u001b[1;32m     50\u001b[0m     \u001b[0;32mexcept\u001b[0m \u001b[0mException\u001b[0m \u001b[0;32mas\u001b[0m \u001b[0me\u001b[0m\u001b[0;34m:\u001b[0m  \u001b[0;31m# pylint:disable=broad-except\u001b[0m\u001b[0;34m\u001b[0m\u001b[0;34m\u001b[0m\u001b[0m\n\u001b[1;32m     51\u001b[0m       \u001b[0;32mif\u001b[0m \u001b[0mhasattr\u001b[0m\u001b[0;34m(\u001b[0m\u001b[0me\u001b[0m\u001b[0;34m,\u001b[0m \u001b[0;34m\"ag_error_metadata\"\u001b[0m\u001b[0;34m)\u001b[0m\u001b[0;34m:\u001b[0m\u001b[0;34m\u001b[0m\u001b[0;34m\u001b[0m\u001b[0m\n\u001b[0;32m---> 52\u001b[0;31m         \u001b[0;32mraise\u001b[0m \u001b[0me\u001b[0m\u001b[0;34m.\u001b[0m\u001b[0mag_error_metadata\u001b[0m\u001b[0;34m.\u001b[0m\u001b[0mto_exception\u001b[0m\u001b[0;34m(\u001b[0m\u001b[0me\u001b[0m\u001b[0;34m)\u001b[0m\u001b[0;34m\u001b[0m\u001b[0;34m\u001b[0m\u001b[0m\n\u001b[0m\u001b[1;32m     53\u001b[0m       \u001b[0;32melse\u001b[0m\u001b[0;34m:\u001b[0m\u001b[0;34m\u001b[0m\u001b[0;34m\u001b[0m\u001b[0m\n\u001b[1;32m     54\u001b[0m         \u001b[0;32mraise\u001b[0m\u001b[0;34m\u001b[0m\u001b[0;34m\u001b[0m\u001b[0m\n",
            "\u001b[0;31mResourceExhaustedError\u001b[0m: in user code:\n\n    File \"/usr/local/lib/python3.10/dist-packages/keras/src/engine/training.py\", line 1401, in train_function  *\n        return step_function(self, iterator)\n    File \"/usr/local/lib/python3.10/dist-packages/keras/src/engine/training.py\", line 1384, in step_function  **\n        outputs = model.distribute_strategy.run(run_step, args=(data,))\n    File \"/usr/local/lib/python3.10/dist-packages/keras/src/engine/training.py\", line 1373, in run_step  **\n        outputs = model.train_step(data)\n    File \"/usr/local/lib/python3.10/dist-packages/keras/src/engine/training.py\", line 1154, in train_step\n        self.optimizer.minimize(loss, self.trainable_variables, tape=tape)\n    File \"/usr/local/lib/python3.10/dist-packages/keras/src/optimizers/optimizer.py\", line 544, in minimize\n        self.apply_gradients(grads_and_vars)\n    File \"/usr/local/lib/python3.10/dist-packages/keras/src/optimizers/optimizer.py\", line 1223, in apply_gradients\n        return super().apply_gradients(grads_and_vars, name=name)\n    File \"/usr/local/lib/python3.10/dist-packages/keras/src/optimizers/optimizer.py\", line 638, in apply_gradients\n        self.build(trainable_variables)\n    File \"/usr/local/lib/python3.10/dist-packages/keras/src/optimizers/adam.py\", line 145, in build\n        self.add_variable_from_reference(\n    File \"/usr/local/lib/python3.10/dist-packages/keras/src/optimizers/optimizer.py\", line 1125, in add_variable_from_reference\n        return super().add_variable_from_reference(\n    File \"/usr/local/lib/python3.10/dist-packages/keras/src/optimizers/optimizer.py\", line 508, in add_variable_from_reference\n        initial_value = tf.zeros(\n    File \"/usr/local/lib/python3.10/dist-packages/tensorflow/dtensor/python/api.py\", line 64, in call_with_layout\n        return fn(*args, **kwargs)\n\n    ResourceExhaustedError: {{function_node __wrapped__Fill_device_/job:localhost/replica:0/task:0/device:GPU:0}} OOM when allocating tensor with shape[768,3072] and type float on /job:localhost/replica:0/task:0/device:GPU:0 by allocator GPU_0_bfc [Op:Fill] name: \n"
          ]
        }
      ]
    },
    {
      "cell_type": "code",
      "source": [
        "import matplotlib.pyplot as plt\n",
        "\n",
        "# Create figure and axis objects\n",
        "fig, ax = plt.subplots()\n",
        "\n",
        "# Plot losses for all histories\n",
        "for i, history in enumerate(all_histories):\n",
        "    # Extract training and validation losses\n",
        "    train_loss = history.history['loss']\n",
        "    val_loss = history.history['val_loss']\n",
        "\n",
        "    # Plot training and validation losses\n",
        "    ax.plot(train_loss, label=f'Train Loss (Share: {int(observation_shares[i] * 100)}%)', linestyle='--')\n",
        "    ax.plot(val_loss, label=f'Validation Loss (Share: {int(observation_shares[i] * 100)}%)')\n",
        "\n",
        "# Set title and labels\n",
        "ax.set_title('Training and Validation Losses')\n",
        "ax.set_xlabel('Epoch')\n",
        "ax.set_ylabel('Loss')\n",
        "ax.legend()\n",
        "\n",
        "# Show plot\n",
        "plt.show()"
      ],
      "metadata": {
        "colab": {
          "base_uri": "https://localhost:8080/",
          "height": 472
        },
        "id": "sFlCoXYkD2Zc",
        "outputId": "2c89db97-f671-459f-e8cf-c540bb1b1d59"
      },
      "id": "sFlCoXYkD2Zc",
      "execution_count": 160,
      "outputs": [
        {
          "output_type": "display_data",
          "data": {
            "text/plain": [
              "<Figure size 640x480 with 1 Axes>"
            ],
            "image/png": "[encoded data removed]"
          },
          "metadata": {}
        }
      ]
    },
    {
      "cell_type": "code",
      "source": [
        "metrics_val.plot()"
      ],
      "metadata": {
        "id": "wxmIP3ZInrV_",
        "colab": {
          "base_uri": "https://localhost:8080/",
          "height": 956
        },
        "outputId": "b0ede0a3-cbb3-441e-e1ce-54a3b9a944a9"
      },
      "execution_count": 162,
      "outputs": [
        {
          "output_type": "display_data",
          "data": {
            "text/plain": [
              "<Figure size 1500x1000 with 4 Axes>"
            ],
            "image/png": "[encoded data removed]"
          },
          "metadata": {}
        }
      ],
      "id": "wxmIP3ZInrV_"
    }
  ],
  "metadata": {
    "accelerator": "GPU",
    "colab": {
      "gpuType": "A100",
      "machine_shape": "hm",
      "provenance": []
    },
    "kernelspec": {
      "display_name": "Python 3",
      "name": "python3"
    },
    "language_info": {
      "codemirror_mode": {
        "name": "ipython",
        "version": 3
      },
      "file_extension": ".py",
      "mimetype": "text/x-python",
      "name": "python",
      "nbconvert_exporter": "python",
      "pygments_lexer": "ipython3",
      "version": "3.12.2"
    }
  },
  "nbformat": 4,
  "nbformat_minor": 5
}