{
 "cells": [
  {
   "cell_type": "markdown",
   "id": "c1571446-71d6-482a-921f-ff928aa2fff7",
   "metadata": {},
   "source": [
    "# Setting Up the Problem\n",
    "\n",
    "#### Objective: Understand and establish the baseline for your chosen dataset"
   ]
  },
  {
   "cell_type": "code",
   "execution_count": 1,
   "id": "ac018b8a-0b53-46b2-b91a-252984c73f80",
   "metadata": {},
   "outputs": [],
   "source": [
    "import datasets\n",
    "from datasets import load_dataset"
   ]
  },
  {
   "cell_type": "code",
   "execution_count": 2,
   "id": "9121702b-d562-407e-afb3-9a582ee3ad56",
   "metadata": {},
   "outputs": [
    {
     "name": "stderr",
     "output_type": "stream",
     "text": [
      "/Users/mikelgallo/anaconda3/envs/text_2/lib/python3.12/site-packages/datasets/load.py:1461: FutureWarning: The repository for carblacac/twitter-sentiment-analysis contains custom code which must be executed to correctly load the dataset. You can inspect the repository content at https://hf.co/datasets/carblacac/twitter-sentiment-analysis\n",
      "You can avoid this message in future by passing the argument `trust_remote_code=True`.\n",
      "Passing `trust_remote_code=True` will be mandatory to load this dataset from the next major release of `datasets`.\n",
      "  warnings.warn(\n"
     ]
    }
   ],
   "source": [
    "df = load_dataset(\"carblacac/twitter-sentiment-analysis\")"
   ]
  },
  {
   "cell_type": "code",
   "execution_count": 6,
   "id": "28b7d6ee-8603-45c1-9733-4a4435227853",
   "metadata": {},
   "outputs": [],
   "source": [
    "## Defining train, validation and test sets\n",
    "train_data = df['train']['text']\n",
    "train_labels = df['train']['feeling']\n",
    "\n",
    "validation_data = df['validation']['text']\n",
    "validation_labels = df['validation']['feeling']\n",
    "\n",
    "test_data = df['test']['text']\n",
    "test_labels = df['test']['feeling']"
   ]
  },
  {
   "cell_type": "markdown",
   "id": "dc46d8fc-29bb-41d2-86e8-fcac4d8e8e73",
   "metadata": {},
   "source": [
    "### Characteristics of the dataset"
   ]
  },
  {
   "cell_type": "markdown",
   "id": "f73993a8-3a67-4a56-8317-93ef13228920",
   "metadata": {},
   "source": [
    "**TSATC: Twitter Sentiment Analysis Training Corpus**   \n",
    "Original DATASET contains 1,578,627 classified tweets (1 for positive and 0 for negative sentiment).\n",
    "\n",
    "\n",
    "\n",
    "The original Twitter Sentiment Analysis Dataset contains 1,578,627 classified tweets, each row is marked as 1 for positive sentiment and 0 for negative sentiment. It can be downloaded from http://thinknook.com/wp-content/uploads/2012/09/Sentiment-Analysis-Dataset.zip. The dataset is based on data from the following two sources:\n",
    "\n",
    "University of Michigan Sentiment Analysis competition on Kaggle Twitter Sentiment Corpus by Niek Sanders\n",
    "\n",
    "This dataset has been transformed, selecting in a random way a subset of them, applying a cleaning process, and dividing them between the test and train subsets, keeping a balance between the number of positive and negative tweets within each of these subsets. These two files can be founded on https://github.com/cblancac/SentimentAnalysisBert/blob/main/data.\n",
    "\n",
    "Finally, the train subset has been divided in two smallest datasets, train (80%) and validation (20%). The final dataset has been created with these two new subdatasets plus the previous test dataset."
   ]
  },
  {
   "cell_type": "code",
   "execution_count": 3,
   "id": "aace8383-c629-4921-b35c-c0210716361d",
   "metadata": {},
   "outputs": [
    {
     "data": {
      "text/plain": [
       "DatasetDict({\n",
       "    train: Dataset({\n",
       "        features: ['text', 'feeling'],\n",
       "        num_rows: 119988\n",
       "    })\n",
       "    validation: Dataset({\n",
       "        features: ['text', 'feeling'],\n",
       "        num_rows: 29997\n",
       "    })\n",
       "    test: Dataset({\n",
       "        features: ['text', 'feeling'],\n",
       "        num_rows: 61998\n",
       "    })\n",
       "})"
      ]
     },
     "execution_count": 3,
     "metadata": {},
     "output_type": "execute_result"
    }
   ],
   "source": [
    "df"
   ]
  },
  {
   "cell_type": "code",
   "execution_count": null,
   "id": "a64eb5d1-0e3e-4149-ae74-63afa5297e91",
   "metadata": {},
   "outputs": [],
   "source": []
  }
 ],
 "metadata": {
  "kernelspec": {
   "display_name": "Python 3 (ipykernel)",
   "language": "python",
   "name": "python3"
  },
  "language_info": {
   "codemirror_mode": {
    "name": "ipython",
    "version": 3
   },
   "file_extension": ".py",
   "mimetype": "text/x-python",
   "name": "python",
   "nbconvert_exporter": "python",
   "pygments_lexer": "ipython3",
   "version": "3.12.2"
  }
 },
 "nbformat": 4,
 "nbformat_minor": 5
}
