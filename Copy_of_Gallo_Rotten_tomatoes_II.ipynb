{
  "cells": [
    {
      "cell_type": "markdown",
      "metadata": {
        "id": "9ufxzo5GdOaz"
      },
      "source": [
        "# Sentiment Analysis on Rotten Tomatoes Dataset II - Homework 2\n",
        "\n",
        "\n"
      ]
    },
    {
      "cell_type": "markdown",
      "source": [
        "testing / seb / joaquin / mikel"
      ],
      "metadata": {
        "id": "mE-TAkekdYvb"
      }
    },
    {
      "cell_type": "code",
      "source": [],
      "metadata": {
        "id": "LM_fnTuCeg8R"
      },
      "execution_count": null,
      "outputs": []
    },
    {
      "cell_type": "markdown",
      "metadata": {
        "id": "l06WFgIIOp6P"
      },
      "source": [
        "## Metrics Functions to Consider\n",
        "\n",
        "1. **Accuracy**: Measures the proportion of correct predictions among the total number of cases examined. It's a straightforward metric but can be misleading if the classes are imbalanced.\n",
        "\n",
        "2. **Precision and Recall**: Precision measures the proportion of positive identifications that were actually correct, while recall measures the proportion of actual positives that were identified correctly. These metrics are especially important when dealing with imbalanced datasets.\n",
        "\n",
        "3. **F1 Score**: The harmonic mean of precision and recall. It's a good way to show that a classifer has a good balance between precision and recall.\n",
        "\n",
        "4. **Confusion Matrix**: A table used to describe the performance of a classification model on a set of test data for which the true values are known. It allows the visualization of the performance of an algorithm.\n",
        "\n",
        "5. **ROC and AUC**: The receiver operating characteristic curve is a graphical plot that illustrates the diagnostic ability of a binary classifier system. The area under the curve (AUC) represents measure of separability."
      ]
    },
    {
      "cell_type": "code",
      "source": [
        "import tensorflow\n",
        "print(tensorflow.__version__)\n",
        "import transformers\n",
        "print(transformers.__version__)\n",
        "import datasets\n",
        "print(datasets.__version__)"
      ],
      "metadata": {
        "colab": {
          "base_uri": "https://localhost:8080/"
        },
        "id": "llf-cbGYFOn8",
        "outputId": "96a4e80f-6cd3-4817-a37e-60ce7a52ac0e"
      },
      "execution_count": null,
      "outputs": [
        {
          "output_type": "stream",
          "name": "stdout",
          "text": [
            "2.15.0\n",
            "4.37.2\n",
            "2.18.0\n"
          ]
        }
      ]
    },
    {
      "cell_type": "code",
      "source": [
        "#nltk.download('stopwords')\n",
        "#!python -m spacy download en_core_web_sm"
      ],
      "metadata": {
        "colab": {
          "base_uri": "https://localhost:8080/"
        },
        "id": "1lOK6TKvfqCI",
        "outputId": "c3092880-70e6-49f5-fc24-d7004cf56360"
      },
      "execution_count": null,
      "outputs": [
        {
          "output_type": "stream",
          "name": "stderr",
          "text": [
            "[nltk_data] Downloading package stopwords to /root/nltk_data...\n",
            "[nltk_data]   Unzipping corpora/stopwords.zip.\n"
          ]
        },
        {
          "output_type": "stream",
          "name": "stdout",
          "text": [
            "Collecting en-core-web-sm==3.7.1\n",
            "  Downloading https://github.com/explosion/spacy-models/releases/download/en_core_web_sm-3.7.1/en_core_web_sm-3.7.1-py3-none-any.whl (12.8 MB)\n",
            "\u001b[2K     \u001b[90m━━━━━━━━━━━━━━━━━━━━━━━━━━━━━━━━━━━━━━━━\u001b[0m \u001b[32m12.8/12.8 MB\u001b[0m \u001b[31m31.4 MB/s\u001b[0m eta \u001b[36m0:00:00\u001b[0m\n",
            "\u001b[?25hRequirement already satisfied: spacy<3.8.0,>=3.7.2 in /usr/local/lib/python3.10/dist-packages (from en-core-web-sm==3.7.1) (3.7.4)\n",
            "Requirement already satisfied: spacy-legacy<3.1.0,>=3.0.11 in /usr/local/lib/python3.10/dist-packages (from spacy<3.8.0,>=3.7.2->en-core-web-sm==3.7.1) (3.0.12)\n",
            "Requirement already satisfied: spacy-loggers<2.0.0,>=1.0.0 in /usr/local/lib/python3.10/dist-packages (from spacy<3.8.0,>=3.7.2->en-core-web-sm==3.7.1) (1.0.5)\n",
            "Requirement already satisfied: murmurhash<1.1.0,>=0.28.0 in /usr/local/lib/python3.10/dist-packages (from spacy<3.8.0,>=3.7.2->en-core-web-sm==3.7.1) (1.0.10)\n",
            "Requirement already satisfied: cymem<2.1.0,>=2.0.2 in /usr/local/lib/python3.10/dist-packages (from spacy<3.8.0,>=3.7.2->en-core-web-sm==3.7.1) (2.0.8)\n",
            "Requirement already satisfied: preshed<3.1.0,>=3.0.2 in /usr/local/lib/python3.10/dist-packages (from spacy<3.8.0,>=3.7.2->en-core-web-sm==3.7.1) (3.0.9)\n",
            "Requirement already satisfied: thinc<8.3.0,>=8.2.2 in /usr/local/lib/python3.10/dist-packages (from spacy<3.8.0,>=3.7.2->en-core-web-sm==3.7.1) (8.2.3)\n",
            "Requirement already satisfied: wasabi<1.2.0,>=0.9.1 in /usr/local/lib/python3.10/dist-packages (from spacy<3.8.0,>=3.7.2->en-core-web-sm==3.7.1) (1.1.2)\n",
            "Requirement already satisfied: srsly<3.0.0,>=2.4.3 in /usr/local/lib/python3.10/dist-packages (from spacy<3.8.0,>=3.7.2->en-core-web-sm==3.7.1) (2.4.8)\n",
            "Requirement already satisfied: catalogue<2.1.0,>=2.0.6 in /usr/local/lib/python3.10/dist-packages (from spacy<3.8.0,>=3.7.2->en-core-web-sm==3.7.1) (2.0.10)\n",
            "Requirement already satisfied: weasel<0.4.0,>=0.1.0 in /usr/local/lib/python3.10/dist-packages (from spacy<3.8.0,>=3.7.2->en-core-web-sm==3.7.1) (0.3.4)\n",
            "Requirement already satisfied: typer<0.10.0,>=0.3.0 in /usr/local/lib/python3.10/dist-packages (from spacy<3.8.0,>=3.7.2->en-core-web-sm==3.7.1) (0.9.0)\n",
            "Requirement already satisfied: smart-open<7.0.0,>=5.2.1 in /usr/local/lib/python3.10/dist-packages (from spacy<3.8.0,>=3.7.2->en-core-web-sm==3.7.1) (6.4.0)\n",
            "Requirement already satisfied: tqdm<5.0.0,>=4.38.0 in /usr/local/lib/python3.10/dist-packages (from spacy<3.8.0,>=3.7.2->en-core-web-sm==3.7.1) (4.66.2)\n",
            "Requirement already satisfied: requests<3.0.0,>=2.13.0 in /usr/local/lib/python3.10/dist-packages (from spacy<3.8.0,>=3.7.2->en-core-web-sm==3.7.1) (2.31.0)\n",
            "Requirement already satisfied: pydantic!=1.8,!=1.8.1,<3.0.0,>=1.7.4 in /usr/local/lib/python3.10/dist-packages (from spacy<3.8.0,>=3.7.2->en-core-web-sm==3.7.1) (2.6.3)\n",
            "Requirement already satisfied: jinja2 in /usr/local/lib/python3.10/dist-packages (from spacy<3.8.0,>=3.7.2->en-core-web-sm==3.7.1) (3.1.3)\n",
            "Requirement already satisfied: setuptools in /usr/local/lib/python3.10/dist-packages (from spacy<3.8.0,>=3.7.2->en-core-web-sm==3.7.1) (67.7.2)\n",
            "Requirement already satisfied: packaging>=20.0 in /usr/local/lib/python3.10/dist-packages (from spacy<3.8.0,>=3.7.2->en-core-web-sm==3.7.1) (23.2)\n",
            "Requirement already satisfied: langcodes<4.0.0,>=3.2.0 in /usr/local/lib/python3.10/dist-packages (from spacy<3.8.0,>=3.7.2->en-core-web-sm==3.7.1) (3.3.0)\n",
            "Requirement already satisfied: numpy>=1.19.0 in /usr/local/lib/python3.10/dist-packages (from spacy<3.8.0,>=3.7.2->en-core-web-sm==3.7.1) (1.25.2)\n",
            "Requirement already satisfied: annotated-types>=0.4.0 in /usr/local/lib/python3.10/dist-packages (from pydantic!=1.8,!=1.8.1,<3.0.0,>=1.7.4->spacy<3.8.0,>=3.7.2->en-core-web-sm==3.7.1) (0.6.0)\n",
            "Requirement already satisfied: pydantic-core==2.16.3 in /usr/local/lib/python3.10/dist-packages (from pydantic!=1.8,!=1.8.1,<3.0.0,>=1.7.4->spacy<3.8.0,>=3.7.2->en-core-web-sm==3.7.1) (2.16.3)\n",
            "Requirement already satisfied: typing-extensions>=4.6.1 in /usr/local/lib/python3.10/dist-packages (from pydantic!=1.8,!=1.8.1,<3.0.0,>=1.7.4->spacy<3.8.0,>=3.7.2->en-core-web-sm==3.7.1) (4.10.0)\n",
            "Requirement already satisfied: charset-normalizer<4,>=2 in /usr/local/lib/python3.10/dist-packages (from requests<3.0.0,>=2.13.0->spacy<3.8.0,>=3.7.2->en-core-web-sm==3.7.1) (3.3.2)\n",
            "Requirement already satisfied: idna<4,>=2.5 in /usr/local/lib/python3.10/dist-packages (from requests<3.0.0,>=2.13.0->spacy<3.8.0,>=3.7.2->en-core-web-sm==3.7.1) (3.6)\n",
            "Requirement already satisfied: urllib3<3,>=1.21.1 in /usr/local/lib/python3.10/dist-packages (from requests<3.0.0,>=2.13.0->spacy<3.8.0,>=3.7.2->en-core-web-sm==3.7.1) (2.0.7)\n",
            "Requirement already satisfied: certifi>=2017.4.17 in /usr/local/lib/python3.10/dist-packages (from requests<3.0.0,>=2.13.0->spacy<3.8.0,>=3.7.2->en-core-web-sm==3.7.1) (2024.2.2)\n",
            "Requirement already satisfied: blis<0.8.0,>=0.7.8 in /usr/local/lib/python3.10/dist-packages (from thinc<8.3.0,>=8.2.2->spacy<3.8.0,>=3.7.2->en-core-web-sm==3.7.1) (0.7.11)\n",
            "Requirement already satisfied: confection<1.0.0,>=0.0.1 in /usr/local/lib/python3.10/dist-packages (from thinc<8.3.0,>=8.2.2->spacy<3.8.0,>=3.7.2->en-core-web-sm==3.7.1) (0.1.4)\n",
            "Requirement already satisfied: click<9.0.0,>=7.1.1 in /usr/local/lib/python3.10/dist-packages (from typer<0.10.0,>=0.3.0->spacy<3.8.0,>=3.7.2->en-core-web-sm==3.7.1) (8.1.7)\n",
            "Requirement already satisfied: cloudpathlib<0.17.0,>=0.7.0 in /usr/local/lib/python3.10/dist-packages (from weasel<0.4.0,>=0.1.0->spacy<3.8.0,>=3.7.2->en-core-web-sm==3.7.1) (0.16.0)\n",
            "Requirement already satisfied: MarkupSafe>=2.0 in /usr/local/lib/python3.10/dist-packages (from jinja2->spacy<3.8.0,>=3.7.2->en-core-web-sm==3.7.1) (2.1.5)\n",
            "\u001b[38;5;2m✔ Download and installation successful\u001b[0m\n",
            "You can now load the package via spacy.load('en_core_web_sm')\n",
            "\u001b[38;5;3m⚠ Restart to reload dependencies\u001b[0m\n",
            "If you are in a Jupyter or Colab notebook, you may need to restart Python in\n",
            "order to load all the package's dependencies. You can do this by selecting the\n",
            "'Restart kernel' or 'Restart runtime' option.\n"
          ]
        }
      ]
    },
    {
      "cell_type": "code",
      "execution_count": null,
      "metadata": {
        "id": "AkfXFXf2Oruj",
        "colab": {
          "base_uri": "https://localhost:8080/",
          "height": 1000
        },
        "outputId": "bbdf1e27-833e-41fa-ec57-9e125c1fc990"
      },
      "outputs": [
        {
          "output_type": "error",
          "ename": "LookupError",
          "evalue": "\n**********************************************************************\n  Resource \u001b[93mstopwords\u001b[0m not found.\n  Please use the NLTK Downloader to obtain the resource:\n\n  \u001b[31m>>> import nltk\n  >>> nltk.download('stopwords')\n  \u001b[0m\n  For more information see: https://www.nltk.org/data.html\n\n  Attempted to load \u001b[93mcorpora/stopwords\u001b[0m\n\n  Searched in:\n    - '/root/nltk_data'\n    - '/usr/nltk_data'\n    - '/usr/share/nltk_data'\n    - '/usr/lib/nltk_data'\n    - '/usr/share/nltk_data'\n    - '/usr/local/share/nltk_data'\n    - '/usr/lib/nltk_data'\n    - '/usr/local/lib/nltk_data'\n**********************************************************************\n",
          "traceback": [
            "\u001b[0;31m---------------------------------------------------------------------------\u001b[0m",
            "\u001b[0;31mLookupError\u001b[0m                               Traceback (most recent call last)",
            "\u001b[0;32m/usr/local/lib/python3.10/dist-packages/nltk/corpus/util.py\u001b[0m in \u001b[0;36m__load\u001b[0;34m(self)\u001b[0m\n\u001b[1;32m     83\u001b[0m                 \u001b[0;32mtry\u001b[0m\u001b[0;34m:\u001b[0m\u001b[0;34m\u001b[0m\u001b[0;34m\u001b[0m\u001b[0m\n\u001b[0;32m---> 84\u001b[0;31m                     \u001b[0mroot\u001b[0m \u001b[0;34m=\u001b[0m \u001b[0mnltk\u001b[0m\u001b[0;34m.\u001b[0m\u001b[0mdata\u001b[0m\u001b[0;34m.\u001b[0m\u001b[0mfind\u001b[0m\u001b[0;34m(\u001b[0m\u001b[0;34mf\"{self.subdir}/{zip_name}\"\u001b[0m\u001b[0;34m)\u001b[0m\u001b[0;34m\u001b[0m\u001b[0;34m\u001b[0m\u001b[0m\n\u001b[0m\u001b[1;32m     85\u001b[0m                 \u001b[0;32mexcept\u001b[0m \u001b[0mLookupError\u001b[0m\u001b[0;34m:\u001b[0m\u001b[0;34m\u001b[0m\u001b[0;34m\u001b[0m\u001b[0m\n",
            "\u001b[0;32m/usr/local/lib/python3.10/dist-packages/nltk/data.py\u001b[0m in \u001b[0;36mfind\u001b[0;34m(resource_name, paths)\u001b[0m\n\u001b[1;32m    582\u001b[0m     \u001b[0mresource_not_found\u001b[0m \u001b[0;34m=\u001b[0m \u001b[0;34mf\"\\n{sep}\\n{msg}\\n{sep}\\n\"\u001b[0m\u001b[0;34m\u001b[0m\u001b[0;34m\u001b[0m\u001b[0m\n\u001b[0;32m--> 583\u001b[0;31m     \u001b[0;32mraise\u001b[0m \u001b[0mLookupError\u001b[0m\u001b[0;34m(\u001b[0m\u001b[0mresource_not_found\u001b[0m\u001b[0;34m)\u001b[0m\u001b[0;34m\u001b[0m\u001b[0;34m\u001b[0m\u001b[0m\n\u001b[0m\u001b[1;32m    584\u001b[0m \u001b[0;34m\u001b[0m\u001b[0m\n",
            "\u001b[0;31mLookupError\u001b[0m: \n**********************************************************************\n  Resource \u001b[93mstopwords\u001b[0m not found.\n  Please use the NLTK Downloader to obtain the resource:\n\n  \u001b[31m>>> import nltk\n  >>> nltk.download('stopwords')\n  \u001b[0m\n  For more information see: https://www.nltk.org/data.html\n\n  Attempted to load \u001b[93mcorpora/stopwords.zip/stopwords/\u001b[0m\n\n  Searched in:\n    - '/root/nltk_data'\n    - '/usr/nltk_data'\n    - '/usr/share/nltk_data'\n    - '/usr/lib/nltk_data'\n    - '/usr/share/nltk_data'\n    - '/usr/local/share/nltk_data'\n    - '/usr/lib/nltk_data'\n    - '/usr/local/lib/nltk_data'\n**********************************************************************\n",
            "\nDuring handling of the above exception, another exception occurred:\n",
            "\u001b[0;31mLookupError\u001b[0m                               Traceback (most recent call last)",
            "\u001b[0;32m<ipython-input-3-7428fb8c222f>\u001b[0m in \u001b[0;36m<cell line: 29>\u001b[0;34m()\u001b[0m\n\u001b[1;32m     27\u001b[0m \u001b[0mlmtzr\u001b[0m \u001b[0;34m=\u001b[0m \u001b[0mWordNetLemmatizer\u001b[0m\u001b[0;34m(\u001b[0m\u001b[0;34m)\u001b[0m\u001b[0;34m\u001b[0m\u001b[0;34m\u001b[0m\u001b[0m\n\u001b[1;32m     28\u001b[0m \u001b[0;34m\u001b[0m\u001b[0m\n\u001b[0;32m---> 29\u001b[0;31m \u001b[0mstop_words\u001b[0m \u001b[0;34m=\u001b[0m \u001b[0mset\u001b[0m\u001b[0;34m(\u001b[0m\u001b[0mstopwords\u001b[0m\u001b[0;34m.\u001b[0m\u001b[0mwords\u001b[0m\u001b[0;34m(\u001b[0m\u001b[0;34m'english'\u001b[0m\u001b[0;34m)\u001b[0m\u001b[0;34m)\u001b[0m\u001b[0;34m\u001b[0m\u001b[0;34m\u001b[0m\u001b[0m\n\u001b[0m\u001b[1;32m     30\u001b[0m \u001b[0;34m\u001b[0m\u001b[0m\n\u001b[1;32m     31\u001b[0m \u001b[0;32mclass\u001b[0m \u001b[0mMetrics\u001b[0m\u001b[0;34m:\u001b[0m\u001b[0;34m\u001b[0m\u001b[0;34m\u001b[0m\u001b[0m\n",
            "\u001b[0;32m/usr/local/lib/python3.10/dist-packages/nltk/corpus/util.py\u001b[0m in \u001b[0;36m__getattr__\u001b[0;34m(self, attr)\u001b[0m\n\u001b[1;32m    119\u001b[0m             \u001b[0;32mraise\u001b[0m \u001b[0mAttributeError\u001b[0m\u001b[0;34m(\u001b[0m\u001b[0;34m\"LazyCorpusLoader object has no attribute '__bases__'\"\u001b[0m\u001b[0;34m)\u001b[0m\u001b[0;34m\u001b[0m\u001b[0;34m\u001b[0m\u001b[0m\n\u001b[1;32m    120\u001b[0m \u001b[0;34m\u001b[0m\u001b[0m\n\u001b[0;32m--> 121\u001b[0;31m         \u001b[0mself\u001b[0m\u001b[0;34m.\u001b[0m\u001b[0m__load\u001b[0m\u001b[0;34m(\u001b[0m\u001b[0;34m)\u001b[0m\u001b[0;34m\u001b[0m\u001b[0;34m\u001b[0m\u001b[0m\n\u001b[0m\u001b[1;32m    122\u001b[0m         \u001b[0;31m# This looks circular, but its not, since __load() changes our\u001b[0m\u001b[0;34m\u001b[0m\u001b[0;34m\u001b[0m\u001b[0m\n\u001b[1;32m    123\u001b[0m         \u001b[0;31m# __class__ to something new:\u001b[0m\u001b[0;34m\u001b[0m\u001b[0;34m\u001b[0m\u001b[0m\n",
            "\u001b[0;32m/usr/local/lib/python3.10/dist-packages/nltk/corpus/util.py\u001b[0m in \u001b[0;36m__load\u001b[0;34m(self)\u001b[0m\n\u001b[1;32m     84\u001b[0m                     \u001b[0mroot\u001b[0m \u001b[0;34m=\u001b[0m \u001b[0mnltk\u001b[0m\u001b[0;34m.\u001b[0m\u001b[0mdata\u001b[0m\u001b[0;34m.\u001b[0m\u001b[0mfind\u001b[0m\u001b[0;34m(\u001b[0m\u001b[0;34mf\"{self.subdir}/{zip_name}\"\u001b[0m\u001b[0;34m)\u001b[0m\u001b[0;34m\u001b[0m\u001b[0;34m\u001b[0m\u001b[0m\n\u001b[1;32m     85\u001b[0m                 \u001b[0;32mexcept\u001b[0m \u001b[0mLookupError\u001b[0m\u001b[0;34m:\u001b[0m\u001b[0;34m\u001b[0m\u001b[0;34m\u001b[0m\u001b[0m\n\u001b[0;32m---> 86\u001b[0;31m                     \u001b[0;32mraise\u001b[0m \u001b[0me\u001b[0m\u001b[0;34m\u001b[0m\u001b[0;34m\u001b[0m\u001b[0m\n\u001b[0m\u001b[1;32m     87\u001b[0m \u001b[0;34m\u001b[0m\u001b[0m\n\u001b[1;32m     88\u001b[0m         \u001b[0;31m# Load the corpus.\u001b[0m\u001b[0;34m\u001b[0m\u001b[0;34m\u001b[0m\u001b[0m\n",
            "\u001b[0;32m/usr/local/lib/python3.10/dist-packages/nltk/corpus/util.py\u001b[0m in \u001b[0;36m__load\u001b[0;34m(self)\u001b[0m\n\u001b[1;32m     79\u001b[0m         \u001b[0;32melse\u001b[0m\u001b[0;34m:\u001b[0m\u001b[0;34m\u001b[0m\u001b[0;34m\u001b[0m\u001b[0m\n\u001b[1;32m     80\u001b[0m             \u001b[0;32mtry\u001b[0m\u001b[0;34m:\u001b[0m\u001b[0;34m\u001b[0m\u001b[0;34m\u001b[0m\u001b[0m\n\u001b[0;32m---> 81\u001b[0;31m                 \u001b[0mroot\u001b[0m \u001b[0;34m=\u001b[0m \u001b[0mnltk\u001b[0m\u001b[0;34m.\u001b[0m\u001b[0mdata\u001b[0m\u001b[0;34m.\u001b[0m\u001b[0mfind\u001b[0m\u001b[0;34m(\u001b[0m\u001b[0;34mf\"{self.subdir}/{self.__name}\"\u001b[0m\u001b[0;34m)\u001b[0m\u001b[0;34m\u001b[0m\u001b[0;34m\u001b[0m\u001b[0m\n\u001b[0m\u001b[1;32m     82\u001b[0m             \u001b[0;32mexcept\u001b[0m \u001b[0mLookupError\u001b[0m \u001b[0;32mas\u001b[0m \u001b[0me\u001b[0m\u001b[0;34m:\u001b[0m\u001b[0;34m\u001b[0m\u001b[0;34m\u001b[0m\u001b[0m\n\u001b[1;32m     83\u001b[0m                 \u001b[0;32mtry\u001b[0m\u001b[0;34m:\u001b[0m\u001b[0;34m\u001b[0m\u001b[0;34m\u001b[0m\u001b[0m\n",
            "\u001b[0;32m/usr/local/lib/python3.10/dist-packages/nltk/data.py\u001b[0m in \u001b[0;36mfind\u001b[0;34m(resource_name, paths)\u001b[0m\n\u001b[1;32m    581\u001b[0m     \u001b[0msep\u001b[0m \u001b[0;34m=\u001b[0m \u001b[0;34m\"*\"\u001b[0m \u001b[0;34m*\u001b[0m \u001b[0;36m70\u001b[0m\u001b[0;34m\u001b[0m\u001b[0;34m\u001b[0m\u001b[0m\n\u001b[1;32m    582\u001b[0m     \u001b[0mresource_not_found\u001b[0m \u001b[0;34m=\u001b[0m \u001b[0;34mf\"\\n{sep}\\n{msg}\\n{sep}\\n\"\u001b[0m\u001b[0;34m\u001b[0m\u001b[0;34m\u001b[0m\u001b[0m\n\u001b[0;32m--> 583\u001b[0;31m     \u001b[0;32mraise\u001b[0m \u001b[0mLookupError\u001b[0m\u001b[0;34m(\u001b[0m\u001b[0mresource_not_found\u001b[0m\u001b[0;34m)\u001b[0m\u001b[0;34m\u001b[0m\u001b[0;34m\u001b[0m\u001b[0m\n\u001b[0m\u001b[1;32m    584\u001b[0m \u001b[0;34m\u001b[0m\u001b[0m\n\u001b[1;32m    585\u001b[0m \u001b[0;34m\u001b[0m\u001b[0m\n",
            "\u001b[0;31mLookupError\u001b[0m: \n**********************************************************************\n  Resource \u001b[93mstopwords\u001b[0m not found.\n  Please use the NLTK Downloader to obtain the resource:\n\n  \u001b[31m>>> import nltk\n  >>> nltk.download('stopwords')\n  \u001b[0m\n  For more information see: https://www.nltk.org/data.html\n\n  Attempted to load \u001b[93mcorpora/stopwords\u001b[0m\n\n  Searched in:\n    - '/root/nltk_data'\n    - '/usr/nltk_data'\n    - '/usr/share/nltk_data'\n    - '/usr/lib/nltk_data'\n    - '/usr/share/nltk_data'\n    - '/usr/local/share/nltk_data'\n    - '/usr/lib/nltk_data'\n    - '/usr/local/lib/nltk_data'\n**********************************************************************\n"
          ]
        }
      ],
      "source": [
        "import matplotlib.pyplot as plt\n",
        "import numpy as np\n",
        "from sklearn.metrics import accuracy_score, precision_score, recall_score, f1_score\n",
        "\n",
        "from sklearn.feature_extraction.text import TfidfVectorizer\n",
        "from sklearn.linear_model import LogisticRegression\n",
        "from sklearn.pipeline import Pipeline\n",
        "from sklearn.model_selection import train_test_split\n",
        "\n",
        "#Preprocessing\n",
        "import nltk\n",
        "nltk.download('stopwords')\n",
        "from nltk.corpus import stopwords\n",
        "from nltk.stem import WordNetLemmatizer\n",
        "from nltk.stem import SnowballStemmer\n",
        "from nltk.stem import PorterStemmer\n",
        "import spacy\n",
        "import pickle\n",
        "sp = spacy.load('en_core_web_sm')\n",
        "import re\n",
        "from tqdm import tqdm\n",
        "tqdm.pandas()\n",
        "\n",
        "\n",
        "\n",
        "#getting a library of stopwords and defining a lemmatizer\n",
        "porter=SnowballStemmer(\"english\")\n",
        "lmtzr = WordNetLemmatizer()\n",
        "\n",
        "stop_words = set(stopwords.words('english'))\n",
        "\n",
        "class Metrics:\n",
        "    def __init__(self):\n",
        "        self.results = {}\n",
        "\n",
        "    def run(self, y_true, y_pred, method_name, average='macro'):\n",
        "        # Calculate metrics\n",
        "        accuracy = accuracy_score(y_true, y_pred)\n",
        "        precision = precision_score(y_true, y_pred, average=average)\n",
        "        recall = recall_score(y_true, y_pred, average=average)\n",
        "        f1 = f1_score(y_true, y_pred, average=average)\n",
        "\n",
        "        # Store results\n",
        "        self.results[method_name] = {\n",
        "            'accuracy': accuracy,\n",
        "            'precision': precision,\n",
        "            'recall': recall,\n",
        "            'f1': f1,\n",
        "        }\n",
        "\n",
        "    def plot(self):\n",
        "        # Create subplots\n",
        "        fig, axs = plt.subplots(2, 2, figsize=(15, 10))\n",
        "\n",
        "        # Plot each metric\n",
        "        for i, metric in enumerate(['accuracy', 'precision', 'recall', 'f1']):\n",
        "            ax = axs[i//2, i%2]\n",
        "            values = [res[metric] * 100 for res in self.results.values()]\n",
        "            ax.bar(self.results.keys(), values)\n",
        "            ax.set_title(metric)\n",
        "            ax.set_ylim(0, 100)\n",
        "\n",
        "            # Add values on the bars\n",
        "            for j, v in enumerate(values):\n",
        "                ax.text(j, v + 0.02, f\"{v:.2f}\", ha='center', va='bottom')\n",
        "\n",
        "        plt.tight_layout()\n",
        "        plt.show()\n",
        "\n",
        "\n",
        "######### Additional Functions\n",
        "\n",
        "#Returns words without any special\n",
        "def strip(word):\n",
        "    mod_string = re.sub(r'\\W+', '', word)\n",
        "    return mod_string\n",
        "\n",
        "#the following leaves in place two or more capital letters in a row\n",
        "#will be ignored when using standard stemming\n",
        "def abbr_or_lower(word):\n",
        "    if re.match('([A-Z]+[a-z]*){2,}', word):\n",
        "        return word\n",
        "    else:\n",
        "        return word.lower()\n",
        "\n",
        "#modular pipeline for stemming, lemmatizing and lowercasing\n",
        "#note this is NOT lemmatizing using grammar pos\n",
        "\n",
        "def tokenize(text, modulation):\n",
        "    stop_words.add('MODERATOR')\n",
        "    if modulation<2:\n",
        "        tokens = re.split(r'\\W+', text)\n",
        "        stems = []\n",
        "        # filter out any tokens not containing letters (e.g., numeric tokens, raw punctuation)\n",
        "        for token in tokens:\n",
        "            lowers=abbr_or_lower(token)\n",
        "            if lowers not in stop_words:\n",
        "                if re.search('[a-zA-Z]', lowers):\n",
        "                    if modulation==0:\n",
        "                        stems.append(lowers)\n",
        "                    if modulation==1:\n",
        "                        stems.append(porter.stem(lowers))\n",
        "    else:\n",
        "        sp_text=sp(text)\n",
        "        stems = []\n",
        "        lemmatized_text=[]\n",
        "        for word in sp_text:\n",
        "            lemmatized_text.append(word.lemma_)\n",
        "        stems = [abbr_or_lower(strip(w)) for w in lemmatized_text if (abbr_or_lower(strip(w))) and (abbr_or_lower(strip(w)) not in stop_words)]\n",
        "    return \" \".join(stems)\n",
        "\n",
        "\n",
        "def txtprocess_tok(corpus,col,mod):\n",
        "    text_preproc = (\n",
        "    corpus[col]\n",
        "    .astype(str)\n",
        "    .progress_apply(lambda row: tokenize(row, mod))\n",
        "    )\n",
        "    return text_preproc\n",
        "\n",
        "\n",
        "def vectorize(tokens, vocab):\n",
        "    vector=[]\n",
        "    for w in vocab:\n",
        "        vector.append(tokens.count(w))\n",
        "    return vector\n",
        "\n"
      ]
    },
    {
      "cell_type": "markdown",
      "metadata": {
        "id": "isy4Wby6Ol7k"
      },
      "source": [
        "## Part 1 - Fine tuning BERT models\n",
        "\n",
        "In this part, we will create a baseline model for text classification with BERT. This involves:"
      ]
    },
    {
      "cell_type": "markdown",
      "metadata": {
        "id": "l3CfPXOtPJ_5"
      },
      "source": [
        "### 1. **Loading and Exploring Data**:\n",
        "\n",
        "We will load the AG News corpus and perform necessary preprocessing steps like exploring the dataset."
      ]
    },
    {
      "cell_type": "code",
      "execution_count": null,
      "metadata": {
        "colab": {
          "base_uri": "https://localhost:8080/",
          "height": 1000
        },
        "id": "zi8XOSH7PJGk",
        "outputId": "dba56546-3798-47eb-f993-1c428b6fa0a1"
      },
      "outputs": [
        {
          "output_type": "stream",
          "name": "stdout",
          "text": [
            "Collecting datasets\n",
            "  Downloading datasets-2.18.0-py3-none-any.whl (510 kB)\n",
            "\u001b[2K     \u001b[90m━━━━━━━━━━━━━━━━━━━━━━━━━━━━━━━━━━━━━━━━\u001b[0m \u001b[32m510.5/510.5 kB\u001b[0m \u001b[31m3.9 MB/s\u001b[0m eta \u001b[36m0:00:00\u001b[0m\n",
            "\u001b[?25hCollecting transformers==4.37.2\n",
            "  Downloading transformers-4.37.2-py3-none-any.whl (8.4 MB)\n",
            "\u001b[2K     \u001b[90m━━━━━━━━━━━━━━━━━━━━━━━━━━━━━━━━━━━━━━━━\u001b[0m \u001b[32m8.4/8.4 MB\u001b[0m \u001b[31m38.7 MB/s\u001b[0m eta \u001b[36m0:00:00\u001b[0m\n",
            "\u001b[?25hRequirement already satisfied: filelock in /usr/local/lib/python3.10/dist-packages (from transformers==4.37.2) (3.13.1)\n",
            "Requirement already satisfied: huggingface-hub<1.0,>=0.19.3 in /usr/local/lib/python3.10/dist-packages (from transformers==4.37.2) (0.20.3)\n",
            "Requirement already satisfied: numpy>=1.17 in /usr/local/lib/python3.10/dist-packages (from transformers==4.37.2) (1.25.2)\n",
            "Requirement already satisfied: packaging>=20.0 in /usr/local/lib/python3.10/dist-packages (from transformers==4.37.2) (23.2)\n",
            "Requirement already satisfied: pyyaml>=5.1 in /usr/local/lib/python3.10/dist-packages (from transformers==4.37.2) (6.0.1)\n",
            "Requirement already satisfied: regex!=2019.12.17 in /usr/local/lib/python3.10/dist-packages (from transformers==4.37.2) (2023.12.25)\n",
            "Requirement already satisfied: requests in /usr/local/lib/python3.10/dist-packages (from transformers==4.37.2) (2.31.0)\n",
            "Requirement already satisfied: tokenizers<0.19,>=0.14 in /usr/local/lib/python3.10/dist-packages (from transformers==4.37.2) (0.15.2)\n",
            "Requirement already satisfied: safetensors>=0.4.1 in /usr/local/lib/python3.10/dist-packages (from transformers==4.37.2) (0.4.2)\n",
            "Requirement already satisfied: tqdm>=4.27 in /usr/local/lib/python3.10/dist-packages (from transformers==4.37.2) (4.66.2)\n",
            "Requirement already satisfied: pyarrow>=12.0.0 in /usr/local/lib/python3.10/dist-packages (from datasets) (14.0.2)\n",
            "Requirement already satisfied: pyarrow-hotfix in /usr/local/lib/python3.10/dist-packages (from datasets) (0.6)\n",
            "Collecting dill<0.3.9,>=0.3.0 (from datasets)\n",
            "  Downloading dill-0.3.8-py3-none-any.whl (116 kB)\n",
            "\u001b[2K     \u001b[90m━━━━━━━━━━━━━━━━━━━━━━━━━━━━━━━━━━━━━━━━\u001b[0m \u001b[32m116.3/116.3 kB\u001b[0m \u001b[31m12.6 MB/s\u001b[0m eta \u001b[36m0:00:00\u001b[0m\n",
            "\u001b[?25hRequirement already satisfied: pandas in /usr/local/lib/python3.10/dist-packages (from datasets) (1.5.3)\n",
            "Collecting xxhash (from datasets)\n",
            "  Downloading xxhash-3.4.1-cp310-cp310-manylinux_2_17_x86_64.manylinux2014_x86_64.whl (194 kB)\n",
            "\u001b[2K     \u001b[90m━━━━━━━━━━━━━━━━━━━━━━━━━━━━━━━━━━━━━━━━\u001b[0m \u001b[32m194.1/194.1 kB\u001b[0m \u001b[31m18.4 MB/s\u001b[0m eta \u001b[36m0:00:00\u001b[0m\n",
            "\u001b[?25hCollecting multiprocess (from datasets)\n",
            "  Downloading multiprocess-0.70.16-py310-none-any.whl (134 kB)\n",
            "\u001b[2K     \u001b[90m━━━━━━━━━━━━━━━━━━━━━━━━━━━━━━━━━━━━━━━━\u001b[0m \u001b[32m134.8/134.8 kB\u001b[0m \u001b[31m11.3 MB/s\u001b[0m eta \u001b[36m0:00:00\u001b[0m\n",
            "\u001b[?25hRequirement already satisfied: fsspec[http]<=2024.2.0,>=2023.1.0 in /usr/local/lib/python3.10/dist-packages (from datasets) (2023.6.0)\n",
            "Requirement already satisfied: aiohttp in /usr/local/lib/python3.10/dist-packages (from datasets) (3.9.3)\n",
            "Requirement already satisfied: aiosignal>=1.1.2 in /usr/local/lib/python3.10/dist-packages (from aiohttp->datasets) (1.3.1)\n",
            "Requirement already satisfied: attrs>=17.3.0 in /usr/local/lib/python3.10/dist-packages (from aiohttp->datasets) (23.2.0)\n",
            "Requirement already satisfied: frozenlist>=1.1.1 in /usr/local/lib/python3.10/dist-packages (from aiohttp->datasets) (1.4.1)\n",
            "Requirement already satisfied: multidict<7.0,>=4.5 in /usr/local/lib/python3.10/dist-packages (from aiohttp->datasets) (6.0.5)\n",
            "Requirement already satisfied: yarl<2.0,>=1.0 in /usr/local/lib/python3.10/dist-packages (from aiohttp->datasets) (1.9.4)\n",
            "Requirement already satisfied: async-timeout<5.0,>=4.0 in /usr/local/lib/python3.10/dist-packages (from aiohttp->datasets) (4.0.3)\n",
            "Requirement already satisfied: typing-extensions>=3.7.4.3 in /usr/local/lib/python3.10/dist-packages (from huggingface-hub<1.0,>=0.19.3->transformers==4.37.2) (4.10.0)\n",
            "Requirement already satisfied: charset-normalizer<4,>=2 in /usr/local/lib/python3.10/dist-packages (from requests->transformers==4.37.2) (3.3.2)\n",
            "Requirement already satisfied: idna<4,>=2.5 in /usr/local/lib/python3.10/dist-packages (from requests->transformers==4.37.2) (3.6)\n",
            "Requirement already satisfied: urllib3<3,>=1.21.1 in /usr/local/lib/python3.10/dist-packages (from requests->transformers==4.37.2) (2.0.7)\n",
            "Requirement already satisfied: certifi>=2017.4.17 in /usr/local/lib/python3.10/dist-packages (from requests->transformers==4.37.2) (2024.2.2)\n",
            "Requirement already satisfied: python-dateutil>=2.8.1 in /usr/local/lib/python3.10/dist-packages (from pandas->datasets) (2.8.2)\n",
            "Requirement already satisfied: pytz>=2020.1 in /usr/local/lib/python3.10/dist-packages (from pandas->datasets) (2023.4)\n",
            "Requirement already satisfied: six>=1.5 in /usr/local/lib/python3.10/dist-packages (from python-dateutil>=2.8.1->pandas->datasets) (1.16.0)\n",
            "Installing collected packages: xxhash, dill, multiprocess, transformers, datasets\n",
            "  Attempting uninstall: transformers\n",
            "    Found existing installation: transformers 4.38.2\n",
            "    Uninstalling transformers-4.38.2:\n",
            "      Successfully uninstalled transformers-4.38.2\n",
            "Successfully installed datasets-2.18.0 dill-0.3.8 multiprocess-0.70.16 transformers-4.37.2 xxhash-3.4.1\n"
          ]
        },
        {
          "output_type": "display_data",
          "data": {
            "application/vnd.colab-display-data+json": {
              "pip_warning": {
                "packages": [
                  "transformers"
                ]
              },
              "id": "b05bb6b5e0be4755904f38ee5915acde"
            }
          },
          "metadata": {}
        }
      ],
      "source": [
        "!pip install datasets transformers==4.37.2"
      ]
    },
    {
      "cell_type": "code",
      "execution_count": null,
      "metadata": {
        "colab": {
          "base_uri": "https://localhost:8080/",
          "height": 393
        },
        "id": "Nro-bNZcPOP4",
        "outputId": "d6ee7a72-a7b3-4df5-8793-3ce27651f29d"
      },
      "outputs": [
        {
          "output_type": "error",
          "ename": "ModuleNotFoundError",
          "evalue": "No module named 'datasets'",
          "traceback": [
            "\u001b[0;31m---------------------------------------------------------------------------\u001b[0m",
            "\u001b[0;31mModuleNotFoundError\u001b[0m                       Traceback (most recent call last)",
            "\u001b[0;32m<ipython-input-9-d35012874566>\u001b[0m in \u001b[0;36m<cell line: 1>\u001b[0;34m()\u001b[0m\n\u001b[0;32m----> 1\u001b[0;31m \u001b[0;32mfrom\u001b[0m \u001b[0mdatasets\u001b[0m \u001b[0;32mimport\u001b[0m \u001b[0mload_dataset\u001b[0m\u001b[0;34m\u001b[0m\u001b[0;34m\u001b[0m\u001b[0m\n\u001b[0m\u001b[1;32m      2\u001b[0m \u001b[0;34m\u001b[0m\u001b[0m\n\u001b[1;32m      3\u001b[0m \u001b[0;31m# Load the 'ag_news' dataset\u001b[0m\u001b[0;34m\u001b[0m\u001b[0;34m\u001b[0m\u001b[0m\n\u001b[1;32m      4\u001b[0m \u001b[0mdf\u001b[0m \u001b[0;34m=\u001b[0m \u001b[0mload_dataset\u001b[0m\u001b[0;34m(\u001b[0m\u001b[0;34m\"rotten_tomatoes\"\u001b[0m\u001b[0;34m)\u001b[0m\u001b[0;34m\u001b[0m\u001b[0;34m\u001b[0m\u001b[0m\n\u001b[1;32m      5\u001b[0m \u001b[0;34m\u001b[0m\u001b[0m\n",
            "\u001b[0;31mModuleNotFoundError\u001b[0m: No module named 'datasets'",
            "",
            "\u001b[0;31m---------------------------------------------------------------------------\u001b[0;32m\nNOTE: If your import is failing due to a missing package, you can\nmanually install dependencies using either !pip or !apt.\n\nTo view examples of installing some common dependencies, click the\n\"Open Examples\" button below.\n\u001b[0;31m---------------------------------------------------------------------------\u001b[0m\n"
          ],
          "errorDetails": {
            "actions": [
              {
                "action": "open_url",
                "actionText": "Open Examples",
                "url": "/notebooks/snippets/importing_libraries.ipynb"
              }
            ]
          }
        }
      ],
      "source": [
        "from datasets import load_dataset\n",
        "\n",
        "# Load the 'ag_news' dataset\n",
        "df = load_dataset(\"rotten_tomatoes\")\n",
        "\n",
        "# Explore the structure of the dataset\n",
        "print(df)"
      ]
    },
    {
      "cell_type": "markdown",
      "metadata": {
        "id": "EFkLs38MPU3x"
      },
      "source": [
        "Defining Train, Validation and Test datasets"
      ]
    },
    {
      "cell_type": "code",
      "execution_count": null,
      "metadata": {
        "id": "kAPU1X3IPVsN"
      },
      "outputs": [],
      "source": [
        "## Defining train, validation and test sets\n",
        "train_data = df['train']['text']\n",
        "train_labels = df['train']['label']\n",
        "\n",
        "validation_data = df['validation']['text']\n",
        "validation_labels = df['validation']['label']\n",
        "\n",
        "test_data = df['test']['text']\n",
        "test_labels = df['test']['label']"
      ]
    },
    {
      "cell_type": "markdown",
      "metadata": {
        "id": "1jKu4kokPheE"
      },
      "source": [
        "### **Training DistilBert Model**:\n",
        "\n",
        "BERT-like Model Training (3 points)\n",
        "\n",
        "- Objective: Train a BERT-like model (BERT, DistilBERT, xtremedistill, etc.) on the Rotten Tomatoes dataset with a softmax layer on top of embeddings.\n",
        "\n",
        "- Tasks:\n",
        "1. Train the Model (1 point): Train your chosen model on the dataset and calculate accuracy, precision, recall, and F1-score.\n",
        "2. Error Analysis (1 point): Analyze false positives and false negatives to identify potential improvements.\n",
        "3. Feature Engineering (1 point): Implement your proposed improvements based on error analysis and show the impact on model performance.\n"
      ]
    },
    {
      "cell_type": "code",
      "execution_count": null,
      "metadata": {
        "colab": {
          "base_uri": "https://localhost:8080/",
          "height": 216
        },
        "id": "iKBVaRoEPe7P",
        "outputId": "ec1e7457-7178-49be-f329-23ae0969952e"
      },
      "outputs": [
        {
          "output_type": "error",
          "ename": "NameError",
          "evalue": "name 'transformers' is not defined",
          "traceback": [
            "\u001b[0;31m---------------------------------------------------------------------------\u001b[0m",
            "\u001b[0;31mNameError\u001b[0m                                 Traceback (most recent call last)",
            "\u001b[0;32m<ipython-input-7-ef555ef3391f>\u001b[0m in \u001b[0;36m<cell line: 2>\u001b[0;34m()\u001b[0m\n\u001b[1;32m      1\u001b[0m \u001b[0;32mfrom\u001b[0m \u001b[0mtransformers\u001b[0m \u001b[0;32mimport\u001b[0m \u001b[0mAutoTokenizer\u001b[0m\u001b[0;34m,\u001b[0m \u001b[0mTFAutoModel\u001b[0m\u001b[0;34m\u001b[0m\u001b[0;34m\u001b[0m\u001b[0m\n\u001b[0;32m----> 2\u001b[0;31m \u001b[0mtransformers\u001b[0m\u001b[0;34m.\u001b[0m\u001b[0m__version__\u001b[0m\u001b[0;34m\u001b[0m\u001b[0;34m\u001b[0m\u001b[0m\n\u001b[0m\u001b[1;32m      3\u001b[0m \u001b[0;34m\u001b[0m\u001b[0m\n\u001b[1;32m      4\u001b[0m \u001b[0mcheckpoint\u001b[0m\u001b[0;34m=\u001b[0m \u001b[0;34m\"distilbert-base-uncased\"\u001b[0m\u001b[0;34m\u001b[0m\u001b[0;34m\u001b[0m\u001b[0m\n\u001b[1;32m      5\u001b[0m \u001b[0mtokenizer\u001b[0m \u001b[0;34m=\u001b[0m \u001b[0mAutoTokenizer\u001b[0m\u001b[0;34m.\u001b[0m\u001b[0mfrom_pretrained\u001b[0m\u001b[0;34m(\u001b[0m\u001b[0mcheckpoint\u001b[0m\u001b[0;34m)\u001b[0m\u001b[0;34m\u001b[0m\u001b[0;34m\u001b[0m\u001b[0m\n",
            "\u001b[0;31mNameError\u001b[0m: name 'transformers' is not defined"
          ]
        }
      ],
      "source": [
        "from transformers import AutoTokenizer, TFAutoModel\n",
        "transformers.__version__\n",
        "\n",
        "checkpoint= \"distilbert-base-uncased\"\n",
        "tokenizer = AutoTokenizer.from_pretrained(checkpoint)\n",
        "model = TFAutoModel.from_pretrained(checkpoint)\n",
        "\n",
        "batch_size=64\n",
        "max_length=64\n",
        "rate = 0.5\n",
        "num_labels = len(np.unique(validation_labels))"
      ]
    },
    {
      "cell_type": "markdown",
      "metadata": {
        "id": "b7K6BjfBQ2C0"
      },
      "source": [
        "The architecture is:\n",
        "1. Inputs ids and Inputs Masks\n",
        "2. Embedding layer --> the BERT model to process the inputs\n",
        "3. A layer upon the embeddings layer to convert the final [CLS] token into probabilities."
      ]
    },
    {
      "cell_type": "code",
      "execution_count": null,
      "metadata": {
        "colab": {
          "base_uri": "https://localhost:8080/"
        },
        "id": "mqkWKAy8T9wN",
        "outputId": "57573b2e-f5f6-455e-e93f-15fa64881148"
      },
      "outputs": [
        {
          "output_type": "stream",
          "name": "stdout",
          "text": [
            "Model: \"model\"\n",
            "__________________________________________________________________________________________________\n",
            " Layer (type)                Output Shape                 Param #   Connected to                  \n",
            "==================================================================================================\n",
            " input_token (InputLayer)    [(None, 64)]                 0         []                            \n",
            "                                                                                                  \n",
            " masked_token (InputLayer)   [(None, 64)]                 0         []                            \n",
            "                                                                                                  \n",
            " tf_distil_bert_model (TFDi  TFBaseModelOutput(last_hid   6636288   ['input_token[0][0]',         \n",
            " stilBertModel)              den_state=(None, 64, 768),   0          'masked_token[0][0]']        \n",
            "                              hidden_states=None, atten                                           \n",
            "                             tions=None)                                                          \n",
            "                                                                                                  \n",
            " tf.__operators__.getitem (  (None, 768)                  0         ['tf_distil_bert_model[0][0]']\n",
            " SlicingOpLambda)                                                                                 \n",
            "                                                                                                  \n",
            " do_layer (Dropout)          (None, 768)                  0         ['tf.__operators__.getitem[0][\n",
            "                                                                    0]']                          \n",
            "                                                                                                  \n",
            " dense (Dense)               (None, 2)                    1538      ['do_layer[0][0]']            \n",
            "                                                                                                  \n",
            "==================================================================================================\n",
            "Total params: 66364418 (253.16 MB)\n",
            "Trainable params: 66364418 (253.16 MB)\n",
            "Non-trainable params: 0 (0.00 Byte)\n",
            "__________________________________________________________________________________________________\n"
          ]
        }
      ],
      "source": [
        "import tensorflow as tf\n",
        "\n",
        "## Input\n",
        "input_ids_in = tf.keras.layers.Input(shape=(max_length,), name='input_token', dtype='int32')\n",
        "input_masks_in = tf.keras.layers.Input(shape=(max_length,), name='masked_token', dtype='int32')\n",
        "\n",
        "# Embedding layers\n",
        "embedding_layer = model(input_ids=input_ids_in, attention_mask=input_masks_in)\n",
        "# we need only the first token representation nothing else from the last layer!\n",
        "final_embedding_layer = embedding_layer[0]#last layer of BERT\n",
        "# Extract only the [CLS] token's embeddings\n",
        "cls_token_embeddings = final_embedding_layer[:, 0, :]\n",
        "\n",
        "output_layer = tf.keras.layers.Dropout(rate, name='do_layer')(cls_token_embeddings)\n",
        "\n",
        "# One dense layer to process the last layer\n",
        "output = tf.keras.layers.Dense(num_labels,\n",
        "                               kernel_initializer=\"glorot_uniform\",\n",
        "                               activation='softmax')(output_layer)\n",
        "\n",
        "\n",
        "bert_model = tf.keras.Model(inputs=[input_ids_in, input_masks_in], outputs = output)\n",
        "\n",
        "bert_model.summary()"
      ]
    },
    {
      "cell_type": "markdown",
      "metadata": {
        "id": "K2mY3FnNWGVc"
      },
      "source": [
        "Let's generate some batches."
      ]
    },
    {
      "cell_type": "code",
      "execution_count": null,
      "metadata": {
        "id": "g_pyH0r0XXqZ"
      },
      "outputs": [],
      "source": [
        "from sklearn.utils import shuffle\n",
        "\n",
        "def get_batches(X_train, y_train, tokenizer, batch_size, max_length):\n",
        "    \"\"\"\n",
        "    Objective: Create a generator that yields batches of tokenized text and corresponding labels.\n",
        "               The data is shuffled and looped through indefinitely.\n",
        "\n",
        "    Inputs:\n",
        "        - X_train (np.array): Array of text data (features).\n",
        "        - y_train (np.array): Array of labels.\n",
        "        - tokenizer (DistilBertTokenizer): Tokenizer for text data.\n",
        "        - batch_size (int): Size of each batch.\n",
        "        - max_length (int): Maximum length of tokenized sequences.\n",
        "    Outputs:\n",
        "        - Generator yielding batches of (inputs, targets).\n",
        "    \"\"\"\n",
        "\n",
        "    # Pre-tokenize the entire dataset\n",
        "    inputs = tokenizer.batch_encode_plus(list(X_train), add_special_tokens=True, max_length=max_length,\n",
        "                                         padding='max_length', return_attention_mask=True,\n",
        "                                         return_token_type_ids=True, truncation=True,\n",
        "                                         return_tensors=\"np\")\n",
        "\n",
        "    input_ids = np.asarray(inputs['input_ids'], dtype='int32')\n",
        "    attention_masks = np.asarray(inputs['attention_mask'], dtype='int32')\n",
        "\n",
        "    # Shuffle and yield batches\n",
        "    while True:\n",
        "        X_train, y_train, input_ids, attention_masks = shuffle(X_train, y_train, input_ids, attention_masks, random_state=11)\n",
        "\n",
        "        for i in range(0, len(X_train), batch_size):\n",
        "            yield [input_ids[i:i + batch_size], attention_masks[i:i + batch_size]], y_train[i:i + batch_size]"
      ]
    },
    {
      "cell_type": "code",
      "execution_count": null,
      "metadata": {
        "id": "Maq8ugvo2HWo"
      },
      "outputs": [],
      "source": [
        "from sklearn.preprocessing import OneHotEncoder\n",
        "\n",
        "enc = OneHotEncoder(handle_unknown='ignore')\n",
        "y_train = enc.fit_transform(np.array(train_labels).reshape(-1, 1)).toarray()"
      ]
    },
    {
      "cell_type": "code",
      "execution_count": null,
      "metadata": {
        "colab": {
          "base_uri": "https://localhost:8080/"
        },
        "id": "sonuKBx70Mx0",
        "outputId": "f0216483-037c-401a-f959-42a5c93e281f"
      },
      "outputs": [
        {
          "output_type": "stream",
          "name": "stdout",
          "text": [
            "Epoch 1/10\n",
            "133/133 [==============================] - 79s 370ms/step - loss: 0.4886 - recall: 0.7539 - precision: 0.7539\n",
            "Epoch 2/10\n",
            "133/133 [==============================] - 51s 382ms/step - loss: 0.3049 - recall: 0.8737 - precision: 0.8737\n",
            "Epoch 3/10\n",
            "133/133 [==============================] - 52s 389ms/step - loss: 0.1942 - recall: 0.9233 - precision: 0.9233\n",
            "Epoch 4/10\n",
            "133/133 [==============================] - 52s 389ms/step - loss: 0.1081 - recall: 0.9609 - precision: 0.9609\n",
            "Epoch 5/10\n",
            "133/133 [==============================] - 52s 389ms/step - loss: 0.0615 - recall: 0.9777 - precision: 0.9777\n",
            "Epoch 6/10\n",
            "133/133 [==============================] - 52s 388ms/step - loss: 0.0331 - recall: 0.9884 - precision: 0.9884\n",
            "Epoch 7/10\n",
            "133/133 [==============================] - 52s 389ms/step - loss: 0.0207 - recall: 0.9926 - precision: 0.9926\n",
            "Epoch 8/10\n",
            "133/133 [==============================] - 52s 389ms/step - loss: 0.0247 - recall: 0.9913 - precision: 0.9913\n",
            "Epoch 9/10\n",
            "133/133 [==============================] - 52s 389ms/step - loss: 0.0148 - recall: 0.9953 - precision: 0.9953\n",
            "Epoch 10/10\n",
            "133/133 [==============================] - 52s 389ms/step - loss: 0.0201 - recall: 0.9934 - precision: 0.9934\n"
          ]
        },
        {
          "output_type": "execute_result",
          "data": {
            "text/plain": [
              "<keras.src.callbacks.History at 0x79ee302bed40>"
            ]
          },
          "metadata": {},
          "execution_count": 9
        }
      ],
      "source": [
        "from tensorflow.keras.optimizers import Adam\n",
        "\n",
        "X_train = np.array(train_data)\n",
        "\n",
        "steps_per_epoch = int(len(X_train) / batch_size)\n",
        "\n",
        "batches = get_batches(X_train, y_train, tokenizer, batch_size, max_length)\n",
        "\n",
        "bert_model.compile(optimizer=Adam(2e-5),\n",
        "                   metrics=[tf.keras.metrics.Recall(),\n",
        "                   tf.keras.metrics.Precision()],\n",
        "                   loss=tf.keras.losses.CategoricalCrossentropy())\n",
        "\n",
        "bert_model.fit(batches, epochs=10, steps_per_epoch=steps_per_epoch)"
      ]
    },
    {
      "cell_type": "code",
      "execution_count": null,
      "metadata": {
        "id": "AKAyX0hYAlEO",
        "colab": {
          "base_uri": "https://localhost:8080/",
          "height": 727
        },
        "outputId": "9e6666d0-d94b-4b6b-c556-433deb44479c"
      },
      "outputs": [
        {
          "output_type": "stream",
          "name": "stdout",
          "text": [
            "34/34 [==============================] - 4s 70ms/step\n"
          ]
        },
        {
          "output_type": "display_data",
          "data": {
            "text/plain": [
              "<Figure size 1500x1000 with 4 Axes>"
            ],
            "image/png": "[encoded data removed]"
          },
          "metadata": {}
        }
      ],
      "source": [
        "# Get the inputs tokenized from the validation set\n",
        "inputs = tokenizer.batch_encode_plus(list(validation_data),\n",
        "                                     add_special_tokens=True, max_length=max_length,\n",
        "                                    padding='max_length',  return_attention_mask=True,\n",
        "                                    return_token_type_ids=True, truncation=True)\n",
        "\n",
        "# Extract input_ids and attention mask\n",
        "inputs_valid = [np.asarray(inputs['input_ids'], dtype='int32'),\n",
        "               np.asarray(inputs['attention_mask'], dtype='int32')]\n",
        "valid_preds = bert_model.predict(inputs_valid)\n",
        "valid_preds = np.argmax(valid_preds, axis=1)\n",
        "\n",
        "# get the final metrics\n",
        "metrics_val= Metrics()\n",
        "metrics_val.run(validation_labels, valid_preds, \"distilBERT + softmax\")\n",
        "metrics_val.plot()"
      ]
    },
    {
      "cell_type": "markdown",
      "metadata": {
        "id": "LDGcWm48IG3F"
      },
      "source": [
        "Error Analysis (1 point): Analyze false positives and false negatives to identify potential improvements."
      ]
    },
    {
      "cell_type": "code",
      "source": [
        "from sklearn.metrics import confusion_matrix, ConfusionMatrixDisplay\n",
        "import matplotlib.pyplot as plt\n",
        "import pandas as pd\n",
        "\n",
        "# Assuming cm2 is your confusion matrix\n",
        "cm = confusion_matrix(validation_labels, valid_preds)\n",
        "disp = ConfusionMatrixDisplay(confusion_matrix=cm, display_labels=['negative', 'positive'])\n",
        "disp.plot(cmap='Blues')\n",
        "plt.show()\n"
      ],
      "metadata": {
        "colab": {
          "base_uri": "https://localhost:8080/",
          "height": 216
        },
        "id": "32K5ORz7MZ5j",
        "outputId": "5bf3ca0c-07ce-4f17-c2a1-7e08df0a9503"
      },
      "execution_count": null,
      "outputs": [
        {
          "output_type": "error",
          "ename": "NameError",
          "evalue": "name 'validation_labels' is not defined",
          "traceback": [
            "\u001b[0;31m---------------------------------------------------------------------------\u001b[0m",
            "\u001b[0;31mNameError\u001b[0m                                 Traceback (most recent call last)",
            "\u001b[0;32m<ipython-input-1-d567da1d0cff>\u001b[0m in \u001b[0;36m<cell line: 6>\u001b[0;34m()\u001b[0m\n\u001b[1;32m      4\u001b[0m \u001b[0;34m\u001b[0m\u001b[0m\n\u001b[1;32m      5\u001b[0m \u001b[0;31m# Assuming cm2 is your confusion matrix\u001b[0m\u001b[0;34m\u001b[0m\u001b[0;34m\u001b[0m\u001b[0m\n\u001b[0;32m----> 6\u001b[0;31m \u001b[0mcm\u001b[0m \u001b[0;34m=\u001b[0m \u001b[0mconfusion_matrix\u001b[0m\u001b[0;34m(\u001b[0m\u001b[0mvalidation_labels\u001b[0m\u001b[0;34m,\u001b[0m \u001b[0mvalid_preds\u001b[0m\u001b[0;34m)\u001b[0m\u001b[0;34m\u001b[0m\u001b[0;34m\u001b[0m\u001b[0m\n\u001b[0m\u001b[1;32m      7\u001b[0m \u001b[0mdisp\u001b[0m \u001b[0;34m=\u001b[0m \u001b[0mConfusionMatrixDisplay\u001b[0m\u001b[0;34m(\u001b[0m\u001b[0mconfusion_matrix\u001b[0m\u001b[0;34m=\u001b[0m\u001b[0mcm\u001b[0m\u001b[0;34m,\u001b[0m \u001b[0mdisplay_labels\u001b[0m\u001b[0;34m=\u001b[0m\u001b[0;34m[\u001b[0m\u001b[0;34m'negative'\u001b[0m\u001b[0;34m,\u001b[0m \u001b[0;34m'positive'\u001b[0m\u001b[0;34m]\u001b[0m\u001b[0;34m)\u001b[0m\u001b[0;34m\u001b[0m\u001b[0;34m\u001b[0m\u001b[0m\n\u001b[1;32m      8\u001b[0m \u001b[0mdisp\u001b[0m\u001b[0;34m.\u001b[0m\u001b[0mplot\u001b[0m\u001b[0;34m(\u001b[0m\u001b[0mcmap\u001b[0m\u001b[0;34m=\u001b[0m\u001b[0;34m'Blues'\u001b[0m\u001b[0;34m)\u001b[0m\u001b[0;34m\u001b[0m\u001b[0;34m\u001b[0m\u001b[0m\n",
            "\u001b[0;31mNameError\u001b[0m: name 'validation_labels' is not defined"
          ]
        }
      ]
    },
    {
      "cell_type": "markdown",
      "source": [
        "### Error analysis"
      ],
      "metadata": {
        "id": "hqLp0ChUZJ4b"
      }
    },
    {
      "cell_type": "code",
      "source": [
        "### Error Analysis - Evaluate text wrongly classified in validation data\n",
        "import pandas as pd\n",
        "\n",
        "valid_df = pd.DataFrame({'review':validation_data,'label':validation_labels,'pred':valid_preds})\n",
        "\n",
        "#Return only text where pred is different from label\n",
        "valid_df_diff = valid_df[valid_df['label']!= valid_df['pred']]\n",
        "\n",
        "#Reduce dimensionality\n",
        "print(valid_df_diff.shape)\n",
        "valid_df_diff.head()"
      ],
      "metadata": {
        "colab": {
          "base_uri": "https://localhost:8080/",
          "height": 224
        },
        "id": "X4YZTTcAYBvN",
        "outputId": "0dfd0400-ef1b-439a-fce5-bdfeb0937cf2"
      },
      "execution_count": null,
      "outputs": [
        {
          "output_type": "stream",
          "name": "stdout",
          "text": [
            "(179, 3)\n"
          ]
        },
        {
          "output_type": "execute_result",
          "data": {
            "text/plain": [
              "                                               review  label  pred\n",
              "14  the importance of being earnest , so thick wit...      1     0\n",
              "16  made for teens and reviewed as such , this is ...      1     0\n",
              "17  imagine o . henry's <b>the gift of the magi</b...      1     0\n",
              "22  nothing short of wonderful with its ten-year-o...      1     0\n",
              "38  broomfield reminds us that beneath the hype , ...      1     0"
            ],
            "text/html": [
              "\n",
              "  <div id=\"df-add9d84c-a288-4b3e-8fba-d758ff45f749\" class=\"colab-df-container\">\n",
              "    <div>\n",
              "<style scoped>\n",
              "    .dataframe tbody tr th:only-of-type {\n",
              "        vertical-align: middle;\n",
              "    }\n",
              "\n",
              "    .dataframe tbody tr th {\n",
              "        vertical-align: top;\n",
              "    }\n",
              "\n",
              "    .dataframe thead th {\n",
              "        text-align: right;\n",
              "    }\n",
              "</style>\n",
              "<table border=\"1\" class=\"dataframe\">\n",
              "  <thead>\n",
              "    <tr style=\"text-align: right;\">\n",
              "      <th></th>\n",
              "      <th>review</th>\n",
              "      <th>label</th>\n",
              "      <th>pred</th>\n",
              "    </tr>\n",
              "  </thead>\n",
              "  <tbody>\n",
              "    <tr>\n",
              "      <th>14</th>\n",
              "      <td>the importance of being earnest , so thick wit...</td>\n",
              "      <td>1</td>\n",
              "      <td>0</td>\n",
              "    </tr>\n",
              "    <tr>\n",
              "      <th>16</th>\n",
              "      <td>made for teens and reviewed as such , this is ...</td>\n",
              "      <td>1</td>\n",
              "      <td>0</td>\n",
              "    </tr>\n",
              "    <tr>\n",
              "      <th>17</th>\n",
              "      <td>imagine o . henry's &lt;b&gt;the gift of the magi&lt;/b...</td>\n",
              "      <td>1</td>\n",
              "      <td>0</td>\n",
              "    </tr>\n",
              "    <tr>\n",
              "      <th>22</th>\n",
              "      <td>nothing short of wonderful with its ten-year-o...</td>\n",
              "      <td>1</td>\n",
              "      <td>0</td>\n",
              "    </tr>\n",
              "    <tr>\n",
              "      <th>38</th>\n",
              "      <td>broomfield reminds us that beneath the hype , ...</td>\n",
              "      <td>1</td>\n",
              "      <td>0</td>\n",
              "    </tr>\n",
              "  </tbody>\n",
              "</table>\n",
              "</div>\n",
              "    <div class=\"colab-df-buttons\">\n",
              "\n",
              "  <div class=\"colab-df-container\">\n",
              "    <button class=\"colab-df-convert\" onclick=\"convertToInteractive('df-add9d84c-a288-4b3e-8fba-d758ff45f749')\"\n",
              "            title=\"Convert this dataframe to an interactive table.\"\n",
              "            style=\"display:none;\">\n",
              "\n",
              "  <svg xmlns=\"http://www.w3.org/2000/svg\" height=\"24px\" viewBox=\"0 -960 960 960\">\n",
              "    <path d=\"M120-120v-720h720v720H120Zm60-500h600v-160H180v160Zm220 220h160v-160H400v160Zm0 220h160v-160H400v160ZM180-400h160v-160H180v160Zm440 0h160v-160H620v160ZM180-180h160v-160H180v160Zm440 0h160v-160H620v160Z\"/>\n",
              "  </svg>\n",
              "    </button>\n",
              "\n",
              "  <style>\n",
              "    .colab-df-container {\n",
              "      display:flex;\n",
              "      gap: 12px;\n",
              "    }\n",
              "\n",
              "    .colab-df-convert {\n",
              "      background-color: #E8F0FE;\n",
              "      border: none;\n",
              "      border-radius: 50%;\n",
              "      cursor: pointer;\n",
              "      display: none;\n",
              "      fill: #1967D2;\n",
              "      height: 32px;\n",
              "      padding: 0 0 0 0;\n",
              "      width: 32px;\n",
              "    }\n",
              "\n",
              "    .colab-df-convert:hover {\n",
              "      background-color: #E2EBFA;\n",
              "      box-shadow: 0px 1px 2px rgba(60, 64, 67, 0.3), 0px 1px 3px 1px rgba(60, 64, 67, 0.15);\n",
              "      fill: #174EA6;\n",
              "    }\n",
              "\n",
              "    .colab-df-buttons div {\n",
              "      margin-bottom: 4px;\n",
              "    }\n",
              "\n",
              "    [theme=dark] .colab-df-convert {\n",
              "      background-color: #3B4455;\n",
              "      fill: #D2E3FC;\n",
              "    }\n",
              "\n",
              "    [theme=dark] .colab-df-convert:hover {\n",
              "      background-color: #434B5C;\n",
              "      box-shadow: 0px 1px 3px 1px rgba(0, 0, 0, 0.15);\n",
              "      filter: drop-shadow(0px 1px 2px rgba(0, 0, 0, 0.3));\n",
              "      fill: #FFFFFF;\n",
              "    }\n",
              "  </style>\n",
              "\n",
              "    <script>\n",
              "      const buttonEl =\n",
              "        document.querySelector('#df-add9d84c-a288-4b3e-8fba-d758ff45f749 button.colab-df-convert');\n",
              "      buttonEl.style.display =\n",
              "        google.colab.kernel.accessAllowed ? 'block' : 'none';\n",
              "\n",
              "      async function convertToInteractive(key) {\n",
              "        const element = document.querySelector('#df-add9d84c-a288-4b3e-8fba-d758ff45f749');\n",
              "        const dataTable =\n",
              "          await google.colab.kernel.invokeFunction('convertToInteractive',\n",
              "                                                    [key], {});\n",
              "        if (!dataTable) return;\n",
              "\n",
              "        const docLinkHtml = 'Like what you see? Visit the ' +\n",
              "          '<a target=\"_blank\" href=https://colab.research.google.com/notebooks/data_table.ipynb>data table notebook</a>'\n",
              "          + ' to learn more about interactive tables.';\n",
              "        element.innerHTML = '';\n",
              "        dataTable['output_type'] = 'display_data';\n",
              "        await google.colab.output.renderOutput(dataTable, element);\n",
              "        const docLink = document.createElement('div');\n",
              "        docLink.innerHTML = docLinkHtml;\n",
              "        element.appendChild(docLink);\n",
              "      }\n",
              "    </script>\n",
              "  </div>\n",
              "\n",
              "\n",
              "<div id=\"df-9ccb3aff-9fde-4730-a569-9acae1b33f9b\">\n",
              "  <button class=\"colab-df-quickchart\" onclick=\"quickchart('df-9ccb3aff-9fde-4730-a569-9acae1b33f9b')\"\n",
              "            title=\"Suggest charts\"\n",
              "            style=\"display:none;\">\n",
              "\n",
              "<svg xmlns=\"http://www.w3.org/2000/svg\" height=\"24px\"viewBox=\"0 0 24 24\"\n",
              "     width=\"24px\">\n",
              "    <g>\n",
              "        <path d=\"M19 3H5c-1.1 0-2 .9-2 2v14c0 1.1.9 2 2 2h14c1.1 0 2-.9 2-2V5c0-1.1-.9-2-2-2zM9 17H7v-7h2v7zm4 0h-2V7h2v10zm4 0h-2v-4h2v4z\"/>\n",
              "    </g>\n",
              "</svg>\n",
              "  </button>\n",
              "\n",
              "<style>\n",
              "  .colab-df-quickchart {\n",
              "      --bg-color: #E8F0FE;\n",
              "      --fill-color: #1967D2;\n",
              "      --hover-bg-color: #E2EBFA;\n",
              "      --hover-fill-color: #174EA6;\n",
              "      --disabled-fill-color: #AAA;\n",
              "      --disabled-bg-color: #DDD;\n",
              "  }\n",
              "\n",
              "  [theme=dark] .colab-df-quickchart {\n",
              "      --bg-color: #3B4455;\n",
              "      --fill-color: #D2E3FC;\n",
              "      --hover-bg-color: #434B5C;\n",
              "      --hover-fill-color: #FFFFFF;\n",
              "      --disabled-bg-color: #3B4455;\n",
              "      --disabled-fill-color: #666;\n",
              "  }\n",
              "\n",
              "  .colab-df-quickchart {\n",
              "    background-color: var(--bg-color);\n",
              "    border: none;\n",
              "    border-radius: 50%;\n",
              "    cursor: pointer;\n",
              "    display: none;\n",
              "    fill: var(--fill-color);\n",
              "    height: 32px;\n",
              "    padding: 0;\n",
              "    width: 32px;\n",
              "  }\n",
              "\n",
              "  .colab-df-quickchart:hover {\n",
              "    background-color: var(--hover-bg-color);\n",
              "    box-shadow: 0 1px 2px rgba(60, 64, 67, 0.3), 0 1px 3px 1px rgba(60, 64, 67, 0.15);\n",
              "    fill: var(--button-hover-fill-color);\n",
              "  }\n",
              "\n",
              "  .colab-df-quickchart-complete:disabled,\n",
              "  .colab-df-quickchart-complete:disabled:hover {\n",
              "    background-color: var(--disabled-bg-color);\n",
              "    fill: var(--disabled-fill-color);\n",
              "    box-shadow: none;\n",
              "  }\n",
              "\n",
              "  .colab-df-spinner {\n",
              "    border: 2px solid var(--fill-color);\n",
              "    border-color: transparent;\n",
              "    border-bottom-color: var(--fill-color);\n",
              "    animation:\n",
              "      spin 1s steps(1) infinite;\n",
              "  }\n",
              "\n",
              "  @keyframes spin {\n",
              "    0% {\n",
              "      border-color: transparent;\n",
              "      border-bottom-color: var(--fill-color);\n",
              "      border-left-color: var(--fill-color);\n",
              "    }\n",
              "    20% {\n",
              "      border-color: transparent;\n",
              "      border-left-color: var(--fill-color);\n",
              "      border-top-color: var(--fill-color);\n",
              "    }\n",
              "    30% {\n",
              "      border-color: transparent;\n",
              "      border-left-color: var(--fill-color);\n",
              "      border-top-color: var(--fill-color);\n",
              "      border-right-color: var(--fill-color);\n",
              "    }\n",
              "    40% {\n",
              "      border-color: transparent;\n",
              "      border-right-color: var(--fill-color);\n",
              "      border-top-color: var(--fill-color);\n",
              "    }\n",
              "    60% {\n",
              "      border-color: transparent;\n",
              "      border-right-color: var(--fill-color);\n",
              "    }\n",
              "    80% {\n",
              "      border-color: transparent;\n",
              "      border-right-color: var(--fill-color);\n",
              "      border-bottom-color: var(--fill-color);\n",
              "    }\n",
              "    90% {\n",
              "      border-color: transparent;\n",
              "      border-bottom-color: var(--fill-color);\n",
              "    }\n",
              "  }\n",
              "</style>\n",
              "\n",
              "  <script>\n",
              "    async function quickchart(key) {\n",
              "      const quickchartButtonEl =\n",
              "        document.querySelector('#' + key + ' button');\n",
              "      quickchartButtonEl.disabled = true;  // To prevent multiple clicks.\n",
              "      quickchartButtonEl.classList.add('colab-df-spinner');\n",
              "      try {\n",
              "        const charts = await google.colab.kernel.invokeFunction(\n",
              "            'suggestCharts', [key], {});\n",
              "      } catch (error) {\n",
              "        console.error('Error during call to suggestCharts:', error);\n",
              "      }\n",
              "      quickchartButtonEl.classList.remove('colab-df-spinner');\n",
              "      quickchartButtonEl.classList.add('colab-df-quickchart-complete');\n",
              "    }\n",
              "    (() => {\n",
              "      let quickchartButtonEl =\n",
              "        document.querySelector('#df-9ccb3aff-9fde-4730-a569-9acae1b33f9b button');\n",
              "      quickchartButtonEl.style.display =\n",
              "        google.colab.kernel.accessAllowed ? 'block' : 'none';\n",
              "    })();\n",
              "  </script>\n",
              "</div>\n",
              "    </div>\n",
              "  </div>\n"
            ],
            "application/vnd.google.colaboratory.intrinsic+json": {
              "type": "dataframe",
              "variable_name": "valid_df_diff",
              "summary": "{\n  \"name\": \"valid_df_diff\",\n  \"rows\": 179,\n  \"fields\": [\n    {\n      \"column\": \"review\",\n      \"properties\": {\n        \"dtype\": \"string\",\n        \"num_unique_values\": 179,\n        \"samples\": [\n          \"it may be a no-brainer , but at least it's a funny no-brainer .\",\n          \"not only is it a charming , funny and beautifully crafted import , it uses very little dialogue , making it relatively effortless to read and follow the action at the same time .\",\n          \"after one gets the feeling that the typical hollywood disregard for historical truth and realism is at work here , it's a matter of finding entertainment in the experiences of zishe and the fiery presence of hanussen .\"\n        ],\n        \"semantic_type\": \"\",\n        \"description\": \"\"\n      }\n    },\n    {\n      \"column\": \"label\",\n      \"properties\": {\n        \"dtype\": \"number\",\n        \"std\": 0,\n        \"min\": 0,\n        \"max\": 1,\n        \"num_unique_values\": 2,\n        \"samples\": [\n          0,\n          1\n        ],\n        \"semantic_type\": \"\",\n        \"description\": \"\"\n      }\n    },\n    {\n      \"column\": \"pred\",\n      \"properties\": {\n        \"dtype\": \"number\",\n        \"std\": 0,\n        \"min\": 0,\n        \"max\": 1,\n        \"num_unique_values\": 2,\n        \"samples\": [\n          1,\n          0\n        ],\n        \"semantic_type\": \"\",\n        \"description\": \"\"\n      }\n    }\n  ]\n}"
            }
          },
          "metadata": {},
          "execution_count": 17
        }
      ]
    },
    {
      "cell_type": "code",
      "source": [
        "## Text mining - Preprocessing, CountVectorizing and tf-idf\n",
        "from sklearn.feature_extraction.text import TfidfTransformer, CountVectorizer\n",
        "from sklearn.decomposition import TruncatedSVD\n",
        "from sklearn.pipeline import Pipeline\n",
        "\n",
        "##Preprocessing Valdidation_diff text\n",
        "valid_df_diff_pre = txtprocess_tok(valid_df_diff,'review',2)"
      ],
      "metadata": {
        "colab": {
          "base_uri": "https://localhost:8080/"
        },
        "id": "iI69sOU0ZZfM",
        "outputId": "c5b8b9b3-aa91-4a8e-97f6-2ee874717b03"
      },
      "execution_count": null,
      "outputs": [
        {
          "output_type": "stream",
          "name": "stderr",
          "text": [
            "100%|██████████| 179/179 [00:03<00:00, 44.80it/s]\n"
          ]
        }
      ]
    },
    {
      "cell_type": "code",
      "source": [
        "## Applying Pipeline\n",
        "pipeline = Pipeline(\n",
        "    [\n",
        "        (\"vect\", CountVectorizer(ngram_range = (1,3),  min_df=0.05,max_df=0.9, stop_words='english')),\n",
        "        (\"tfidf\", TfidfTransformer(use_idf=True, norm='l1')),\n",
        "    ]\n",
        ")\n",
        "\n",
        "# Fit the pipeline to the validation data\n",
        "pipeline.fit(validation_texts)\n",
        "\n",
        "# Transform the validation data using the fitted pipeline\n",
        "validation_tfidf = pipeline.transform(validation_texts)\n"
      ],
      "metadata": {
        "id": "qEkpnjvEgLCr"
      },
      "execution_count": null,
      "outputs": []
    },
    {
      "cell_type": "markdown",
      "metadata": {
        "id": "1FyX3KKqcFKo"
      },
      "source": [
        "Let's try to freeze the BERT models to see the differences and the knowlegde of BERT."
      ]
    },
    {
      "cell_type": "code",
      "execution_count": null,
      "metadata": {
        "id": "bnWzxp0JcLlD"
      },
      "outputs": [],
      "source": [
        "import tensorflow as tf\n",
        "\n",
        "## Input\n",
        "input_ids_in =\n",
        "input_masks_in =\n",
        "\n",
        "# Embedding layers\n",
        "# we need only the first token representation nothing else !\n",
        "embedding_layer =\n",
        "# Let's add some dropout to reduce overfitting\n",
        "output_layer =\n",
        "\n",
        "# One dense layer to process the last layer\n",
        "output =\n",
        "\n",
        "\n",
        "bert_model = tf.keras.Model(inputs=[input_ids_in, input_masks_in], outputs = output)\n",
        "bert_model.layers[2].trainable = False\n",
        "bert_model.summary()"
      ]
    },
    {
      "cell_type": "code",
      "execution_count": null,
      "metadata": {
        "id": "Hs_gq4l3cneu"
      },
      "outputs": [],
      "source": [
        "batches = get_batches(X_train, y_train, tokenizer, batch_size, max_length)\n",
        "#Compile the model with gradient descent algorithm and metrics\n",
        "bert_model.compile(\n",
        "\n",
        ")\n",
        "#fit the model\n",
        "bert_model"
      ]
    },
    {
      "cell_type": "code",
      "execution_count": null,
      "metadata": {
        "id": "haTc_2XNcnyG"
      },
      "outputs": [],
      "source": [
        "valid_preds =\n",
        "valid_preds =\n",
        "\n",
        "metrics_val.run(valid_labels, valid_preds, \"distilBERT frozen + Softmax\")\n",
        "metrics_val.plot()"
      ]
    },
    {
      "cell_type": "markdown",
      "metadata": {
        "id": "rfUla6fKAe2O"
      },
      "source": [
        "## Part 2: Few Shot Learning\n",
        "\n",
        "In this part, we'll explore few shot learning with SetFit. We will train the model with low number of examples and try to augment the dataset with prompts !"
      ]
    },
    {
      "cell_type": "markdown",
      "metadata": {
        "id": "-KmEy9JJxFCW"
      },
      "source": [
        "### Loading SetFit\n",
        "\n",
        "Let's begin by setting-up the environment"
      ]
    },
    {
      "cell_type": "code",
      "execution_count": null,
      "metadata": {
        "id": "6tYKtZUTDDJw"
      },
      "outputs": [],
      "source": [
        "!pip install setfit\n",
        "\n",
        "from setfit import SetFitModel, Trainer, TrainingArguments, sample_dataset"
      ]
    },
    {
      "cell_type": "markdown",
      "metadata": {
        "id": "8NCk1cgdjE5t"
      },
      "source": [
        "### Training the SetFit with 32 examples\n",
        "\n"
      ]
    },
    {
      "cell_type": "code",
      "execution_count": null,
      "metadata": {
        "id": "fNaWjFq0lqgo"
      },
      "outputs": [],
      "source": [
        "from datasets import Dataset\n",
        "\n",
        "# Convert data into Dataset object from datasets\n",
        "train_dict = {'text': train_data, 'label': train_labels}\n",
        "\n",
        "train_dataset = Dataset.from_dict(train_dict)\n",
        "\n",
        "dataset_dict = {'train': train_dataset}\n",
        "\n",
        "#let's sample 32 examples at first to see results\n",
        "train_dataset = sample_dataset(\n",
        "\n",
        "                               )\n",
        "\n",
        "train_dataset"
      ]
    },
    {
      "cell_type": "code",
      "execution_count": null,
      "metadata": {
        "id": "cwhD_YQ4mtkp"
      },
      "outputs": [],
      "source": [
        "#Model to load\n",
        "model = SetFitModel.from_pretrained(\n",
        "\n",
        ")\n",
        "\n",
        "#Arguments / hyperparamters to train\n",
        "args = TrainingArguments(\n",
        "\n",
        ")\n",
        "\n",
        "\n",
        "# Trainer class to train afterwards\n",
        "trainer = Trainer(\n",
        "    model=model,\n",
        "    args=args,\n",
        "    train_dataset=train_dataset_augmented,\n",
        "    metric=\"accuracy\",\n",
        ")\n",
        "\n",
        "# Train and evaluate\n",
        "trainer"
      ]
    },
    {
      "cell_type": "code",
      "execution_count": null,
      "metadata": {
        "id": "-lNWofcToplk"
      },
      "outputs": [],
      "source": [
        "valid_preds =\n",
        "metrics_val.run(valid_labels, valid_preds, \"SetFit 32 examples\")\n",
        "metrics_val.plot()"
      ]
    },
    {
      "cell_type": "markdown",
      "metadata": {
        "id": "kmEwwnvjjJzw"
      },
      "source": [
        "### Try to augment the data with prompt"
      ]
    },
    {
      "cell_type": "code",
      "execution_count": null,
      "metadata": {
        "id": "pn1_H6IskExm"
      },
      "outputs": [],
      "source": [
        "labels = {0: 'World', 1: 'Sports',\n",
        "          2: 'Business', 3: 'Sci/Tech'}\n",
        "labels_to_id = {value:key for key, value in labels.items()}\n",
        "\n",
        "\n",
        "from transformers import pipeline\n",
        "# Load zero-shot classification pipeline\n",
        "classifier =\n",
        "\n",
        "# Define the sequence to classify\n",
        "texts =\n",
        "\n",
        "# Define the candidate labels\n",
        "candidate_labels =\n",
        "\n",
        "# Perform zero-shot classification\n",
        "results ="
      ]
    },
    {
      "cell_type": "code",
      "execution_count": null,
      "metadata": {
        "id": "BN4zuwDPrGGp"
      },
      "outputs": [],
      "source": [
        "#select texts\n",
        "texts =\n",
        "#apply classifier\n",
        "results ="
      ]
    },
    {
      "cell_type": "code",
      "execution_count": null,
      "metadata": {
        "id": "X4Aut70ut9-f"
      },
      "outputs": [],
      "source": [
        "labels_to_id = {value:key for key, value in labels.items()}\n",
        "\n",
        "new_texts = []\n",
        "new_labels = []\n",
        "th = 0.6\n",
        "\n",
        "for text, result in zip(texts, results):\n",
        "  if max(result.get('scores')) < th:\n",
        "    continue\n",
        "\n",
        "  new_texts.append(text)\n",
        "  new_labels.append(labels_to_id.get(result.get('labels')[0]))\n",
        "\n",
        "np.unique(new_labels, return_counts=True)"
      ]
    },
    {
      "cell_type": "code",
      "execution_count": null,
      "metadata": {
        "id": "nledOU1ls0W4"
      },
      "outputs": [],
      "source": [
        "train_data_augmented = train_dataset['text'] + new_texts\n",
        "train_labels_augmented = train_dataset['label'] + new_labels\n",
        "\n",
        "train_dict_augmented = {'text': train_data_augmented, 'label': train_labels_augmented}\n",
        "\n",
        "train_dataset_augmented = Dataset.from_dict(train_dict_augmented)\n",
        "\n",
        "train_dataset_augmented"
      ]
    },
    {
      "cell_type": "code",
      "execution_count": null,
      "metadata": {
        "id": "ojwxqeo1w0mU"
      },
      "outputs": [],
      "source": [
        "\n",
        "#Model to load\n",
        "model = SetFitModel.from_pretrained(\n",
        "\n",
        ")\n",
        "\n",
        "#Arguments / hyperparamters to train\n",
        "args = TrainingArguments(\n",
        "\n",
        ")\n",
        "\n",
        "\n",
        "# Trainer class to train afterwards\n",
        "trainer = Trainer(\n",
        "    model=model,\n",
        "    args=args,\n",
        "    train_dataset=train_dataset_augmented,\n",
        "    metric=\"accuracy\",\n",
        ")\n",
        "\n",
        "# Train and evaluate\n",
        "trainer"
      ]
    },
    {
      "cell_type": "markdown",
      "metadata": {
        "id": "XJukVE-DjJ-G"
      },
      "source": [
        "### Model Evaluation"
      ]
    },
    {
      "cell_type": "code",
      "execution_count": null,
      "metadata": {
        "id": "QFTYoptExhj9"
      },
      "outputs": [],
      "source": [
        "#Makes some preds\n",
        "valid_preds =\n",
        "metrics_val.run(valid_labels, valid_preds, \"SetFit augmented\")\n",
        "metrics_val.plot()"
      ]
    },
    {
      "cell_type": "markdown",
      "metadata": {
        "id": "5Em7rcoLxzux"
      },
      "source": [
        "## Part 3: Winogender Schemas\n",
        "\n",
        "In this work, we will explore biases of the BERT model. We will begin with the [Winograd Schemas adapted](https://en.wikipedia.org/wiki/Winograd_schema_challenge) to gender: [Winogender schemas](https://github.com/rudinger/winogender-schemas#winogender-schemas). This dataset is extracted from [Rudinger et al. (2018)](https://aclanthology.org/N18-2002/).\n",
        "\n",
        "\n",
        "From Wikipedia:\n",
        "\n",
        "> The Winograd schema challenge (WSC) is a test of machine intelligence proposed by Hector Levesque, a computer scientist at the University of Toronto. Designed to be an improvement on the Turing test, it is a multiple-choice test that employs questions of a very specific structure: they are instances of what are called Winograd schemas. Questions of this form may be tailored to require knowledge and commonsense reasoning in a variety of domains.\n",
        ">\n",
        "> A Winograd schema challenge question consists of three parts:\n",
        "> 1. A sentence or brief discourse that contains the following:\n",
        "> *   Two noun phrases of the same semantic class (male, female, inanimate or group of objects or people),\n",
        "> *   An ambiguous pronoun that may refer to either of the above noun phrases, and\n",
        "> *   A special word and alternate word, such that if the special word is replaced with the alternate word, the natural resolution of the pronoun changes.\n",
        "> 2. A question asking the identity of the ambiguous pronoun, and\n",
        "> 3. Two answer choices corresponding to the noun phrases in question.\n",
        ">\n",
        "> A machine will be given the problem in a standardized form which includes the answer choices, thus making it a binary decision problem.\n"
      ]
    },
    {
      "cell_type": "code",
      "execution_count": null,
      "metadata": {
        "id": "TjRVdiPHjP9N"
      },
      "outputs": [],
      "source": [
        "import pandas as pd\n",
        "\n",
        "url = 'https://raw.githubusercontent.com/rudinger/winogender-schemas/master/data/templates.tsv'\n",
        "df = pd.read_csv(url, sep='\\t')\n",
        "\n",
        "df.loc[:, 'whole_sentence'] = df.loc[:, ['sentence',\n",
        "                                         'occupation(0)',\n",
        "                                         'other-participant(1)']].apply(lambda x:\n",
        "                                         x[0].replace('$OCCUPATION', x[1]).replace('$PARTICIPANT', x[2]), axis=1)\n",
        "\n",
        "df.head()"
      ]
    },
    {
      "cell_type": "markdown",
      "metadata": {
        "id": "PTHZzTk_y_63"
      },
      "source": [
        "### Gender bias identification\n",
        "\n",
        "In this part, we will take a look at ungendered occupation / participant, and see what are the main distribution of gender pronouns.\n",
        "\n",
        "We will use simp,ly the pipeline to fill mask from huggingface that is really efficient. We can do it for several different models in order to see what are the differences between models"
      ]
    },
    {
      "cell_type": "markdown",
      "metadata": {
        "id": "-Ket5COBzR4n"
      },
      "source": [
        "#### BERT-large"
      ]
    },
    {
      "cell_type": "code",
      "execution_count": null,
      "metadata": {
        "id": "tKRTR3zJzBhI"
      },
      "outputs": [],
      "source": [
        "import re\n",
        "\n",
        "checkpoint=\"bert-large-uncased\"\n",
        "classifier = pipeline('fill-mask', model=checkpoint)\n",
        "\n",
        "regex = '\\$(\\w+)'\n",
        "df.loc[:, 'pronoun'] = df.loc[:, 'whole_sentence'].apply(lambda x: re.findall(regex, x)[0])\n",
        "words_to_replace = ['\\$' + x for x in df.loc[:, 'pronoun'].unique()]\n",
        "regex = r'(?:{})'.format('|'.join(words_to_replace))\n",
        "df.loc[:, 'sentence_mask'] = df.loc[:, 'whole_sentence'].apply(lambda x: re.sub(regex, '[MASK]', x))\n",
        "df.head()"
      ]
    },
    {
      "cell_type": "code",
      "execution_count": null,
      "metadata": {
        "id": "ni0nA4PZzcbg"
      },
      "outputs": [],
      "source": [
        "pronouns = {'ACC_PRONOUN': ['her', 'him'],\n",
        "            'NOM_PRONOUN': ['she', 'he'],\n",
        "            'POSS_PRONOUN': ['her', 'his']}"
      ]
    },
    {
      "cell_type": "code",
      "execution_count": null,
      "metadata": {
        "id": "YakSnxGHzeRo"
      },
      "outputs": [],
      "source": [
        "res = {}\n",
        "for key, value in pronouns.items():\n",
        "  res[key] = []\n",
        "  texts = list(df.loc[df.loc[:, 'pronoun'] == key, 'sentence_mask'].values)\n",
        "  res[key] += classifier(texts, targets=value, top_k=2)"
      ]
    },
    {
      "cell_type": "code",
      "execution_count": null,
      "metadata": {
        "id": "GJJbQQ0FzgIl"
      },
      "outputs": [],
      "source": [
        "probas = {}\n",
        "for key, value in pronouns.items():\n",
        "  probas[key] = [x[0]['score'] / (x[0]['score'] + x[1]['score'])\n",
        "                 if x[0]['token_str'] == value[0]\n",
        "                 else x[1]['score'] / (x[0]['score'] + x[1]['score'])\n",
        "    for x in res[key]]"
      ]
    },
    {
      "cell_type": "code",
      "execution_count": null,
      "metadata": {
        "id": "87lkg5u_zhui"
      },
      "outputs": [],
      "source": [
        "for key, value in pronouns.items():\n",
        "  df.loc[df.loc[:, 'pronoun'] == key, 'BERT-large-female'] = probas[key]"
      ]
    },
    {
      "cell_type": "markdown",
      "metadata": {
        "id": "yg9zISFGzmnd"
      },
      "source": [
        "#### BERT"
      ]
    },
    {
      "cell_type": "code",
      "execution_count": null,
      "metadata": {
        "id": "F_kzpEbszn0n"
      },
      "outputs": [],
      "source": [
        "checkpoint=\"bert-base-uncased\"\n",
        "classifier = pipeline('fill-mask', model=checkpoint)\n",
        "\n",
        "res = {}\n",
        "probas = {}\n",
        "for key, value in pronouns.items():\n",
        "  res[key] = []\n",
        "  texts = list(df.loc[df.loc[:, 'pronoun'] == key, 'sentence_mask'].values)\n",
        "  res[key] += classifier(texts, targets=value, top_k=2)\n",
        "  probas[key] = [x[0]['score'] / (x[0]['score'] + x[1]['score'])\n",
        "                 if x[0]['token_str'] == value[0]\n",
        "                 else x[1]['score'] / (x[0]['score'] + x[1]['score'])\n",
        "    for x in res[key]]\n",
        "  df.loc[df.loc[:, 'pronoun'] == key, 'BERT-female'] = probas[key]"
      ]
    },
    {
      "cell_type": "markdown",
      "metadata": {
        "id": "_yRHHQtUzrvR"
      },
      "source": [
        "### distillBERT\n",
        "\n"
      ]
    },
    {
      "cell_type": "code",
      "execution_count": null,
      "metadata": {
        "id": "eLNeYcf_zwXn"
      },
      "outputs": [],
      "source": [
        "checkpoint=\"distilbert-base-uncased\"\n",
        "classifier = pipeline('fill-mask', model=checkpoint)\n",
        "\n",
        "res = {}\n",
        "probas = {}\n",
        "for key, value in pronouns.items():\n",
        "  res[key] = []\n",
        "  texts = list(df.loc[df.loc[:, 'pronoun'] == key, 'sentence_mask'].values)\n",
        "  res[key] += classifier(texts, targets=value, top_k=2)\n",
        "  probas[key] = [x[0]['score'] / (x[0]['score'] + x[1]['score'])\n",
        "                 if x[0]['token_str'] == value[0]\n",
        "                 else x[1]['score'] / (x[0]['score'] + x[1]['score'])\n",
        "    for x in res[key]]\n",
        "  df.loc[df.loc[:, 'pronoun'] == key, 'distilBERT-female'] = probas[key]"
      ]
    },
    {
      "cell_type": "markdown",
      "metadata": {
        "id": "WIzR_rU2z253"
      },
      "source": [
        "#### Visualize"
      ]
    },
    {
      "cell_type": "code",
      "execution_count": null,
      "metadata": {
        "id": "_zMLeMA4z1YM"
      },
      "outputs": [],
      "source": [
        "probas = {}\n",
        "\n",
        "for occ, part, answer, l, b, d in df.loc[:, ['occupation(0)', 'other-participant(1)', 'answer',\n",
        "                                             'BERT-large-female', 'BERT-female', 'distilBERT-female']].values:\n",
        "  p = occ if answer == 0 else part\n",
        "  if p in probas.keys():\n",
        "    probas[p].append([l, b, d])\n",
        "  else:\n",
        "    probas[p] = [[l, b, d]]\n",
        "\n",
        "for key, value in probas.items():\n",
        "  probas[key] = np.mean(value, axis=0)\n",
        "\n",
        "probas = sorted(probas.items(), key=lambda x: x[1][0], reverse=True)"
      ]
    },
    {
      "cell_type": "code",
      "execution_count": null,
      "metadata": {
        "id": "zgbG_Y-hz9sx"
      },
      "outputs": [],
      "source": [
        "fig, ax = plt.subplots(figsize=(30, 8))\n",
        "\n",
        "ax.scatter(np.arange(len(probas)), [x[1][0] for x in probas], label='BERT-large')\n",
        "ax.scatter(np.arange(len(probas)), [x[1][1] for x in probas], label='BERT')\n",
        "ax.scatter(np.arange(len(probas)), [x[1][2] for x in probas], label='distilBERT')\n",
        "\n",
        "ax.hlines(0.5, 0, len(probas), colors='g')\n",
        "ax.set_xticks(np.arange(len(probas)))\n",
        "ax.set_xticklabels([x[0] for x in probas], rotation=90)\n",
        "ax.set_xlabel(\"occupations\")\n",
        "ax.set_ylabel(\"probability to be women\")\n",
        "ax.legend()\n",
        "\n",
        "plt.show()"
      ]
    },
    {
      "cell_type": "code",
      "execution_count": null,
      "metadata": {
        "id": "qd90nubF0VnT"
      },
      "outputs": [],
      "source": [
        "CHANGESSSSSS CHANGESSSS"
      ]
    }
  ],
  "metadata": {
    "accelerator": "TPU",
    "colab": {
      "provenance": [],
      "toc_visible": true
    },
    "kernelspec": {
      "display_name": "Python 3",
      "name": "python3"
    },
    "language_info": {
      "name": "python"
    }
  },
  "nbformat": 4,
  "nbformat_minor": 0
}